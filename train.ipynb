{
 "cells": [
  {
   "attachments": {},
   "cell_type": "markdown",
   "metadata": {},
   "source": [
    "# Classificação de imagem com rede neural artificial"
   ]
  },
  {
   "cell_type": "code",
   "execution_count": 1,
   "metadata": {},
   "outputs": [
    {
     "data": {
      "text/plain": [
       "'2.12.0'"
      ]
     },
     "execution_count": 1,
     "metadata": {},
     "output_type": "execute_result"
    }
   ],
   "source": [
    "import cv2\n",
    "import numpy as np\n",
    "import os \n",
    "import tensorflow as tf # Deep Learning\n",
    "import pandas as pd # Manipulação de dados\n",
    "import seaborn as sns # Visualização de dados\n",
    "import matplotlib.pyplot as plt # Visualização de dados\n",
    "import PIL # Manipulação de imagens\n",
    "from sklearn.preprocessing import MinMaxScaler\n",
    "from sklearn.metrics import accuracy_score, confusion_matrix, classification_report\n",
    "from keras.models import save_model\n",
    "from keras.callbacks import EarlyStopping\n",
    "tf.__version__"
   ]
  },
  {
   "attachments": {},
   "cell_type": "markdown",
   "metadata": {},
   "source": [
    "- Definindo caminho das imagens na variável arquivos"
   ]
  },
  {
   "cell_type": "code",
   "execution_count": 2,
   "metadata": {},
   "outputs": [],
   "source": [
    "diretorio = \"./data/homer_bart_1\"\n",
    "arquivos = [os.path.join(diretorio, arquivo) for arquivo in sorted(os.listdir(diretorio))]"
   ]
  },
  {
   "attachments": {},
   "cell_type": "markdown",
   "metadata": {},
   "source": [
    "- Precisamos definir o tamanho das imagens único para todas 128x128"
   ]
  },
  {
   "cell_type": "code",
   "execution_count": 3,
   "metadata": {},
   "outputs": [],
   "source": [
    "largura, altura = 128, 128"
   ]
  },
  {
   "attachments": {},
   "cell_type": "markdown",
   "metadata": {},
   "source": [
    "- Variável imagens para armazenar as imagens em formato de array\n",
    "- Variável classes para armazenar as classes das imagens 0 -> Homer, 1 -> Bart"
   ]
  },
  {
   "cell_type": "code",
   "execution_count": 4,
   "metadata": {},
   "outputs": [],
   "source": [
    "imagens = []\n",
    "classes = []"
   ]
  },
  {
   "attachments": {},
   "cell_type": "markdown",
   "metadata": {},
   "source": [
    "- Extração dos pixels das imagens"
   ]
  },
  {
   "attachments": {},
   "cell_type": "markdown",
   "metadata": {},
   "source": [
    "- Nesse bloco de código, estamos lendo as imagens, ajustando o seu tamanho, convertendo para escala de cinza, convertendo para array e adicionando na variável imagens.\n",
    "- No finalzinho estamos pegando o nome referente a identificação da imagem e adicionando na variável classes para identificar a classe da imagem."
   ]
  },
  {
   "cell_type": "code",
   "execution_count": 5,
   "metadata": {},
   "outputs": [],
   "source": [
    "for arquivo in arquivos:\n",
    "    try:\n",
    "        imagem = cv2.imread(arquivo)\n",
    "        (H, W) = imagem.shape[:2] # Altura e largura da imagem\n",
    "    except:\n",
    "        continue\n",
    "    imagem = cv2.resize(imagem, (largura, altura)) # Redimensiona a imagem\n",
    "    imagem = cv2.cvtColor(imagem, cv2.COLOR_BGR2GRAY) # Converte a imagem para tons de cinza\n",
    "    imagem = imagem.ravel() # Converte a imagem para um vetor\n",
    "    imagens.append(imagem) # Adiciona a imagem na lista de imagens\n",
    "    nome_imagem = arquivo.split(os.path.sep)[-1] # Pega o nome da imagem\n",
    "    if \"homer\" in nome_imagem:\n",
    "        classes.append(0)\n",
    "    else:\n",
    "        classes.append(1)            "
   ]
  },
  {
   "attachments": {},
   "cell_type": "markdown",
   "metadata": {},
   "source": [
    "- Convertendo as imagens em array e suas respectivas classes em array numpy"
   ]
  },
  {
   "cell_type": "code",
   "execution_count": 6,
   "metadata": {},
   "outputs": [],
   "source": [
    "X = np.array(imagens)\n",
    "y = np.array(classes)"
   ]
  },
  {
   "cell_type": "code",
   "execution_count": 7,
   "metadata": {},
   "outputs": [
    {
     "data": {
      "text/plain": [
       "((269, 16384), (269,))"
      ]
     },
     "execution_count": 7,
     "metadata": {},
     "output_type": "execute_result"
    }
   ],
   "source": [
    "X.shape, y.shape"
   ]
  },
  {
   "attachments": {},
   "cell_type": "markdown",
   "metadata": {},
   "source": [
    "- Normalização dos dados"
   ]
  },
  {
   "cell_type": "code",
   "execution_count": 8,
   "metadata": {},
   "outputs": [
    {
     "data": {
      "text/plain": [
       "(255, 0)"
      ]
     },
     "execution_count": 8,
     "metadata": {},
     "output_type": "execute_result"
    }
   ],
   "source": [
    "X[0].max(), X[0].min()"
   ]
  },
  {
   "attachments": {},
   "cell_type": "markdown",
   "metadata": {},
   "source": [
    "- Pegamos os 256 pixes e fizemos a normalização entre 0 e 1 onde 1 é a cor branca e 0 é a cor preta"
   ]
  },
  {
   "cell_type": "code",
   "execution_count": 9,
   "metadata": {},
   "outputs": [],
   "source": [
    "scaler = MinMaxScaler()\n",
    "X = scaler.fit_transform(X)"
   ]
  },
  {
   "cell_type": "code",
   "execution_count": 10,
   "metadata": {},
   "outputs": [
    {
     "data": {
      "text/plain": [
       "(1.0000000000000002, 0.0)"
      ]
     },
     "execution_count": 10,
     "metadata": {},
     "output_type": "execute_result"
    }
   ],
   "source": [
    "X[0].max(), X[0].min()"
   ]
  },
  {
   "attachments": {},
   "cell_type": "markdown",
   "metadata": {},
   "source": [
    "- Base de treinamento e teste\n",
    "- A biblioteca sklearn possui uma função chamada train_test_split que faz a divisão da base de dados em treinamento e teste\n",
    "- test_size = 0.25 -> 25% da base de dados será usada para teste e 75% para treinamento\n",
    "- random_state = 1 -> Para que a divisão seja sempre a mesma"
   ]
  },
  {
   "cell_type": "code",
   "execution_count": 11,
   "metadata": {},
   "outputs": [],
   "source": [
    "from sklearn.model_selection import train_test_split\n",
    "X_train, X_test, y_train, y_test = train_test_split(X, y, test_size=0.2, random_state=1)"
   ]
  },
  {
   "cell_type": "code",
   "execution_count": 12,
   "metadata": {},
   "outputs": [
    {
     "data": {
      "text/plain": [
       "((215, 16384), (54, 16384), (215,), (54,))"
      ]
     },
     "execution_count": 12,
     "metadata": {},
     "output_type": "execute_result"
    }
   ],
   "source": [
    "X_train.shape, X_test.shape, y_train.shape, y_test.shape"
   ]
  },
  {
   "attachments": {},
   "cell_type": "markdown",
   "metadata": {},
   "source": [
    "## Construção e treinamento da rede neural"
   ]
  },
  {
   "attachments": {},
   "cell_type": "markdown",
   "metadata": {},
   "source": [
    "- units parâmetro de entrada de neurônios da camada oculta\n",
    "- activation função de ativação da camada oculta\n",
    "- input_shape parâmetro de entrada de neurônios da camada de entrada"
   ]
  },
  {
   "cell_type": "code",
   "execution_count": 13,
   "metadata": {},
   "outputs": [],
   "source": [
    "network1 = tf.keras.models.Sequential() # Cria a rede neural sequencial \n",
    "network1.add(tf.keras.layers.Dense(units=8193, activation='relu', input_shape=(X_train.shape[1],))) # Adiciona a primeira camada oculta\n",
    "network1.add(tf.keras.layers.Dense(units=8193, activation='relu')) # Adiciona a segunda camada oculta\n",
    "network1.add(tf.keras.layers.Dense(units=1, activation='sigmoid')) # Adiciona a camada de saída"
   ]
  },
  {
   "cell_type": "code",
   "execution_count": 14,
   "metadata": {},
   "outputs": [
    {
     "name": "stdout",
     "output_type": "stream",
     "text": [
      "Model: \"sequential\"\n",
      "_________________________________________________________________\n",
      " Layer (type)                Output Shape              Param #   \n",
      "=================================================================\n",
      " dense (Dense)               (None, 8193)              134242305 \n",
      "                                                                 \n",
      " dense_1 (Dense)             (None, 8193)              67133442  \n",
      "                                                                 \n",
      " dense_2 (Dense)             (None, 1)                 8194      \n",
      "                                                                 \n",
      "=================================================================\n",
      "Total params: 201,383,941\n",
      "Trainable params: 201,383,941\n",
      "Non-trainable params: 0\n",
      "_________________________________________________________________\n"
     ]
    }
   ],
   "source": [
    "network1.summary()"
   ]
  },
  {
   "attachments": {},
   "cell_type": "markdown",
   "metadata": {},
   "source": [
    "- optimizer parametro de otimização dos pesos da rede neural (adam)\n",
    "- loss função para calcular o erro (binary_crossentropy)\n",
    "- metrics métrica para avaliar o modelo (accuracy)"
   ]
  },
  {
   "cell_type": "code",
   "execution_count": 15,
   "metadata": {},
   "outputs": [],
   "source": [
    "network1.compile(optimizer='adam', loss='binary_crossentropy', metrics=['accuracy']) # Compila a rede neural"
   ]
  },
  {
   "attachments": {},
   "cell_type": "markdown",
   "metadata": {},
   "source": [
    "- Definição do callback para parar o treinamento quando a acurácia de validação não melhorar"
   ]
  },
  {
   "cell_type": "code",
   "execution_count": 29,
   "metadata": {},
   "outputs": [],
   "source": [
    "# Definir o critério de parada antecipada\n",
    "early_stopping = EarlyStopping(monitor='val_loss', patience=150, restore_best_weights=True)\n",
    "# Incluir o critério de parada antecipada na lista de callbacks\n",
    "callbacks_list = [early_stopping]\n",
    "epochs = 50"
   ]
  },
  {
   "attachments": {},
   "cell_type": "markdown",
   "metadata": {},
   "source": [
    "- epochs quantidade de vezes que o modelo será treinado\n",
    "- callbacks parâmetro para definir o callback de parada do treinamento\n",
    "- validation_split parâmetro para definir a quantidade de dados que será usada para validação"
   ]
  },
  {
   "cell_type": "code",
   "execution_count": 18,
   "metadata": {},
   "outputs": [
    {
     "name": "stdout",
     "output_type": "stream",
     "text": [
      "Epoch 1/50\n",
      "7/7 [==============================] - ETA: 0s - loss: 0.7461 - accuracy: 0.6047WARNING:tensorflow:Early stopping conditioned on metric `val_loss` which is not available. Available metrics are: loss,accuracy\n",
      "7/7 [==============================] - 11s 1s/step - loss: 0.7461 - accuracy: 0.6047\n",
      "Epoch 2/50\n",
      "7/7 [==============================] - ETA: 0s - loss: 0.6583 - accuracy: 0.6419WARNING:tensorflow:Early stopping conditioned on metric `val_loss` which is not available. Available metrics are: loss,accuracy\n",
      "7/7 [==============================] - 10s 1s/step - loss: 0.6583 - accuracy: 0.6419\n",
      "Epoch 3/50\n",
      "7/7 [==============================] - ETA: 0s - loss: 0.6385 - accuracy: 0.6512WARNING:tensorflow:Early stopping conditioned on metric `val_loss` which is not available. Available metrics are: loss,accuracy\n",
      "7/7 [==============================] - 11s 2s/step - loss: 0.6385 - accuracy: 0.6512\n",
      "Epoch 4/50\n",
      "7/7 [==============================] - ETA: 0s - loss: 0.7504 - accuracy: 0.5674WARNING:tensorflow:Early stopping conditioned on metric `val_loss` which is not available. Available metrics are: loss,accuracy\n",
      "7/7 [==============================] - 10s 1s/step - loss: 0.7504 - accuracy: 0.5674\n",
      "Epoch 5/50\n",
      "7/7 [==============================] - ETA: 0s - loss: 0.6686 - accuracy: 0.5628WARNING:tensorflow:Early stopping conditioned on metric `val_loss` which is not available. Available metrics are: loss,accuracy\n",
      "7/7 [==============================] - 10s 1s/step - loss: 0.6686 - accuracy: 0.5628\n",
      "Epoch 6/50\n",
      "7/7 [==============================] - ETA: 0s - loss: 0.7923 - accuracy: 0.5907WARNING:tensorflow:Early stopping conditioned on metric `val_loss` which is not available. Available metrics are: loss,accuracy\n",
      "7/7 [==============================] - 10s 1s/step - loss: 0.7923 - accuracy: 0.5907\n",
      "Epoch 7/50\n",
      "7/7 [==============================] - ETA: 0s - loss: 0.7797 - accuracy: 0.5163WARNING:tensorflow:Early stopping conditioned on metric `val_loss` which is not available. Available metrics are: loss,accuracy\n",
      "7/7 [==============================] - 10s 1s/step - loss: 0.7797 - accuracy: 0.5163\n",
      "Epoch 8/50\n",
      "7/7 [==============================] - ETA: 0s - loss: 0.7952 - accuracy: 0.5814WARNING:tensorflow:Early stopping conditioned on metric `val_loss` which is not available. Available metrics are: loss,accuracy\n",
      "7/7 [==============================] - 10s 1s/step - loss: 0.7952 - accuracy: 0.5814\n",
      "Epoch 9/50\n",
      "7/7 [==============================] - ETA: 0s - loss: 0.7193 - accuracy: 0.5814WARNING:tensorflow:Early stopping conditioned on metric `val_loss` which is not available. Available metrics are: loss,accuracy\n",
      "7/7 [==============================] - 10s 1s/step - loss: 0.7193 - accuracy: 0.5814\n",
      "Epoch 10/50\n",
      "7/7 [==============================] - ETA: 0s - loss: 0.6247 - accuracy: 0.6605WARNING:tensorflow:Early stopping conditioned on metric `val_loss` which is not available. Available metrics are: loss,accuracy\n",
      "7/7 [==============================] - 10s 1s/step - loss: 0.6247 - accuracy: 0.6605\n",
      "Epoch 11/50\n",
      "7/7 [==============================] - ETA: 0s - loss: 0.5592 - accuracy: 0.7070WARNING:tensorflow:Early stopping conditioned on metric `val_loss` which is not available. Available metrics are: loss,accuracy\n",
      "7/7 [==============================] - 10s 1s/step - loss: 0.5592 - accuracy: 0.7070\n",
      "Epoch 12/50\n",
      "7/7 [==============================] - ETA: 0s - loss: 0.5709 - accuracy: 0.6930WARNING:tensorflow:Early stopping conditioned on metric `val_loss` which is not available. Available metrics are: loss,accuracy\n",
      "7/7 [==============================] - 10s 1s/step - loss: 0.5709 - accuracy: 0.6930\n",
      "Epoch 13/50\n",
      "7/7 [==============================] - ETA: 0s - loss: 0.5494 - accuracy: 0.7116WARNING:tensorflow:Early stopping conditioned on metric `val_loss` which is not available. Available metrics are: loss,accuracy\n",
      "7/7 [==============================] - 10s 1s/step - loss: 0.5494 - accuracy: 0.7116\n",
      "Epoch 14/50\n",
      "7/7 [==============================] - ETA: 0s - loss: 0.5043 - accuracy: 0.7349WARNING:tensorflow:Early stopping conditioned on metric `val_loss` which is not available. Available metrics are: loss,accuracy\n",
      "7/7 [==============================] - 10s 1s/step - loss: 0.5043 - accuracy: 0.7349\n",
      "Epoch 15/50\n",
      "7/7 [==============================] - ETA: 0s - loss: 0.4705 - accuracy: 0.7488WARNING:tensorflow:Early stopping conditioned on metric `val_loss` which is not available. Available metrics are: loss,accuracy\n",
      "7/7 [==============================] - 10s 1s/step - loss: 0.4705 - accuracy: 0.7488\n",
      "Epoch 16/50\n",
      "7/7 [==============================] - ETA: 0s - loss: 0.4679 - accuracy: 0.7488WARNING:tensorflow:Early stopping conditioned on metric `val_loss` which is not available. Available metrics are: loss,accuracy\n",
      "7/7 [==============================] - 10s 1s/step - loss: 0.4679 - accuracy: 0.7488\n",
      "Epoch 17/50\n",
      "7/7 [==============================] - ETA: 0s - loss: 0.6797 - accuracy: 0.6791WARNING:tensorflow:Early stopping conditioned on metric `val_loss` which is not available. Available metrics are: loss,accuracy\n",
      "7/7 [==============================] - 10s 1s/step - loss: 0.6797 - accuracy: 0.6791\n",
      "Epoch 18/50\n",
      "7/7 [==============================] - ETA: 0s - loss: 0.4658 - accuracy: 0.7814WARNING:tensorflow:Early stopping conditioned on metric `val_loss` which is not available. Available metrics are: loss,accuracy\n",
      "7/7 [==============================] - 10s 1s/step - loss: 0.4658 - accuracy: 0.7814\n",
      "Epoch 19/50\n",
      "7/7 [==============================] - ETA: 0s - loss: 0.3721 - accuracy: 0.8791WARNING:tensorflow:Early stopping conditioned on metric `val_loss` which is not available. Available metrics are: loss,accuracy\n",
      "7/7 [==============================] - 10s 1s/step - loss: 0.3721 - accuracy: 0.8791\n",
      "Epoch 20/50\n",
      "7/7 [==============================] - ETA: 0s - loss: 0.3385 - accuracy: 0.8744WARNING:tensorflow:Early stopping conditioned on metric `val_loss` which is not available. Available metrics are: loss,accuracy\n",
      "7/7 [==============================] - 10s 1s/step - loss: 0.3385 - accuracy: 0.8744\n",
      "Epoch 21/50\n",
      "7/7 [==============================] - ETA: 0s - loss: 0.3386 - accuracy: 0.8651WARNING:tensorflow:Early stopping conditioned on metric `val_loss` which is not available. Available metrics are: loss,accuracy\n",
      "7/7 [==============================] - 10s 1s/step - loss: 0.3386 - accuracy: 0.8651\n",
      "Epoch 22/50\n",
      "7/7 [==============================] - ETA: 0s - loss: 0.5437 - accuracy: 0.7349WARNING:tensorflow:Early stopping conditioned on metric `val_loss` which is not available. Available metrics are: loss,accuracy\n",
      "7/7 [==============================] - 10s 1s/step - loss: 0.5437 - accuracy: 0.7349\n",
      "Epoch 23/50\n",
      "7/7 [==============================] - ETA: 0s - loss: 1.0195 - accuracy: 0.6186WARNING:tensorflow:Early stopping conditioned on metric `val_loss` which is not available. Available metrics are: loss,accuracy\n",
      "7/7 [==============================] - 10s 1s/step - loss: 1.0195 - accuracy: 0.6186\n",
      "Epoch 24/50\n",
      "7/7 [==============================] - ETA: 0s - loss: 0.8156 - accuracy: 0.6605WARNING:tensorflow:Early stopping conditioned on metric `val_loss` which is not available. Available metrics are: loss,accuracy\n",
      "7/7 [==============================] - 10s 1s/step - loss: 0.8156 - accuracy: 0.6605\n",
      "Epoch 25/50\n",
      "7/7 [==============================] - ETA: 0s - loss: 0.7868 - accuracy: 0.6419WARNING:tensorflow:Early stopping conditioned on metric `val_loss` which is not available. Available metrics are: loss,accuracy\n",
      "7/7 [==============================] - 10s 1s/step - loss: 0.7868 - accuracy: 0.6419\n",
      "Epoch 26/50\n",
      "7/7 [==============================] - ETA: 0s - loss: 0.6429 - accuracy: 0.5953WARNING:tensorflow:Early stopping conditioned on metric `val_loss` which is not available. Available metrics are: loss,accuracy\n",
      "7/7 [==============================] - 10s 1s/step - loss: 0.6429 - accuracy: 0.5953\n",
      "Epoch 27/50\n",
      "7/7 [==============================] - ETA: 0s - loss: 0.5473 - accuracy: 0.6930WARNING:tensorflow:Early stopping conditioned on metric `val_loss` which is not available. Available metrics are: loss,accuracy\n",
      "7/7 [==============================] - 10s 1s/step - loss: 0.5473 - accuracy: 0.6930\n",
      "Epoch 28/50\n",
      "7/7 [==============================] - ETA: 0s - loss: 0.5718 - accuracy: 0.6791WARNING:tensorflow:Early stopping conditioned on metric `val_loss` which is not available. Available metrics are: loss,accuracy\n",
      "7/7 [==============================] - 10s 1s/step - loss: 0.5718 - accuracy: 0.6791\n",
      "Epoch 29/50\n",
      "7/7 [==============================] - ETA: 0s - loss: 0.4139 - accuracy: 0.8419WARNING:tensorflow:Early stopping conditioned on metric `val_loss` which is not available. Available metrics are: loss,accuracy\n",
      "7/7 [==============================] - 10s 1s/step - loss: 0.4139 - accuracy: 0.8419\n",
      "Epoch 30/50\n",
      "7/7 [==============================] - ETA: 0s - loss: 0.3592 - accuracy: 0.8698WARNING:tensorflow:Early stopping conditioned on metric `val_loss` which is not available. Available metrics are: loss,accuracy\n",
      "7/7 [==============================] - 10s 1s/step - loss: 0.3592 - accuracy: 0.8698\n",
      "Epoch 31/50\n",
      "7/7 [==============================] - ETA: 0s - loss: 0.3222 - accuracy: 0.8791WARNING:tensorflow:Early stopping conditioned on metric `val_loss` which is not available. Available metrics are: loss,accuracy\n",
      "7/7 [==============================] - 10s 1s/step - loss: 0.3222 - accuracy: 0.8791\n",
      "Epoch 32/50\n",
      "7/7 [==============================] - ETA: 0s - loss: 0.3545 - accuracy: 0.8419WARNING:tensorflow:Early stopping conditioned on metric `val_loss` which is not available. Available metrics are: loss,accuracy\n",
      "7/7 [==============================] - 10s 1s/step - loss: 0.3545 - accuracy: 0.8419\n",
      "Epoch 33/50\n",
      "7/7 [==============================] - ETA: 0s - loss: 0.2376 - accuracy: 0.9256WARNING:tensorflow:Early stopping conditioned on metric `val_loss` which is not available. Available metrics are: loss,accuracy\n",
      "7/7 [==============================] - 10s 1s/step - loss: 0.2376 - accuracy: 0.9256\n",
      "Epoch 34/50\n",
      "7/7 [==============================] - ETA: 0s - loss: 0.1838 - accuracy: 0.9488WARNING:tensorflow:Early stopping conditioned on metric `val_loss` which is not available. Available metrics are: loss,accuracy\n",
      "7/7 [==============================] - 10s 1s/step - loss: 0.1838 - accuracy: 0.9488\n",
      "Epoch 35/50\n",
      "7/7 [==============================] - ETA: 0s - loss: 0.1728 - accuracy: 0.9535WARNING:tensorflow:Early stopping conditioned on metric `val_loss` which is not available. Available metrics are: loss,accuracy\n",
      "7/7 [==============================] - 10s 1s/step - loss: 0.1728 - accuracy: 0.9535\n",
      "Epoch 36/50\n",
      "7/7 [==============================] - ETA: 0s - loss: 0.1556 - accuracy: 0.9674WARNING:tensorflow:Early stopping conditioned on metric `val_loss` which is not available. Available metrics are: loss,accuracy\n",
      "7/7 [==============================] - 10s 1s/step - loss: 0.1556 - accuracy: 0.9674\n",
      "Epoch 37/50\n",
      "7/7 [==============================] - ETA: 0s - loss: 0.1117 - accuracy: 0.9814WARNING:tensorflow:Early stopping conditioned on metric `val_loss` which is not available. Available metrics are: loss,accuracy\n",
      "7/7 [==============================] - 10s 1s/step - loss: 0.1117 - accuracy: 0.9814\n",
      "Epoch 38/50\n",
      "7/7 [==============================] - ETA: 0s - loss: 0.1280 - accuracy: 0.9628WARNING:tensorflow:Early stopping conditioned on metric `val_loss` which is not available. Available metrics are: loss,accuracy\n",
      "7/7 [==============================] - 10s 1s/step - loss: 0.1280 - accuracy: 0.9628\n",
      "Epoch 39/50\n",
      "7/7 [==============================] - ETA: 0s - loss: 0.0656 - accuracy: 0.9860WARNING:tensorflow:Early stopping conditioned on metric `val_loss` which is not available. Available metrics are: loss,accuracy\n",
      "7/7 [==============================] - 10s 1s/step - loss: 0.0656 - accuracy: 0.9860\n",
      "Epoch 40/50\n",
      "7/7 [==============================] - ETA: 0s - loss: 0.0505 - accuracy: 1.0000WARNING:tensorflow:Early stopping conditioned on metric `val_loss` which is not available. Available metrics are: loss,accuracy\n",
      "7/7 [==============================] - 10s 1s/step - loss: 0.0505 - accuracy: 1.0000\n",
      "Epoch 41/50\n",
      "7/7 [==============================] - ETA: 0s - loss: 0.0423 - accuracy: 1.0000WARNING:tensorflow:Early stopping conditioned on metric `val_loss` which is not available. Available metrics are: loss,accuracy\n",
      "7/7 [==============================] - 10s 1s/step - loss: 0.0423 - accuracy: 1.0000\n",
      "Epoch 42/50\n",
      "7/7 [==============================] - ETA: 0s - loss: 0.0373 - accuracy: 1.0000WARNING:tensorflow:Early stopping conditioned on metric `val_loss` which is not available. Available metrics are: loss,accuracy\n",
      "7/7 [==============================] - 10s 1s/step - loss: 0.0373 - accuracy: 1.0000\n",
      "Epoch 43/50\n",
      "7/7 [==============================] - ETA: 0s - loss: 0.0471 - accuracy: 0.9907WARNING:tensorflow:Early stopping conditioned on metric `val_loss` which is not available. Available metrics are: loss,accuracy\n",
      "7/7 [==============================] - 10s 1s/step - loss: 0.0471 - accuracy: 0.9907\n",
      "Epoch 44/50\n",
      "7/7 [==============================] - ETA: 0s - loss: 0.5200 - accuracy: 0.8047WARNING:tensorflow:Early stopping conditioned on metric `val_loss` which is not available. Available metrics are: loss,accuracy\n",
      "7/7 [==============================] - 10s 1s/step - loss: 0.5200 - accuracy: 0.8047\n",
      "Epoch 45/50\n",
      "7/7 [==============================] - ETA: 0s - loss: 0.1768 - accuracy: 0.9256WARNING:tensorflow:Early stopping conditioned on metric `val_loss` which is not available. Available metrics are: loss,accuracy\n",
      "7/7 [==============================] - 10s 1s/step - loss: 0.1768 - accuracy: 0.9256\n",
      "Epoch 46/50\n",
      "7/7 [==============================] - ETA: 0s - loss: 0.1775 - accuracy: 0.9209WARNING:tensorflow:Early stopping conditioned on metric `val_loss` which is not available. Available metrics are: loss,accuracy\n",
      "7/7 [==============================] - 10s 1s/step - loss: 0.1775 - accuracy: 0.9209\n",
      "Epoch 47/50\n",
      "7/7 [==============================] - ETA: 0s - loss: 0.0730 - accuracy: 0.9814WARNING:tensorflow:Early stopping conditioned on metric `val_loss` which is not available. Available metrics are: loss,accuracy\n",
      "7/7 [==============================] - 10s 1s/step - loss: 0.0730 - accuracy: 0.9814\n",
      "Epoch 48/50\n",
      "7/7 [==============================] - ETA: 0s - loss: 0.0774 - accuracy: 0.9767WARNING:tensorflow:Early stopping conditioned on metric `val_loss` which is not available. Available metrics are: loss,accuracy\n",
      "7/7 [==============================] - 10s 1s/step - loss: 0.0774 - accuracy: 0.9767\n",
      "Epoch 49/50\n",
      "7/7 [==============================] - ETA: 0s - loss: 0.0516 - accuracy: 0.9860WARNING:tensorflow:Early stopping conditioned on metric `val_loss` which is not available. Available metrics are: loss,accuracy\n",
      "7/7 [==============================] - 10s 1s/step - loss: 0.0516 - accuracy: 0.9860\n",
      "Epoch 50/50\n",
      "7/7 [==============================] - ETA: 0s - loss: 0.0269 - accuracy: 0.9953WARNING:tensorflow:Early stopping conditioned on metric `val_loss` which is not available. Available metrics are: loss,accuracy\n",
      "7/7 [==============================] - 10s 1s/step - loss: 0.0269 - accuracy: 0.9953\n"
     ]
    }
   ],
   "source": [
    "historico = network1.fit(X_train, y_train, epochs=epochs, callbacks=callbacks_list) # Treina a rede neural"
   ]
  },
  {
   "attachments": {},
   "cell_type": "markdown",
   "metadata": {},
   "source": [
    "- Avaliação da rede neural"
   ]
  },
  {
   "cell_type": "code",
   "execution_count": 19,
   "metadata": {},
   "outputs": [
    {
     "data": {
      "text/plain": [
       "dict_keys(['loss', 'accuracy'])"
      ]
     },
     "execution_count": 19,
     "metadata": {},
     "output_type": "execute_result"
    }
   ],
   "source": [
    "historico.history.keys()"
   ]
  },
  {
   "cell_type": "code",
   "execution_count": 37,
   "metadata": {},
   "outputs": [],
   "source": [
    "# criação da pasta para salvar os plots de treinamento\n",
    "path = f'./plots_{epochs}_epocas'\n",
    "if not os.path.exists(path):\n",
    "    os.makedirs(path, exist_ok=True)\n"
   ]
  },
  {
   "attachments": {},
   "cell_type": "markdown",
   "metadata": {},
   "source": [
    "- Plot dos valores de erro"
   ]
  },
  {
   "cell_type": "code",
   "execution_count": 39,
   "metadata": {},
   "outputs": [
    {
     "data": {
      "image/png": "[encoded data removed]",
      "text/plain": [
       "<Figure size 640x480 with 1 Axes>"
      ]
     },
     "metadata": {},
     "output_type": "display_data"
    }
   ],
   "source": [
    "plt.plot(historico.history['loss']);\n",
    "plt.xlabel('Época');\n",
    "plt.ylabel('Loss');\n",
    "plt.title('Loss vs Época');\n",
    "plt.legend(['Loss']);\n",
    "plt.savefig(f'{path}/loss_vs_epoca.png')\n",
    "plt.show();"
   ]
  },
  {
   "attachments": {},
   "cell_type": "markdown",
   "metadata": {},
   "source": [
    "- Plot da acurácia que é a porcentagem de acerto"
   ]
  },
  {
   "cell_type": "code",
   "execution_count": 40,
   "metadata": {},
   "outputs": [
    {
     "data": {
      "image/png": "[encoded data removed]",
      "text/plain": [
       "<Figure size 640x480 with 1 Axes>"
      ]
     },
     "metadata": {},
     "output_type": "display_data"
    }
   ],
   "source": [
    "plt.plot(historico.history['accuracy']);\n",
    "plt.xlabel('Época');\n",
    "plt.ylabel('Acurácia');\n",
    "plt.title('Acurácia vs Época');\n",
    "plt.legend(['Acurácia']);\n",
    "plt.savefig(f'{path}/acuracia_vs_epoca.png')\n",
    "plt.show();"
   ]
  },
  {
   "attachments": {},
   "cell_type": "markdown",
   "metadata": {},
   "source": [
    "- o predict faz a previsão da imagem de teste"
   ]
  },
  {
   "cell_type": "code",
   "execution_count": 22,
   "metadata": {},
   "outputs": [
    {
     "name": "stdout",
     "output_type": "stream",
     "text": [
      "2/2 [==============================] - 0s 49ms/step\n"
     ]
    },
    {
     "data": {
      "text/plain": [
       "array([[9.6481502e-01],\n",
       "       [1.0754536e-03],\n",
       "       [9.7339785e-01],\n",
       "       [7.9572135e-01],\n",
       "       [1.4431123e-01],\n",
       "       [9.5597160e-01],\n",
       "       [2.2087188e-03],\n",
       "       [4.6181075e-02],\n",
       "       [4.0096274e-01],\n",
       "       [2.4652909e-02],\n",
       "       [9.0690321e-01],\n",
       "       [5.8899604e-05],\n",
       "       [9.3503058e-02],\n",
       "       [1.3423838e-01],\n",
       "       [7.0958316e-01],\n",
       "       [9.5314634e-01],\n",
       "       [8.1726187e-01],\n",
       "       [1.1110145e-01],\n",
       "       [9.6690595e-01],\n",
       "       [9.7989923e-01],\n",
       "       [9.6143466e-01],\n",
       "       [8.2510255e-02],\n",
       "       [9.8854804e-01],\n",
       "       [7.4983686e-01],\n",
       "       [8.5936290e-01],\n",
       "       [1.1651029e-01],\n",
       "       [9.7688067e-01],\n",
       "       [9.7781587e-01],\n",
       "       [7.9670894e-01],\n",
       "       [1.8293064e-02],\n",
       "       [5.2030754e-01],\n",
       "       [1.3102032e-03],\n",
       "       [4.9981795e-02],\n",
       "       [9.9061906e-01],\n",
       "       [2.1771458e-04],\n",
       "       [9.7636914e-01],\n",
       "       [3.6288384e-01],\n",
       "       [9.8144162e-01],\n",
       "       [6.0624593e-01],\n",
       "       [9.7871971e-01],\n",
       "       [3.0472441e-02],\n",
       "       [3.0802000e-02],\n",
       "       [8.5103893e-01],\n",
       "       [9.6373183e-01],\n",
       "       [9.5008361e-01],\n",
       "       [4.4403785e-01],\n",
       "       [1.4530062e-02],\n",
       "       [9.5266724e-01],\n",
       "       [5.9675300e-01],\n",
       "       [1.0446994e-02],\n",
       "       [9.8893964e-01],\n",
       "       [8.4723152e-02],\n",
       "       [5.2709930e-02],\n",
       "       [2.3584886e-01]], dtype=float32)"
      ]
     },
     "execution_count": 22,
     "metadata": {},
     "output_type": "execute_result"
    }
   ],
   "source": [
    "previsao = network1.predict(X_test)\n",
    "previsao"
   ]
  },
  {
   "attachments": {},
   "cell_type": "markdown",
   "metadata": {},
   "source": [
    "- 0 false Homer\n",
    "- 1 true Bart"
   ]
  },
  {
   "cell_type": "code",
   "execution_count": 23,
   "metadata": {},
   "outputs": [
    {
     "name": "stdout",
     "output_type": "stream",
     "text": [
      "Homer - Bart\n",
      "Bart - Homer\n",
      "Homer - Bart\n",
      "Homer - Bart\n",
      "Bart - Bart\n",
      "Homer - Homer\n",
      "Bart - Bart\n",
      "Bart - Bart\n",
      "Bart - Bart\n",
      "Bart - Bart\n",
      "Homer - Bart\n",
      "Bart - Homer\n",
      "Bart - Homer\n",
      "Bart - Bart\n",
      "Homer - Homer\n",
      "Homer - Homer\n",
      "Homer - Homer\n",
      "Bart - Homer\n",
      "Homer - Bart\n",
      "Homer - Bart\n",
      "Homer - Bart\n",
      "Bart - Homer\n",
      "Homer - Bart\n",
      "Homer - Bart\n",
      "Homer - Bart\n",
      "Bart - Homer\n",
      "Homer - Bart\n",
      "Homer - Bart\n",
      "Homer - Homer\n",
      "Bart - Homer\n",
      "Homer - Homer\n",
      "Bart - Homer\n",
      "Bart - Homer\n",
      "Homer - Homer\n",
      "Bart - Homer\n",
      "Homer - Homer\n",
      "Bart - Bart\n",
      "Homer - Bart\n",
      "Homer - Bart\n",
      "Homer - Bart\n",
      "Bart - Homer\n",
      "Bart - Homer\n",
      "Homer - Bart\n",
      "Homer - Bart\n",
      "Homer - Bart\n",
      "Bart - Homer\n",
      "Bart - Homer\n",
      "Homer - Bart\n",
      "Homer - Bart\n",
      "Bart - Homer\n",
      "Homer - Bart\n",
      "Bart - Homer\n",
      "Bart - Homer\n",
      "Bart - Homer\n"
     ]
    }
   ],
   "source": [
    "# Se a previsão for maior que 0.5, então é Homer, caso contrário é Bart\n",
    "previsao = (previsao > 0.5)\n",
    "previsao\n",
    "for i in range(len(previsao)):\n",
    "    if previsao[i] == True:\n",
    "        print(f\"Homer - {'Homer' if y_test[i] == 0 else 'Bart'}\") \n",
    "    else:\n",
    "        print(f\"Bart - {'Homer' if y_test[i] == 0 else 'Bart'}\")   \n",
    "        # melhorar saida"
   ]
  },
  {
   "cell_type": "code",
   "execution_count": 24,
   "metadata": {},
   "outputs": [
    {
     "data": {
      "text/plain": [
       "array([1, 0, 1, 1, 1, 0, 1, 1, 1, 1, 1, 0, 0, 1, 0, 0, 0, 0, 1, 1, 1, 0,\n",
       "       1, 1, 1, 0, 1, 1, 0, 0, 0, 0, 0, 0, 0, 0, 1, 1, 1, 1, 0, 0, 1, 1,\n",
       "       1, 0, 0, 1, 1, 0, 1, 0, 0, 0])"
      ]
     },
     "execution_count": 24,
     "metadata": {},
     "output_type": "execute_result"
    }
   ],
   "source": [
    "y_test"
   ]
  },
  {
   "attachments": {},
   "cell_type": "markdown",
   "metadata": {},
   "source": [
    "- acuracy mede a probabilidade de acerto da rede neural"
   ]
  },
  {
   "cell_type": "code",
   "execution_count": 45,
   "metadata": {},
   "outputs": [
    {
     "data": {
      "text/plain": [
       "0.7222222222222222"
      ]
     },
     "execution_count": 45,
     "metadata": {},
     "output_type": "execute_result"
    }
   ],
   "source": [
    "# salvar acuracia em um arquivo txt\n",
    "arq = open(f'{path}/accuracy.txt', \"w\")\n",
    "arq.write(str(accuracy_score(y_test, previsao)))\n",
    "arq.close()\n",
    "\n",
    "accuracy_score(y_test, previsao)"
   ]
  },
  {
   "cell_type": "code",
   "execution_count": 26,
   "metadata": {},
   "outputs": [
    {
     "data": {
      "text/plain": [
       "array([[18,  8],\n",
       "       [ 7, 21]], dtype=int64)"
      ]
     },
     "execution_count": 26,
     "metadata": {},
     "output_type": "execute_result"
    }
   ],
   "source": [
    "cm = confusion_matrix(y_test, previsao)\n",
    "cm"
   ]
  },
  {
   "cell_type": "code",
   "execution_count": 50,
   "metadata": {},
   "outputs": [
    {
     "data": {
      "image/png": "[encoded data removed]",
      "text/plain": [
       "<Figure size 640x480 with 2 Axes>"
      ]
     },
     "metadata": {},
     "output_type": "display_data"
    }
   ],
   "source": [
    "#salvar matriz de confusão\n",
    "sns.heatmap(cm, annot=True, fmt='d',);\n",
    "plt.savefig(f'{path}/matriz_confusao.png')\n",
    "plt.show();"
   ]
  },
  {
   "cell_type": "code",
   "execution_count": 28,
   "metadata": {},
   "outputs": [
    {
     "name": "stdout",
     "output_type": "stream",
     "text": [
      "              precision    recall  f1-score   support\n",
      "\n",
      "           0       0.72      0.69      0.71        26\n",
      "           1       0.72      0.75      0.74        28\n",
      "\n",
      "    accuracy                           0.72        54\n",
      "   macro avg       0.72      0.72      0.72        54\n",
      "weighted avg       0.72      0.72      0.72        54\n",
      "\n"
     ]
    }
   ],
   "source": [
    "print(classification_report(y_test, previsao))"
   ]
  },
  {
   "attachments": {},
   "cell_type": "markdown",
   "metadata": {},
   "source": [
    "- Salvar e carregar o modelo treinado "
   ]
  },
  {
   "cell_type": "code",
   "execution_count": 57,
   "metadata": {},
   "outputs": [],
   "source": [
    "# Carrega o modelo\n",
    "model_json = network1.to_json()\n",
    "with open(f\"{path}/model.json\", \"w\") as json_file:\n",
    "    json_file.write(model_json)"
   ]
  },
  {
   "cell_type": "code",
   "execution_count": 55,
   "metadata": {},
   "outputs": [],
   "source": [
    "# Salvar modelo\n",
    "network1_saved = save_model(network1, f\"{path}/weights1.hdf5\")"
   ]
  },
  {
   "cell_type": "code",
   "execution_count": 58,
   "metadata": {},
   "outputs": [
    {
     "data": {
      "text/plain": [
       "'{\"class_name\": \"Sequential\", \"config\": {\"name\": \"sequential\", \"layers\": [{\"class_name\": \"InputLayer\", \"config\": {\"batch_input_shape\": [null, 16384], \"dtype\": \"float32\", \"sparse\": false, \"ragged\": false, \"name\": \"dense_input\"}}, {\"class_name\": \"Dense\", \"config\": {\"name\": \"dense\", \"trainable\": true, \"dtype\": \"float32\", \"batch_input_shape\": [null, 16384], \"units\": 8193, \"activation\": \"relu\", \"use_bias\": true, \"kernel_initializer\": {\"class_name\": \"GlorotUniform\", \"config\": {\"seed\": null}}, \"bias_initializer\": {\"class_name\": \"Zeros\", \"config\": {}}, \"kernel_regularizer\": null, \"bias_regularizer\": null, \"activity_regularizer\": null, \"kernel_constraint\": null, \"bias_constraint\": null}}, {\"class_name\": \"Dense\", \"config\": {\"name\": \"dense_1\", \"trainable\": true, \"dtype\": \"float32\", \"units\": 8193, \"activation\": \"relu\", \"use_bias\": true, \"kernel_initializer\": {\"class_name\": \"GlorotUniform\", \"config\": {\"seed\": null}}, \"bias_initializer\": {\"class_name\": \"Zeros\", \"config\": {}}, \"kernel_regularizer\": null, \"bias_regularizer\": null, \"activity_regularizer\": null, \"kernel_constraint\": null, \"bias_constraint\": null}}, {\"class_name\": \"Dense\", \"config\": {\"name\": \"dense_2\", \"trainable\": true, \"dtype\": \"float32\", \"units\": 1, \"activation\": \"sigmoid\", \"use_bias\": true, \"kernel_initializer\": {\"class_name\": \"GlorotUniform\", \"config\": {\"seed\": null}}, \"bias_initializer\": {\"class_name\": \"Zeros\", \"config\": {}}, \"kernel_regularizer\": null, \"bias_regularizer\": null, \"activity_regularizer\": null, \"kernel_constraint\": null, \"bias_constraint\": null}}]}, \"keras_version\": \"2.12.0\", \"backend\": \"tensorflow\"}'"
      ]
     },
     "execution_count": 58,
     "metadata": {},
     "output_type": "execute_result"
    }
   ],
   "source": [
    "with open(f'{path}/model.json', 'r') as json_file:\n",
    "    json_savedModel= json_file.read()\n",
    "json_savedModel    "
   ]
  },
  {
   "cell_type": "code",
   "execution_count": 60,
   "metadata": {},
   "outputs": [],
   "source": [
    "network1_loaded = tf.keras.models.model_from_json(json_savedModel)\n",
    "network1_loaded.load_weights(f'{path}/weights1.hdf5')\n",
    "network1_loaded.compile(optimizer='adam', loss='binary_crossentropy', metrics=['accuracy'])"
   ]
  },
  {
   "cell_type": "code",
   "execution_count": 61,
   "metadata": {},
   "outputs": [
    {
     "name": "stdout",
     "output_type": "stream",
     "text": [
      "Model: \"sequential\"\n",
      "_________________________________________________________________\n",
      " Layer (type)                Output Shape              Param #   \n",
      "=================================================================\n",
      " dense (Dense)               (None, 8193)              134242305 \n",
      "                                                                 \n",
      " dense_1 (Dense)             (None, 8193)              67133442  \n",
      "                                                                 \n",
      " dense_2 (Dense)             (None, 1)                 8194      \n",
      "                                                                 \n",
      "=================================================================\n",
      "Total params: 201,383,941\n",
      "Trainable params: 201,383,941\n",
      "Non-trainable params: 0\n",
      "_________________________________________________________________\n"
     ]
    }
   ],
   "source": [
    "network1_loaded.summary()"
   ]
  }
 ],
 "metadata": {
  "kernelspec": {
   "display_name": "base",
   "language": "python",
   "name": "python3"
  },
  "language_info": {
   "codemirror_mode": {
    "name": "ipython",
    "version": 3
   },
   "file_extension": ".py",
   "mimetype": "text/x-python",
   "name": "python",
   "nbconvert_exporter": "python",
   "pygments_lexer": "ipython3",
   "version": "3.8.10"
  },
  "orig_nbformat": 4
 },
 "nbformat": 4,
 "nbformat_minor": 2
}
