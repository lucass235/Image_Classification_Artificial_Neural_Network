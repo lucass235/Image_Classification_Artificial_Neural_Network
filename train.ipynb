{
 "cells": [
  {
   "attachments": {},
   "cell_type": "markdown",
   "metadata": {},
   "source": [
    "# Classificação de imagem com rede neural artificial"
   ]
  },
  {
   "cell_type": "code",
   "execution_count": 1,
   "metadata": {},
   "outputs": [
    {
     "data": {
      "text/plain": [
       "'2.12.0'"
      ]
     },
     "execution_count": 1,
     "metadata": {},
     "output_type": "execute_result"
    }
   ],
   "source": [
    "import cv2\n",
    "import numpy as np\n",
    "import os \n",
    "import tensorflow as tf # Deep Learning\n",
    "import pandas as pd # Manipulação de dados\n",
    "import seaborn as sns # Visualização de dados\n",
    "import matplotlib.pyplot as plt # Visualização de dados\n",
    "import PIL # Manipulação de imagens\n",
    "from sklearn.preprocessing import MinMaxScaler\n",
    "from sklearn.metrics import accuracy_score, confusion_matrix, classification_report\n",
    "from keras.models import save_model\n",
    "from keras.callbacks import EarlyStopping\n",
    "tf.__version__"
   ]
  },
  {
   "attachments": {},
   "cell_type": "markdown",
   "metadata": {},
   "source": [
    "- Definindo caminho das imagens na variável arquivos"
   ]
  },
  {
   "cell_type": "code",
   "execution_count": 2,
   "metadata": {},
   "outputs": [],
   "source": [
    "diretorio = \"./data/homer_bart_1\"\n",
    "arquivos = [os.path.join(diretorio, arquivo) for arquivo in sorted(os.listdir(diretorio))]"
   ]
  },
  {
   "attachments": {},
   "cell_type": "markdown",
   "metadata": {},
   "source": [
    "- Precisamos definir o tamanho das imagens único para todas 128x128"
   ]
  },
  {
   "cell_type": "code",
   "execution_count": 3,
   "metadata": {},
   "outputs": [],
   "source": [
    "largura, altura = 128, 128"
   ]
  },
  {
   "attachments": {},
   "cell_type": "markdown",
   "metadata": {},
   "source": [
    "- Variável imagens para armazenar as imagens em formato de array\n",
    "- Variável classes para armazenar as classes das imagens 0 -> Homer, 1 -> Bart"
   ]
  },
  {
   "cell_type": "code",
   "execution_count": 4,
   "metadata": {},
   "outputs": [],
   "source": [
    "imagens = []\n",
    "classes = []"
   ]
  },
  {
   "attachments": {},
   "cell_type": "markdown",
   "metadata": {},
   "source": [
    "- Extração dos pixels das imagens"
   ]
  },
  {
   "attachments": {},
   "cell_type": "markdown",
   "metadata": {},
   "source": [
    "- Nesse bloco de código, estamos lendo as imagens, ajustando o seu tamanho, convertendo para escala de cinza, convertendo para array e adicionando na variável imagens.\n",
    "- No finalzinho estamos pegando o nome referente a identificação da imagem e adicionando na variável classes para identificar a classe da imagem."
   ]
  },
  {
   "cell_type": "code",
   "execution_count": 5,
   "metadata": {},
   "outputs": [],
   "source": [
    "for arquivo in arquivos:\n",
    "    try:\n",
    "        imagem = cv2.imread(arquivo)\n",
    "        (H, W) = imagem.shape[:2] # Altura e largura da imagem\n",
    "    except:\n",
    "        continue\n",
    "    imagem = cv2.resize(imagem, (largura, altura)) # Redimensiona a imagem\n",
    "    imagem = cv2.cvtColor(imagem, cv2.COLOR_BGR2GRAY) # Converte a imagem para tons de cinza\n",
    "    imagem = imagem.ravel() # Converte a imagem para um vetor\n",
    "    imagens.append(imagem) # Adiciona a imagem na lista de imagens\n",
    "    nome_imagem = arquivo.split(os.path.sep)[-1] # Pega o nome da imagem\n",
    "    if \"homer\" in nome_imagem:\n",
    "        classes.append(0)\n",
    "    else:\n",
    "        classes.append(1)            "
   ]
  },
  {
   "attachments": {},
   "cell_type": "markdown",
   "metadata": {},
   "source": [
    "- Convertendo as imagens em array e suas respectivas classes em array numpy"
   ]
  },
  {
   "cell_type": "code",
   "execution_count": 6,
   "metadata": {},
   "outputs": [],
   "source": [
    "X = np.array(imagens)\n",
    "y = np.array(classes)"
   ]
  },
  {
   "cell_type": "code",
   "execution_count": 7,
   "metadata": {},
   "outputs": [
    {
     "data": {
      "text/plain": [
       "((269, 16384), (269,))"
      ]
     },
     "execution_count": 7,
     "metadata": {},
     "output_type": "execute_result"
    }
   ],
   "source": [
    "X.shape, y.shape"
   ]
  },
  {
   "attachments": {},
   "cell_type": "markdown",
   "metadata": {},
   "source": [
    "- Normalização dos dados"
   ]
  },
  {
   "cell_type": "code",
   "execution_count": 8,
   "metadata": {},
   "outputs": [
    {
     "data": {
      "text/plain": [
       "(255, 0)"
      ]
     },
     "execution_count": 8,
     "metadata": {},
     "output_type": "execute_result"
    }
   ],
   "source": [
    "X[0].max(), X[0].min()"
   ]
  },
  {
   "attachments": {},
   "cell_type": "markdown",
   "metadata": {},
   "source": [
    "- Pegamos os 256 pixes e fizemos a normalização entre 0 e 1 onde 1 é a cor branca e 0 é a cor preta"
   ]
  },
  {
   "cell_type": "code",
   "execution_count": 9,
   "metadata": {},
   "outputs": [],
   "source": [
    "scaler = MinMaxScaler()\n",
    "X = scaler.fit_transform(X)"
   ]
  },
  {
   "cell_type": "code",
   "execution_count": 10,
   "metadata": {},
   "outputs": [
    {
     "data": {
      "text/plain": [
       "(1.0000000000000002, 0.0)"
      ]
     },
     "execution_count": 10,
     "metadata": {},
     "output_type": "execute_result"
    }
   ],
   "source": [
    "X[0].max(), X[0].min()"
   ]
  },
  {
   "attachments": {},
   "cell_type": "markdown",
   "metadata": {},
   "source": [
    "- Base de treinamento e teste\n",
    "- A biblioteca sklearn possui uma função chamada train_test_split que faz a divisão da base de dados em treinamento e teste\n",
    "- test_size = 0.25 -> 25% da base de dados será usada para teste e 75% para treinamento\n",
    "- random_state = 1 -> Para que a divisão seja sempre a mesma"
   ]
  },
  {
   "cell_type": "code",
   "execution_count": 11,
   "metadata": {},
   "outputs": [],
   "source": [
    "from sklearn.model_selection import train_test_split\n",
    "X_train, X_test, y_train, y_test = train_test_split(X, y, test_size=0.2, random_state=1)"
   ]
  },
  {
   "cell_type": "code",
   "execution_count": 12,
   "metadata": {},
   "outputs": [
    {
     "data": {
      "text/plain": [
       "((215, 16384), (54, 16384), (215,), (54,))"
      ]
     },
     "execution_count": 12,
     "metadata": {},
     "output_type": "execute_result"
    }
   ],
   "source": [
    "X_train.shape, X_test.shape, y_train.shape, y_test.shape"
   ]
  },
  {
   "attachments": {},
   "cell_type": "markdown",
   "metadata": {},
   "source": [
    "## Construção e treinamento da rede neural"
   ]
  },
  {
   "attachments": {},
   "cell_type": "markdown",
   "metadata": {},
   "source": [
    "- units parâmetro de entrada de neurônios da camada oculta\n",
    "- activation função de ativação da camada oculta\n",
    "- input_shape parâmetro de entrada de neurônios da camada de entrada"
   ]
  },
  {
   "cell_type": "code",
   "execution_count": 13,
   "metadata": {},
   "outputs": [],
   "source": [
    "network1 = tf.keras.models.Sequential() # Cria a rede neural sequencial \n",
    "network1.add(tf.keras.layers.Dense(units=8193, activation='relu', input_shape=(X_train.shape[1],))) # Adiciona a primeira camada oculta\n",
    "network1.add(tf.keras.layers.Dense(units=8193, activation='relu')) # Adiciona a segunda camada oculta\n",
    "network1.add(tf.keras.layers.Dense(units=1, activation='sigmoid')) # Adiciona a camada de saída"
   ]
  },
  {
   "cell_type": "code",
   "execution_count": 14,
   "metadata": {},
   "outputs": [
    {
     "data": {
      "text/plain": [
       "3"
      ]
     },
     "execution_count": 14,
     "metadata": {},
     "output_type": "execute_result"
    }
   ],
   "source": [
    "len(network1.layers)"
   ]
  },
  {
   "cell_type": "code",
   "execution_count": 15,
   "metadata": {},
   "outputs": [
    {
     "name": "stdout",
     "output_type": "stream",
     "text": [
      "Model: \"sequential\"\n",
      "_________________________________________________________________\n",
      " Layer (type)                Output Shape              Param #   \n",
      "=================================================================\n",
      " dense (Dense)               (None, 8193)              134242305 \n",
      "                                                                 \n",
      " dense_1 (Dense)             (None, 8193)              67133442  \n",
      "                                                                 \n",
      " dense_2 (Dense)             (None, 1)                 8194      \n",
      "                                                                 \n",
      "=================================================================\n",
      "Total params: 201,383,941\n",
      "Trainable params: 201,383,941\n",
      "Non-trainable params: 0\n",
      "_________________________________________________________________\n"
     ]
    }
   ],
   "source": [
    "network1.summary()"
   ]
  },
  {
   "attachments": {},
   "cell_type": "markdown",
   "metadata": {},
   "source": [
    "- optimizer parametro de otimização dos pesos da rede neural (adam)\n",
    "- loss função para calcular o erro (binary_crossentropy)\n",
    "- metrics métrica para avaliar o modelo (accuracy)"
   ]
  },
  {
   "cell_type": "code",
   "execution_count": 16,
   "metadata": {},
   "outputs": [],
   "source": [
    "network1.compile(optimizer='adam', loss='binary_crossentropy', metrics=['accuracy']) # Compila a rede neural"
   ]
  },
  {
   "attachments": {},
   "cell_type": "markdown",
   "metadata": {},
   "source": [
    "- Definição do callback para parar o treinamento quando a acurácia de validação não melhorar"
   ]
  },
  {
   "cell_type": "code",
   "execution_count": 17,
   "metadata": {},
   "outputs": [],
   "source": [
    "# Definir o critério de parada antecipada\n",
    "early_stopping = EarlyStopping(monitor='val_loss', patience=150, restore_best_weights=True)\n",
    "# Incluir o critério de parada antecipada na lista de callbacks\n",
    "callbacks_list = [early_stopping]\n",
    "epochs = 100"
   ]
  },
  {
   "attachments": {},
   "cell_type": "markdown",
   "metadata": {},
   "source": [
    "- epochs quantidade de vezes que o modelo será treinado\n",
    "- callbacks parâmetro para definir o callback de parada do treinamento\n",
    "- validation_split parâmetro para definir a quantidade de dados que será usada para validação"
   ]
  },
  {
   "cell_type": "code",
   "execution_count": 18,
   "metadata": {},
   "outputs": [
    {
     "name": "stdout",
     "output_type": "stream",
     "text": [
      "Epoch 1/100\n"
     ]
    },
    {
     "name": "stdout",
     "output_type": "stream",
     "text": [
      "7/7 [==============================] - ETA: 0s - loss: 78.2320 - accuracy: 0.5023WARNING:tensorflow:Early stopping conditioned on metric `val_loss` which is not available. Available metrics are: loss,accuracy\n",
      "7/7 [==============================] - 12s 2s/step - loss: 78.2320 - accuracy: 0.5023\n",
      "Epoch 2/100\n",
      "7/7 [==============================] - ETA: 0s - loss: 21.8642 - accuracy: 0.5070WARNING:tensorflow:Early stopping conditioned on metric `val_loss` which is not available. Available metrics are: loss,accuracy\n",
      "7/7 [==============================] - 11s 2s/step - loss: 21.8642 - accuracy: 0.5070\n",
      "Epoch 3/100\n",
      "7/7 [==============================] - ETA: 0s - loss: 5.7501 - accuracy: 0.5302WARNING:tensorflow:Early stopping conditioned on metric `val_loss` which is not available. Available metrics are: loss,accuracy\n",
      "7/7 [==============================] - 10s 1s/step - loss: 5.7501 - accuracy: 0.5302\n",
      "Epoch 4/100\n",
      "7/7 [==============================] - ETA: 0s - loss: 7.2015 - accuracy: 0.4372WARNING:tensorflow:Early stopping conditioned on metric `val_loss` which is not available. Available metrics are: loss,accuracy\n",
      "7/7 [==============================] - 10s 1s/step - loss: 7.2015 - accuracy: 0.4372\n",
      "Epoch 5/100\n",
      "7/7 [==============================] - ETA: 0s - loss: 2.4736 - accuracy: 0.5116WARNING:tensorflow:Early stopping conditioned on metric `val_loss` which is not available. Available metrics are: loss,accuracy\n",
      "7/7 [==============================] - 10s 1s/step - loss: 2.4736 - accuracy: 0.5116\n",
      "Epoch 6/100\n",
      "7/7 [==============================] - ETA: 0s - loss: 0.6726 - accuracy: 0.5628WARNING:tensorflow:Early stopping conditioned on metric `val_loss` which is not available. Available metrics are: loss,accuracy\n",
      "7/7 [==============================] - 10s 1s/step - loss: 0.6726 - accuracy: 0.5628\n",
      "Epoch 7/100\n",
      "7/7 [==============================] - ETA: 0s - loss: 0.6785 - accuracy: 0.5860WARNING:tensorflow:Early stopping conditioned on metric `val_loss` which is not available. Available metrics are: loss,accuracy\n",
      "7/7 [==============================] - 10s 1s/step - loss: 0.6785 - accuracy: 0.5860\n",
      "Epoch 8/100\n",
      "7/7 [==============================] - ETA: 0s - loss: 0.6570 - accuracy: 0.6140WARNING:tensorflow:Early stopping conditioned on metric `val_loss` which is not available. Available metrics are: loss,accuracy\n",
      "7/7 [==============================] - 10s 1s/step - loss: 0.6570 - accuracy: 0.6140\n",
      "Epoch 9/100\n",
      "7/7 [==============================] - ETA: 0s - loss: 0.6522 - accuracy: 0.6140WARNING:tensorflow:Early stopping conditioned on metric `val_loss` which is not available. Available metrics are: loss,accuracy\n",
      "7/7 [==============================] - 10s 1s/step - loss: 0.6522 - accuracy: 0.6140\n",
      "Epoch 10/100\n",
      "7/7 [==============================] - ETA: 0s - loss: 0.6669 - accuracy: 0.6140WARNING:tensorflow:Early stopping conditioned on metric `val_loss` which is not available. Available metrics are: loss,accuracy\n",
      "7/7 [==============================] - 10s 1s/step - loss: 0.6669 - accuracy: 0.6140\n",
      "Epoch 11/100\n",
      "7/7 [==============================] - ETA: 0s - loss: 0.6606 - accuracy: 0.6140WARNING:tensorflow:Early stopping conditioned on metric `val_loss` which is not available. Available metrics are: loss,accuracy\n",
      "7/7 [==============================] - 10s 2s/step - loss: 0.6606 - accuracy: 0.6140\n",
      "Epoch 12/100\n",
      "7/7 [==============================] - ETA: 0s - loss: 0.6639 - accuracy: 0.6140WARNING:tensorflow:Early stopping conditioned on metric `val_loss` which is not available. Available metrics are: loss,accuracy\n",
      "7/7 [==============================] - 10s 1s/step - loss: 0.6639 - accuracy: 0.6140\n",
      "Epoch 13/100\n",
      "7/7 [==============================] - ETA: 0s - loss: 0.6645 - accuracy: 0.6140WARNING:tensorflow:Early stopping conditioned on metric `val_loss` which is not available. Available metrics are: loss,accuracy\n",
      "7/7 [==============================] - 10s 1s/step - loss: 0.6645 - accuracy: 0.6140\n",
      "Epoch 14/100\n",
      "7/7 [==============================] - ETA: 0s - loss: 0.6650 - accuracy: 0.6140WARNING:tensorflow:Early stopping conditioned on metric `val_loss` which is not available. Available metrics are: loss,accuracy\n",
      "7/7 [==============================] - 10s 1s/step - loss: 0.6650 - accuracy: 0.6140\n",
      "Epoch 15/100\n",
      "7/7 [==============================] - ETA: 0s - loss: 0.6652 - accuracy: 0.6465WARNING:tensorflow:Early stopping conditioned on metric `val_loss` which is not available. Available metrics are: loss,accuracy\n",
      "7/7 [==============================] - 10s 1s/step - loss: 0.6652 - accuracy: 0.6465\n",
      "Epoch 16/100\n",
      "7/7 [==============================] - ETA: 0s - loss: 0.6450 - accuracy: 0.6558WARNING:tensorflow:Early stopping conditioned on metric `val_loss` which is not available. Available metrics are: loss,accuracy\n",
      "7/7 [==============================] - 10s 1s/step - loss: 0.6450 - accuracy: 0.6558\n",
      "Epoch 17/100\n",
      "7/7 [==============================] - ETA: 0s - loss: 0.6431 - accuracy: 0.6605WARNING:tensorflow:Early stopping conditioned on metric `val_loss` which is not available. Available metrics are: loss,accuracy\n",
      "7/7 [==============================] - 10s 1s/step - loss: 0.6431 - accuracy: 0.6605\n",
      "Epoch 18/100\n",
      "7/7 [==============================] - ETA: 0s - loss: 0.6427 - accuracy: 0.7163WARNING:tensorflow:Early stopping conditioned on metric `val_loss` which is not available. Available metrics are: loss,accuracy\n",
      "7/7 [==============================] - 10s 1s/step - loss: 0.6427 - accuracy: 0.7163\n",
      "Epoch 19/100\n",
      "7/7 [==============================] - ETA: 0s - loss: 0.6479 - accuracy: 0.5628WARNING:tensorflow:Early stopping conditioned on metric `val_loss` which is not available. Available metrics are: loss,accuracy\n",
      "7/7 [==============================] - 10s 1s/step - loss: 0.6479 - accuracy: 0.5628\n",
      "Epoch 20/100\n",
      "7/7 [==============================] - ETA: 0s - loss: 0.6273 - accuracy: 0.6698WARNING:tensorflow:Early stopping conditioned on metric `val_loss` which is not available. Available metrics are: loss,accuracy\n",
      "7/7 [==============================] - 10s 1s/step - loss: 0.6273 - accuracy: 0.6698\n",
      "Epoch 21/100\n",
      "7/7 [==============================] - ETA: 0s - loss: 0.6156 - accuracy: 0.6977WARNING:tensorflow:Early stopping conditioned on metric `val_loss` which is not available. Available metrics are: loss,accuracy\n",
      "7/7 [==============================] - 10s 1s/step - loss: 0.6156 - accuracy: 0.6977\n",
      "Epoch 22/100\n",
      "7/7 [==============================] - ETA: 0s - loss: 0.6306 - accuracy: 0.6605WARNING:tensorflow:Early stopping conditioned on metric `val_loss` which is not available. Available metrics are: loss,accuracy\n",
      "7/7 [==============================] - 10s 1s/step - loss: 0.6306 - accuracy: 0.6605\n",
      "Epoch 23/100\n",
      "7/7 [==============================] - ETA: 0s - loss: 0.5869 - accuracy: 0.7116WARNING:tensorflow:Early stopping conditioned on metric `val_loss` which is not available. Available metrics are: loss,accuracy\n",
      "7/7 [==============================] - 10s 1s/step - loss: 0.5869 - accuracy: 0.7116\n",
      "Epoch 24/100\n",
      "7/7 [==============================] - ETA: 0s - loss: 0.5405 - accuracy: 0.7209WARNING:tensorflow:Early stopping conditioned on metric `val_loss` which is not available. Available metrics are: loss,accuracy\n",
      "7/7 [==============================] - 10s 1s/step - loss: 0.5405 - accuracy: 0.7209\n",
      "Epoch 25/100\n",
      "7/7 [==============================] - ETA: 0s - loss: 0.5776 - accuracy: 0.6930WARNING:tensorflow:Early stopping conditioned on metric `val_loss` which is not available. Available metrics are: loss,accuracy\n",
      "7/7 [==============================] - 10s 1s/step - loss: 0.5776 - accuracy: 0.6930\n",
      "Epoch 26/100\n",
      "7/7 [==============================] - ETA: 0s - loss: 0.5075 - accuracy: 0.7488WARNING:tensorflow:Early stopping conditioned on metric `val_loss` which is not available. Available metrics are: loss,accuracy\n",
      "7/7 [==============================] - 10s 1s/step - loss: 0.5075 - accuracy: 0.7488\n",
      "Epoch 27/100\n",
      "7/7 [==============================] - ETA: 0s - loss: 0.4715 - accuracy: 0.8047WARNING:tensorflow:Early stopping conditioned on metric `val_loss` which is not available. Available metrics are: loss,accuracy\n",
      "7/7 [==============================] - 10s 1s/step - loss: 0.4715 - accuracy: 0.8047\n",
      "Epoch 28/100\n",
      "7/7 [==============================] - ETA: 0s - loss: 0.4345 - accuracy: 0.8372WARNING:tensorflow:Early stopping conditioned on metric `val_loss` which is not available. Available metrics are: loss,accuracy\n",
      "7/7 [==============================] - 10s 1s/step - loss: 0.4345 - accuracy: 0.8372\n",
      "Epoch 29/100\n",
      "7/7 [==============================] - ETA: 0s - loss: 0.5833 - accuracy: 0.6930WARNING:tensorflow:Early stopping conditioned on metric `val_loss` which is not available. Available metrics are: loss,accuracy\n",
      "7/7 [==============================] - 10s 1s/step - loss: 0.5833 - accuracy: 0.6930\n",
      "Epoch 30/100\n",
      "7/7 [==============================] - ETA: 0s - loss: 0.4806 - accuracy: 0.7767WARNING:tensorflow:Early stopping conditioned on metric `val_loss` which is not available. Available metrics are: loss,accuracy\n",
      "7/7 [==============================] - 10s 1s/step - loss: 0.4806 - accuracy: 0.7767\n",
      "Epoch 31/100\n",
      "7/7 [==============================] - ETA: 0s - loss: 0.3835 - accuracy: 0.8651WARNING:tensorflow:Early stopping conditioned on metric `val_loss` which is not available. Available metrics are: loss,accuracy\n",
      "7/7 [==============================] - 10s 1s/step - loss: 0.3835 - accuracy: 0.8651\n",
      "Epoch 32/100\n",
      "7/7 [==============================] - ETA: 0s - loss: 0.3818 - accuracy: 0.8186WARNING:tensorflow:Early stopping conditioned on metric `val_loss` which is not available. Available metrics are: loss,accuracy\n",
      "7/7 [==============================] - 10s 1s/step - loss: 0.3818 - accuracy: 0.8186\n",
      "Epoch 33/100\n",
      "7/7 [==============================] - ETA: 0s - loss: 0.3991 - accuracy: 0.8419WARNING:tensorflow:Early stopping conditioned on metric `val_loss` which is not available. Available metrics are: loss,accuracy\n",
      "7/7 [==============================] - 10s 1s/step - loss: 0.3991 - accuracy: 0.8419\n",
      "Epoch 34/100\n",
      "7/7 [==============================] - ETA: 0s - loss: 0.2710 - accuracy: 0.8930WARNING:tensorflow:Early stopping conditioned on metric `val_loss` which is not available. Available metrics are: loss,accuracy\n",
      "7/7 [==============================] - 10s 1s/step - loss: 0.2710 - accuracy: 0.8930\n",
      "Epoch 35/100\n",
      "7/7 [==============================] - ETA: 0s - loss: 0.2899 - accuracy: 0.8791WARNING:tensorflow:Early stopping conditioned on metric `val_loss` which is not available. Available metrics are: loss,accuracy\n",
      "7/7 [==============================] - 10s 1s/step - loss: 0.2899 - accuracy: 0.8791\n",
      "Epoch 36/100\n",
      "7/7 [==============================] - ETA: 0s - loss: 0.3095 - accuracy: 0.8744WARNING:tensorflow:Early stopping conditioned on metric `val_loss` which is not available. Available metrics are: loss,accuracy\n",
      "7/7 [==============================] - 10s 1s/step - loss: 0.3095 - accuracy: 0.8744\n",
      "Epoch 37/100\n",
      "7/7 [==============================] - ETA: 0s - loss: 0.1946 - accuracy: 0.9395WARNING:tensorflow:Early stopping conditioned on metric `val_loss` which is not available. Available metrics are: loss,accuracy\n",
      "7/7 [==============================] - 10s 1s/step - loss: 0.1946 - accuracy: 0.9395\n",
      "Epoch 38/100\n",
      "7/7 [==============================] - ETA: 0s - loss: 0.1624 - accuracy: 0.9535WARNING:tensorflow:Early stopping conditioned on metric `val_loss` which is not available. Available metrics are: loss,accuracy\n",
      "7/7 [==============================] - 10s 1s/step - loss: 0.1624 - accuracy: 0.9535\n",
      "Epoch 39/100\n",
      "7/7 [==============================] - ETA: 0s - loss: 0.3074 - accuracy: 0.8605WARNING:tensorflow:Early stopping conditioned on metric `val_loss` which is not available. Available metrics are: loss,accuracy\n",
      "7/7 [==============================] - 10s 1s/step - loss: 0.3074 - accuracy: 0.8605\n",
      "Epoch 40/100\n",
      "7/7 [==============================] - ETA: 0s - loss: 0.3995 - accuracy: 0.8047WARNING:tensorflow:Early stopping conditioned on metric `val_loss` which is not available. Available metrics are: loss,accuracy\n",
      "7/7 [==============================] - 10s 1s/step - loss: 0.3995 - accuracy: 0.8047\n",
      "Epoch 41/100\n",
      "7/7 [==============================] - ETA: 0s - loss: 0.3228 - accuracy: 0.8558WARNING:tensorflow:Early stopping conditioned on metric `val_loss` which is not available. Available metrics are: loss,accuracy\n",
      "7/7 [==============================] - 10s 1s/step - loss: 0.3228 - accuracy: 0.8558\n",
      "Epoch 42/100\n",
      "7/7 [==============================] - ETA: 0s - loss: 0.2913 - accuracy: 0.8837WARNING:tensorflow:Early stopping conditioned on metric `val_loss` which is not available. Available metrics are: loss,accuracy\n",
      "7/7 [==============================] - 10s 1s/step - loss: 0.2913 - accuracy: 0.8837\n",
      "Epoch 43/100\n",
      "7/7 [==============================] - ETA: 0s - loss: 0.1951 - accuracy: 0.9163WARNING:tensorflow:Early stopping conditioned on metric `val_loss` which is not available. Available metrics are: loss,accuracy\n",
      "7/7 [==============================] - 11s 2s/step - loss: 0.1951 - accuracy: 0.9163\n",
      "Epoch 44/100\n",
      "7/7 [==============================] - ETA: 0s - loss: 0.1553 - accuracy: 0.9535WARNING:tensorflow:Early stopping conditioned on metric `val_loss` which is not available. Available metrics are: loss,accuracy\n",
      "7/7 [==============================] - 10s 1s/step - loss: 0.1553 - accuracy: 0.9535\n",
      "Epoch 45/100\n",
      "7/7 [==============================] - ETA: 0s - loss: 0.1555 - accuracy: 0.9535WARNING:tensorflow:Early stopping conditioned on metric `val_loss` which is not available. Available metrics are: loss,accuracy\n",
      "7/7 [==============================] - 10s 1s/step - loss: 0.1555 - accuracy: 0.9535\n",
      "Epoch 46/100\n",
      "7/7 [==============================] - ETA: 0s - loss: 0.1730 - accuracy: 0.9395WARNING:tensorflow:Early stopping conditioned on metric `val_loss` which is not available. Available metrics are: loss,accuracy\n",
      "7/7 [==============================] - 10s 1s/step - loss: 0.1730 - accuracy: 0.9395\n",
      "Epoch 47/100\n",
      "7/7 [==============================] - ETA: 0s - loss: 0.1735 - accuracy: 0.9302WARNING:tensorflow:Early stopping conditioned on metric `val_loss` which is not available. Available metrics are: loss,accuracy\n",
      "7/7 [==============================] - 10s 1s/step - loss: 0.1735 - accuracy: 0.9302\n",
      "Epoch 48/100\n",
      "7/7 [==============================] - ETA: 0s - loss: 0.0722 - accuracy: 0.9907WARNING:tensorflow:Early stopping conditioned on metric `val_loss` which is not available. Available metrics are: loss,accuracy\n",
      "7/7 [==============================] - 10s 1s/step - loss: 0.0722 - accuracy: 0.9907\n",
      "Epoch 49/100\n",
      "7/7 [==============================] - ETA: 0s - loss: 0.0735 - accuracy: 0.9907WARNING:tensorflow:Early stopping conditioned on metric `val_loss` which is not available. Available metrics are: loss,accuracy\n",
      "7/7 [==============================] - 10s 1s/step - loss: 0.0735 - accuracy: 0.9907\n",
      "Epoch 50/100\n",
      "7/7 [==============================] - ETA: 0s - loss: 0.0676 - accuracy: 0.9814WARNING:tensorflow:Early stopping conditioned on metric `val_loss` which is not available. Available metrics are: loss,accuracy\n",
      "7/7 [==============================] - 10s 1s/step - loss: 0.0676 - accuracy: 0.9814\n",
      "Epoch 51/100\n",
      "7/7 [==============================] - ETA: 0s - loss: 0.0744 - accuracy: 0.9721WARNING:tensorflow:Early stopping conditioned on metric `val_loss` which is not available. Available metrics are: loss,accuracy\n",
      "7/7 [==============================] - 10s 1s/step - loss: 0.0744 - accuracy: 0.9721\n",
      "Epoch 52/100\n",
      "7/7 [==============================] - ETA: 0s - loss: 0.0545 - accuracy: 0.9907WARNING:tensorflow:Early stopping conditioned on metric `val_loss` which is not available. Available metrics are: loss,accuracy\n",
      "7/7 [==============================] - 10s 1s/step - loss: 0.0545 - accuracy: 0.9907\n",
      "Epoch 53/100\n",
      "7/7 [==============================] - ETA: 0s - loss: 0.0337 - accuracy: 0.9953WARNING:tensorflow:Early stopping conditioned on metric `val_loss` which is not available. Available metrics are: loss,accuracy\n",
      "7/7 [==============================] - 10s 1s/step - loss: 0.0337 - accuracy: 0.9953\n",
      "Epoch 54/100\n",
      "7/7 [==============================] - ETA: 0s - loss: 0.0259 - accuracy: 1.0000WARNING:tensorflow:Early stopping conditioned on metric `val_loss` which is not available. Available metrics are: loss,accuracy\n",
      "7/7 [==============================] - 10s 1s/step - loss: 0.0259 - accuracy: 1.0000\n",
      "Epoch 55/100\n",
      "7/7 [==============================] - ETA: 0s - loss: 0.0249 - accuracy: 1.0000WARNING:tensorflow:Early stopping conditioned on metric `val_loss` which is not available. Available metrics are: loss,accuracy\n",
      "7/7 [==============================] - 10s 1s/step - loss: 0.0249 - accuracy: 1.0000\n",
      "Epoch 56/100\n",
      "7/7 [==============================] - ETA: 0s - loss: 0.0232 - accuracy: 1.0000WARNING:tensorflow:Early stopping conditioned on metric `val_loss` which is not available. Available metrics are: loss,accuracy\n",
      "7/7 [==============================] - 10s 1s/step - loss: 0.0232 - accuracy: 1.0000\n",
      "Epoch 57/100\n",
      "7/7 [==============================] - ETA: 0s - loss: 0.0185 - accuracy: 1.0000WARNING:tensorflow:Early stopping conditioned on metric `val_loss` which is not available. Available metrics are: loss,accuracy\n",
      "7/7 [==============================] - 10s 1s/step - loss: 0.0185 - accuracy: 1.0000\n",
      "Epoch 58/100\n",
      "7/7 [==============================] - ETA: 0s - loss: 0.0155 - accuracy: 1.0000WARNING:tensorflow:Early stopping conditioned on metric `val_loss` which is not available. Available metrics are: loss,accuracy\n",
      "7/7 [==============================] - 10s 1s/step - loss: 0.0155 - accuracy: 1.0000\n",
      "Epoch 59/100\n",
      "7/7 [==============================] - ETA: 0s - loss: 0.0144 - accuracy: 1.0000WARNING:tensorflow:Early stopping conditioned on metric `val_loss` which is not available. Available metrics are: loss,accuracy\n",
      "7/7 [==============================] - 10s 1s/step - loss: 0.0144 - accuracy: 1.0000\n",
      "Epoch 60/100\n",
      "7/7 [==============================] - ETA: 0s - loss: 0.0128 - accuracy: 1.0000WARNING:tensorflow:Early stopping conditioned on metric `val_loss` which is not available. Available metrics are: loss,accuracy\n",
      "7/7 [==============================] - 10s 1s/step - loss: 0.0128 - accuracy: 1.0000\n",
      "Epoch 61/100\n",
      "7/7 [==============================] - ETA: 0s - loss: 0.0121 - accuracy: 1.0000WARNING:tensorflow:Early stopping conditioned on metric `val_loss` which is not available. Available metrics are: loss,accuracy\n",
      "7/7 [==============================] - 10s 1s/step - loss: 0.0121 - accuracy: 1.0000\n",
      "Epoch 62/100\n",
      "7/7 [==============================] - ETA: 0s - loss: 0.0100 - accuracy: 1.0000WARNING:tensorflow:Early stopping conditioned on metric `val_loss` which is not available. Available metrics are: loss,accuracy\n",
      "7/7 [==============================] - 10s 1s/step - loss: 0.0100 - accuracy: 1.0000\n",
      "Epoch 63/100\n",
      "7/7 [==============================] - ETA: 0s - loss: 0.0100 - accuracy: 1.0000WARNING:tensorflow:Early stopping conditioned on metric `val_loss` which is not available. Available metrics are: loss,accuracy\n",
      "7/7 [==============================] - 10s 1s/step - loss: 0.0100 - accuracy: 1.0000\n",
      "Epoch 64/100\n",
      "7/7 [==============================] - ETA: 0s - loss: 0.0088 - accuracy: 1.0000WARNING:tensorflow:Early stopping conditioned on metric `val_loss` which is not available. Available metrics are: loss,accuracy\n",
      "7/7 [==============================] - 10s 1s/step - loss: 0.0088 - accuracy: 1.0000\n",
      "Epoch 65/100\n",
      "7/7 [==============================] - ETA: 0s - loss: 0.0083 - accuracy: 1.0000WARNING:tensorflow:Early stopping conditioned on metric `val_loss` which is not available. Available metrics are: loss,accuracy\n",
      "7/7 [==============================] - 10s 1s/step - loss: 0.0083 - accuracy: 1.0000\n",
      "Epoch 66/100\n",
      "7/7 [==============================] - ETA: 0s - loss: 0.0080 - accuracy: 1.0000WARNING:tensorflow:Early stopping conditioned on metric `val_loss` which is not available. Available metrics are: loss,accuracy\n",
      "7/7 [==============================] - 10s 1s/step - loss: 0.0080 - accuracy: 1.0000\n",
      "Epoch 67/100\n",
      "7/7 [==============================] - ETA: 0s - loss: 0.0074 - accuracy: 1.0000WARNING:tensorflow:Early stopping conditioned on metric `val_loss` which is not available. Available metrics are: loss,accuracy\n",
      "7/7 [==============================] - 10s 1s/step - loss: 0.0074 - accuracy: 1.0000\n",
      "Epoch 68/100\n",
      "7/7 [==============================] - ETA: 0s - loss: 0.0072 - accuracy: 1.0000WARNING:tensorflow:Early stopping conditioned on metric `val_loss` which is not available. Available metrics are: loss,accuracy\n",
      "7/7 [==============================] - 10s 1s/step - loss: 0.0072 - accuracy: 1.0000\n",
      "Epoch 69/100\n",
      "7/7 [==============================] - ETA: 0s - loss: 0.0071 - accuracy: 1.0000WARNING:tensorflow:Early stopping conditioned on metric `val_loss` which is not available. Available metrics are: loss,accuracy\n",
      "7/7 [==============================] - 10s 1s/step - loss: 0.0071 - accuracy: 1.0000\n",
      "Epoch 70/100\n",
      "7/7 [==============================] - ETA: 0s - loss: 0.0061 - accuracy: 1.0000WARNING:tensorflow:Early stopping conditioned on metric `val_loss` which is not available. Available metrics are: loss,accuracy\n",
      "7/7 [==============================] - 10s 1s/step - loss: 0.0061 - accuracy: 1.0000\n",
      "Epoch 71/100\n",
      "7/7 [==============================] - ETA: 0s - loss: 0.0057 - accuracy: 1.0000WARNING:tensorflow:Early stopping conditioned on metric `val_loss` which is not available. Available metrics are: loss,accuracy\n",
      "7/7 [==============================] - 10s 1s/step - loss: 0.0057 - accuracy: 1.0000\n",
      "Epoch 72/100\n",
      "7/7 [==============================] - ETA: 0s - loss: 0.0056 - accuracy: 1.0000WARNING:tensorflow:Early stopping conditioned on metric `val_loss` which is not available. Available metrics are: loss,accuracy\n",
      "7/7 [==============================] - 10s 1s/step - loss: 0.0056 - accuracy: 1.0000\n",
      "Epoch 73/100\n",
      "7/7 [==============================] - ETA: 0s - loss: 0.0051 - accuracy: 1.0000WARNING:tensorflow:Early stopping conditioned on metric `val_loss` which is not available. Available metrics are: loss,accuracy\n",
      "7/7 [==============================] - 11s 2s/step - loss: 0.0051 - accuracy: 1.0000\n",
      "Epoch 74/100\n",
      "7/7 [==============================] - ETA: 0s - loss: 0.0048 - accuracy: 1.0000WARNING:tensorflow:Early stopping conditioned on metric `val_loss` which is not available. Available metrics are: loss,accuracy\n",
      "7/7 [==============================] - 11s 2s/step - loss: 0.0048 - accuracy: 1.0000\n",
      "Epoch 75/100\n",
      "7/7 [==============================] - ETA: 0s - loss: 0.0048 - accuracy: 1.0000WARNING:tensorflow:Early stopping conditioned on metric `val_loss` which is not available. Available metrics are: loss,accuracy\n",
      "7/7 [==============================] - 11s 1s/step - loss: 0.0048 - accuracy: 1.0000\n",
      "Epoch 76/100\n",
      "7/7 [==============================] - ETA: 0s - loss: 0.0046 - accuracy: 1.0000WARNING:tensorflow:Early stopping conditioned on metric `val_loss` which is not available. Available metrics are: loss,accuracy\n",
      "7/7 [==============================] - 10s 2s/step - loss: 0.0046 - accuracy: 1.0000\n",
      "Epoch 77/100\n",
      "7/7 [==============================] - ETA: 0s - loss: 0.0044 - accuracy: 1.0000WARNING:tensorflow:Early stopping conditioned on metric `val_loss` which is not available. Available metrics are: loss,accuracy\n",
      "7/7 [==============================] - 10s 1s/step - loss: 0.0044 - accuracy: 1.0000\n",
      "Epoch 78/100\n",
      "7/7 [==============================] - ETA: 0s - loss: 0.0040 - accuracy: 1.0000WARNING:tensorflow:Early stopping conditioned on metric `val_loss` which is not available. Available metrics are: loss,accuracy\n",
      "7/7 [==============================] - 10s 1s/step - loss: 0.0040 - accuracy: 1.0000\n",
      "Epoch 79/100\n",
      "7/7 [==============================] - ETA: 0s - loss: 0.0038 - accuracy: 1.0000WARNING:tensorflow:Early stopping conditioned on metric `val_loss` which is not available. Available metrics are: loss,accuracy\n",
      "7/7 [==============================] - 10s 1s/step - loss: 0.0038 - accuracy: 1.0000\n",
      "Epoch 80/100\n",
      "7/7 [==============================] - ETA: 0s - loss: 0.0036 - accuracy: 1.0000WARNING:tensorflow:Early stopping conditioned on metric `val_loss` which is not available. Available metrics are: loss,accuracy\n",
      "7/7 [==============================] - 10s 1s/step - loss: 0.0036 - accuracy: 1.0000\n",
      "Epoch 81/100\n",
      "7/7 [==============================] - ETA: 0s - loss: 0.0035 - accuracy: 1.0000WARNING:tensorflow:Early stopping conditioned on metric `val_loss` which is not available. Available metrics are: loss,accuracy\n",
      "7/7 [==============================] - 10s 1s/step - loss: 0.0035 - accuracy: 1.0000\n",
      "Epoch 82/100\n",
      "7/7 [==============================] - ETA: 0s - loss: 0.0034 - accuracy: 1.0000WARNING:tensorflow:Early stopping conditioned on metric `val_loss` which is not available. Available metrics are: loss,accuracy\n",
      "7/7 [==============================] - 10s 1s/step - loss: 0.0034 - accuracy: 1.0000\n",
      "Epoch 83/100\n",
      "7/7 [==============================] - ETA: 0s - loss: 0.0034 - accuracy: 1.0000WARNING:tensorflow:Early stopping conditioned on metric `val_loss` which is not available. Available metrics are: loss,accuracy\n",
      "7/7 [==============================] - 10s 1s/step - loss: 0.0034 - accuracy: 1.0000\n",
      "Epoch 84/100\n",
      "7/7 [==============================] - ETA: 0s - loss: 0.0031 - accuracy: 1.0000WARNING:tensorflow:Early stopping conditioned on metric `val_loss` which is not available. Available metrics are: loss,accuracy\n",
      "7/7 [==============================] - 10s 1s/step - loss: 0.0031 - accuracy: 1.0000\n",
      "Epoch 85/100\n",
      "7/7 [==============================] - ETA: 0s - loss: 0.0030 - accuracy: 1.0000WARNING:tensorflow:Early stopping conditioned on metric `val_loss` which is not available. Available metrics are: loss,accuracy\n",
      "7/7 [==============================] - 10s 1s/step - loss: 0.0030 - accuracy: 1.0000\n",
      "Epoch 86/100\n",
      "7/7 [==============================] - ETA: 0s - loss: 0.0029 - accuracy: 1.0000WARNING:tensorflow:Early stopping conditioned on metric `val_loss` which is not available. Available metrics are: loss,accuracy\n",
      "7/7 [==============================] - 10s 1s/step - loss: 0.0029 - accuracy: 1.0000\n",
      "Epoch 87/100\n",
      "7/7 [==============================] - ETA: 0s - loss: 0.0028 - accuracy: 1.0000WARNING:tensorflow:Early stopping conditioned on metric `val_loss` which is not available. Available metrics are: loss,accuracy\n",
      "7/7 [==============================] - 10s 1s/step - loss: 0.0028 - accuracy: 1.0000\n",
      "Epoch 88/100\n",
      "7/7 [==============================] - ETA: 0s - loss: 0.0027 - accuracy: 1.0000WARNING:tensorflow:Early stopping conditioned on metric `val_loss` which is not available. Available metrics are: loss,accuracy\n",
      "7/7 [==============================] - 10s 1s/step - loss: 0.0027 - accuracy: 1.0000\n",
      "Epoch 89/100\n",
      "7/7 [==============================] - ETA: 0s - loss: 0.0026 - accuracy: 1.0000WARNING:tensorflow:Early stopping conditioned on metric `val_loss` which is not available. Available metrics are: loss,accuracy\n",
      "7/7 [==============================] - 10s 1s/step - loss: 0.0026 - accuracy: 1.0000\n",
      "Epoch 90/100\n",
      "7/7 [==============================] - ETA: 0s - loss: 0.0025 - accuracy: 1.0000WARNING:tensorflow:Early stopping conditioned on metric `val_loss` which is not available. Available metrics are: loss,accuracy\n",
      "7/7 [==============================] - 10s 1s/step - loss: 0.0025 - accuracy: 1.0000\n",
      "Epoch 91/100\n",
      "7/7 [==============================] - ETA: 0s - loss: 0.0024 - accuracy: 1.0000WARNING:tensorflow:Early stopping conditioned on metric `val_loss` which is not available. Available metrics are: loss,accuracy\n",
      "7/7 [==============================] - 10s 1s/step - loss: 0.0024 - accuracy: 1.0000\n",
      "Epoch 92/100\n",
      "7/7 [==============================] - ETA: 0s - loss: 0.0024 - accuracy: 1.0000WARNING:tensorflow:Early stopping conditioned on metric `val_loss` which is not available. Available metrics are: loss,accuracy\n",
      "7/7 [==============================] - 10s 2s/step - loss: 0.0024 - accuracy: 1.0000\n",
      "Epoch 93/100\n",
      "7/7 [==============================] - ETA: 0s - loss: 0.0023 - accuracy: 1.0000WARNING:tensorflow:Early stopping conditioned on metric `val_loss` which is not available. Available metrics are: loss,accuracy\n",
      "7/7 [==============================] - 11s 2s/step - loss: 0.0023 - accuracy: 1.0000\n",
      "Epoch 94/100\n",
      "7/7 [==============================] - ETA: 0s - loss: 0.0022 - accuracy: 1.0000WARNING:tensorflow:Early stopping conditioned on metric `val_loss` which is not available. Available metrics are: loss,accuracy\n",
      "7/7 [==============================] - 11s 2s/step - loss: 0.0022 - accuracy: 1.0000\n",
      "Epoch 95/100\n",
      "7/7 [==============================] - ETA: 0s - loss: 0.0021 - accuracy: 1.0000WARNING:tensorflow:Early stopping conditioned on metric `val_loss` which is not available. Available metrics are: loss,accuracy\n",
      "7/7 [==============================] - 11s 2s/step - loss: 0.0021 - accuracy: 1.0000\n",
      "Epoch 96/100\n",
      "7/7 [==============================] - ETA: 0s - loss: 0.0021 - accuracy: 1.0000WARNING:tensorflow:Early stopping conditioned on metric `val_loss` which is not available. Available metrics are: loss,accuracy\n",
      "7/7 [==============================] - 11s 2s/step - loss: 0.0021 - accuracy: 1.0000\n",
      "Epoch 97/100\n",
      "7/7 [==============================] - ETA: 0s - loss: 0.0020 - accuracy: 1.0000WARNING:tensorflow:Early stopping conditioned on metric `val_loss` which is not available. Available metrics are: loss,accuracy\n",
      "7/7 [==============================] - 11s 2s/step - loss: 0.0020 - accuracy: 1.0000\n",
      "Epoch 98/100\n",
      "7/7 [==============================] - ETA: 0s - loss: 0.0020 - accuracy: 1.0000WARNING:tensorflow:Early stopping conditioned on metric `val_loss` which is not available. Available metrics are: loss,accuracy\n",
      "7/7 [==============================] - 11s 2s/step - loss: 0.0020 - accuracy: 1.0000\n",
      "Epoch 99/100\n",
      "7/7 [==============================] - ETA: 0s - loss: 0.0019 - accuracy: 1.0000WARNING:tensorflow:Early stopping conditioned on metric `val_loss` which is not available. Available metrics are: loss,accuracy\n",
      "7/7 [==============================] - 11s 2s/step - loss: 0.0019 - accuracy: 1.0000\n",
      "Epoch 100/100\n",
      "7/7 [==============================] - ETA: 0s - loss: 0.0018 - accuracy: 1.0000WARNING:tensorflow:Early stopping conditioned on metric `val_loss` which is not available. Available metrics are: loss,accuracy\n",
      "7/7 [==============================] - 11s 2s/step - loss: 0.0018 - accuracy: 1.0000\n"
     ]
    }
   ],
   "source": [
    "historico = network1.fit(X_train, y_train, epochs=epochs, callbacks=callbacks_list) # Treina a rede neural"
   ]
  },
  {
   "attachments": {},
   "cell_type": "markdown",
   "metadata": {},
   "source": [
    "- Avaliação da rede neural"
   ]
  },
  {
   "cell_type": "code",
   "execution_count": 19,
   "metadata": {},
   "outputs": [
    {
     "data": {
      "text/plain": [
       "dict_keys(['loss', 'accuracy'])"
      ]
     },
     "execution_count": 19,
     "metadata": {},
     "output_type": "execute_result"
    }
   ],
   "source": [
    "historico.history.keys()"
   ]
  },
  {
   "cell_type": "code",
   "execution_count": 20,
   "metadata": {},
   "outputs": [],
   "source": [
    "# criação da pasta para salvar os plots de treinamento\n",
    "layers = len(network1.layers)\n",
    "path = f'./plots_{epochs}_epocas_{layers}_camadas'\n",
    "if not os.path.exists(path):\n",
    "    os.makedirs(path, exist_ok=True)\n"
   ]
  },
  {
   "attachments": {},
   "cell_type": "markdown",
   "metadata": {},
   "source": [
    "- Plot dos valores de erro"
   ]
  },
  {
   "cell_type": "code",
   "execution_count": 21,
   "metadata": {},
   "outputs": [
    {
     "data": {
      "image/png": "[encoded data removed]",
      "text/plain": [
       "<Figure size 640x480 with 1 Axes>"
      ]
     },
     "metadata": {},
     "output_type": "display_data"
    }
   ],
   "source": [
    "plt.plot(historico.history['loss']);\n",
    "plt.xlabel('Época');\n",
    "plt.ylabel('Loss');\n",
    "plt.title('Loss vs Época');\n",
    "plt.legend(['Loss']);\n",
    "plt.savefig(f'{path}/loss_vs_epoca.png')\n",
    "plt.show();"
   ]
  },
  {
   "attachments": {},
   "cell_type": "markdown",
   "metadata": {},
   "source": [
    "- Plot da acurácia que é a porcentagem de acerto"
   ]
  },
  {
   "cell_type": "code",
   "execution_count": 22,
   "metadata": {},
   "outputs": [
    {
     "data": {
      "image/png": "[encoded data removed]",
      "text/plain": [
       "<Figure size 640x480 with 1 Axes>"
      ]
     },
     "metadata": {},
     "output_type": "display_data"
    }
   ],
   "source": [
    "plt.plot(historico.history['accuracy']);\n",
    "plt.xlabel('Época');\n",
    "plt.ylabel('Acurácia');\n",
    "plt.title('Acurácia vs Época');\n",
    "plt.legend(['Acurácia']);\n",
    "plt.savefig(f'{path}/acuracia_vs_epoca.png')\n",
    "plt.show();"
   ]
  },
  {
   "attachments": {},
   "cell_type": "markdown",
   "metadata": {},
   "source": [
    "- o predict faz a previsão da imagem de teste"
   ]
  },
  {
   "cell_type": "code",
   "execution_count": 23,
   "metadata": {},
   "outputs": [
    {
     "name": "stdout",
     "output_type": "stream",
     "text": [
      "2/2 [==============================] - 0s 53ms/step\n"
     ]
    },
    {
     "data": {
      "text/plain": [
       "array([[0.99942034],\n",
       "       [0.00375725],\n",
       "       [0.9997075 ],\n",
       "       [0.99768156],\n",
       "       [0.41748807],\n",
       "       [0.9992256 ],\n",
       "       [0.00383092],\n",
       "       [0.11460526],\n",
       "       [0.86660105],\n",
       "       [0.19137695],\n",
       "       [0.9986068 ],\n",
       "       [0.00375725],\n",
       "       [0.14561968],\n",
       "       [0.48836717],\n",
       "       [0.9909717 ],\n",
       "       [0.9985363 ],\n",
       "       [0.9557417 ],\n",
       "       [0.49112874],\n",
       "       [0.99623936],\n",
       "       [0.9998051 ],\n",
       "       [0.99990386],\n",
       "       [0.584449  ],\n",
       "       [0.99907684],\n",
       "       [0.9500734 ],\n",
       "       [0.99738747],\n",
       "       [0.08933103],\n",
       "       [0.9996177 ],\n",
       "       [0.99917597],\n",
       "       [0.98880345],\n",
       "       [0.024893  ],\n",
       "       [0.8773203 ],\n",
       "       [0.00382431],\n",
       "       [0.15902197],\n",
       "       [0.99980587],\n",
       "       [0.00383418],\n",
       "       [0.99951166],\n",
       "       [0.69033504],\n",
       "       [0.9993195 ],\n",
       "       [0.98126405],\n",
       "       [0.99962056],\n",
       "       [0.02129142],\n",
       "       [0.11349736],\n",
       "       [0.9982725 ],\n",
       "       [0.9994886 ],\n",
       "       [0.9992249 ],\n",
       "       [0.95916915],\n",
       "       [0.02122899],\n",
       "       [0.9992395 ],\n",
       "       [0.98177844],\n",
       "       [0.00379878],\n",
       "       [0.99992776],\n",
       "       [0.13575332],\n",
       "       [0.03025679],\n",
       "       [0.83883274]], dtype=float32)"
      ]
     },
     "execution_count": 23,
     "metadata": {},
     "output_type": "execute_result"
    }
   ],
   "source": [
    "previsao = network1.predict(X_test)\n",
    "previsao"
   ]
  },
  {
   "attachments": {},
   "cell_type": "markdown",
   "metadata": {},
   "source": [
    "- 0 false Homer\n",
    "- 1 true Bart"
   ]
  },
  {
   "cell_type": "code",
   "execution_count": 24,
   "metadata": {},
   "outputs": [
    {
     "name": "stdout",
     "output_type": "stream",
     "text": [
      "Homer - Bart\n",
      "Bart - Homer\n",
      "Homer - Bart\n",
      "Homer - Bart\n",
      "Bart - Bart\n",
      "Homer - Homer\n",
      "Bart - Bart\n",
      "Bart - Bart\n",
      "Homer - Bart\n",
      "Bart - Bart\n",
      "Homer - Bart\n",
      "Bart - Homer\n",
      "Bart - Homer\n",
      "Bart - Bart\n",
      "Homer - Homer\n",
      "Homer - Homer\n",
      "Homer - Homer\n",
      "Bart - Homer\n",
      "Homer - Bart\n",
      "Homer - Bart\n",
      "Homer - Bart\n",
      "Homer - Homer\n",
      "Homer - Bart\n",
      "Homer - Bart\n",
      "Homer - Bart\n",
      "Bart - Homer\n",
      "Homer - Bart\n",
      "Homer - Bart\n",
      "Homer - Homer\n",
      "Bart - Homer\n",
      "Homer - Homer\n",
      "Bart - Homer\n",
      "Bart - Homer\n",
      "Homer - Homer\n",
      "Bart - Homer\n",
      "Homer - Homer\n",
      "Homer - Bart\n",
      "Homer - Bart\n",
      "Homer - Bart\n",
      "Homer - Bart\n",
      "Bart - Homer\n",
      "Bart - Homer\n",
      "Homer - Bart\n",
      "Homer - Bart\n",
      "Homer - Bart\n",
      "Homer - Homer\n",
      "Bart - Homer\n",
      "Homer - Bart\n",
      "Homer - Bart\n",
      "Bart - Homer\n",
      "Homer - Bart\n",
      "Bart - Homer\n",
      "Bart - Homer\n",
      "Homer - Homer\n"
     ]
    }
   ],
   "source": [
    "# Se a previsão for maior que 0.5, então é Homer, caso contrário é Bart\n",
    "previsao = (previsao > 0.5)\n",
    "previsao\n",
    "for i in range(len(previsao)):\n",
    "    if previsao[i] == True:\n",
    "        print(f\"Homer - {'Homer' if y_test[i] == 0 else 'Bart'}\") \n",
    "    else:\n",
    "        print(f\"Bart - {'Homer' if y_test[i] == 0 else 'Bart'}\")   \n",
    "        # melhorar saida"
   ]
  },
  {
   "cell_type": "code",
   "execution_count": 25,
   "metadata": {},
   "outputs": [
    {
     "data": {
      "text/plain": [
       "array([1, 0, 1, 1, 1, 0, 1, 1, 1, 1, 1, 0, 0, 1, 0, 0, 0, 0, 1, 1, 1, 0,\n",
       "       1, 1, 1, 0, 1, 1, 0, 0, 0, 0, 0, 0, 0, 0, 1, 1, 1, 1, 0, 0, 1, 1,\n",
       "       1, 0, 0, 1, 1, 0, 1, 0, 0, 0])"
      ]
     },
     "execution_count": 25,
     "metadata": {},
     "output_type": "execute_result"
    }
   ],
   "source": [
    "y_test"
   ]
  },
  {
   "attachments": {},
   "cell_type": "markdown",
   "metadata": {},
   "source": [
    "- acuracy mede a probabilidade de acerto da rede neural"
   ]
  },
  {
   "cell_type": "code",
   "execution_count": 26,
   "metadata": {},
   "outputs": [
    {
     "data": {
      "text/plain": [
       "0.7037037037037037"
      ]
     },
     "execution_count": 26,
     "metadata": {},
     "output_type": "execute_result"
    }
   ],
   "source": [
    "# salvar acuracia em um arquivo txt\n",
    "arq = open(f'{path}/accuracy.txt', \"w\")\n",
    "arq.write(str(accuracy_score(y_test, previsao)))\n",
    "arq.close()\n",
    "\n",
    "accuracy_score(y_test, previsao)"
   ]
  },
  {
   "cell_type": "code",
   "execution_count": 27,
   "metadata": {},
   "outputs": [
    {
     "data": {
      "text/plain": [
       "array([[15, 11],\n",
       "       [ 5, 23]], dtype=int64)"
      ]
     },
     "execution_count": 27,
     "metadata": {},
     "output_type": "execute_result"
    }
   ],
   "source": [
    "cm = confusion_matrix(y_test, previsao)\n",
    "cm"
   ]
  },
  {
   "cell_type": "code",
   "execution_count": 28,
   "metadata": {},
   "outputs": [
    {
     "data": {
      "image/png": "[encoded data removed]",
      "text/plain": [
       "<Figure size 640x480 with 2 Axes>"
      ]
     },
     "metadata": {},
     "output_type": "display_data"
    }
   ],
   "source": [
    "#salvar matriz de confusão\n",
    "sns.heatmap(cm, annot=True, fmt='d',);\n",
    "plt.savefig(f'{path}/matriz_confusao.png')\n",
    "plt.show();"
   ]
  },
  {
   "cell_type": "code",
   "execution_count": 29,
   "metadata": {},
   "outputs": [
    {
     "name": "stdout",
     "output_type": "stream",
     "text": [
      "              precision    recall  f1-score   support\n",
      "\n",
      "           0       0.75      0.58      0.65        26\n",
      "           1       0.68      0.82      0.74        28\n",
      "\n",
      "    accuracy                           0.70        54\n",
      "   macro avg       0.71      0.70      0.70        54\n",
      "weighted avg       0.71      0.70      0.70        54\n",
      "\n"
     ]
    }
   ],
   "source": [
    "print(classification_report(y_test, previsao))"
   ]
  },
  {
   "attachments": {},
   "cell_type": "markdown",
   "metadata": {},
   "source": [
    "- Salvar e carregar o modelo treinado "
   ]
  },
  {
   "cell_type": "code",
   "execution_count": 30,
   "metadata": {},
   "outputs": [],
   "source": [
    "# Carrega o modelo\n",
    "model_json = network1.to_json()\n",
    "with open(f\"{path}/model.json\", \"w\") as json_file:\n",
    "    json_file.write(model_json)"
   ]
  },
  {
   "cell_type": "code",
   "execution_count": 31,
   "metadata": {},
   "outputs": [],
   "source": [
    "# Salvar modelo\n",
    "network1_saved = save_model(network1, f\"{path}/weights1.hdf5\")"
   ]
  },
  {
   "cell_type": "code",
   "execution_count": 32,
   "metadata": {},
   "outputs": [
    {
     "data": {
      "text/plain": [
       "'{\"class_name\": \"Sequential\", \"config\": {\"name\": \"sequential\", \"layers\": [{\"class_name\": \"InputLayer\", \"config\": {\"batch_input_shape\": [null, 16384], \"dtype\": \"float32\", \"sparse\": false, \"ragged\": false, \"name\": \"dense_input\"}}, {\"class_name\": \"Dense\", \"config\": {\"name\": \"dense\", \"trainable\": true, \"dtype\": \"float32\", \"batch_input_shape\": [null, 16384], \"units\": 8193, \"activation\": \"relu\", \"use_bias\": true, \"kernel_initializer\": {\"class_name\": \"GlorotUniform\", \"config\": {\"seed\": null}}, \"bias_initializer\": {\"class_name\": \"Zeros\", \"config\": {}}, \"kernel_regularizer\": null, \"bias_regularizer\": null, \"activity_regularizer\": null, \"kernel_constraint\": null, \"bias_constraint\": null}}, {\"class_name\": \"Dense\", \"config\": {\"name\": \"dense_1\", \"trainable\": true, \"dtype\": \"float32\", \"units\": 8193, \"activation\": \"relu\", \"use_bias\": true, \"kernel_initializer\": {\"class_name\": \"GlorotUniform\", \"config\": {\"seed\": null}}, \"bias_initializer\": {\"class_name\": \"Zeros\", \"config\": {}}, \"kernel_regularizer\": null, \"bias_regularizer\": null, \"activity_regularizer\": null, \"kernel_constraint\": null, \"bias_constraint\": null}}, {\"class_name\": \"Dense\", \"config\": {\"name\": \"dense_2\", \"trainable\": true, \"dtype\": \"float32\", \"units\": 1, \"activation\": \"sigmoid\", \"use_bias\": true, \"kernel_initializer\": {\"class_name\": \"GlorotUniform\", \"config\": {\"seed\": null}}, \"bias_initializer\": {\"class_name\": \"Zeros\", \"config\": {}}, \"kernel_regularizer\": null, \"bias_regularizer\": null, \"activity_regularizer\": null, \"kernel_constraint\": null, \"bias_constraint\": null}}]}, \"keras_version\": \"2.12.0\", \"backend\": \"tensorflow\"}'"
      ]
     },
     "execution_count": 32,
     "metadata": {},
     "output_type": "execute_result"
    }
   ],
   "source": [
    "with open(f'{path}/model.json', 'r') as json_file:\n",
    "    json_savedModel= json_file.read()\n",
    "json_savedModel    "
   ]
  },
  {
   "cell_type": "code",
   "execution_count": 33,
   "metadata": {},
   "outputs": [],
   "source": [
    "network1_loaded = tf.keras.models.model_from_json(json_savedModel)\n",
    "network1_loaded.load_weights(f'{path}/weights1.hdf5')\n",
    "network1_loaded.compile(optimizer='adam', loss='binary_crossentropy', metrics=['accuracy'])"
   ]
  },
  {
   "cell_type": "code",
   "execution_count": 34,
   "metadata": {},
   "outputs": [
    {
     "name": "stdout",
     "output_type": "stream",
     "text": [
      "Model: \"sequential\"\n",
      "_________________________________________________________________\n",
      " Layer (type)                Output Shape              Param #   \n",
      "=================================================================\n",
      " dense (Dense)               (None, 8193)              134242305 \n",
      "                                                                 \n",
      " dense_1 (Dense)             (None, 8193)              67133442  \n",
      "                                                                 \n",
      " dense_2 (Dense)             (None, 1)                 8194      \n",
      "                                                                 \n",
      "=================================================================\n",
      "Total params: 201,383,941\n",
      "Trainable params: 201,383,941\n",
      "Non-trainable params: 0\n",
      "_________________________________________________________________\n"
     ]
    }
   ],
   "source": [
    "network1_loaded.summary()"
   ]
  }
 ],
 "metadata": {
  "kernelspec": {
   "display_name": "base",
   "language": "python",
   "name": "python3"
  },
  "language_info": {
   "codemirror_mode": {
    "name": "ipython",
    "version": 3
   },
   "file_extension": ".py",
   "mimetype": "text/x-python",
   "name": "python",
   "nbconvert_exporter": "python",
   "pygments_lexer": "ipython3",
   "version": "3.8.10"
  },
  "orig_nbformat": 4
 },
 "nbformat": 4,
 "nbformat_minor": 2
}
