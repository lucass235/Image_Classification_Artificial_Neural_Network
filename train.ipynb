{
 "cells": [
  {
   "attachments": {},
   "cell_type": "markdown",
   "metadata": {},
   "source": [
    "# Classificação de imagem com rede neural artificial"
   ]
  },
  {
   "cell_type": "code",
   "execution_count": 1,
   "metadata": {},
   "outputs": [
    {
     "data": {
      "text/plain": [
       "'2.12.0'"
      ]
     },
     "execution_count": 1,
     "metadata": {},
     "output_type": "execute_result"
    }
   ],
   "source": [
    "import cv2\n",
    "import numpy as np\n",
    "import os \n",
    "import tensorflow as tf # Deep Learning\n",
    "import pandas as pd # Manipulação de dados\n",
    "import seaborn as sns # Visualização de dados\n",
    "import matplotlib.pyplot as plt # Visualização de dados\n",
    "import PIL # Manipulação de imagens\n",
    "from sklearn.preprocessing import MinMaxScaler\n",
    "from sklearn.metrics import accuracy_score, confusion_matrix, classification_report\n",
    "from keras.models import save_model\n",
    "from keras.callbacks import EarlyStopping\n",
    "tf.__version__"
   ]
  },
  {
   "attachments": {},
   "cell_type": "markdown",
   "metadata": {},
   "source": [
    "- Definindo caminho das imagens na variável arquivos"
   ]
  },
  {
   "cell_type": "code",
   "execution_count": 2,
   "metadata": {},
   "outputs": [],
   "source": [
    "diretorio = \"./data/homer_bart_1\"\n",
    "arquivos = [os.path.join(diretorio, arquivo) for arquivo in sorted(os.listdir(diretorio))]"
   ]
  },
  {
   "attachments": {},
   "cell_type": "markdown",
   "metadata": {},
   "source": [
    "- Precisamos definir o tamanho das imagens único para todas 128x128"
   ]
  },
  {
   "cell_type": "code",
   "execution_count": 3,
   "metadata": {},
   "outputs": [],
   "source": [
    "largura, altura = 128, 128"
   ]
  },
  {
   "attachments": {},
   "cell_type": "markdown",
   "metadata": {},
   "source": [
    "- Variável imagens para armazenar as imagens em formato de array\n",
    "- Variável classes para armazenar as classes das imagens 0 -> Homer, 1 -> Bart"
   ]
  },
  {
   "cell_type": "code",
   "execution_count": 4,
   "metadata": {},
   "outputs": [],
   "source": [
    "imagens = []\n",
    "classes = []"
   ]
  },
  {
   "attachments": {},
   "cell_type": "markdown",
   "metadata": {},
   "source": [
    "- Extração dos pixels das imagens"
   ]
  },
  {
   "attachments": {},
   "cell_type": "markdown",
   "metadata": {},
   "source": [
    "- Nesse bloco de código, estamos lendo as imagens, ajustando o seu tamanho, convertendo para escala de cinza, convertendo para array e adicionando na variável imagens.\n",
    "- No finalzinho estamos pegando o nome referente a identificação da imagem e adicionando na variável classes para identificar a classe da imagem."
   ]
  },
  {
   "cell_type": "code",
   "execution_count": 5,
   "metadata": {},
   "outputs": [],
   "source": [
    "for arquivo in arquivos:\n",
    "    try:\n",
    "        imagem = cv2.imread(arquivo)\n",
    "        (H, W) = imagem.shape[:2] # Altura e largura da imagem\n",
    "    except:\n",
    "        continue\n",
    "    imagem = cv2.resize(imagem, (largura, altura)) # Redimensiona a imagem\n",
    "    imagem = cv2.cvtColor(imagem, cv2.COLOR_BGR2GRAY) # Converte a imagem para tons de cinza\n",
    "    imagem = imagem.ravel() # Converte a imagem para um vetor\n",
    "    imagens.append(imagem) # Adiciona a imagem na lista de imagens\n",
    "    nome_imagem = arquivo.split(os.path.sep)[-1] # Pega o nome da imagem\n",
    "    if \"homer\" in nome_imagem:\n",
    "        classes.append(0)\n",
    "    else:\n",
    "        classes.append(1)            "
   ]
  },
  {
   "attachments": {},
   "cell_type": "markdown",
   "metadata": {},
   "source": [
    "- Convertendo as imagens em array e suas respectivas classes em array numpy"
   ]
  },
  {
   "cell_type": "code",
   "execution_count": 6,
   "metadata": {},
   "outputs": [],
   "source": [
    "X = np.array(imagens)\n",
    "y = np.array(classes)"
   ]
  },
  {
   "cell_type": "code",
   "execution_count": 7,
   "metadata": {},
   "outputs": [
    {
     "data": {
      "text/plain": [
       "((269, 16384), (269,))"
      ]
     },
     "execution_count": 7,
     "metadata": {},
     "output_type": "execute_result"
    }
   ],
   "source": [
    "X.shape, y.shape"
   ]
  },
  {
   "attachments": {},
   "cell_type": "markdown",
   "metadata": {},
   "source": [
    "- Normalização dos dados"
   ]
  },
  {
   "cell_type": "code",
   "execution_count": 8,
   "metadata": {},
   "outputs": [
    {
     "data": {
      "text/plain": [
       "(255, 0)"
      ]
     },
     "execution_count": 8,
     "metadata": {},
     "output_type": "execute_result"
    }
   ],
   "source": [
    "X[0].max(), X[0].min()"
   ]
  },
  {
   "attachments": {},
   "cell_type": "markdown",
   "metadata": {},
   "source": [
    "- Pegamos os 256 pixes e fizemos a normalização entre 0 e 1 onde 1 é a cor branca e 0 é a cor preta"
   ]
  },
  {
   "cell_type": "code",
   "execution_count": 9,
   "metadata": {},
   "outputs": [],
   "source": [
    "scaler = MinMaxScaler()\n",
    "X = scaler.fit_transform(X)"
   ]
  },
  {
   "cell_type": "code",
   "execution_count": 10,
   "metadata": {},
   "outputs": [
    {
     "data": {
      "text/plain": [
       "(1.0000000000000002, 0.0)"
      ]
     },
     "execution_count": 10,
     "metadata": {},
     "output_type": "execute_result"
    }
   ],
   "source": [
    "X[0].max(), X[0].min()"
   ]
  },
  {
   "attachments": {},
   "cell_type": "markdown",
   "metadata": {},
   "source": [
    "- Base de treinamento e teste\n",
    "- A biblioteca sklearn possui uma função chamada train_test_split que faz a divisão da base de dados em treinamento e teste\n",
    "- test_size = 0.25 -> 25% da base de dados será usada para teste e 75% para treinamento\n",
    "- random_state = 1 -> Para que a divisão seja sempre a mesma"
   ]
  },
  {
   "cell_type": "code",
   "execution_count": 11,
   "metadata": {},
   "outputs": [],
   "source": [
    "from sklearn.model_selection import train_test_split\n",
    "X_train, X_test, y_train, y_test = train_test_split(X, y, test_size=0.2, random_state=1)"
   ]
  },
  {
   "cell_type": "code",
   "execution_count": 12,
   "metadata": {},
   "outputs": [
    {
     "data": {
      "text/plain": [
       "((215, 16384), (54, 16384), (215,), (54,))"
      ]
     },
     "execution_count": 12,
     "metadata": {},
     "output_type": "execute_result"
    }
   ],
   "source": [
    "X_train.shape, X_test.shape, y_train.shape, y_test.shape"
   ]
  },
  {
   "attachments": {},
   "cell_type": "markdown",
   "metadata": {},
   "source": [
    "## Construção e treinamento da rede neural"
   ]
  },
  {
   "attachments": {},
   "cell_type": "markdown",
   "metadata": {},
   "source": [
    "- units parâmetro de entrada de neurônios da camada oculta\n",
    "- activation função de ativação da camada oculta\n",
    "- input_shape parâmetro de entrada de neurônios da camada de entrada"
   ]
  },
  {
   "cell_type": "code",
   "execution_count": 13,
   "metadata": {},
   "outputs": [],
   "source": [
    "network1 = tf.keras.models.Sequential() # Cria a rede neural sequencial \n",
    "network1.add(tf.keras.layers.Dense(units=8193, activation='relu', input_shape=(X_train.shape[1],))) # Adiciona a primeira camada oculta\n",
    "network1.add(tf.keras.layers.Dense(units=8193, activation='relu')) # Adiciona a segunda camada oculta\n",
    "network1.add(tf.keras.layers.Dense(units=1, activation='sigmoid')) # Adiciona a camada de saída"
   ]
  },
  {
   "cell_type": "code",
   "execution_count": 37,
   "metadata": {},
   "outputs": [
    {
     "data": {
      "text/plain": [
       "4"
      ]
     },
     "execution_count": 37,
     "metadata": {},
     "output_type": "execute_result"
    }
   ],
   "source": [
    "len(network1.layers)"
   ]
  },
  {
   "cell_type": "code",
   "execution_count": 36,
   "metadata": {},
   "outputs": [
    {
     "name": "stdout",
     "output_type": "stream",
     "text": [
      "Model: \"sequential\"\n",
      "_________________________________________________________________\n",
      " Layer (type)                Output Shape              Param #   \n",
      "=================================================================\n",
      " dense (Dense)               (None, 8193)              134242305 \n",
      "                                                                 \n",
      " dense_1 (Dense)             (None, 8193)              67133442  \n",
      "                                                                 \n",
      " dense_2 (Dense)             (None, 8193)              67133442  \n",
      "                                                                 \n",
      " dense_3 (Dense)             (None, 1)                 8194      \n",
      "                                                                 \n",
      "=================================================================\n",
      "Total params: 268,517,383\n",
      "Trainable params: 268,517,383\n",
      "Non-trainable params: 0\n",
      "_________________________________________________________________\n"
     ]
    }
   ],
   "source": [
    "network1.summary()"
   ]
  },
  {
   "attachments": {},
   "cell_type": "markdown",
   "metadata": {},
   "source": [
    "- optimizer parametro de otimização dos pesos da rede neural (adam)\n",
    "- loss função para calcular o erro (binary_crossentropy)\n",
    "- metrics métrica para avaliar o modelo (accuracy)"
   ]
  },
  {
   "cell_type": "code",
   "execution_count": 15,
   "metadata": {},
   "outputs": [],
   "source": [
    "network1.compile(optimizer='adam', loss='binary_crossentropy', metrics=['accuracy']) # Compila a rede neural"
   ]
  },
  {
   "attachments": {},
   "cell_type": "markdown",
   "metadata": {},
   "source": [
    "- Definição do callback para parar o treinamento quando a acurácia de validação não melhorar"
   ]
  },
  {
   "cell_type": "code",
   "execution_count": 16,
   "metadata": {},
   "outputs": [],
   "source": [
    "# Definir o critério de parada antecipada\n",
    "early_stopping = EarlyStopping(monitor='val_loss', patience=150, restore_best_weights=True)\n",
    "# Incluir o critério de parada antecipada na lista de callbacks\n",
    "callbacks_list = [early_stopping]\n",
    "epochs = 100"
   ]
  },
  {
   "attachments": {},
   "cell_type": "markdown",
   "metadata": {},
   "source": [
    "- epochs quantidade de vezes que o modelo será treinado\n",
    "- callbacks parâmetro para definir o callback de parada do treinamento\n",
    "- validation_split parâmetro para definir a quantidade de dados que será usada para validação"
   ]
  },
  {
   "cell_type": "code",
   "execution_count": 17,
   "metadata": {},
   "outputs": [
    {
     "name": "stdout",
     "output_type": "stream",
     "text": [
      "Epoch 1/50\n",
      "7/7 [==============================] - ETA: 0s - loss: 247.3447 - accuracy: 0.5395WARNING:tensorflow:Early stopping conditioned on metric `val_loss` which is not available. Available metrics are: loss,accuracy\n",
      "7/7 [==============================] - 15s 2s/step - loss: 247.3447 - accuracy: 0.5395\n",
      "Epoch 2/50\n",
      "7/7 [==============================] - ETA: 0s - loss: 2.7383 - accuracy: 0.5349WARNING:tensorflow:Early stopping conditioned on metric `val_loss` which is not available. Available metrics are: loss,accuracy\n",
      "7/7 [==============================] - 14s 2s/step - loss: 2.7383 - accuracy: 0.5349\n",
      "Epoch 3/50\n",
      "7/7 [==============================] - ETA: 0s - loss: 0.9512 - accuracy: 0.5302WARNING:tensorflow:Early stopping conditioned on metric `val_loss` which is not available. Available metrics are: loss,accuracy\n",
      "7/7 [==============================] - 14s 2s/step - loss: 0.9512 - accuracy: 0.5302\n",
      "Epoch 4/50\n",
      "7/7 [==============================] - ETA: 0s - loss: 0.7713 - accuracy: 0.5721WARNING:tensorflow:Early stopping conditioned on metric `val_loss` which is not available. Available metrics are: loss,accuracy\n",
      "7/7 [==============================] - 14s 2s/step - loss: 0.7713 - accuracy: 0.5721\n",
      "Epoch 5/50\n",
      "7/7 [==============================] - ETA: 0s - loss: 0.6926 - accuracy: 0.5302WARNING:tensorflow:Early stopping conditioned on metric `val_loss` which is not available. Available metrics are: loss,accuracy\n",
      "7/7 [==============================] - 14s 2s/step - loss: 0.6926 - accuracy: 0.5302\n",
      "Epoch 6/50\n",
      "7/7 [==============================] - ETA: 0s - loss: 0.6619 - accuracy: 0.6186WARNING:tensorflow:Early stopping conditioned on metric `val_loss` which is not available. Available metrics are: loss,accuracy\n",
      "7/7 [==============================] - 14s 2s/step - loss: 0.6619 - accuracy: 0.6186\n",
      "Epoch 7/50\n",
      "7/7 [==============================] - ETA: 0s - loss: 0.6774 - accuracy: 0.6140WARNING:tensorflow:Early stopping conditioned on metric `val_loss` which is not available. Available metrics are: loss,accuracy\n",
      "7/7 [==============================] - 14s 2s/step - loss: 0.6774 - accuracy: 0.6140\n",
      "Epoch 8/50\n",
      "7/7 [==============================] - ETA: 0s - loss: 0.6559 - accuracy: 0.6605WARNING:tensorflow:Early stopping conditioned on metric `val_loss` which is not available. Available metrics are: loss,accuracy\n",
      "7/7 [==============================] - 14s 2s/step - loss: 0.6559 - accuracy: 0.6605\n",
      "Epoch 9/50\n",
      "7/7 [==============================] - ETA: 0s - loss: 0.6653 - accuracy: 0.5953WARNING:tensorflow:Early stopping conditioned on metric `val_loss` which is not available. Available metrics are: loss,accuracy\n",
      "7/7 [==============================] - 13s 2s/step - loss: 0.6653 - accuracy: 0.5953\n",
      "Epoch 10/50\n",
      "7/7 [==============================] - ETA: 0s - loss: 0.6217 - accuracy: 0.6884WARNING:tensorflow:Early stopping conditioned on metric `val_loss` which is not available. Available metrics are: loss,accuracy\n",
      "7/7 [==============================] - 13s 2s/step - loss: 0.6217 - accuracy: 0.6884\n",
      "Epoch 11/50\n",
      "7/7 [==============================] - ETA: 0s - loss: 0.5995 - accuracy: 0.6651WARNING:tensorflow:Early stopping conditioned on metric `val_loss` which is not available. Available metrics are: loss,accuracy\n",
      "7/7 [==============================] - 14s 2s/step - loss: 0.5995 - accuracy: 0.6651\n",
      "Epoch 12/50\n",
      "7/7 [==============================] - ETA: 0s - loss: 0.7944 - accuracy: 0.6233WARNING:tensorflow:Early stopping conditioned on metric `val_loss` which is not available. Available metrics are: loss,accuracy\n",
      "7/7 [==============================] - 14s 2s/step - loss: 0.7944 - accuracy: 0.6233\n",
      "Epoch 13/50\n",
      "7/7 [==============================] - ETA: 0s - loss: 0.6617 - accuracy: 0.5860WARNING:tensorflow:Early stopping conditioned on metric `val_loss` which is not available. Available metrics are: loss,accuracy\n",
      "7/7 [==============================] - 13s 2s/step - loss: 0.6617 - accuracy: 0.5860\n",
      "Epoch 14/50\n",
      "7/7 [==============================] - ETA: 0s - loss: 0.5887 - accuracy: 0.6558WARNING:tensorflow:Early stopping conditioned on metric `val_loss` which is not available. Available metrics are: loss,accuracy\n",
      "7/7 [==============================] - 14s 2s/step - loss: 0.5887 - accuracy: 0.6558\n",
      "Epoch 15/50\n",
      "7/7 [==============================] - ETA: 0s - loss: 0.7476 - accuracy: 0.5907WARNING:tensorflow:Early stopping conditioned on metric `val_loss` which is not available. Available metrics are: loss,accuracy\n",
      "7/7 [==============================] - 14s 2s/step - loss: 0.7476 - accuracy: 0.5907\n",
      "Epoch 16/50\n",
      "7/7 [==============================] - ETA: 0s - loss: 0.6290 - accuracy: 0.5953WARNING:tensorflow:Early stopping conditioned on metric `val_loss` which is not available. Available metrics are: loss,accuracy\n",
      "7/7 [==============================] - 14s 2s/step - loss: 0.6290 - accuracy: 0.5953\n",
      "Epoch 17/50\n",
      "7/7 [==============================] - ETA: 0s - loss: 0.6302 - accuracy: 0.6744WARNING:tensorflow:Early stopping conditioned on metric `val_loss` which is not available. Available metrics are: loss,accuracy\n",
      "7/7 [==============================] - 14s 2s/step - loss: 0.6302 - accuracy: 0.6744\n",
      "Epoch 18/50\n",
      "7/7 [==============================] - ETA: 0s - loss: 0.6137 - accuracy: 0.6512WARNING:tensorflow:Early stopping conditioned on metric `val_loss` which is not available. Available metrics are: loss,accuracy\n",
      "7/7 [==============================] - 14s 2s/step - loss: 0.6137 - accuracy: 0.6512\n",
      "Epoch 19/50\n",
      "7/7 [==============================] - ETA: 0s - loss: 0.6119 - accuracy: 0.6791WARNING:tensorflow:Early stopping conditioned on metric `val_loss` which is not available. Available metrics are: loss,accuracy\n",
      "7/7 [==============================] - 14s 2s/step - loss: 0.6119 - accuracy: 0.6791\n",
      "Epoch 20/50\n",
      "7/7 [==============================] - ETA: 0s - loss: 0.4882 - accuracy: 0.7767WARNING:tensorflow:Early stopping conditioned on metric `val_loss` which is not available. Available metrics are: loss,accuracy\n",
      "7/7 [==============================] - 14s 2s/step - loss: 0.4882 - accuracy: 0.7767\n",
      "Epoch 21/50\n",
      "7/7 [==============================] - ETA: 0s - loss: 0.5154 - accuracy: 0.7442WARNING:tensorflow:Early stopping conditioned on metric `val_loss` which is not available. Available metrics are: loss,accuracy\n",
      "7/7 [==============================] - 14s 2s/step - loss: 0.5154 - accuracy: 0.7442\n",
      "Epoch 22/50\n",
      "7/7 [==============================] - ETA: 0s - loss: 0.4254 - accuracy: 0.8233WARNING:tensorflow:Early stopping conditioned on metric `val_loss` which is not available. Available metrics are: loss,accuracy\n",
      "7/7 [==============================] - 14s 2s/step - loss: 0.4254 - accuracy: 0.8233\n",
      "Epoch 23/50\n",
      "7/7 [==============================] - ETA: 0s - loss: 0.7028 - accuracy: 0.6791WARNING:tensorflow:Early stopping conditioned on metric `val_loss` which is not available. Available metrics are: loss,accuracy\n",
      "7/7 [==============================] - 14s 2s/step - loss: 0.7028 - accuracy: 0.6791\n",
      "Epoch 24/50\n",
      "7/7 [==============================] - ETA: 0s - loss: 0.4305 - accuracy: 0.8279WARNING:tensorflow:Early stopping conditioned on metric `val_loss` which is not available. Available metrics are: loss,accuracy\n",
      "7/7 [==============================] - 14s 2s/step - loss: 0.4305 - accuracy: 0.8279\n",
      "Epoch 25/50\n",
      "7/7 [==============================] - ETA: 0s - loss: 0.6840 - accuracy: 0.7302WARNING:tensorflow:Early stopping conditioned on metric `val_loss` which is not available. Available metrics are: loss,accuracy\n",
      "7/7 [==============================] - 14s 2s/step - loss: 0.6840 - accuracy: 0.7302\n",
      "Epoch 26/50\n",
      "7/7 [==============================] - ETA: 0s - loss: 0.6696 - accuracy: 0.6326WARNING:tensorflow:Early stopping conditioned on metric `val_loss` which is not available. Available metrics are: loss,accuracy\n",
      "7/7 [==============================] - 14s 2s/step - loss: 0.6696 - accuracy: 0.6326\n",
      "Epoch 27/50\n",
      "7/7 [==============================] - ETA: 0s - loss: 0.7022 - accuracy: 0.4698WARNING:tensorflow:Early stopping conditioned on metric `val_loss` which is not available. Available metrics are: loss,accuracy\n",
      "7/7 [==============================] - 14s 2s/step - loss: 0.7022 - accuracy: 0.4698\n",
      "Epoch 28/50\n",
      "7/7 [==============================] - ETA: 0s - loss: 0.5283 - accuracy: 0.7581WARNING:tensorflow:Early stopping conditioned on metric `val_loss` which is not available. Available metrics are: loss,accuracy\n",
      "7/7 [==============================] - 14s 2s/step - loss: 0.5283 - accuracy: 0.7581\n",
      "Epoch 29/50\n",
      "7/7 [==============================] - ETA: 0s - loss: 0.4951 - accuracy: 0.7953WARNING:tensorflow:Early stopping conditioned on metric `val_loss` which is not available. Available metrics are: loss,accuracy\n",
      "7/7 [==============================] - 14s 2s/step - loss: 0.4951 - accuracy: 0.7953\n",
      "Epoch 30/50\n",
      "7/7 [==============================] - ETA: 0s - loss: 0.4708 - accuracy: 0.7628WARNING:tensorflow:Early stopping conditioned on metric `val_loss` which is not available. Available metrics are: loss,accuracy\n",
      "7/7 [==============================] - 14s 2s/step - loss: 0.4708 - accuracy: 0.7628\n",
      "Epoch 31/50\n",
      "7/7 [==============================] - ETA: 0s - loss: 0.5026 - accuracy: 0.7721WARNING:tensorflow:Early stopping conditioned on metric `val_loss` which is not available. Available metrics are: loss,accuracy\n",
      "7/7 [==============================] - 14s 2s/step - loss: 0.5026 - accuracy: 0.7721\n",
      "Epoch 32/50\n",
      "7/7 [==============================] - ETA: 0s - loss: 0.5008 - accuracy: 0.7814WARNING:tensorflow:Early stopping conditioned on metric `val_loss` which is not available. Available metrics are: loss,accuracy\n",
      "7/7 [==============================] - 13s 2s/step - loss: 0.5008 - accuracy: 0.7814\n",
      "Epoch 33/50\n",
      "7/7 [==============================] - ETA: 0s - loss: 0.3813 - accuracy: 0.8000WARNING:tensorflow:Early stopping conditioned on metric `val_loss` which is not available. Available metrics are: loss,accuracy\n",
      "7/7 [==============================] - 14s 2s/step - loss: 0.3813 - accuracy: 0.8000\n",
      "Epoch 34/50\n",
      "7/7 [==============================] - ETA: 0s - loss: 0.4331 - accuracy: 0.8047WARNING:tensorflow:Early stopping conditioned on metric `val_loss` which is not available. Available metrics are: loss,accuracy\n",
      "7/7 [==============================] - 13s 2s/step - loss: 0.4331 - accuracy: 0.8047\n",
      "Epoch 35/50\n",
      "7/7 [==============================] - ETA: 0s - loss: 0.5448 - accuracy: 0.7395WARNING:tensorflow:Early stopping conditioned on metric `val_loss` which is not available. Available metrics are: loss,accuracy\n",
      "7/7 [==============================] - 13s 2s/step - loss: 0.5448 - accuracy: 0.7395\n",
      "Epoch 36/50\n",
      "7/7 [==============================] - ETA: 0s - loss: 0.3601 - accuracy: 0.8651WARNING:tensorflow:Early stopping conditioned on metric `val_loss` which is not available. Available metrics are: loss,accuracy\n",
      "7/7 [==============================] - 13s 2s/step - loss: 0.3601 - accuracy: 0.8651\n",
      "Epoch 37/50\n",
      "7/7 [==============================] - ETA: 0s - loss: 0.3585 - accuracy: 0.8605WARNING:tensorflow:Early stopping conditioned on metric `val_loss` which is not available. Available metrics are: loss,accuracy\n",
      "7/7 [==============================] - 13s 2s/step - loss: 0.3585 - accuracy: 0.8605\n",
      "Epoch 38/50\n",
      "7/7 [==============================] - ETA: 0s - loss: 0.4315 - accuracy: 0.7860WARNING:tensorflow:Early stopping conditioned on metric `val_loss` which is not available. Available metrics are: loss,accuracy\n",
      "7/7 [==============================] - 13s 2s/step - loss: 0.4315 - accuracy: 0.7860\n",
      "Epoch 39/50\n",
      "7/7 [==============================] - ETA: 0s - loss: 0.3961 - accuracy: 0.7860WARNING:tensorflow:Early stopping conditioned on metric `val_loss` which is not available. Available metrics are: loss,accuracy\n",
      "7/7 [==============================] - 13s 2s/step - loss: 0.3961 - accuracy: 0.7860\n",
      "Epoch 40/50\n",
      "7/7 [==============================] - ETA: 0s - loss: 0.2622 - accuracy: 0.9023WARNING:tensorflow:Early stopping conditioned on metric `val_loss` which is not available. Available metrics are: loss,accuracy\n",
      "7/7 [==============================] - 13s 2s/step - loss: 0.2622 - accuracy: 0.9023\n",
      "Epoch 41/50\n",
      "7/7 [==============================] - ETA: 0s - loss: 0.4206 - accuracy: 0.8419WARNING:tensorflow:Early stopping conditioned on metric `val_loss` which is not available. Available metrics are: loss,accuracy\n",
      "7/7 [==============================] - 14s 2s/step - loss: 0.4206 - accuracy: 0.8419\n",
      "Epoch 42/50\n",
      "7/7 [==============================] - ETA: 0s - loss: 0.4810 - accuracy: 0.7860WARNING:tensorflow:Early stopping conditioned on metric `val_loss` which is not available. Available metrics are: loss,accuracy\n",
      "7/7 [==============================] - 13s 2s/step - loss: 0.4810 - accuracy: 0.7860\n",
      "Epoch 43/50\n",
      "7/7 [==============================] - ETA: 0s - loss: 0.5416 - accuracy: 0.7442WARNING:tensorflow:Early stopping conditioned on metric `val_loss` which is not available. Available metrics are: loss,accuracy\n",
      "7/7 [==============================] - 13s 2s/step - loss: 0.5416 - accuracy: 0.7442\n",
      "Epoch 44/50\n",
      "7/7 [==============================] - ETA: 0s - loss: 0.5513 - accuracy: 0.6698WARNING:tensorflow:Early stopping conditioned on metric `val_loss` which is not available. Available metrics are: loss,accuracy\n",
      "7/7 [==============================] - 13s 2s/step - loss: 0.5513 - accuracy: 0.6698\n",
      "Epoch 45/50\n",
      "7/7 [==============================] - ETA: 0s - loss: 0.4481 - accuracy: 0.8698WARNING:tensorflow:Early stopping conditioned on metric `val_loss` which is not available. Available metrics are: loss,accuracy\n",
      "7/7 [==============================] - 13s 2s/step - loss: 0.4481 - accuracy: 0.8698\n",
      "Epoch 46/50\n",
      "7/7 [==============================] - ETA: 0s - loss: 0.3820 - accuracy: 0.8512WARNING:tensorflow:Early stopping conditioned on metric `val_loss` which is not available. Available metrics are: loss,accuracy\n",
      "7/7 [==============================] - 13s 2s/step - loss: 0.3820 - accuracy: 0.8512\n",
      "Epoch 47/50\n",
      "7/7 [==============================] - ETA: 0s - loss: 0.2777 - accuracy: 0.9442WARNING:tensorflow:Early stopping conditioned on metric `val_loss` which is not available. Available metrics are: loss,accuracy\n",
      "7/7 [==============================] - 13s 2s/step - loss: 0.2777 - accuracy: 0.9442\n",
      "Epoch 48/50\n",
      "7/7 [==============================] - ETA: 0s - loss: 0.1983 - accuracy: 0.9442WARNING:tensorflow:Early stopping conditioned on metric `val_loss` which is not available. Available metrics are: loss,accuracy\n",
      "7/7 [==============================] - 13s 2s/step - loss: 0.1983 - accuracy: 0.9442\n",
      "Epoch 49/50\n",
      "7/7 [==============================] - ETA: 0s - loss: 0.2044 - accuracy: 0.9116WARNING:tensorflow:Early stopping conditioned on metric `val_loss` which is not available. Available metrics are: loss,accuracy\n",
      "7/7 [==============================] - 13s 2s/step - loss: 0.2044 - accuracy: 0.9116\n",
      "Epoch 50/50\n",
      "7/7 [==============================] - ETA: 0s - loss: 0.4447 - accuracy: 0.8186WARNING:tensorflow:Early stopping conditioned on metric `val_loss` which is not available. Available metrics are: loss,accuracy\n",
      "7/7 [==============================] - 13s 2s/step - loss: 0.4447 - accuracy: 0.8186\n"
     ]
    }
   ],
   "source": [
    "historico = network1.fit(X_train, y_train, epochs=epochs, callbacks=callbacks_list) # Treina a rede neural"
   ]
  },
  {
   "attachments": {},
   "cell_type": "markdown",
   "metadata": {},
   "source": [
    "- Avaliação da rede neural"
   ]
  },
  {
   "cell_type": "code",
   "execution_count": 18,
   "metadata": {},
   "outputs": [
    {
     "data": {
      "text/plain": [
       "dict_keys(['loss', 'accuracy'])"
      ]
     },
     "execution_count": 18,
     "metadata": {},
     "output_type": "execute_result"
    }
   ],
   "source": [
    "historico.history.keys()"
   ]
  },
  {
   "cell_type": "code",
   "execution_count": 38,
   "metadata": {},
   "outputs": [],
   "source": [
    "# criação da pasta para salvar os plots de treinamento\n",
    "layers = len(network1.layers)\n",
    "path = f'./plots_{epochs}_epocas_{layers}_camadas'\n",
    "if not os.path.exists(path):\n",
    "    os.makedirs(path, exist_ok=True)\n"
   ]
  },
  {
   "attachments": {},
   "cell_type": "markdown",
   "metadata": {},
   "source": [
    "- Plot dos valores de erro"
   ]
  },
  {
   "cell_type": "code",
   "execution_count": 20,
   "metadata": {},
   "outputs": [
    {
     "data": {
      "image/png": "[encoded data removed]",
      "text/plain": [
       "<Figure size 640x480 with 1 Axes>"
      ]
     },
     "metadata": {},
     "output_type": "display_data"
    }
   ],
   "source": [
    "plt.plot(historico.history['loss']);\n",
    "plt.xlabel('Época');\n",
    "plt.ylabel('Loss');\n",
    "plt.title('Loss vs Época');\n",
    "plt.legend(['Loss']);\n",
    "plt.savefig(f'{path}/loss_vs_epoca.png')\n",
    "plt.show();"
   ]
  },
  {
   "attachments": {},
   "cell_type": "markdown",
   "metadata": {},
   "source": [
    "- Plot da acurácia que é a porcentagem de acerto"
   ]
  },
  {
   "cell_type": "code",
   "execution_count": 21,
   "metadata": {},
   "outputs": [
    {
     "data": {
      "image/png": "[encoded data removed]",
      "text/plain": [
       "<Figure size 640x480 with 1 Axes>"
      ]
     },
     "metadata": {},
     "output_type": "display_data"
    }
   ],
   "source": [
    "plt.plot(historico.history['accuracy']);\n",
    "plt.xlabel('Época');\n",
    "plt.ylabel('Acurácia');\n",
    "plt.title('Acurácia vs Época');\n",
    "plt.legend(['Acurácia']);\n",
    "plt.savefig(f'{path}/acuracia_vs_epoca.png')\n",
    "plt.show();"
   ]
  },
  {
   "attachments": {},
   "cell_type": "markdown",
   "metadata": {},
   "source": [
    "- o predict faz a previsão da imagem de teste"
   ]
  },
  {
   "cell_type": "code",
   "execution_count": 22,
   "metadata": {},
   "outputs": [
    {
     "name": "stdout",
     "output_type": "stream",
     "text": [
      "2/2 [==============================] - 0s 61ms/step\n"
     ]
    },
    {
     "data": {
      "text/plain": [
       "array([[0.99558514],\n",
       "       [0.40749988],\n",
       "       [0.9895619 ],\n",
       "       [0.9914431 ],\n",
       "       [0.9141616 ],\n",
       "       [0.9959731 ],\n",
       "       [0.70527816],\n",
       "       [0.8985579 ],\n",
       "       [0.9301939 ],\n",
       "       [0.9024035 ],\n",
       "       [0.98470837],\n",
       "       [0.02650568],\n",
       "       [0.9272249 ],\n",
       "       [0.9791299 ],\n",
       "       [0.98191947],\n",
       "       [0.9934428 ],\n",
       "       [0.9921274 ],\n",
       "       [0.9721307 ],\n",
       "       [0.9826024 ],\n",
       "       [0.99175155],\n",
       "       [0.9963344 ],\n",
       "       [0.93255943],\n",
       "       [0.9970581 ],\n",
       "       [0.98634255],\n",
       "       [0.98423266],\n",
       "       [0.9478637 ],\n",
       "       [0.99369824],\n",
       "       [0.9923265 ],\n",
       "       [0.9816921 ],\n",
       "       [0.77835375],\n",
       "       [0.97539824],\n",
       "       [0.1211975 ],\n",
       "       [0.95749015],\n",
       "       [0.9968456 ],\n",
       "       [0.0264539 ],\n",
       "       [0.99687827],\n",
       "       [0.97389406],\n",
       "       [0.9907784 ],\n",
       "       [0.9823914 ],\n",
       "       [0.9947081 ],\n",
       "       [0.878606  ],\n",
       "       [0.9535627 ],\n",
       "       [0.9803266 ],\n",
       "       [0.9941607 ],\n",
       "       [0.99568754],\n",
       "       [0.9653357 ],\n",
       "       [0.88593453],\n",
       "       [0.9943145 ],\n",
       "       [0.97501945],\n",
       "       [0.7226195 ],\n",
       "       [0.99863166],\n",
       "       [0.93588203],\n",
       "       [0.9455768 ],\n",
       "       [0.9764397 ]], dtype=float32)"
      ]
     },
     "execution_count": 22,
     "metadata": {},
     "output_type": "execute_result"
    }
   ],
   "source": [
    "previsao = network1.predict(X_test)\n",
    "previsao"
   ]
  },
  {
   "attachments": {},
   "cell_type": "markdown",
   "metadata": {},
   "source": [
    "- 0 false Homer\n",
    "- 1 true Bart"
   ]
  },
  {
   "cell_type": "code",
   "execution_count": 23,
   "metadata": {},
   "outputs": [
    {
     "name": "stdout",
     "output_type": "stream",
     "text": [
      "Homer - Bart\n",
      "Bart - Homer\n",
      "Homer - Bart\n",
      "Homer - Bart\n",
      "Homer - Bart\n",
      "Homer - Homer\n",
      "Homer - Bart\n",
      "Homer - Bart\n",
      "Homer - Bart\n",
      "Homer - Bart\n",
      "Homer - Bart\n",
      "Bart - Homer\n",
      "Homer - Homer\n",
      "Homer - Bart\n",
      "Homer - Homer\n",
      "Homer - Homer\n",
      "Homer - Homer\n",
      "Homer - Homer\n",
      "Homer - Bart\n",
      "Homer - Bart\n",
      "Homer - Bart\n",
      "Homer - Homer\n",
      "Homer - Bart\n",
      "Homer - Bart\n",
      "Homer - Bart\n",
      "Homer - Homer\n",
      "Homer - Bart\n",
      "Homer - Bart\n",
      "Homer - Homer\n",
      "Homer - Homer\n",
      "Homer - Homer\n",
      "Bart - Homer\n",
      "Homer - Homer\n",
      "Homer - Homer\n",
      "Bart - Homer\n",
      "Homer - Homer\n",
      "Homer - Bart\n",
      "Homer - Bart\n",
      "Homer - Bart\n",
      "Homer - Bart\n",
      "Homer - Homer\n",
      "Homer - Homer\n",
      "Homer - Bart\n",
      "Homer - Bart\n",
      "Homer - Bart\n",
      "Homer - Homer\n",
      "Homer - Homer\n",
      "Homer - Bart\n",
      "Homer - Bart\n",
      "Homer - Homer\n",
      "Homer - Bart\n",
      "Homer - Homer\n",
      "Homer - Homer\n",
      "Homer - Homer\n"
     ]
    }
   ],
   "source": [
    "# Se a previsão for maior que 0.5, então é Homer, caso contrário é Bart\n",
    "previsao = (previsao > 0.5)\n",
    "previsao\n",
    "for i in range(len(previsao)):\n",
    "    if previsao[i] == True:\n",
    "        print(f\"Homer - {'Homer' if y_test[i] == 0 else 'Bart'}\") \n",
    "    else:\n",
    "        print(f\"Bart - {'Homer' if y_test[i] == 0 else 'Bart'}\")   \n",
    "        # melhorar saida"
   ]
  },
  {
   "cell_type": "code",
   "execution_count": 24,
   "metadata": {},
   "outputs": [
    {
     "data": {
      "text/plain": [
       "array([1, 0, 1, 1, 1, 0, 1, 1, 1, 1, 1, 0, 0, 1, 0, 0, 0, 0, 1, 1, 1, 0,\n",
       "       1, 1, 1, 0, 1, 1, 0, 0, 0, 0, 0, 0, 0, 0, 1, 1, 1, 1, 0, 0, 1, 1,\n",
       "       1, 0, 0, 1, 1, 0, 1, 0, 0, 0])"
      ]
     },
     "execution_count": 24,
     "metadata": {},
     "output_type": "execute_result"
    }
   ],
   "source": [
    "y_test"
   ]
  },
  {
   "attachments": {},
   "cell_type": "markdown",
   "metadata": {},
   "source": [
    "- acuracy mede a probabilidade de acerto da rede neural"
   ]
  },
  {
   "cell_type": "code",
   "execution_count": 25,
   "metadata": {},
   "outputs": [
    {
     "data": {
      "text/plain": [
       "0.5925925925925926"
      ]
     },
     "execution_count": 25,
     "metadata": {},
     "output_type": "execute_result"
    }
   ],
   "source": [
    "# salvar acuracia em um arquivo txt\n",
    "arq = open(f'{path}/accuracy.txt', \"w\")\n",
    "arq.write(str(accuracy_score(y_test, previsao)))\n",
    "arq.close()\n",
    "\n",
    "accuracy_score(y_test, previsao)"
   ]
  },
  {
   "cell_type": "code",
   "execution_count": 26,
   "metadata": {},
   "outputs": [
    {
     "data": {
      "text/plain": [
       "array([[ 4, 22],\n",
       "       [ 0, 28]], dtype=int64)"
      ]
     },
     "execution_count": 26,
     "metadata": {},
     "output_type": "execute_result"
    }
   ],
   "source": [
    "cm = confusion_matrix(y_test, previsao)\n",
    "cm"
   ]
  },
  {
   "cell_type": "code",
   "execution_count": 27,
   "metadata": {},
   "outputs": [
    {
     "data": {
      "image/png": "[encoded data removed]",
      "text/plain": [
       "<Figure size 640x480 with 2 Axes>"
      ]
     },
     "metadata": {},
     "output_type": "display_data"
    }
   ],
   "source": [
    "#salvar matriz de confusão\n",
    "sns.heatmap(cm, annot=True, fmt='d',);\n",
    "plt.savefig(f'{path}/matriz_confusao.png')\n",
    "plt.show();"
   ]
  },
  {
   "cell_type": "code",
   "execution_count": 28,
   "metadata": {},
   "outputs": [
    {
     "name": "stdout",
     "output_type": "stream",
     "text": [
      "              precision    recall  f1-score   support\n",
      "\n",
      "           0       1.00      0.15      0.27        26\n",
      "           1       0.56      1.00      0.72        28\n",
      "\n",
      "    accuracy                           0.59        54\n",
      "   macro avg       0.78      0.58      0.49        54\n",
      "weighted avg       0.77      0.59      0.50        54\n",
      "\n"
     ]
    }
   ],
   "source": [
    "print(classification_report(y_test, previsao))"
   ]
  },
  {
   "attachments": {},
   "cell_type": "markdown",
   "metadata": {},
   "source": [
    "- Salvar e carregar o modelo treinado "
   ]
  },
  {
   "cell_type": "code",
   "execution_count": 29,
   "metadata": {},
   "outputs": [],
   "source": [
    "# Carrega o modelo\n",
    "model_json = network1.to_json()\n",
    "with open(f\"{path}/model.json\", \"w\") as json_file:\n",
    "    json_file.write(model_json)"
   ]
  },
  {
   "cell_type": "code",
   "execution_count": 30,
   "metadata": {},
   "outputs": [],
   "source": [
    "# Salvar modelo\n",
    "network1_saved = save_model(network1, f\"{path}/weights1.hdf5\")"
   ]
  },
  {
   "cell_type": "code",
   "execution_count": 31,
   "metadata": {},
   "outputs": [
    {
     "data": {
      "text/plain": [
       "'{\"class_name\": \"Sequential\", \"config\": {\"name\": \"sequential\", \"layers\": [{\"class_name\": \"InputLayer\", \"config\": {\"batch_input_shape\": [null, 16384], \"dtype\": \"float32\", \"sparse\": false, \"ragged\": false, \"name\": \"dense_input\"}}, {\"class_name\": \"Dense\", \"config\": {\"name\": \"dense\", \"trainable\": true, \"dtype\": \"float32\", \"batch_input_shape\": [null, 16384], \"units\": 8193, \"activation\": \"relu\", \"use_bias\": true, \"kernel_initializer\": {\"class_name\": \"GlorotUniform\", \"config\": {\"seed\": null}}, \"bias_initializer\": {\"class_name\": \"Zeros\", \"config\": {}}, \"kernel_regularizer\": null, \"bias_regularizer\": null, \"activity_regularizer\": null, \"kernel_constraint\": null, \"bias_constraint\": null}}, {\"class_name\": \"Dense\", \"config\": {\"name\": \"dense_1\", \"trainable\": true, \"dtype\": \"float32\", \"units\": 8193, \"activation\": \"relu\", \"use_bias\": true, \"kernel_initializer\": {\"class_name\": \"GlorotUniform\", \"config\": {\"seed\": null}}, \"bias_initializer\": {\"class_name\": \"Zeros\", \"config\": {}}, \"kernel_regularizer\": null, \"bias_regularizer\": null, \"activity_regularizer\": null, \"kernel_constraint\": null, \"bias_constraint\": null}}, {\"class_name\": \"Dense\", \"config\": {\"name\": \"dense_2\", \"trainable\": true, \"dtype\": \"float32\", \"units\": 8193, \"activation\": \"relu\", \"use_bias\": true, \"kernel_initializer\": {\"class_name\": \"GlorotUniform\", \"config\": {\"seed\": null}}, \"bias_initializer\": {\"class_name\": \"Zeros\", \"config\": {}}, \"kernel_regularizer\": null, \"bias_regularizer\": null, \"activity_regularizer\": null, \"kernel_constraint\": null, \"bias_constraint\": null}}, {\"class_name\": \"Dense\", \"config\": {\"name\": \"dense_3\", \"trainable\": true, \"dtype\": \"float32\", \"units\": 1, \"activation\": \"sigmoid\", \"use_bias\": true, \"kernel_initializer\": {\"class_name\": \"GlorotUniform\", \"config\": {\"seed\": null}}, \"bias_initializer\": {\"class_name\": \"Zeros\", \"config\": {}}, \"kernel_regularizer\": null, \"bias_regularizer\": null, \"activity_regularizer\": null, \"kernel_constraint\": null, \"bias_constraint\": null}}]}, \"keras_version\": \"2.12.0\", \"backend\": \"tensorflow\"}'"
      ]
     },
     "execution_count": 31,
     "metadata": {},
     "output_type": "execute_result"
    }
   ],
   "source": [
    "with open(f'{path}/model.json', 'r') as json_file:\n",
    "    json_savedModel= json_file.read()\n",
    "json_savedModel    "
   ]
  },
  {
   "cell_type": "code",
   "execution_count": 32,
   "metadata": {},
   "outputs": [],
   "source": [
    "network1_loaded = tf.keras.models.model_from_json(json_savedModel)\n",
    "network1_loaded.load_weights(f'{path}/weights1.hdf5')\n",
    "network1_loaded.compile(optimizer='adam', loss='binary_crossentropy', metrics=['accuracy'])"
   ]
  },
  {
   "cell_type": "code",
   "execution_count": 33,
   "metadata": {},
   "outputs": [
    {
     "name": "stdout",
     "output_type": "stream",
     "text": [
      "Model: \"sequential\"\n",
      "_________________________________________________________________\n",
      " Layer (type)                Output Shape              Param #   \n",
      "=================================================================\n",
      " dense (Dense)               (None, 8193)              134242305 \n",
      "                                                                 \n",
      " dense_1 (Dense)             (None, 8193)              67133442  \n",
      "                                                                 \n",
      " dense_2 (Dense)             (None, 8193)              67133442  \n",
      "                                                                 \n",
      " dense_3 (Dense)             (None, 1)                 8194      \n",
      "                                                                 \n",
      "=================================================================\n",
      "Total params: 268,517,383\n",
      "Trainable params: 268,517,383\n",
      "Non-trainable params: 0\n",
      "_________________________________________________________________\n"
     ]
    }
   ],
   "source": [
    "network1_loaded.summary()"
   ]
  }
 ],
 "metadata": {
  "kernelspec": {
   "display_name": "base",
   "language": "python",
   "name": "python3"
  },
  "language_info": {
   "codemirror_mode": {
    "name": "ipython",
    "version": 3
   },
   "file_extension": ".py",
   "mimetype": "text/x-python",
   "name": "python",
   "nbconvert_exporter": "python",
   "pygments_lexer": "ipython3",
   "version": "3.8.10"
  },
  "orig_nbformat": 4
 },
 "nbformat": 4,
 "nbformat_minor": 2
}
