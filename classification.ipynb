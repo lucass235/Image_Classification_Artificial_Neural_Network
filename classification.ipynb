{
 "cells": [
  {
   "cell_type": "code",
   "execution_count": 19,
   "metadata": {},
   "outputs": [],
   "source": [
    "import cv2\n",
    "import numpy as np\n",
    "from PIL import Image # Biblioteca para manipular imagens \n",
    "import os\n",
    "import tensorflow as tf\n",
    "from sklearn.preprocessing import MinMaxScaler"
   ]
  },
  {
   "cell_type": "code",
   "execution_count": 20,
   "metadata": {},
   "outputs": [],
   "source": [
    "with open('model.json', 'r') as json_file:\n",
    "    json_savedModel= json_file.read()\n",
    "json_savedModel \n",
    "\n",
    "network1_loaded = tf.keras.models.model_from_json(json_savedModel)\n",
    "network1_loaded.load_weights('./weights1.hdf5')\n",
    "network1_loaded.compile(optimizer='adam', loss='binary_crossentropy', metrics=['accuracy'])"
   ]
  },
  {
   "cell_type": "code",
   "execution_count": 21,
   "metadata": {},
   "outputs": [
    {
     "name": "stdout",
     "output_type": "stream",
     "text": [
      "Model: \"sequential_1\"\n",
      "_________________________________________________________________\n",
      " Layer (type)                Output Shape              Param #   \n",
      "=================================================================\n",
      " dense_3 (Dense)             (None, 8193)              134242305 \n",
      "                                                                 \n",
      " dense_4 (Dense)             (None, 8193)              67133442  \n",
      "                                                                 \n",
      " dense_5 (Dense)             (None, 1)                 8194      \n",
      "                                                                 \n",
      "=================================================================\n",
      "Total params: 201,383,941\n",
      "Trainable params: 201,383,941\n",
      "Non-trainable params: 0\n",
      "_________________________________________________________________\n"
     ]
    }
   ],
   "source": [
    "network1_loaded.summary()"
   ]
  },
  {
   "cell_type": "code",
   "execution_count": 22,
   "metadata": {},
   "outputs": [],
   "source": [
    "# Carregando a imagem\n",
    "imagem_teste = cv2.imread('./data/homer_bart_1/homer90.bmp')\n",
    "imagem_pil = Image.fromarray(cv2.cvtColor(imagem_teste, cv2.COLOR_BGR2RGB))\n",
    "imagem_pil.show()"
   ]
  },
  {
   "cell_type": "code",
   "execution_count": null,
   "metadata": {},
   "outputs": [],
   "source": [
    "# Redimensionando a imagem\n",
    "largura, altura = 128, 128\n",
    "imagem_teste = cv2.resize(imagem_teste, (largura, altura))\n",
    "imagem_pil = Image.fromarray(cv2.cvtColor(imagem_teste, cv2.COLOR_BGR2RGB))\n",
    "imagem_pil.show()"
   ]
  },
  {
   "cell_type": "code",
   "execution_count": null,
   "metadata": {},
   "outputs": [],
   "source": [
    "# converte imagem em escala de cinza\n",
    "imagem_teste = cv2.cvtColor(imagem_teste, cv2.COLOR_BGR2GRAY)"
   ]
  },
  {
   "cell_type": "code",
   "execution_count": null,
   "metadata": {},
   "outputs": [
    {
     "data": {
      "text/plain": [
       "(1, 16384)"
      ]
     },
     "execution_count": 16,
     "metadata": {},
     "output_type": "execute_result"
    }
   ],
   "source": [
    "# Convertendo a imagem em vetor e normalizando\n",
    "imagem_teste = imagem_teste.ravel()\n",
    "imagem_teste = np.array(imagem_teste).reshape(1, -1)\n",
    "imagem_teste.shape"
   ]
  },
  {
   "cell_type": "code",
   "execution_count": null,
   "metadata": {},
   "outputs": [
    {
     "name": "stdout",
     "output_type": "stream",
     "text": [
      "1/1 [==============================] - 0s 66ms/step\n"
     ]
    },
    {
     "data": {
      "text/plain": [
       "array([1.], dtype=float32)"
      ]
     },
     "execution_count": 17,
     "metadata": {},
     "output_type": "execute_result"
    }
   ],
   "source": [
    "network1_loaded.predict(imagem_teste)[0]"
   ]
  },
  {
   "cell_type": "code",
   "execution_count": null,
   "metadata": {},
   "outputs": [
    {
     "name": "stdout",
     "output_type": "stream",
     "text": [
      "1/1 [==============================] - 0s 42ms/step\n",
      "A imagem é do Bart\n"
     ]
    }
   ],
   "source": [
    "# Verificando resultado\n",
    "if network1_loaded.predict(imagem_teste)[0][0] > 0.5:\n",
    "    print('A imagem é do Bart')\n",
    "    \n",
    "else:\n",
    "    print('A imagem é do Homer')    \n"
   ]
  }
 ],
 "metadata": {
  "kernelspec": {
   "display_name": "Python 3",
   "language": "python",
   "name": "python3"
  },
  "language_info": {
   "codemirror_mode": {
    "name": "ipython",
    "version": 3
   },
   "file_extension": ".py",
   "mimetype": "text/x-python",
   "name": "python",
   "nbconvert_exporter": "python",
   "pygments_lexer": "ipython3",
   "version": "3.8.0"
  },
  "orig_nbformat": 4
 },
 "nbformat": 4,
 "nbformat_minor": 2
}
