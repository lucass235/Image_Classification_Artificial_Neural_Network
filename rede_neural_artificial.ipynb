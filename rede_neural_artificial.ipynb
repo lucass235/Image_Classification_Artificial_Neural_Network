{
 "cells": [
  {
   "attachments": {},
   "cell_type": "markdown",
   "metadata": {},
   "source": [
    "# Classificação de imagem com rede neural artificial"
   ]
  },
  {
   "cell_type": "code",
   "execution_count": 35,
   "metadata": {},
   "outputs": [
    {
     "data": {
      "text/plain": [
       "'2.12.0'"
      ]
     },
     "execution_count": 35,
     "metadata": {},
     "output_type": "execute_result"
    }
   ],
   "source": [
    "import cv2\n",
    "import numpy as np\n",
    "import os \n",
    "import tensorflow as tf # Deep Learning\n",
    "import pandas as pd # Manipulação de dados\n",
    "import seaborn as sns # Visualização de dados\n",
    "import matplotlib.pyplot as plt # Visualização de dados\n",
    "import PIL # Manipulação de imagens\n",
    "from sklearn.preprocessing import MinMaxScaler\n",
    "from sklearn.metrics import accuracy_score, confusion_matrix, classification_report\n",
    "from keras.models import save_model\n",
    "from keras.callbacks import EarlyStopping\n",
    "tf.__version__"
   ]
  },
  {
   "attachments": {},
   "cell_type": "markdown",
   "metadata": {},
   "source": [
    "- Definindo caminho das imagens na variável arquivos"
   ]
  },
  {
   "cell_type": "code",
   "execution_count": 36,
   "metadata": {},
   "outputs": [],
   "source": [
    "diretorio = \"./data/homer_bart_1\"\n",
    "arquivos = [os.path.join(diretorio, arquivo) for arquivo in sorted(os.listdir(diretorio))]"
   ]
  },
  {
   "attachments": {},
   "cell_type": "markdown",
   "metadata": {},
   "source": [
    "- Precisamos definir o tamanho das imagens único para todas 128x128"
   ]
  },
  {
   "cell_type": "code",
   "execution_count": 37,
   "metadata": {},
   "outputs": [],
   "source": [
    "largura, altura = 128, 128"
   ]
  },
  {
   "attachments": {},
   "cell_type": "markdown",
   "metadata": {},
   "source": [
    "- Variável imagens para armazenar as imagens em formato de array\n",
    "- Variável classes para armazenar as classes das imagens 0 -> Homer, 1 -> Bart"
   ]
  },
  {
   "cell_type": "code",
   "execution_count": 38,
   "metadata": {},
   "outputs": [],
   "source": [
    "imagens = []\n",
    "classes = []"
   ]
  },
  {
   "attachments": {},
   "cell_type": "markdown",
   "metadata": {},
   "source": [
    "- Extração dos pixels das imagens"
   ]
  },
  {
   "attachments": {},
   "cell_type": "markdown",
   "metadata": {},
   "source": [
    "- Nesse bloco de código, estamos lendo as imagens, ajustando o seu tamanho, convertendo para escala de cinza, convertendo para array e adicionando na variável imagens.\n",
    "- No finalzinho estamos pegando o nome referente a identificação da imagem e adicionando na variável classes para identificar a classe da imagem."
   ]
  },
  {
   "cell_type": "code",
   "execution_count": 39,
   "metadata": {},
   "outputs": [],
   "source": [
    "for arquivo in arquivos:\n",
    "    try:\n",
    "        imagem = cv2.imread(arquivo)\n",
    "        (H, W) = imagem.shape[:2] # Altura e largura da imagem\n",
    "    except:\n",
    "        continue\n",
    "    imagem = cv2.resize(imagem, (largura, altura)) # Redimensiona a imagem\n",
    "    imagem = cv2.cvtColor(imagem, cv2.COLOR_BGR2GRAY) # Converte a imagem para tons de cinza\n",
    "    imagem = imagem.ravel() # Converte a imagem para um vetor\n",
    "    imagens.append(imagem) # Adiciona a imagem na lista de imagens\n",
    "    nome_imagem = arquivo.split(os.path.sep)[-1] # Pega o nome da imagem\n",
    "    if \"homer\" in nome_imagem:\n",
    "        classes.append(0)\n",
    "    else:\n",
    "        classes.append(1)            "
   ]
  },
  {
   "attachments": {},
   "cell_type": "markdown",
   "metadata": {},
   "source": [
    "- Convertendo as imagens em array e suas respectivas classes em array numpy"
   ]
  },
  {
   "cell_type": "code",
   "execution_count": 40,
   "metadata": {},
   "outputs": [],
   "source": [
    "X = np.array(imagens)\n",
    "y = np.array(classes)"
   ]
  },
  {
   "cell_type": "code",
   "execution_count": 41,
   "metadata": {},
   "outputs": [
    {
     "data": {
      "text/plain": [
       "((269, 16384), (269,))"
      ]
     },
     "execution_count": 41,
     "metadata": {},
     "output_type": "execute_result"
    }
   ],
   "source": [
    "X.shape, y.shape"
   ]
  },
  {
   "attachments": {},
   "cell_type": "markdown",
   "metadata": {},
   "source": [
    "- Plot da quantidade de imagens por classe"
   ]
  },
  {
   "cell_type": "code",
   "execution_count": 42,
   "metadata": {},
   "outputs": [
    {
     "data": {
      "text/plain": [
       "<Axes: ylabel='count'>"
      ]
     },
     "execution_count": 42,
     "metadata": {},
     "output_type": "execute_result"
    },
    {
     "data": {
      "image/png": "[encoded data removed]",
      "text/plain": [
       "<Figure size 640x480 with 1 Axes>"
      ]
     },
     "metadata": {},
     "output_type": "display_data"
    }
   ],
   "source": [
    "sns.countplot(y)"
   ]
  },
  {
   "attachments": {},
   "cell_type": "markdown",
   "metadata": {},
   "source": [
    "- Normalização dos dados"
   ]
  },
  {
   "cell_type": "code",
   "execution_count": 43,
   "metadata": {},
   "outputs": [
    {
     "data": {
      "text/plain": [
       "(255, 0)"
      ]
     },
     "execution_count": 43,
     "metadata": {},
     "output_type": "execute_result"
    }
   ],
   "source": [
    "X[0].max(), X[0].min()"
   ]
  },
  {
   "attachments": {},
   "cell_type": "markdown",
   "metadata": {},
   "source": [
    "- Pegamos os 256 pixes e fizemos a normalização entre 0 e 1 onde 1 é a cor branca e 0 é a cor preta"
   ]
  },
  {
   "cell_type": "code",
   "execution_count": 44,
   "metadata": {},
   "outputs": [],
   "source": [
    "scaler = MinMaxScaler()\n",
    "X = scaler.fit_transform(X)"
   ]
  },
  {
   "cell_type": "code",
   "execution_count": 45,
   "metadata": {},
   "outputs": [
    {
     "data": {
      "text/plain": [
       "(1.0000000000000002, 0.0)"
      ]
     },
     "execution_count": 45,
     "metadata": {},
     "output_type": "execute_result"
    }
   ],
   "source": [
    "X[0].max(), X[0].min()"
   ]
  },
  {
   "attachments": {},
   "cell_type": "markdown",
   "metadata": {},
   "source": [
    "- Base de treinamento e teste\n",
    "- A biblioteca sklearn possui uma função chamada train_test_split que faz a divisão da base de dados em treinamento e teste\n",
    "- test_size = 0.25 -> 25% da base de dados será usada para teste e 75% para treinamento\n",
    "- random_state = 1 -> Para que a divisão seja sempre a mesma"
   ]
  },
  {
   "cell_type": "code",
   "execution_count": 46,
   "metadata": {},
   "outputs": [],
   "source": [
    "from sklearn.model_selection import train_test_split\n",
    "X_train, X_test, y_train, y_test = train_test_split(X, y, test_size=0.2, random_state=1)"
   ]
  },
  {
   "cell_type": "code",
   "execution_count": 47,
   "metadata": {},
   "outputs": [
    {
     "data": {
      "text/plain": [
       "((215, 16384), (54, 16384), (215,), (54,))"
      ]
     },
     "execution_count": 47,
     "metadata": {},
     "output_type": "execute_result"
    }
   ],
   "source": [
    "X_train.shape, X_test.shape, y_train.shape, y_test.shape"
   ]
  },
  {
   "attachments": {},
   "cell_type": "markdown",
   "metadata": {},
   "source": [
    "## Construção e treinamento da rede neural"
   ]
  },
  {
   "attachments": {},
   "cell_type": "markdown",
   "metadata": {},
   "source": [
    "- units parâmetro de entrada de neurônios da camada oculta\n",
    "- activation função de ativação da camada oculta\n",
    "- input_shape parâmetro de entrada de neurônios da camada de entrada"
   ]
  },
  {
   "cell_type": "code",
   "execution_count": 48,
   "metadata": {},
   "outputs": [],
   "source": [
    "network1 = tf.keras.models.Sequential() # Cria a rede neural sequencial \n",
    "network1.add(tf.keras.layers.Dense(units=8193, activation='relu', input_shape=(X_train.shape[1],))) # Adiciona a primeira camada oculta\n",
    "network1.add(tf.keras.layers.Dense(units=8193, activation='relu')) # Adiciona a segunda camada oculta\n",
    "network1.add(tf.keras.layers.Dense(units=1, activation='sigmoid')) # Adiciona a camada de saída"
   ]
  },
  {
   "cell_type": "code",
   "execution_count": 49,
   "metadata": {},
   "outputs": [
    {
     "name": "stdout",
     "output_type": "stream",
     "text": [
      "Model: \"sequential_1\"\n",
      "_________________________________________________________________\n",
      " Layer (type)                Output Shape              Param #   \n",
      "=================================================================\n",
      " dense_3 (Dense)             (None, 8193)              134242305 \n",
      "                                                                 \n",
      " dense_4 (Dense)             (None, 8193)              67133442  \n",
      "                                                                 \n",
      " dense_5 (Dense)             (None, 1)                 8194      \n",
      "                                                                 \n",
      "=================================================================\n",
      "Total params: 201,383,941\n",
      "Trainable params: 201,383,941\n",
      "Non-trainable params: 0\n",
      "_________________________________________________________________\n"
     ]
    }
   ],
   "source": [
    "network1.summary()"
   ]
  },
  {
   "attachments": {},
   "cell_type": "markdown",
   "metadata": {},
   "source": [
    "- optimizer parametro de otimização dos pesos da rede neural (adam)\n",
    "- loss função para calcular o erro (binary_crossentropy)\n",
    "- metrics métrica para avaliar o modelo (accuracy)"
   ]
  },
  {
   "cell_type": "code",
   "execution_count": 50,
   "metadata": {},
   "outputs": [],
   "source": [
    "network1.compile(optimizer='adam', loss='binary_crossentropy', metrics=['accuracy']) # Compila a rede neural"
   ]
  },
  {
   "attachments": {},
   "cell_type": "markdown",
   "metadata": {},
   "source": [
    "- Definição do callback para parar o treinamento quando a acurácia de validação não melhorar"
   ]
  },
  {
   "cell_type": "code",
   "execution_count": 51,
   "metadata": {},
   "outputs": [],
   "source": [
    "# Definir o critério de parada antecipada\n",
    "early_stopping = EarlyStopping(monitor='val_loss', patience=150, restore_best_weights=True)\n",
    "# Incluir o critério de parada antecipada na lista de callbacks\n",
    "callbacks_list = [early_stopping]"
   ]
  },
  {
   "attachments": {},
   "cell_type": "markdown",
   "metadata": {},
   "source": [
    "- epochs quantidade de vezes que o modelo será treinado\n",
    "- callbacks parâmetro para definir o callback de parada do treinamento\n",
    "- validation_split parâmetro para definir a quantidade de dados que será usada para validação"
   ]
  },
  {
   "cell_type": "code",
   "execution_count": 52,
   "metadata": {},
   "outputs": [
    {
     "name": "stdout",
     "output_type": "stream",
     "text": [
      "Epoch 1/200\n",
      "7/7 [==============================] - ETA: 0s - loss: 129.5893 - accuracy: 0.4930WARNING:tensorflow:Early stopping conditioned on metric `val_loss` which is not available. Available metrics are: loss,accuracy\n",
      "7/7 [==============================] - 14s 2s/step - loss: 129.5893 - accuracy: 0.4930\n",
      "Epoch 2/200\n",
      "7/7 [==============================] - ETA: 0s - loss: 5.6691 - accuracy: 0.5163WARNING:tensorflow:Early stopping conditioned on metric `val_loss` which is not available. Available metrics are: loss,accuracy\n",
      "7/7 [==============================] - 10s 1s/step - loss: 5.6691 - accuracy: 0.5163\n",
      "Epoch 3/200\n",
      "7/7 [==============================] - ETA: 0s - loss: 7.0422 - accuracy: 0.5349WARNING:tensorflow:Early stopping conditioned on metric `val_loss` which is not available. Available metrics are: loss,accuracy\n",
      "7/7 [==============================] - 11s 2s/step - loss: 7.0422 - accuracy: 0.5349\n",
      "Epoch 4/200\n",
      "7/7 [==============================] - ETA: 0s - loss: 1.7610 - accuracy: 0.5442WARNING:tensorflow:Early stopping conditioned on metric `val_loss` which is not available. Available metrics are: loss,accuracy\n",
      "7/7 [==============================] - 11s 2s/step - loss: 1.7610 - accuracy: 0.5442\n",
      "Epoch 5/200\n",
      "7/7 [==============================] - ETA: 0s - loss: 2.0849 - accuracy: 0.4651WARNING:tensorflow:Early stopping conditioned on metric `val_loss` which is not available. Available metrics are: loss,accuracy\n",
      "7/7 [==============================] - 11s 1s/step - loss: 2.0849 - accuracy: 0.4651\n",
      "Epoch 6/200\n",
      "7/7 [==============================] - ETA: 0s - loss: 0.9981 - accuracy: 0.5814WARNING:tensorflow:Early stopping conditioned on metric `val_loss` which is not available. Available metrics are: loss,accuracy\n",
      "7/7 [==============================] - 10s 1s/step - loss: 0.9981 - accuracy: 0.5814\n",
      "Epoch 7/200\n",
      "7/7 [==============================] - ETA: 0s - loss: 0.6743 - accuracy: 0.6233WARNING:tensorflow:Early stopping conditioned on metric `val_loss` which is not available. Available metrics are: loss,accuracy\n",
      "7/7 [==============================] - 11s 2s/step - loss: 0.6743 - accuracy: 0.6233\n",
      "Epoch 8/200\n",
      "7/7 [==============================] - ETA: 0s - loss: 0.7193 - accuracy: 0.5442WARNING:tensorflow:Early stopping conditioned on metric `val_loss` which is not available. Available metrics are: loss,accuracy\n",
      "7/7 [==============================] - 10s 1s/step - loss: 0.7193 - accuracy: 0.5442\n",
      "Epoch 9/200\n",
      "7/7 [==============================] - ETA: 0s - loss: 0.8436 - accuracy: 0.5395WARNING:tensorflow:Early stopping conditioned on metric `val_loss` which is not available. Available metrics are: loss,accuracy\n",
      "7/7 [==============================] - 11s 2s/step - loss: 0.8436 - accuracy: 0.5395\n",
      "Epoch 10/200\n",
      "7/7 [==============================] - ETA: 0s - loss: 0.6911 - accuracy: 0.6047WARNING:tensorflow:Early stopping conditioned on metric `val_loss` which is not available. Available metrics are: loss,accuracy\n",
      "7/7 [==============================] - 11s 2s/step - loss: 0.6911 - accuracy: 0.6047\n",
      "Epoch 11/200\n",
      "7/7 [==============================] - ETA: 0s - loss: 0.6581 - accuracy: 0.6651WARNING:tensorflow:Early stopping conditioned on metric `val_loss` which is not available. Available metrics are: loss,accuracy\n",
      "7/7 [==============================] - 11s 2s/step - loss: 0.6581 - accuracy: 0.6651\n",
      "Epoch 12/200\n",
      "7/7 [==============================] - ETA: 0s - loss: 0.7437 - accuracy: 0.6558WARNING:tensorflow:Early stopping conditioned on metric `val_loss` which is not available. Available metrics are: loss,accuracy\n",
      "7/7 [==============================] - 11s 2s/step - loss: 0.7437 - accuracy: 0.6558\n",
      "Epoch 13/200\n",
      "7/7 [==============================] - ETA: 0s - loss: 0.6249 - accuracy: 0.6140WARNING:tensorflow:Early stopping conditioned on metric `val_loss` which is not available. Available metrics are: loss,accuracy\n",
      "7/7 [==============================] - 11s 2s/step - loss: 0.6249 - accuracy: 0.6140\n",
      "Epoch 14/200\n",
      "7/7 [==============================] - ETA: 0s - loss: 0.7630 - accuracy: 0.5860WARNING:tensorflow:Early stopping conditioned on metric `val_loss` which is not available. Available metrics are: loss,accuracy\n",
      "7/7 [==============================] - 11s 2s/step - loss: 0.7630 - accuracy: 0.5860\n",
      "Epoch 15/200\n",
      "7/7 [==============================] - ETA: 0s - loss: 0.6762 - accuracy: 0.6186WARNING:tensorflow:Early stopping conditioned on metric `val_loss` which is not available. Available metrics are: loss,accuracy\n",
      "7/7 [==============================] - 11s 2s/step - loss: 0.6762 - accuracy: 0.6186\n",
      "Epoch 16/200\n",
      "7/7 [==============================] - ETA: 0s - loss: 0.4779 - accuracy: 0.7721WARNING:tensorflow:Early stopping conditioned on metric `val_loss` which is not available. Available metrics are: loss,accuracy\n",
      "7/7 [==============================] - 11s 2s/step - loss: 0.4779 - accuracy: 0.7721\n",
      "Epoch 17/200\n",
      "7/7 [==============================] - ETA: 0s - loss: 0.4167 - accuracy: 0.8372WARNING:tensorflow:Early stopping conditioned on metric `val_loss` which is not available. Available metrics are: loss,accuracy\n",
      "7/7 [==============================] - 11s 2s/step - loss: 0.4167 - accuracy: 0.8372\n",
      "Epoch 18/200\n",
      "7/7 [==============================] - ETA: 0s - loss: 0.4946 - accuracy: 0.7535WARNING:tensorflow:Early stopping conditioned on metric `val_loss` which is not available. Available metrics are: loss,accuracy\n",
      "7/7 [==============================] - 11s 2s/step - loss: 0.4946 - accuracy: 0.7535\n",
      "Epoch 19/200\n",
      "7/7 [==============================] - ETA: 0s - loss: 1.1294 - accuracy: 0.5535WARNING:tensorflow:Early stopping conditioned on metric `val_loss` which is not available. Available metrics are: loss,accuracy\n",
      "7/7 [==============================] - 11s 2s/step - loss: 1.1294 - accuracy: 0.5535\n",
      "Epoch 20/200\n",
      "7/7 [==============================] - ETA: 0s - loss: 0.7945 - accuracy: 0.5907WARNING:tensorflow:Early stopping conditioned on metric `val_loss` which is not available. Available metrics are: loss,accuracy\n",
      "7/7 [==============================] - 11s 2s/step - loss: 0.7945 - accuracy: 0.5907\n",
      "Epoch 21/200\n",
      "7/7 [==============================] - ETA: 0s - loss: 1.2076 - accuracy: 0.5209WARNING:tensorflow:Early stopping conditioned on metric `val_loss` which is not available. Available metrics are: loss,accuracy\n",
      "7/7 [==============================] - 11s 2s/step - loss: 1.2076 - accuracy: 0.5209\n",
      "Epoch 22/200\n",
      "7/7 [==============================] - ETA: 0s - loss: 0.8038 - accuracy: 0.6000WARNING:tensorflow:Early stopping conditioned on metric `val_loss` which is not available. Available metrics are: loss,accuracy\n",
      "7/7 [==============================] - 11s 2s/step - loss: 0.8038 - accuracy: 0.6000\n",
      "Epoch 23/200\n",
      "7/7 [==============================] - ETA: 0s - loss: 0.6803 - accuracy: 0.6233WARNING:tensorflow:Early stopping conditioned on metric `val_loss` which is not available. Available metrics are: loss,accuracy\n",
      "7/7 [==============================] - 11s 2s/step - loss: 0.6803 - accuracy: 0.6233\n",
      "Epoch 24/200\n",
      "7/7 [==============================] - ETA: 0s - loss: 0.3900 - accuracy: 0.8465WARNING:tensorflow:Early stopping conditioned on metric `val_loss` which is not available. Available metrics are: loss,accuracy\n",
      "7/7 [==============================] - 11s 2s/step - loss: 0.3900 - accuracy: 0.8465\n",
      "Epoch 25/200\n",
      "7/7 [==============================] - ETA: 0s - loss: 0.3990 - accuracy: 0.8233WARNING:tensorflow:Early stopping conditioned on metric `val_loss` which is not available. Available metrics are: loss,accuracy\n",
      "7/7 [==============================] - 11s 1s/step - loss: 0.3990 - accuracy: 0.8233\n",
      "Epoch 26/200\n",
      "7/7 [==============================] - ETA: 0s - loss: 0.3765 - accuracy: 0.8326WARNING:tensorflow:Early stopping conditioned on metric `val_loss` which is not available. Available metrics are: loss,accuracy\n",
      "7/7 [==============================] - 11s 2s/step - loss: 0.3765 - accuracy: 0.8326\n",
      "Epoch 27/200\n",
      "7/7 [==============================] - ETA: 0s - loss: 0.4883 - accuracy: 0.7721WARNING:tensorflow:Early stopping conditioned on metric `val_loss` which is not available. Available metrics are: loss,accuracy\n",
      "7/7 [==============================] - 11s 2s/step - loss: 0.4883 - accuracy: 0.7721\n",
      "Epoch 28/200\n",
      "7/7 [==============================] - ETA: 0s - loss: 0.5091 - accuracy: 0.7628WARNING:tensorflow:Early stopping conditioned on metric `val_loss` which is not available. Available metrics are: loss,accuracy\n",
      "7/7 [==============================] - 11s 2s/step - loss: 0.5091 - accuracy: 0.7628\n",
      "Epoch 29/200\n",
      "7/7 [==============================] - ETA: 0s - loss: 0.3303 - accuracy: 0.8465WARNING:tensorflow:Early stopping conditioned on metric `val_loss` which is not available. Available metrics are: loss,accuracy\n",
      "7/7 [==============================] - 11s 2s/step - loss: 0.3303 - accuracy: 0.8465\n",
      "Epoch 30/200\n",
      "7/7 [==============================] - ETA: 0s - loss: 0.2358 - accuracy: 0.9116WARNING:tensorflow:Early stopping conditioned on metric `val_loss` which is not available. Available metrics are: loss,accuracy\n",
      "7/7 [==============================] - 11s 2s/step - loss: 0.2358 - accuracy: 0.9116\n",
      "Epoch 31/200\n",
      "7/7 [==============================] - ETA: 0s - loss: 0.3361 - accuracy: 0.8465WARNING:tensorflow:Early stopping conditioned on metric `val_loss` which is not available. Available metrics are: loss,accuracy\n",
      "7/7 [==============================] - 11s 2s/step - loss: 0.3361 - accuracy: 0.8465\n",
      "Epoch 32/200\n",
      "7/7 [==============================] - ETA: 0s - loss: 0.3054 - accuracy: 0.8605WARNING:tensorflow:Early stopping conditioned on metric `val_loss` which is not available. Available metrics are: loss,accuracy\n",
      "7/7 [==============================] - 11s 2s/step - loss: 0.3054 - accuracy: 0.8605\n",
      "Epoch 33/200\n",
      "7/7 [==============================] - ETA: 0s - loss: 0.4038 - accuracy: 0.7721WARNING:tensorflow:Early stopping conditioned on metric `val_loss` which is not available. Available metrics are: loss,accuracy\n",
      "7/7 [==============================] - 11s 2s/step - loss: 0.4038 - accuracy: 0.7721\n",
      "Epoch 34/200\n",
      "7/7 [==============================] - ETA: 0s - loss: 0.3393 - accuracy: 0.8186WARNING:tensorflow:Early stopping conditioned on metric `val_loss` which is not available. Available metrics are: loss,accuracy\n",
      "7/7 [==============================] - 11s 2s/step - loss: 0.3393 - accuracy: 0.8186\n",
      "Epoch 35/200\n",
      "7/7 [==============================] - ETA: 0s - loss: 0.2176 - accuracy: 0.8930WARNING:tensorflow:Early stopping conditioned on metric `val_loss` which is not available. Available metrics are: loss,accuracy\n",
      "7/7 [==============================] - 11s 2s/step - loss: 0.2176 - accuracy: 0.8930\n",
      "Epoch 36/200\n",
      "7/7 [==============================] - ETA: 0s - loss: 0.2216 - accuracy: 0.8977WARNING:tensorflow:Early stopping conditioned on metric `val_loss` which is not available. Available metrics are: loss,accuracy\n",
      "7/7 [==============================] - 11s 2s/step - loss: 0.2216 - accuracy: 0.8977\n",
      "Epoch 37/200\n",
      "7/7 [==============================] - ETA: 0s - loss: 0.2139 - accuracy: 0.9070WARNING:tensorflow:Early stopping conditioned on metric `val_loss` which is not available. Available metrics are: loss,accuracy\n",
      "7/7 [==============================] - 11s 2s/step - loss: 0.2139 - accuracy: 0.9070\n",
      "Epoch 38/200\n",
      "7/7 [==============================] - ETA: 0s - loss: 0.1255 - accuracy: 0.9628WARNING:tensorflow:Early stopping conditioned on metric `val_loss` which is not available. Available metrics are: loss,accuracy\n",
      "7/7 [==============================] - 11s 2s/step - loss: 0.1255 - accuracy: 0.9628\n",
      "Epoch 39/200\n",
      "7/7 [==============================] - ETA: 0s - loss: 0.1100 - accuracy: 0.9721WARNING:tensorflow:Early stopping conditioned on metric `val_loss` which is not available. Available metrics are: loss,accuracy\n",
      "7/7 [==============================] - 11s 2s/step - loss: 0.1100 - accuracy: 0.9721\n",
      "Epoch 40/200\n",
      "7/7 [==============================] - ETA: 0s - loss: 0.0789 - accuracy: 0.9767WARNING:tensorflow:Early stopping conditioned on metric `val_loss` which is not available. Available metrics are: loss,accuracy\n",
      "7/7 [==============================] - 11s 2s/step - loss: 0.0789 - accuracy: 0.9767\n",
      "Epoch 41/200\n",
      "7/7 [==============================] - ETA: 0s - loss: 0.1019 - accuracy: 0.9721WARNING:tensorflow:Early stopping conditioned on metric `val_loss` which is not available. Available metrics are: loss,accuracy\n",
      "7/7 [==============================] - 11s 2s/step - loss: 0.1019 - accuracy: 0.9721\n",
      "Epoch 42/200\n",
      "7/7 [==============================] - ETA: 0s - loss: 0.2317 - accuracy: 0.8884WARNING:tensorflow:Early stopping conditioned on metric `val_loss` which is not available. Available metrics are: loss,accuracy\n",
      "7/7 [==============================] - 11s 2s/step - loss: 0.2317 - accuracy: 0.8884\n",
      "Epoch 43/200\n",
      "7/7 [==============================] - ETA: 0s - loss: 0.1447 - accuracy: 0.9302WARNING:tensorflow:Early stopping conditioned on metric `val_loss` which is not available. Available metrics are: loss,accuracy\n",
      "7/7 [==============================] - 11s 2s/step - loss: 0.1447 - accuracy: 0.9302\n",
      "Epoch 44/200\n",
      "7/7 [==============================] - ETA: 0s - loss: 0.1553 - accuracy: 0.9349WARNING:tensorflow:Early stopping conditioned on metric `val_loss` which is not available. Available metrics are: loss,accuracy\n",
      "7/7 [==============================] - 11s 2s/step - loss: 0.1553 - accuracy: 0.9349\n",
      "Epoch 45/200\n",
      "7/7 [==============================] - ETA: 0s - loss: 0.1266 - accuracy: 0.9442WARNING:tensorflow:Early stopping conditioned on metric `val_loss` which is not available. Available metrics are: loss,accuracy\n",
      "7/7 [==============================] - 11s 2s/step - loss: 0.1266 - accuracy: 0.9442\n",
      "Epoch 46/200\n",
      "7/7 [==============================] - ETA: 0s - loss: 0.0581 - accuracy: 0.9674WARNING:tensorflow:Early stopping conditioned on metric `val_loss` which is not available. Available metrics are: loss,accuracy\n",
      "7/7 [==============================] - 11s 2s/step - loss: 0.0581 - accuracy: 0.9674\n",
      "Epoch 47/200\n",
      "7/7 [==============================] - ETA: 0s - loss: 0.0224 - accuracy: 1.0000WARNING:tensorflow:Early stopping conditioned on metric `val_loss` which is not available. Available metrics are: loss,accuracy\n",
      "7/7 [==============================] - 11s 2s/step - loss: 0.0224 - accuracy: 1.0000\n",
      "Epoch 48/200\n",
      "7/7 [==============================] - ETA: 0s - loss: 0.0171 - accuracy: 1.0000WARNING:tensorflow:Early stopping conditioned on metric `val_loss` which is not available. Available metrics are: loss,accuracy\n",
      "7/7 [==============================] - 11s 2s/step - loss: 0.0171 - accuracy: 1.0000\n",
      "Epoch 49/200\n",
      "7/7 [==============================] - ETA: 0s - loss: 0.0131 - accuracy: 1.0000WARNING:tensorflow:Early stopping conditioned on metric `val_loss` which is not available. Available metrics are: loss,accuracy\n",
      "7/7 [==============================] - 11s 2s/step - loss: 0.0131 - accuracy: 1.0000\n",
      "Epoch 50/200\n",
      "7/7 [==============================] - ETA: 0s - loss: 0.0139 - accuracy: 1.0000WARNING:tensorflow:Early stopping conditioned on metric `val_loss` which is not available. Available metrics are: loss,accuracy\n",
      "7/7 [==============================] - 11s 2s/step - loss: 0.0139 - accuracy: 1.0000\n",
      "Epoch 51/200\n",
      "7/7 [==============================] - ETA: 0s - loss: 0.0076 - accuracy: 1.0000WARNING:tensorflow:Early stopping conditioned on metric `val_loss` which is not available. Available metrics are: loss,accuracy\n",
      "7/7 [==============================] - 11s 2s/step - loss: 0.0076 - accuracy: 1.0000\n",
      "Epoch 52/200\n",
      "7/7 [==============================] - ETA: 0s - loss: 0.0062 - accuracy: 1.0000WARNING:tensorflow:Early stopping conditioned on metric `val_loss` which is not available. Available metrics are: loss,accuracy\n",
      "7/7 [==============================] - 11s 2s/step - loss: 0.0062 - accuracy: 1.0000\n",
      "Epoch 53/200\n",
      "7/7 [==============================] - ETA: 0s - loss: 0.0091 - accuracy: 1.0000WARNING:tensorflow:Early stopping conditioned on metric `val_loss` which is not available. Available metrics are: loss,accuracy\n",
      "7/7 [==============================] - 11s 2s/step - loss: 0.0091 - accuracy: 1.0000\n",
      "Epoch 54/200\n",
      "7/7 [==============================] - ETA: 0s - loss: 0.0062 - accuracy: 1.0000WARNING:tensorflow:Early stopping conditioned on metric `val_loss` which is not available. Available metrics are: loss,accuracy\n",
      "7/7 [==============================] - 11s 2s/step - loss: 0.0062 - accuracy: 1.0000\n",
      "Epoch 55/200\n",
      "7/7 [==============================] - ETA: 0s - loss: 0.0093 - accuracy: 1.0000WARNING:tensorflow:Early stopping conditioned on metric `val_loss` which is not available. Available metrics are: loss,accuracy\n",
      "7/7 [==============================] - 11s 2s/step - loss: 0.0093 - accuracy: 1.0000\n",
      "Epoch 56/200\n",
      "7/7 [==============================] - ETA: 0s - loss: 0.0036 - accuracy: 1.0000WARNING:tensorflow:Early stopping conditioned on metric `val_loss` which is not available. Available metrics are: loss,accuracy\n",
      "7/7 [==============================] - 10s 1s/step - loss: 0.0036 - accuracy: 1.0000\n",
      "Epoch 57/200\n",
      "7/7 [==============================] - ETA: 0s - loss: 0.0021 - accuracy: 1.0000WARNING:tensorflow:Early stopping conditioned on metric `val_loss` which is not available. Available metrics are: loss,accuracy\n",
      "7/7 [==============================] - 11s 2s/step - loss: 0.0021 - accuracy: 1.0000\n",
      "Epoch 58/200\n",
      "7/7 [==============================] - ETA: 0s - loss: 0.0018 - accuracy: 1.0000WARNING:tensorflow:Early stopping conditioned on metric `val_loss` which is not available. Available metrics are: loss,accuracy\n",
      "7/7 [==============================] - 11s 2s/step - loss: 0.0018 - accuracy: 1.0000\n",
      "Epoch 59/200\n",
      "7/7 [==============================] - ETA: 0s - loss: 0.0015 - accuracy: 1.0000WARNING:tensorflow:Early stopping conditioned on metric `val_loss` which is not available. Available metrics are: loss,accuracy\n",
      "7/7 [==============================] - 11s 1s/step - loss: 0.0015 - accuracy: 1.0000\n",
      "Epoch 60/200\n",
      "7/7 [==============================] - ETA: 0s - loss: 0.0012 - accuracy: 1.0000WARNING:tensorflow:Early stopping conditioned on metric `val_loss` which is not available. Available metrics are: loss,accuracy\n",
      "7/7 [==============================] - 11s 2s/step - loss: 0.0012 - accuracy: 1.0000\n",
      "Epoch 61/200\n",
      "7/7 [==============================] - ETA: 0s - loss: 0.0011 - accuracy: 1.0000    WARNING:tensorflow:Early stopping conditioned on metric `val_loss` which is not available. Available metrics are: loss,accuracy\n",
      "7/7 [==============================] - 10s 1s/step - loss: 0.0011 - accuracy: 1.0000\n",
      "Epoch 62/200\n",
      "7/7 [==============================] - ETA: 0s - loss: 9.8458e-04 - accuracy: 1.0000WARNING:tensorflow:Early stopping conditioned on metric `val_loss` which is not available. Available metrics are: loss,accuracy\n",
      "7/7 [==============================] - 11s 2s/step - loss: 9.8458e-04 - accuracy: 1.0000\n",
      "Epoch 63/200\n",
      "7/7 [==============================] - ETA: 0s - loss: 9.0221e-04 - accuracy: 1.0000WARNING:tensorflow:Early stopping conditioned on metric `val_loss` which is not available. Available metrics are: loss,accuracy\n",
      "7/7 [==============================] - 11s 2s/step - loss: 9.0221e-04 - accuracy: 1.0000\n",
      "Epoch 64/200\n",
      "7/7 [==============================] - ETA: 0s - loss: 8.6173e-04 - accuracy: 1.0000WARNING:tensorflow:Early stopping conditioned on metric `val_loss` which is not available. Available metrics are: loss,accuracy\n",
      "7/7 [==============================] - 11s 2s/step - loss: 8.6173e-04 - accuracy: 1.0000\n",
      "Epoch 65/200\n",
      "7/7 [==============================] - ETA: 0s - loss: 7.6599e-04 - accuracy: 1.0000WARNING:tensorflow:Early stopping conditioned on metric `val_loss` which is not available. Available metrics are: loss,accuracy\n",
      "7/7 [==============================] - 11s 2s/step - loss: 7.6599e-04 - accuracy: 1.0000\n",
      "Epoch 66/200\n",
      "7/7 [==============================] - ETA: 0s - loss: 7.1344e-04 - accuracy: 1.0000WARNING:tensorflow:Early stopping conditioned on metric `val_loss` which is not available. Available metrics are: loss,accuracy\n",
      "7/7 [==============================] - 11s 2s/step - loss: 7.1344e-04 - accuracy: 1.0000\n",
      "Epoch 67/200\n",
      "7/7 [==============================] - ETA: 0s - loss: 6.9467e-04 - accuracy: 1.0000WARNING:tensorflow:Early stopping conditioned on metric `val_loss` which is not available. Available metrics are: loss,accuracy\n",
      "7/7 [==============================] - 11s 2s/step - loss: 6.9467e-04 - accuracy: 1.0000\n",
      "Epoch 68/200\n",
      "7/7 [==============================] - ETA: 0s - loss: 6.2692e-04 - accuracy: 1.0000WARNING:tensorflow:Early stopping conditioned on metric `val_loss` which is not available. Available metrics are: loss,accuracy\n",
      "7/7 [==============================] - 10s 1s/step - loss: 6.2692e-04 - accuracy: 1.0000\n",
      "Epoch 69/200\n",
      "7/7 [==============================] - ETA: 0s - loss: 5.9261e-04 - accuracy: 1.0000WARNING:tensorflow:Early stopping conditioned on metric `val_loss` which is not available. Available metrics are: loss,accuracy\n",
      "7/7 [==============================] - 10s 1s/step - loss: 5.9261e-04 - accuracy: 1.0000\n",
      "Epoch 70/200\n",
      "7/7 [==============================] - ETA: 0s - loss: 5.5787e-04 - accuracy: 1.0000WARNING:tensorflow:Early stopping conditioned on metric `val_loss` which is not available. Available metrics are: loss,accuracy\n",
      "7/7 [==============================] - 10s 1s/step - loss: 5.5787e-04 - accuracy: 1.0000\n",
      "Epoch 71/200\n",
      "7/7 [==============================] - ETA: 0s - loss: 5.1984e-04 - accuracy: 1.0000WARNING:tensorflow:Early stopping conditioned on metric `val_loss` which is not available. Available metrics are: loss,accuracy\n",
      "7/7 [==============================] - 10s 1s/step - loss: 5.1984e-04 - accuracy: 1.0000\n",
      "Epoch 72/200\n",
      "7/7 [==============================] - ETA: 0s - loss: 4.9755e-04 - accuracy: 1.0000WARNING:tensorflow:Early stopping conditioned on metric `val_loss` which is not available. Available metrics are: loss,accuracy\n",
      "7/7 [==============================] - 10s 1s/step - loss: 4.9755e-04 - accuracy: 1.0000\n",
      "Epoch 73/200\n",
      "7/7 [==============================] - ETA: 0s - loss: 4.6325e-04 - accuracy: 1.0000WARNING:tensorflow:Early stopping conditioned on metric `val_loss` which is not available. Available metrics are: loss,accuracy\n",
      "7/7 [==============================] - 10s 1s/step - loss: 4.6325e-04 - accuracy: 1.0000\n",
      "Epoch 74/200\n",
      "7/7 [==============================] - ETA: 0s - loss: 4.2167e-04 - accuracy: 1.0000WARNING:tensorflow:Early stopping conditioned on metric `val_loss` which is not available. Available metrics are: loss,accuracy\n",
      "7/7 [==============================] - 11s 2s/step - loss: 4.2167e-04 - accuracy: 1.0000\n",
      "Epoch 75/200\n",
      "7/7 [==============================] - ETA: 0s - loss: 3.7040e-04 - accuracy: 1.0000WARNING:tensorflow:Early stopping conditioned on metric `val_loss` which is not available. Available metrics are: loss,accuracy\n",
      "7/7 [==============================] - 11s 2s/step - loss: 3.7040e-04 - accuracy: 1.0000\n",
      "Epoch 76/200\n",
      "7/7 [==============================] - ETA: 0s - loss: 2.8891e-04 - accuracy: 1.0000WARNING:tensorflow:Early stopping conditioned on metric `val_loss` which is not available. Available metrics are: loss,accuracy\n",
      "7/7 [==============================] - 11s 2s/step - loss: 2.8891e-04 - accuracy: 1.0000\n",
      "Epoch 77/200\n",
      "7/7 [==============================] - ETA: 0s - loss: 2.1777e-04 - accuracy: 1.0000WARNING:tensorflow:Early stopping conditioned on metric `val_loss` which is not available. Available metrics are: loss,accuracy\n",
      "7/7 [==============================] - 11s 2s/step - loss: 2.1777e-04 - accuracy: 1.0000\n",
      "Epoch 78/200\n",
      "7/7 [==============================] - ETA: 0s - loss: 1.6234e-04 - accuracy: 1.0000WARNING:tensorflow:Early stopping conditioned on metric `val_loss` which is not available. Available metrics are: loss,accuracy\n",
      "7/7 [==============================] - 11s 2s/step - loss: 1.6234e-04 - accuracy: 1.0000\n",
      "Epoch 79/200\n",
      "7/7 [==============================] - ETA: 0s - loss: 1.2490e-04 - accuracy: 1.0000WARNING:tensorflow:Early stopping conditioned on metric `val_loss` which is not available. Available metrics are: loss,accuracy\n",
      "7/7 [==============================] - 11s 2s/step - loss: 1.2490e-04 - accuracy: 1.0000\n",
      "Epoch 80/200\n",
      "7/7 [==============================] - ETA: 0s - loss: 9.1966e-05 - accuracy: 1.0000WARNING:tensorflow:Early stopping conditioned on metric `val_loss` which is not available. Available metrics are: loss,accuracy\n",
      "7/7 [==============================] - 11s 2s/step - loss: 9.1966e-05 - accuracy: 1.0000\n",
      "Epoch 81/200\n",
      "7/7 [==============================] - ETA: 0s - loss: 7.4131e-05 - accuracy: 1.0000WARNING:tensorflow:Early stopping conditioned on metric `val_loss` which is not available. Available metrics are: loss,accuracy\n",
      "7/7 [==============================] - 11s 2s/step - loss: 7.4131e-05 - accuracy: 1.0000\n",
      "Epoch 82/200\n",
      "7/7 [==============================] - ETA: 0s - loss: 5.6341e-05 - accuracy: 1.0000WARNING:tensorflow:Early stopping conditioned on metric `val_loss` which is not available. Available metrics are: loss,accuracy\n",
      "7/7 [==============================] - 11s 2s/step - loss: 5.6341e-05 - accuracy: 1.0000\n",
      "Epoch 83/200\n",
      "7/7 [==============================] - ETA: 0s - loss: 4.5817e-05 - accuracy: 1.0000WARNING:tensorflow:Early stopping conditioned on metric `val_loss` which is not available. Available metrics are: loss,accuracy\n",
      "7/7 [==============================] - 11s 2s/step - loss: 4.5817e-05 - accuracy: 1.0000\n",
      "Epoch 84/200\n",
      "7/7 [==============================] - ETA: 0s - loss: 3.7785e-05 - accuracy: 1.0000WARNING:tensorflow:Early stopping conditioned on metric `val_loss` which is not available. Available metrics are: loss,accuracy\n",
      "7/7 [==============================] - 11s 2s/step - loss: 3.7785e-05 - accuracy: 1.0000\n",
      "Epoch 85/200\n",
      "7/7 [==============================] - ETA: 0s - loss: 3.2900e-05 - accuracy: 1.0000WARNING:tensorflow:Early stopping conditioned on metric `val_loss` which is not available. Available metrics are: loss,accuracy\n",
      "7/7 [==============================] - 11s 2s/step - loss: 3.2900e-05 - accuracy: 1.0000\n",
      "Epoch 86/200\n",
      "7/7 [==============================] - ETA: 0s - loss: 2.9386e-05 - accuracy: 1.0000WARNING:tensorflow:Early stopping conditioned on metric `val_loss` which is not available. Available metrics are: loss,accuracy\n",
      "7/7 [==============================] - 11s 2s/step - loss: 2.9386e-05 - accuracy: 1.0000\n",
      "Epoch 87/200\n",
      "7/7 [==============================] - ETA: 0s - loss: 2.5333e-05 - accuracy: 1.0000WARNING:tensorflow:Early stopping conditioned on metric `val_loss` which is not available. Available metrics are: loss,accuracy\n",
      "7/7 [==============================] - 11s 2s/step - loss: 2.5333e-05 - accuracy: 1.0000\n",
      "Epoch 88/200\n",
      "7/7 [==============================] - ETA: 0s - loss: 2.2686e-05 - accuracy: 1.0000WARNING:tensorflow:Early stopping conditioned on metric `val_loss` which is not available. Available metrics are: loss,accuracy\n",
      "7/7 [==============================] - 11s 2s/step - loss: 2.2686e-05 - accuracy: 1.0000\n",
      "Epoch 89/200\n",
      "7/7 [==============================] - ETA: 0s - loss: 2.0636e-05 - accuracy: 1.0000WARNING:tensorflow:Early stopping conditioned on metric `val_loss` which is not available. Available metrics are: loss,accuracy\n",
      "7/7 [==============================] - 11s 2s/step - loss: 2.0636e-05 - accuracy: 1.0000\n",
      "Epoch 90/200\n",
      "7/7 [==============================] - ETA: 0s - loss: 1.8903e-05 - accuracy: 1.0000WARNING:tensorflow:Early stopping conditioned on metric `val_loss` which is not available. Available metrics are: loss,accuracy\n",
      "7/7 [==============================] - 11s 2s/step - loss: 1.8903e-05 - accuracy: 1.0000\n",
      "Epoch 91/200\n",
      "7/7 [==============================] - ETA: 0s - loss: 1.7389e-05 - accuracy: 1.0000WARNING:tensorflow:Early stopping conditioned on metric `val_loss` which is not available. Available metrics are: loss,accuracy\n",
      "7/7 [==============================] - 11s 2s/step - loss: 1.7389e-05 - accuracy: 1.0000\n",
      "Epoch 92/200\n",
      "7/7 [==============================] - ETA: 0s - loss: 1.5796e-05 - accuracy: 1.0000WARNING:tensorflow:Early stopping conditioned on metric `val_loss` which is not available. Available metrics are: loss,accuracy\n",
      "7/7 [==============================] - 11s 2s/step - loss: 1.5796e-05 - accuracy: 1.0000\n",
      "Epoch 93/200\n",
      "7/7 [==============================] - ETA: 0s - loss: 1.4770e-05 - accuracy: 1.0000WARNING:tensorflow:Early stopping conditioned on metric `val_loss` which is not available. Available metrics are: loss,accuracy\n",
      "7/7 [==============================] - 11s 2s/step - loss: 1.4770e-05 - accuracy: 1.0000\n",
      "Epoch 94/200\n",
      "7/7 [==============================] - ETA: 0s - loss: 1.3734e-05 - accuracy: 1.0000WARNING:tensorflow:Early stopping conditioned on metric `val_loss` which is not available. Available metrics are: loss,accuracy\n",
      "7/7 [==============================] - 11s 2s/step - loss: 1.3734e-05 - accuracy: 1.0000\n",
      "Epoch 95/200\n",
      "7/7 [==============================] - ETA: 0s - loss: 1.2886e-05 - accuracy: 1.0000WARNING:tensorflow:Early stopping conditioned on metric `val_loss` which is not available. Available metrics are: loss,accuracy\n",
      "7/7 [==============================] - 11s 2s/step - loss: 1.2886e-05 - accuracy: 1.0000\n",
      "Epoch 96/200\n",
      "7/7 [==============================] - ETA: 0s - loss: 1.2275e-05 - accuracy: 1.0000WARNING:tensorflow:Early stopping conditioned on metric `val_loss` which is not available. Available metrics are: loss,accuracy\n",
      "7/7 [==============================] - 11s 2s/step - loss: 1.2275e-05 - accuracy: 1.0000\n",
      "Epoch 97/200\n",
      "7/7 [==============================] - ETA: 0s - loss: 1.1433e-05 - accuracy: 1.0000WARNING:tensorflow:Early stopping conditioned on metric `val_loss` which is not available. Available metrics are: loss,accuracy\n",
      "7/7 [==============================] - 11s 2s/step - loss: 1.1433e-05 - accuracy: 1.0000\n",
      "Epoch 98/200\n",
      "7/7 [==============================] - ETA: 0s - loss: 1.0822e-05 - accuracy: 1.0000WARNING:tensorflow:Early stopping conditioned on metric `val_loss` which is not available. Available metrics are: loss,accuracy\n",
      "7/7 [==============================] - 11s 2s/step - loss: 1.0822e-05 - accuracy: 1.0000\n",
      "Epoch 99/200\n",
      "7/7 [==============================] - ETA: 0s - loss: 1.0292e-05 - accuracy: 1.0000WARNING:tensorflow:Early stopping conditioned on metric `val_loss` which is not available. Available metrics are: loss,accuracy\n",
      "7/7 [==============================] - 11s 2s/step - loss: 1.0292e-05 - accuracy: 1.0000\n",
      "Epoch 100/200\n",
      "7/7 [==============================] - ETA: 0s - loss: 9.7159e-06 - accuracy: 1.0000WARNING:tensorflow:Early stopping conditioned on metric `val_loss` which is not available. Available metrics are: loss,accuracy\n",
      "7/7 [==============================] - 11s 2s/step - loss: 9.7159e-06 - accuracy: 1.0000\n",
      "Epoch 101/200\n",
      "7/7 [==============================] - ETA: 0s - loss: 9.4064e-06 - accuracy: 1.0000WARNING:tensorflow:Early stopping conditioned on metric `val_loss` which is not available. Available metrics are: loss,accuracy\n",
      "7/7 [==============================] - 11s 2s/step - loss: 9.4064e-06 - accuracy: 1.0000\n",
      "Epoch 102/200\n",
      "7/7 [==============================] - ETA: 0s - loss: 8.8341e-06 - accuracy: 1.0000WARNING:tensorflow:Early stopping conditioned on metric `val_loss` which is not available. Available metrics are: loss,accuracy\n",
      "7/7 [==============================] - 11s 2s/step - loss: 8.8341e-06 - accuracy: 1.0000\n",
      "Epoch 103/200\n",
      "7/7 [==============================] - ETA: 0s - loss: 8.3556e-06 - accuracy: 1.0000WARNING:tensorflow:Early stopping conditioned on metric `val_loss` which is not available. Available metrics are: loss,accuracy\n",
      "7/7 [==============================] - 11s 2s/step - loss: 8.3556e-06 - accuracy: 1.0000\n",
      "Epoch 104/200\n",
      "7/7 [==============================] - ETA: 0s - loss: 8.0078e-06 - accuracy: 1.0000WARNING:tensorflow:Early stopping conditioned on metric `val_loss` which is not available. Available metrics are: loss,accuracy\n",
      "7/7 [==============================] - 11s 2s/step - loss: 8.0078e-06 - accuracy: 1.0000\n",
      "Epoch 105/200\n",
      "7/7 [==============================] - ETA: 0s - loss: 7.7179e-06 - accuracy: 1.0000WARNING:tensorflow:Early stopping conditioned on metric `val_loss` which is not available. Available metrics are: loss,accuracy\n",
      "7/7 [==============================] - 11s 2s/step - loss: 7.7179e-06 - accuracy: 1.0000\n",
      "Epoch 106/200\n",
      "7/7 [==============================] - ETA: 0s - loss: 7.3632e-06 - accuracy: 1.0000WARNING:tensorflow:Early stopping conditioned on metric `val_loss` which is not available. Available metrics are: loss,accuracy\n",
      "7/7 [==============================] - 11s 2s/step - loss: 7.3632e-06 - accuracy: 1.0000\n",
      "Epoch 107/200\n",
      "7/7 [==============================] - ETA: 0s - loss: 7.0805e-06 - accuracy: 1.0000WARNING:tensorflow:Early stopping conditioned on metric `val_loss` which is not available. Available metrics are: loss,accuracy\n",
      "7/7 [==============================] - 11s 2s/step - loss: 7.0805e-06 - accuracy: 1.0000\n",
      "Epoch 108/200\n",
      "7/7 [==============================] - ETA: 0s - loss: 6.7791e-06 - accuracy: 1.0000WARNING:tensorflow:Early stopping conditioned on metric `val_loss` which is not available. Available metrics are: loss,accuracy\n",
      "7/7 [==============================] - 11s 2s/step - loss: 6.7791e-06 - accuracy: 1.0000\n",
      "Epoch 109/200\n",
      "7/7 [==============================] - ETA: 0s - loss: 6.5246e-06 - accuracy: 1.0000WARNING:tensorflow:Early stopping conditioned on metric `val_loss` which is not available. Available metrics are: loss,accuracy\n",
      "7/7 [==============================] - 11s 2s/step - loss: 6.5246e-06 - accuracy: 1.0000\n",
      "Epoch 110/200\n",
      "7/7 [==============================] - ETA: 0s - loss: 6.2987e-06 - accuracy: 1.0000WARNING:tensorflow:Early stopping conditioned on metric `val_loss` which is not available. Available metrics are: loss,accuracy\n",
      "7/7 [==============================] - 11s 2s/step - loss: 6.2987e-06 - accuracy: 1.0000\n",
      "Epoch 111/200\n",
      "7/7 [==============================] - ETA: 0s - loss: 6.1057e-06 - accuracy: 1.0000WARNING:tensorflow:Early stopping conditioned on metric `val_loss` which is not available. Available metrics are: loss,accuracy\n",
      "7/7 [==============================] - 11s 2s/step - loss: 6.1057e-06 - accuracy: 1.0000\n",
      "Epoch 112/200\n",
      "7/7 [==============================] - ETA: 0s - loss: 5.8396e-06 - accuracy: 1.0000WARNING:tensorflow:Early stopping conditioned on metric `val_loss` which is not available. Available metrics are: loss,accuracy\n",
      "7/7 [==============================] - 11s 2s/step - loss: 5.8396e-06 - accuracy: 1.0000\n",
      "Epoch 113/200\n",
      "7/7 [==============================] - ETA: 0s - loss: 5.7028e-06 - accuracy: 1.0000WARNING:tensorflow:Early stopping conditioned on metric `val_loss` which is not available. Available metrics are: loss,accuracy\n",
      "7/7 [==============================] - 11s 2s/step - loss: 5.7028e-06 - accuracy: 1.0000\n",
      "Epoch 114/200\n",
      "7/7 [==============================] - ETA: 0s - loss: 5.4864e-06 - accuracy: 1.0000WARNING:tensorflow:Early stopping conditioned on metric `val_loss` which is not available. Available metrics are: loss,accuracy\n",
      "7/7 [==============================] - 11s 2s/step - loss: 5.4864e-06 - accuracy: 1.0000\n",
      "Epoch 115/200\n",
      "7/7 [==============================] - ETA: 0s - loss: 5.2991e-06 - accuracy: 1.0000WARNING:tensorflow:Early stopping conditioned on metric `val_loss` which is not available. Available metrics are: loss,accuracy\n",
      "7/7 [==============================] - 11s 2s/step - loss: 5.2991e-06 - accuracy: 1.0000\n",
      "Epoch 116/200\n",
      "7/7 [==============================] - ETA: 0s - loss: 5.1261e-06 - accuracy: 1.0000WARNING:tensorflow:Early stopping conditioned on metric `val_loss` which is not available. Available metrics are: loss,accuracy\n",
      "7/7 [==============================] - 11s 2s/step - loss: 5.1261e-06 - accuracy: 1.0000\n",
      "Epoch 117/200\n",
      "7/7 [==============================] - ETA: 0s - loss: 4.9670e-06 - accuracy: 1.0000WARNING:tensorflow:Early stopping conditioned on metric `val_loss` which is not available. Available metrics are: loss,accuracy\n",
      "7/7 [==============================] - 11s 2s/step - loss: 4.9670e-06 - accuracy: 1.0000\n",
      "Epoch 118/200\n",
      "7/7 [==============================] - ETA: 0s - loss: 4.8115e-06 - accuracy: 1.0000WARNING:tensorflow:Early stopping conditioned on metric `val_loss` which is not available. Available metrics are: loss,accuracy\n",
      "7/7 [==============================] - 11s 1s/step - loss: 4.8115e-06 - accuracy: 1.0000\n",
      "Epoch 119/200\n",
      "7/7 [==============================] - ETA: 0s - loss: 4.6688e-06 - accuracy: 1.0000WARNING:tensorflow:Early stopping conditioned on metric `val_loss` which is not available. Available metrics are: loss,accuracy\n",
      "7/7 [==============================] - 11s 2s/step - loss: 4.6688e-06 - accuracy: 1.0000\n",
      "Epoch 120/200\n",
      "7/7 [==============================] - ETA: 0s - loss: 4.5216e-06 - accuracy: 1.0000WARNING:tensorflow:Early stopping conditioned on metric `val_loss` which is not available. Available metrics are: loss,accuracy\n",
      "7/7 [==============================] - 11s 2s/step - loss: 4.5216e-06 - accuracy: 1.0000\n",
      "Epoch 121/200\n",
      "7/7 [==============================] - ETA: 0s - loss: 4.3857e-06 - accuracy: 1.0000WARNING:tensorflow:Early stopping conditioned on metric `val_loss` which is not available. Available metrics are: loss,accuracy\n",
      "7/7 [==============================] - 11s 2s/step - loss: 4.3857e-06 - accuracy: 1.0000\n",
      "Epoch 122/200\n",
      "7/7 [==============================] - ETA: 0s - loss: 4.2860e-06 - accuracy: 1.0000WARNING:tensorflow:Early stopping conditioned on metric `val_loss` which is not available. Available metrics are: loss,accuracy\n",
      "7/7 [==============================] - 11s 2s/step - loss: 4.2860e-06 - accuracy: 1.0000\n",
      "Epoch 123/200\n",
      "7/7 [==============================] - ETA: 0s - loss: 4.1601e-06 - accuracy: 1.0000WARNING:tensorflow:Early stopping conditioned on metric `val_loss` which is not available. Available metrics are: loss,accuracy\n",
      "7/7 [==============================] - 11s 2s/step - loss: 4.1601e-06 - accuracy: 1.0000\n",
      "Epoch 124/200\n",
      "7/7 [==============================] - ETA: 0s - loss: 4.0328e-06 - accuracy: 1.0000WARNING:tensorflow:Early stopping conditioned on metric `val_loss` which is not available. Available metrics are: loss,accuracy\n",
      "7/7 [==============================] - 11s 2s/step - loss: 4.0328e-06 - accuracy: 1.0000\n",
      "Epoch 125/200\n",
      "7/7 [==============================] - ETA: 0s - loss: 3.9183e-06 - accuracy: 1.0000WARNING:tensorflow:Early stopping conditioned on metric `val_loss` which is not available. Available metrics are: loss,accuracy\n",
      "7/7 [==============================] - 11s 2s/step - loss: 3.9183e-06 - accuracy: 1.0000\n",
      "Epoch 126/200\n",
      "7/7 [==============================] - ETA: 0s - loss: 3.8209e-06 - accuracy: 1.0000WARNING:tensorflow:Early stopping conditioned on metric `val_loss` which is not available. Available metrics are: loss,accuracy\n",
      "7/7 [==============================] - 11s 2s/step - loss: 3.8209e-06 - accuracy: 1.0000\n",
      "Epoch 127/200\n",
      "7/7 [==============================] - ETA: 0s - loss: 3.7224e-06 - accuracy: 1.0000WARNING:tensorflow:Early stopping conditioned on metric `val_loss` which is not available. Available metrics are: loss,accuracy\n",
      "7/7 [==============================] - 11s 2s/step - loss: 3.7224e-06 - accuracy: 1.0000\n",
      "Epoch 128/200\n",
      "7/7 [==============================] - ETA: 0s - loss: 3.6202e-06 - accuracy: 1.0000WARNING:tensorflow:Early stopping conditioned on metric `val_loss` which is not available. Available metrics are: loss,accuracy\n",
      "7/7 [==============================] - 11s 2s/step - loss: 3.6202e-06 - accuracy: 1.0000\n",
      "Epoch 129/200\n",
      "7/7 [==============================] - ETA: 0s - loss: 3.5425e-06 - accuracy: 1.0000WARNING:tensorflow:Early stopping conditioned on metric `val_loss` which is not available. Available metrics are: loss,accuracy\n",
      "7/7 [==============================] - 11s 2s/step - loss: 3.5425e-06 - accuracy: 1.0000\n",
      "Epoch 130/200\n",
      "7/7 [==============================] - ETA: 0s - loss: 3.4518e-06 - accuracy: 1.0000WARNING:tensorflow:Early stopping conditioned on metric `val_loss` which is not available. Available metrics are: loss,accuracy\n",
      "7/7 [==============================] - 11s 2s/step - loss: 3.4518e-06 - accuracy: 1.0000\n",
      "Epoch 131/200\n",
      "7/7 [==============================] - ETA: 0s - loss: 3.3733e-06 - accuracy: 1.0000WARNING:tensorflow:Early stopping conditioned on metric `val_loss` which is not available. Available metrics are: loss,accuracy\n",
      "7/7 [==============================] - 11s 2s/step - loss: 3.3733e-06 - accuracy: 1.0000\n",
      "Epoch 132/200\n",
      "7/7 [==============================] - ETA: 0s - loss: 3.2959e-06 - accuracy: 1.0000WARNING:tensorflow:Early stopping conditioned on metric `val_loss` which is not available. Available metrics are: loss,accuracy\n",
      "7/7 [==============================] - 11s 1s/step - loss: 3.2959e-06 - accuracy: 1.0000\n",
      "Epoch 133/200\n",
      "7/7 [==============================] - ETA: 0s - loss: 3.2143e-06 - accuracy: 1.0000WARNING:tensorflow:Early stopping conditioned on metric `val_loss` which is not available. Available metrics are: loss,accuracy\n",
      "7/7 [==============================] - 11s 2s/step - loss: 3.2143e-06 - accuracy: 1.0000\n",
      "Epoch 134/200\n",
      "7/7 [==============================] - ETA: 0s - loss: 3.1465e-06 - accuracy: 1.0000WARNING:tensorflow:Early stopping conditioned on metric `val_loss` which is not available. Available metrics are: loss,accuracy\n",
      "7/7 [==============================] - 11s 2s/step - loss: 3.1465e-06 - accuracy: 1.0000\n",
      "Epoch 135/200\n",
      "7/7 [==============================] - ETA: 0s - loss: 3.0636e-06 - accuracy: 1.0000WARNING:tensorflow:Early stopping conditioned on metric `val_loss` which is not available. Available metrics are: loss,accuracy\n",
      "7/7 [==============================] - 11s 2s/step - loss: 3.0636e-06 - accuracy: 1.0000\n",
      "Epoch 136/200\n",
      "7/7 [==============================] - ETA: 0s - loss: 3.0013e-06 - accuracy: 1.0000WARNING:tensorflow:Early stopping conditioned on metric `val_loss` which is not available. Available metrics are: loss,accuracy\n",
      "7/7 [==============================] - 11s 2s/step - loss: 3.0013e-06 - accuracy: 1.0000\n",
      "Epoch 137/200\n",
      "7/7 [==============================] - ETA: 0s - loss: 2.9381e-06 - accuracy: 1.0000WARNING:tensorflow:Early stopping conditioned on metric `val_loss` which is not available. Available metrics are: loss,accuracy\n",
      "7/7 [==============================] - 11s 2s/step - loss: 2.9381e-06 - accuracy: 1.0000\n",
      "Epoch 138/200\n",
      "7/7 [==============================] - ETA: 0s - loss: 2.8758e-06 - accuracy: 1.0000WARNING:tensorflow:Early stopping conditioned on metric `val_loss` which is not available. Available metrics are: loss,accuracy\n",
      "7/7 [==============================] - 11s 2s/step - loss: 2.8758e-06 - accuracy: 1.0000\n",
      "Epoch 139/200\n",
      "7/7 [==============================] - ETA: 0s - loss: 2.8002e-06 - accuracy: 1.0000WARNING:tensorflow:Early stopping conditioned on metric `val_loss` which is not available. Available metrics are: loss,accuracy\n",
      "7/7 [==============================] - 11s 2s/step - loss: 2.8002e-06 - accuracy: 1.0000\n",
      "Epoch 140/200\n",
      "7/7 [==============================] - ETA: 0s - loss: 2.7612e-06 - accuracy: 1.0000WARNING:tensorflow:Early stopping conditioned on metric `val_loss` which is not available. Available metrics are: loss,accuracy\n",
      "7/7 [==============================] - 11s 2s/step - loss: 2.7612e-06 - accuracy: 1.0000\n",
      "Epoch 141/200\n",
      "7/7 [==============================] - ETA: 0s - loss: 2.6928e-06 - accuracy: 1.0000WARNING:tensorflow:Early stopping conditioned on metric `val_loss` which is not available. Available metrics are: loss,accuracy\n",
      "7/7 [==============================] - 11s 2s/step - loss: 2.6928e-06 - accuracy: 1.0000\n",
      "Epoch 142/200\n",
      "7/7 [==============================] - ETA: 0s - loss: 2.6340e-06 - accuracy: 1.0000WARNING:tensorflow:Early stopping conditioned on metric `val_loss` which is not available. Available metrics are: loss,accuracy\n",
      "7/7 [==============================] - 11s 2s/step - loss: 2.6340e-06 - accuracy: 1.0000\n",
      "Epoch 143/200\n",
      "7/7 [==============================] - ETA: 0s - loss: 2.5902e-06 - accuracy: 1.0000WARNING:tensorflow:Early stopping conditioned on metric `val_loss` which is not available. Available metrics are: loss,accuracy\n",
      "7/7 [==============================] - 11s 2s/step - loss: 2.5902e-06 - accuracy: 1.0000\n",
      "Epoch 144/200\n",
      "7/7 [==============================] - ETA: 0s - loss: 2.5366e-06 - accuracy: 1.0000WARNING:tensorflow:Early stopping conditioned on metric `val_loss` which is not available. Available metrics are: loss,accuracy\n",
      "7/7 [==============================] - 11s 2s/step - loss: 2.5366e-06 - accuracy: 1.0000\n",
      "Epoch 145/200\n",
      "7/7 [==============================] - ETA: 0s - loss: 2.4793e-06 - accuracy: 1.0000WARNING:tensorflow:Early stopping conditioned on metric `val_loss` which is not available. Available metrics are: loss,accuracy\n",
      "7/7 [==============================] - 11s 2s/step - loss: 2.4793e-06 - accuracy: 1.0000\n",
      "Epoch 146/200\n",
      "7/7 [==============================] - ETA: 0s - loss: 2.4439e-06 - accuracy: 1.0000WARNING:tensorflow:Early stopping conditioned on metric `val_loss` which is not available. Available metrics are: loss,accuracy\n",
      "7/7 [==============================] - 11s 2s/step - loss: 2.4439e-06 - accuracy: 1.0000\n",
      "Epoch 147/200\n",
      "7/7 [==============================] - ETA: 0s - loss: 2.3986e-06 - accuracy: 1.0000WARNING:tensorflow:Early stopping conditioned on metric `val_loss` which is not available. Available metrics are: loss,accuracy\n",
      "7/7 [==============================] - 11s 2s/step - loss: 2.3986e-06 - accuracy: 1.0000\n",
      "Epoch 148/200\n",
      "7/7 [==============================] - ETA: 0s - loss: 2.3369e-06 - accuracy: 1.0000WARNING:tensorflow:Early stopping conditioned on metric `val_loss` which is not available. Available metrics are: loss,accuracy\n",
      "7/7 [==============================] - 11s 2s/step - loss: 2.3369e-06 - accuracy: 1.0000\n",
      "Epoch 149/200\n",
      "7/7 [==============================] - ETA: 0s - loss: 2.3047e-06 - accuracy: 1.0000WARNING:tensorflow:Early stopping conditioned on metric `val_loss` which is not available. Available metrics are: loss,accuracy\n",
      "7/7 [==============================] - 11s 2s/step - loss: 2.3047e-06 - accuracy: 1.0000\n",
      "Epoch 150/200\n",
      "7/7 [==============================] - ETA: 0s - loss: 2.2566e-06 - accuracy: 1.0000WARNING:tensorflow:Early stopping conditioned on metric `val_loss` which is not available. Available metrics are: loss,accuracy\n",
      "7/7 [==============================] - 11s 2s/step - loss: 2.2566e-06 - accuracy: 1.0000\n",
      "Epoch 151/200\n",
      "7/7 [==============================] - ETA: 0s - loss: 2.2173e-06 - accuracy: 1.0000WARNING:tensorflow:Early stopping conditioned on metric `val_loss` which is not available. Available metrics are: loss,accuracy\n",
      "7/7 [==============================] - 11s 2s/step - loss: 2.2173e-06 - accuracy: 1.0000\n",
      "Epoch 152/200\n",
      "7/7 [==============================] - ETA: 0s - loss: 2.1779e-06 - accuracy: 1.0000WARNING:tensorflow:Early stopping conditioned on metric `val_loss` which is not available. Available metrics are: loss,accuracy\n",
      "7/7 [==============================] - 11s 2s/step - loss: 2.1779e-06 - accuracy: 1.0000\n",
      "Epoch 153/200\n",
      "7/7 [==============================] - ETA: 0s - loss: 2.1441e-06 - accuracy: 1.0000WARNING:tensorflow:Early stopping conditioned on metric `val_loss` which is not available. Available metrics are: loss,accuracy\n",
      "7/7 [==============================] - 11s 2s/step - loss: 2.1441e-06 - accuracy: 1.0000\n",
      "Epoch 154/200\n",
      "7/7 [==============================] - ETA: 0s - loss: 2.1036e-06 - accuracy: 1.0000WARNING:tensorflow:Early stopping conditioned on metric `val_loss` which is not available. Available metrics are: loss,accuracy\n",
      "7/7 [==============================] - 11s 2s/step - loss: 2.1036e-06 - accuracy: 1.0000\n",
      "Epoch 155/200\n",
      "7/7 [==============================] - ETA: 0s - loss: 2.0674e-06 - accuracy: 1.0000WARNING:tensorflow:Early stopping conditioned on metric `val_loss` which is not available. Available metrics are: loss,accuracy\n",
      "7/7 [==============================] - 11s 2s/step - loss: 2.0674e-06 - accuracy: 1.0000\n",
      "Epoch 156/200\n",
      "7/7 [==============================] - ETA: 0s - loss: 2.0269e-06 - accuracy: 1.0000WARNING:tensorflow:Early stopping conditioned on metric `val_loss` which is not available. Available metrics are: loss,accuracy\n",
      "7/7 [==============================] - 11s 2s/step - loss: 2.0269e-06 - accuracy: 1.0000\n",
      "Epoch 157/200\n",
      "7/7 [==============================] - ETA: 0s - loss: 1.9996e-06 - accuracy: 1.0000WARNING:tensorflow:Early stopping conditioned on metric `val_loss` which is not available. Available metrics are: loss,accuracy\n",
      "7/7 [==============================] - 11s 2s/step - loss: 1.9996e-06 - accuracy: 1.0000\n",
      "Epoch 158/200\n",
      "7/7 [==============================] - ETA: 0s - loss: 1.9642e-06 - accuracy: 1.0000WARNING:tensorflow:Early stopping conditioned on metric `val_loss` which is not available. Available metrics are: loss,accuracy\n",
      "7/7 [==============================] - 11s 2s/step - loss: 1.9642e-06 - accuracy: 1.0000\n",
      "Epoch 159/200\n",
      "7/7 [==============================] - ETA: 0s - loss: 1.9225e-06 - accuracy: 1.0000WARNING:tensorflow:Early stopping conditioned on metric `val_loss` which is not available. Available metrics are: loss,accuracy\n",
      "7/7 [==============================] - 11s 2s/step - loss: 1.9225e-06 - accuracy: 1.0000\n",
      "Epoch 160/200\n",
      "7/7 [==============================] - ETA: 0s - loss: 1.8958e-06 - accuracy: 1.0000WARNING:tensorflow:Early stopping conditioned on metric `val_loss` which is not available. Available metrics are: loss,accuracy\n",
      "7/7 [==============================] - 11s 2s/step - loss: 1.8958e-06 - accuracy: 1.0000\n",
      "Epoch 161/200\n",
      "7/7 [==============================] - ETA: 0s - loss: 1.8639e-06 - accuracy: 1.0000WARNING:tensorflow:Early stopping conditioned on metric `val_loss` which is not available. Available metrics are: loss,accuracy\n",
      "7/7 [==============================] - 11s 2s/step - loss: 1.8639e-06 - accuracy: 1.0000\n",
      "Epoch 162/200\n",
      "7/7 [==============================] - ETA: 0s - loss: 1.8362e-06 - accuracy: 1.0000WARNING:tensorflow:Early stopping conditioned on metric `val_loss` which is not available. Available metrics are: loss,accuracy\n",
      "7/7 [==============================] - 11s 2s/step - loss: 1.8362e-06 - accuracy: 1.0000\n",
      "Epoch 163/200\n",
      "7/7 [==============================] - ETA: 0s - loss: 1.8053e-06 - accuracy: 1.0000WARNING:tensorflow:Early stopping conditioned on metric `val_loss` which is not available. Available metrics are: loss,accuracy\n",
      "7/7 [==============================] - 11s 2s/step - loss: 1.8053e-06 - accuracy: 1.0000\n",
      "Epoch 164/200\n",
      "7/7 [==============================] - ETA: 0s - loss: 1.7733e-06 - accuracy: 1.0000WARNING:tensorflow:Early stopping conditioned on metric `val_loss` which is not available. Available metrics are: loss,accuracy\n",
      "7/7 [==============================] - 11s 2s/step - loss: 1.7733e-06 - accuracy: 1.0000\n",
      "Epoch 165/200\n",
      "7/7 [==============================] - ETA: 0s - loss: 1.7474e-06 - accuracy: 1.0000WARNING:tensorflow:Early stopping conditioned on metric `val_loss` which is not available. Available metrics are: loss,accuracy\n",
      "7/7 [==============================] - 11s 2s/step - loss: 1.7474e-06 - accuracy: 1.0000\n",
      "Epoch 166/200\n",
      "7/7 [==============================] - ETA: 0s - loss: 1.7227e-06 - accuracy: 1.0000WARNING:tensorflow:Early stopping conditioned on metric `val_loss` which is not available. Available metrics are: loss,accuracy\n",
      "7/7 [==============================] - 11s 2s/step - loss: 1.7227e-06 - accuracy: 1.0000\n",
      "Epoch 167/200\n",
      "7/7 [==============================] - ETA: 0s - loss: 1.6919e-06 - accuracy: 1.0000WARNING:tensorflow:Early stopping conditioned on metric `val_loss` which is not available. Available metrics are: loss,accuracy\n",
      "7/7 [==============================] - 11s 2s/step - loss: 1.6919e-06 - accuracy: 1.0000\n",
      "Epoch 168/200\n",
      "7/7 [==============================] - ETA: 0s - loss: 1.6665e-06 - accuracy: 1.0000WARNING:tensorflow:Early stopping conditioned on metric `val_loss` which is not available. Available metrics are: loss,accuracy\n",
      "7/7 [==============================] - 11s 2s/step - loss: 1.6665e-06 - accuracy: 1.0000\n",
      "Epoch 169/200\n",
      "7/7 [==============================] - ETA: 0s - loss: 1.6413e-06 - accuracy: 1.0000WARNING:tensorflow:Early stopping conditioned on metric `val_loss` which is not available. Available metrics are: loss,accuracy\n",
      "7/7 [==============================] - 11s 2s/step - loss: 1.6413e-06 - accuracy: 1.0000\n",
      "Epoch 170/200\n",
      "7/7 [==============================] - ETA: 0s - loss: 1.6191e-06 - accuracy: 1.0000WARNING:tensorflow:Early stopping conditioned on metric `val_loss` which is not available. Available metrics are: loss,accuracy\n",
      "7/7 [==============================] - 11s 2s/step - loss: 1.6191e-06 - accuracy: 1.0000\n",
      "Epoch 171/200\n",
      "7/7 [==============================] - ETA: 0s - loss: 1.5994e-06 - accuracy: 1.0000WARNING:tensorflow:Early stopping conditioned on metric `val_loss` which is not available. Available metrics are: loss,accuracy\n",
      "7/7 [==============================] - 10s 1s/step - loss: 1.5994e-06 - accuracy: 1.0000\n",
      "Epoch 172/200\n",
      "7/7 [==============================] - ETA: 0s - loss: 1.5754e-06 - accuracy: 1.0000WARNING:tensorflow:Early stopping conditioned on metric `val_loss` which is not available. Available metrics are: loss,accuracy\n",
      "7/7 [==============================] - 10s 1s/step - loss: 1.5754e-06 - accuracy: 1.0000\n",
      "Epoch 173/200\n",
      "7/7 [==============================] - ETA: 0s - loss: 1.5452e-06 - accuracy: 1.0000WARNING:tensorflow:Early stopping conditioned on metric `val_loss` which is not available. Available metrics are: loss,accuracy\n",
      "7/7 [==============================] - 10s 1s/step - loss: 1.5452e-06 - accuracy: 1.0000\n",
      "Epoch 174/200\n",
      "7/7 [==============================] - ETA: 0s - loss: 1.5240e-06 - accuracy: 1.0000WARNING:tensorflow:Early stopping conditioned on metric `val_loss` which is not available. Available metrics are: loss,accuracy\n",
      "7/7 [==============================] - 11s 2s/step - loss: 1.5240e-06 - accuracy: 1.0000\n",
      "Epoch 175/200\n",
      "7/7 [==============================] - ETA: 0s - loss: 1.5044e-06 - accuracy: 1.0000WARNING:tensorflow:Early stopping conditioned on metric `val_loss` which is not available. Available metrics are: loss,accuracy\n",
      "7/7 [==============================] - 10s 1s/step - loss: 1.5044e-06 - accuracy: 1.0000\n",
      "Epoch 176/200\n",
      "7/7 [==============================] - ETA: 0s - loss: 1.4785e-06 - accuracy: 1.0000WARNING:tensorflow:Early stopping conditioned on metric `val_loss` which is not available. Available metrics are: loss,accuracy\n",
      "7/7 [==============================] - 10s 1s/step - loss: 1.4785e-06 - accuracy: 1.0000\n",
      "Epoch 177/200\n",
      "7/7 [==============================] - ETA: 0s - loss: 1.4614e-06 - accuracy: 1.0000WARNING:tensorflow:Early stopping conditioned on metric `val_loss` which is not available. Available metrics are: loss,accuracy\n",
      "7/7 [==============================] - 10s 1s/step - loss: 1.4614e-06 - accuracy: 1.0000\n",
      "Epoch 178/200\n",
      "7/7 [==============================] - ETA: 0s - loss: 1.4439e-06 - accuracy: 1.0000WARNING:tensorflow:Early stopping conditioned on metric `val_loss` which is not available. Available metrics are: loss,accuracy\n",
      "7/7 [==============================] - 10s 1s/step - loss: 1.4439e-06 - accuracy: 1.0000\n",
      "Epoch 179/200\n",
      "7/7 [==============================] - ETA: 0s - loss: 1.4179e-06 - accuracy: 1.0000WARNING:tensorflow:Early stopping conditioned on metric `val_loss` which is not available. Available metrics are: loss,accuracy\n",
      "7/7 [==============================] - 10s 1s/step - loss: 1.4179e-06 - accuracy: 1.0000\n",
      "Epoch 180/200\n",
      "7/7 [==============================] - ETA: 0s - loss: 1.3964e-06 - accuracy: 1.0000WARNING:tensorflow:Early stopping conditioned on metric `val_loss` which is not available. Available metrics are: loss,accuracy\n",
      "7/7 [==============================] - 10s 1s/step - loss: 1.3964e-06 - accuracy: 1.0000\n",
      "Epoch 181/200\n",
      "7/7 [==============================] - ETA: 0s - loss: 1.3773e-06 - accuracy: 1.0000WARNING:tensorflow:Early stopping conditioned on metric `val_loss` which is not available. Available metrics are: loss,accuracy\n",
      "7/7 [==============================] - 10s 1s/step - loss: 1.3773e-06 - accuracy: 1.0000\n",
      "Epoch 182/200\n",
      "7/7 [==============================] - ETA: 0s - loss: 1.3597e-06 - accuracy: 1.0000WARNING:tensorflow:Early stopping conditioned on metric `val_loss` which is not available. Available metrics are: loss,accuracy\n",
      "7/7 [==============================] - 11s 2s/step - loss: 1.3597e-06 - accuracy: 1.0000\n",
      "Epoch 183/200\n",
      "7/7 [==============================] - ETA: 0s - loss: 1.3448e-06 - accuracy: 1.0000WARNING:tensorflow:Early stopping conditioned on metric `val_loss` which is not available. Available metrics are: loss,accuracy\n",
      "7/7 [==============================] - 11s 2s/step - loss: 1.3448e-06 - accuracy: 1.0000\n",
      "Epoch 184/200\n",
      "7/7 [==============================] - ETA: 0s - loss: 1.3237e-06 - accuracy: 1.0000WARNING:tensorflow:Early stopping conditioned on metric `val_loss` which is not available. Available metrics are: loss,accuracy\n",
      "7/7 [==============================] - 11s 2s/step - loss: 1.3237e-06 - accuracy: 1.0000\n",
      "Epoch 185/200\n",
      "7/7 [==============================] - ETA: 0s - loss: 1.3065e-06 - accuracy: 1.0000WARNING:tensorflow:Early stopping conditioned on metric `val_loss` which is not available. Available metrics are: loss,accuracy\n",
      "7/7 [==============================] - 11s 2s/step - loss: 1.3065e-06 - accuracy: 1.0000\n",
      "Epoch 186/200\n",
      "7/7 [==============================] - ETA: 0s - loss: 1.2883e-06 - accuracy: 1.0000WARNING:tensorflow:Early stopping conditioned on metric `val_loss` which is not available. Available metrics are: loss,accuracy\n",
      "7/7 [==============================] - 11s 2s/step - loss: 1.2883e-06 - accuracy: 1.0000\n",
      "Epoch 187/200\n",
      "7/7 [==============================] - ETA: 0s - loss: 1.2710e-06 - accuracy: 1.0000WARNING:tensorflow:Early stopping conditioned on metric `val_loss` which is not available. Available metrics are: loss,accuracy\n",
      "7/7 [==============================] - 11s 2s/step - loss: 1.2710e-06 - accuracy: 1.0000\n",
      "Epoch 188/200\n",
      "7/7 [==============================] - ETA: 0s - loss: 1.2537e-06 - accuracy: 1.0000WARNING:tensorflow:Early stopping conditioned on metric `val_loss` which is not available. Available metrics are: loss,accuracy\n",
      "7/7 [==============================] - 11s 2s/step - loss: 1.2537e-06 - accuracy: 1.0000\n",
      "Epoch 189/200\n",
      "7/7 [==============================] - ETA: 0s - loss: 1.2389e-06 - accuracy: 1.0000WARNING:tensorflow:Early stopping conditioned on metric `val_loss` which is not available. Available metrics are: loss,accuracy\n",
      "7/7 [==============================] - 11s 2s/step - loss: 1.2389e-06 - accuracy: 1.0000\n",
      "Epoch 190/200\n",
      "7/7 [==============================] - ETA: 0s - loss: 1.2212e-06 - accuracy: 1.0000WARNING:tensorflow:Early stopping conditioned on metric `val_loss` which is not available. Available metrics are: loss,accuracy\n",
      "7/7 [==============================] - 11s 2s/step - loss: 1.2212e-06 - accuracy: 1.0000\n",
      "Epoch 191/200\n",
      "7/7 [==============================] - ETA: 0s - loss: 1.2100e-06 - accuracy: 1.0000WARNING:tensorflow:Early stopping conditioned on metric `val_loss` which is not available. Available metrics are: loss,accuracy\n",
      "7/7 [==============================] - 11s 2s/step - loss: 1.2100e-06 - accuracy: 1.0000\n",
      "Epoch 192/200\n",
      "7/7 [==============================] - ETA: 0s - loss: 1.1896e-06 - accuracy: 1.0000WARNING:tensorflow:Early stopping conditioned on metric `val_loss` which is not available. Available metrics are: loss,accuracy\n",
      "7/7 [==============================] - 11s 2s/step - loss: 1.1896e-06 - accuracy: 1.0000\n",
      "Epoch 193/200\n",
      "7/7 [==============================] - ETA: 0s - loss: 1.1764e-06 - accuracy: 1.0000WARNING:tensorflow:Early stopping conditioned on metric `val_loss` which is not available. Available metrics are: loss,accuracy\n",
      "7/7 [==============================] - 11s 2s/step - loss: 1.1764e-06 - accuracy: 1.0000\n",
      "Epoch 194/200\n",
      "7/7 [==============================] - ETA: 0s - loss: 1.1632e-06 - accuracy: 1.0000WARNING:tensorflow:Early stopping conditioned on metric `val_loss` which is not available. Available metrics are: loss,accuracy\n",
      "7/7 [==============================] - 11s 2s/step - loss: 1.1632e-06 - accuracy: 1.0000\n",
      "Epoch 195/200\n",
      "7/7 [==============================] - ETA: 0s - loss: 1.1452e-06 - accuracy: 1.0000WARNING:tensorflow:Early stopping conditioned on metric `val_loss` which is not available. Available metrics are: loss,accuracy\n",
      "7/7 [==============================] - 11s 2s/step - loss: 1.1452e-06 - accuracy: 1.0000\n",
      "Epoch 196/200\n",
      "7/7 [==============================] - ETA: 0s - loss: 1.1302e-06 - accuracy: 1.0000WARNING:tensorflow:Early stopping conditioned on metric `val_loss` which is not available. Available metrics are: loss,accuracy\n",
      "7/7 [==============================] - 11s 2s/step - loss: 1.1302e-06 - accuracy: 1.0000\n",
      "Epoch 197/200\n",
      "7/7 [==============================] - ETA: 0s - loss: 1.1180e-06 - accuracy: 1.0000WARNING:tensorflow:Early stopping conditioned on metric `val_loss` which is not available. Available metrics are: loss,accuracy\n",
      "7/7 [==============================] - 11s 2s/step - loss: 1.1180e-06 - accuracy: 1.0000\n",
      "Epoch 198/200\n",
      "7/7 [==============================] - ETA: 0s - loss: 1.1040e-06 - accuracy: 1.0000WARNING:tensorflow:Early stopping conditioned on metric `val_loss` which is not available. Available metrics are: loss,accuracy\n",
      "7/7 [==============================] - 11s 2s/step - loss: 1.1040e-06 - accuracy: 1.0000\n",
      "Epoch 199/200\n",
      "7/7 [==============================] - ETA: 0s - loss: 1.0921e-06 - accuracy: 1.0000WARNING:tensorflow:Early stopping conditioned on metric `val_loss` which is not available. Available metrics are: loss,accuracy\n",
      "7/7 [==============================] - 11s 2s/step - loss: 1.0921e-06 - accuracy: 1.0000\n",
      "Epoch 200/200\n",
      "7/7 [==============================] - ETA: 0s - loss: 1.0805e-06 - accuracy: 1.0000WARNING:tensorflow:Early stopping conditioned on metric `val_loss` which is not available. Available metrics are: loss,accuracy\n",
      "7/7 [==============================] - 11s 2s/step - loss: 1.0805e-06 - accuracy: 1.0000\n"
     ]
    }
   ],
   "source": [
    "historico = network1.fit(X_train, y_train, epochs=200, callbacks=callbacks_list) # Treina a rede neural"
   ]
  },
  {
   "attachments": {},
   "cell_type": "markdown",
   "metadata": {},
   "source": [
    "- Avaliação da rede neural"
   ]
  },
  {
   "cell_type": "code",
   "execution_count": 53,
   "metadata": {},
   "outputs": [
    {
     "data": {
      "text/plain": [
       "dict_keys(['loss', 'accuracy'])"
      ]
     },
     "execution_count": 53,
     "metadata": {},
     "output_type": "execute_result"
    }
   ],
   "source": [
    "historico.history.keys()"
   ]
  },
  {
   "attachments": {},
   "cell_type": "markdown",
   "metadata": {},
   "source": [
    "- Plot dos valores de erro"
   ]
  },
  {
   "cell_type": "code",
   "execution_count": 54,
   "metadata": {},
   "outputs": [
    {
     "data": {
      "image/png": "[encoded data removed]",
      "text/plain": [
       "<Figure size 640x480 with 1 Axes>"
      ]
     },
     "metadata": {},
     "output_type": "display_data"
    }
   ],
   "source": [
    "plt.plot(historico.history['loss']);"
   ]
  },
  {
   "attachments": {},
   "cell_type": "markdown",
   "metadata": {},
   "source": [
    "- Plot da acurácia que é a porcentagem de acerto"
   ]
  },
  {
   "cell_type": "code",
   "execution_count": 55,
   "metadata": {},
   "outputs": [
    {
     "data": {
      "image/png": "[encoded data removed]",
      "text/plain": [
       "<Figure size 640x480 with 1 Axes>"
      ]
     },
     "metadata": {},
     "output_type": "display_data"
    }
   ],
   "source": [
    "plt.plot(historico.history['accuracy']);"
   ]
  },
  {
   "cell_type": "code",
   "execution_count": 56,
   "metadata": {},
   "outputs": [
    {
     "data": {
      "text/plain": [
       "(54, 16384)"
      ]
     },
     "execution_count": 56,
     "metadata": {},
     "output_type": "execute_result"
    }
   ],
   "source": [
    "X_test.shape"
   ]
  },
  {
   "attachments": {},
   "cell_type": "markdown",
   "metadata": {},
   "source": [
    "- o predict faz a previsão da imagem de teste"
   ]
  },
  {
   "cell_type": "code",
   "execution_count": 57,
   "metadata": {},
   "outputs": [
    {
     "name": "stdout",
     "output_type": "stream",
     "text": [
      "2/2 [==============================] - 0s 48ms/step\n"
     ]
    },
    {
     "data": {
      "text/plain": [
       "array([[9.99999166e-01],\n",
       "       [2.88948920e-10],\n",
       "       [9.99994636e-01],\n",
       "       [9.98112440e-01],\n",
       "       [1.13502406e-01],\n",
       "       [9.99994159e-01],\n",
       "       [1.91128713e-09],\n",
       "       [1.83334763e-04],\n",
       "       [7.34238327e-01],\n",
       "       [3.78982106e-04],\n",
       "       [9.99570608e-01],\n",
       "       [2.24702674e-16],\n",
       "       [8.53368081e-03],\n",
       "       [9.39737353e-03],\n",
       "       [9.98681843e-01],\n",
       "       [9.99975324e-01],\n",
       "       [9.93383646e-01],\n",
       "       [1.73177514e-02],\n",
       "       [9.99874771e-01],\n",
       "       [9.99999225e-01],\n",
       "       [9.99998569e-01],\n",
       "       [2.07805750e-03],\n",
       "       [9.99998271e-01],\n",
       "       [9.99358773e-01],\n",
       "       [9.99906421e-01],\n",
       "       [1.69178862e-02],\n",
       "       [9.99995887e-01],\n",
       "       [9.99997973e-01],\n",
       "       [9.99615431e-01],\n",
       "       [2.77975541e-05],\n",
       "       [9.12101626e-01],\n",
       "       [1.37982914e-09],\n",
       "       [2.63009109e-02],\n",
       "       [9.99999881e-01],\n",
       "       [3.15340364e-13],\n",
       "       [9.99998152e-01],\n",
       "       [1.91578269e-01],\n",
       "       [9.99997914e-01],\n",
       "       [9.87896979e-01],\n",
       "       [9.99999404e-01],\n",
       "       [3.86982865e-05],\n",
       "       [9.32671683e-05],\n",
       "       [9.77291942e-01],\n",
       "       [9.99992669e-01],\n",
       "       [9.99994218e-01],\n",
       "       [9.10881519e-01],\n",
       "       [7.65365894e-06],\n",
       "       [9.99994695e-01],\n",
       "       [9.64051723e-01],\n",
       "       [1.79243864e-06],\n",
       "       [9.99999881e-01],\n",
       "       [5.21904137e-03],\n",
       "       [5.87477174e-04],\n",
       "       [5.73337018e-01]], dtype=float32)"
      ]
     },
     "execution_count": 57,
     "metadata": {},
     "output_type": "execute_result"
    }
   ],
   "source": [
    "previsao = network1.predict(X_test)\n",
    "previsao"
   ]
  },
  {
   "attachments": {},
   "cell_type": "markdown",
   "metadata": {},
   "source": [
    "- 0 false Homer\n",
    "- 1 true Bart"
   ]
  },
  {
   "cell_type": "code",
   "execution_count": 58,
   "metadata": {},
   "outputs": [
    {
     "data": {
      "text/plain": [
       "array([[ True],\n",
       "       [False],\n",
       "       [ True],\n",
       "       [ True],\n",
       "       [False],\n",
       "       [ True],\n",
       "       [False],\n",
       "       [False],\n",
       "       [ True],\n",
       "       [False],\n",
       "       [ True],\n",
       "       [False],\n",
       "       [False],\n",
       "       [False],\n",
       "       [ True],\n",
       "       [ True],\n",
       "       [ True],\n",
       "       [False],\n",
       "       [ True],\n",
       "       [ True],\n",
       "       [ True],\n",
       "       [False],\n",
       "       [ True],\n",
       "       [ True],\n",
       "       [ True],\n",
       "       [False],\n",
       "       [ True],\n",
       "       [ True],\n",
       "       [ True],\n",
       "       [False],\n",
       "       [ True],\n",
       "       [False],\n",
       "       [False],\n",
       "       [ True],\n",
       "       [False],\n",
       "       [ True],\n",
       "       [False],\n",
       "       [ True],\n",
       "       [ True],\n",
       "       [ True],\n",
       "       [False],\n",
       "       [False],\n",
       "       [ True],\n",
       "       [ True],\n",
       "       [ True],\n",
       "       [ True],\n",
       "       [False],\n",
       "       [ True],\n",
       "       [ True],\n",
       "       [False],\n",
       "       [ True],\n",
       "       [False],\n",
       "       [False],\n",
       "       [ True]])"
      ]
     },
     "execution_count": 58,
     "metadata": {},
     "output_type": "execute_result"
    }
   ],
   "source": [
    "previsao = (previsao > 0.5)\n",
    "previsao"
   ]
  },
  {
   "cell_type": "code",
   "execution_count": 59,
   "metadata": {},
   "outputs": [
    {
     "data": {
      "text/plain": [
       "array([1, 0, 1, 1, 1, 0, 1, 1, 1, 1, 1, 0, 0, 1, 0, 0, 0, 0, 1, 1, 1, 0,\n",
       "       1, 1, 1, 0, 1, 1, 0, 0, 0, 0, 0, 0, 0, 0, 1, 1, 1, 1, 0, 0, 1, 1,\n",
       "       1, 0, 0, 1, 1, 0, 1, 0, 0, 0])"
      ]
     },
     "execution_count": 59,
     "metadata": {},
     "output_type": "execute_result"
    }
   ],
   "source": [
    "y_test"
   ]
  },
  {
   "attachments": {},
   "cell_type": "markdown",
   "metadata": {},
   "source": [
    "- acuracy mede a probabilidade de acerto da rede neural"
   ]
  },
  {
   "cell_type": "code",
   "execution_count": 60,
   "metadata": {},
   "outputs": [
    {
     "data": {
      "text/plain": [
       "0.7037037037037037"
      ]
     },
     "execution_count": 60,
     "metadata": {},
     "output_type": "execute_result"
    }
   ],
   "source": [
    "accuracy_score(y_test, previsao)"
   ]
  },
  {
   "cell_type": "code",
   "execution_count": 61,
   "metadata": {},
   "outputs": [
    {
     "data": {
      "text/plain": [
       "array([[16, 10],\n",
       "       [ 6, 22]], dtype=int64)"
      ]
     },
     "execution_count": 61,
     "metadata": {},
     "output_type": "execute_result"
    }
   ],
   "source": [
    "cm = confusion_matrix(y_test, previsao)\n",
    "cm"
   ]
  },
  {
   "cell_type": "code",
   "execution_count": 62,
   "metadata": {},
   "outputs": [
    {
     "data": {
      "image/png": "[encoded data removed]",
      "text/plain": [
       "<Figure size 640x480 with 2 Axes>"
      ]
     },
     "metadata": {},
     "output_type": "display_data"
    }
   ],
   "source": [
    "sns.heatmap(cm, annot=True);"
   ]
  },
  {
   "cell_type": "code",
   "execution_count": 63,
   "metadata": {},
   "outputs": [
    {
     "name": "stdout",
     "output_type": "stream",
     "text": [
      "              precision    recall  f1-score   support\n",
      "\n",
      "           0       0.73      0.62      0.67        26\n",
      "           1       0.69      0.79      0.73        28\n",
      "\n",
      "    accuracy                           0.70        54\n",
      "   macro avg       0.71      0.70      0.70        54\n",
      "weighted avg       0.71      0.70      0.70        54\n",
      "\n"
     ]
    }
   ],
   "source": [
    "print(classification_report(y_test, previsao))"
   ]
  },
  {
   "attachments": {},
   "cell_type": "markdown",
   "metadata": {},
   "source": [
    "- Salvar e carregar o modelo treinado "
   ]
  },
  {
   "cell_type": "code",
   "execution_count": 64,
   "metadata": {},
   "outputs": [],
   "source": [
    "model_json = network1.to_json()\n",
    "with open(\"model.json\", \"w\") as json_file:\n",
    "    json_file.write(model_json)"
   ]
  },
  {
   "cell_type": "code",
   "execution_count": 65,
   "metadata": {},
   "outputs": [],
   "source": [
    "network1_saved = save_model(network1, \"weights1.hdf5\")"
   ]
  },
  {
   "cell_type": "code",
   "execution_count": 66,
   "metadata": {},
   "outputs": [
    {
     "data": {
      "text/plain": [
       "'{\"class_name\": \"Sequential\", \"config\": {\"name\": \"sequential_1\", \"layers\": [{\"class_name\": \"InputLayer\", \"config\": {\"batch_input_shape\": [null, 16384], \"dtype\": \"float32\", \"sparse\": false, \"ragged\": false, \"name\": \"dense_3_input\"}}, {\"class_name\": \"Dense\", \"config\": {\"name\": \"dense_3\", \"trainable\": true, \"dtype\": \"float32\", \"batch_input_shape\": [null, 16384], \"units\": 8193, \"activation\": \"relu\", \"use_bias\": true, \"kernel_initializer\": {\"class_name\": \"GlorotUniform\", \"config\": {\"seed\": null}}, \"bias_initializer\": {\"class_name\": \"Zeros\", \"config\": {}}, \"kernel_regularizer\": null, \"bias_regularizer\": null, \"activity_regularizer\": null, \"kernel_constraint\": null, \"bias_constraint\": null}}, {\"class_name\": \"Dense\", \"config\": {\"name\": \"dense_4\", \"trainable\": true, \"dtype\": \"float32\", \"units\": 8193, \"activation\": \"relu\", \"use_bias\": true, \"kernel_initializer\": {\"class_name\": \"GlorotUniform\", \"config\": {\"seed\": null}}, \"bias_initializer\": {\"class_name\": \"Zeros\", \"config\": {}}, \"kernel_regularizer\": null, \"bias_regularizer\": null, \"activity_regularizer\": null, \"kernel_constraint\": null, \"bias_constraint\": null}}, {\"class_name\": \"Dense\", \"config\": {\"name\": \"dense_5\", \"trainable\": true, \"dtype\": \"float32\", \"units\": 1, \"activation\": \"sigmoid\", \"use_bias\": true, \"kernel_initializer\": {\"class_name\": \"GlorotUniform\", \"config\": {\"seed\": null}}, \"bias_initializer\": {\"class_name\": \"Zeros\", \"config\": {}}, \"kernel_regularizer\": null, \"bias_regularizer\": null, \"activity_regularizer\": null, \"kernel_constraint\": null, \"bias_constraint\": null}}]}, \"keras_version\": \"2.12.0\", \"backend\": \"tensorflow\"}'"
      ]
     },
     "execution_count": 66,
     "metadata": {},
     "output_type": "execute_result"
    }
   ],
   "source": [
    "with open('model.json', 'r') as json_file:\n",
    "    json_savedModel= json_file.read()\n",
    "json_savedModel    "
   ]
  },
  {
   "cell_type": "code",
   "execution_count": 67,
   "metadata": {},
   "outputs": [],
   "source": [
    "network1_loaded = tf.keras.models.model_from_json(json_savedModel)\n",
    "network1_loaded.load_weights('weights1.hdf5')\n",
    "network1_loaded.compile(optimizer='adam', loss='binary_crossentropy', metrics=['accuracy'])"
   ]
  },
  {
   "cell_type": "code",
   "execution_count": 68,
   "metadata": {},
   "outputs": [
    {
     "name": "stdout",
     "output_type": "stream",
     "text": [
      "Model: \"sequential_1\"\n",
      "_________________________________________________________________\n",
      " Layer (type)                Output Shape              Param #   \n",
      "=================================================================\n",
      " dense_3 (Dense)             (None, 8193)              134242305 \n",
      "                                                                 \n",
      " dense_4 (Dense)             (None, 8193)              67133442  \n",
      "                                                                 \n",
      " dense_5 (Dense)             (None, 1)                 8194      \n",
      "                                                                 \n",
      "=================================================================\n",
      "Total params: 201,383,941\n",
      "Trainable params: 201,383,941\n",
      "Non-trainable params: 0\n",
      "_________________________________________________________________\n"
     ]
    }
   ],
   "source": [
    "network1_loaded.summary()"
   ]
  }
 ],
 "metadata": {
  "kernelspec": {
   "display_name": "base",
   "language": "python",
   "name": "python3"
  },
  "language_info": {
   "codemirror_mode": {
    "name": "ipython",
    "version": 3
   },
   "file_extension": ".py",
   "mimetype": "text/x-python",
   "name": "python",
   "nbconvert_exporter": "python",
   "pygments_lexer": "ipython3",
   "version": "3.8.0"
  },
  "orig_nbformat": 4
 },
 "nbformat": 4,
 "nbformat_minor": 2
}
