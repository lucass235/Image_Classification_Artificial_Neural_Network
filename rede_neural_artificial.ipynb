{
 "cells": [
  {
   "attachments": {},
   "cell_type": "markdown",
   "metadata": {},
   "source": [
    "# Classificação de imagem com rede neural artificial"
   ]
  },
  {
   "cell_type": "code",
   "execution_count": 48,
   "metadata": {},
   "outputs": [
    {
     "data": {
      "text/plain": [
       "'2.12.0'"
      ]
     },
     "execution_count": 48,
     "metadata": {},
     "output_type": "execute_result"
    }
   ],
   "source": [
    "import cv2\n",
    "import numpy as np\n",
    "import os \n",
    "import tensorflow as tf # Deep Learning\n",
    "import pandas as pd # Manipulação de dados\n",
    "import seaborn as sns # Visualização de dados\n",
    "import matplotlib.pyplot as plt # Visualização de dados\n",
    "import PIL # Manipulação de imagens\n",
    "from sklearn.preprocessing import MinMaxScaler\n",
    "from sklearn.metrics import accuracy_score, confusion_matrix, classification_report\n",
    "from keras.models import save_model\n",
    "tf.__version__"
   ]
  },
  {
   "attachments": {},
   "cell_type": "markdown",
   "metadata": {},
   "source": [
    "- Definindo caminho das imagens na variável arquivos"
   ]
  },
  {
   "cell_type": "code",
   "execution_count": 49,
   "metadata": {},
   "outputs": [],
   "source": [
    "diretorio = \"./data/homer_bart_1\"\n",
    "arquivos = [os.path.join(diretorio, arquivo) for arquivo in sorted(os.listdir(diretorio))]"
   ]
  },
  {
   "cell_type": "code",
   "execution_count": 50,
   "metadata": {},
   "outputs": [
    {
     "data": {
      "text/plain": [
       "['./data/homer_bart_1\\\\.DS_Store',\n",
       " './data/homer_bart_1\\\\bart1.bmp',\n",
       " './data/homer_bart_1\\\\bart10.bmp',\n",
       " './data/homer_bart_1\\\\bart100.bmp',\n",
       " './data/homer_bart_1\\\\bart101.bmp',\n",
       " './data/homer_bart_1\\\\bart102.bmp',\n",
       " './data/homer_bart_1\\\\bart103.bmp',\n",
       " './data/homer_bart_1\\\\bart104.bmp',\n",
       " './data/homer_bart_1\\\\bart105.bmp',\n",
       " './data/homer_bart_1\\\\bart106.bmp',\n",
       " './data/homer_bart_1\\\\bart108.bmp',\n",
       " './data/homer_bart_1\\\\bart109.bmp',\n",
       " './data/homer_bart_1\\\\bart11.bmp',\n",
       " './data/homer_bart_1\\\\bart110.bmp',\n",
       " './data/homer_bart_1\\\\bart111.bmp',\n",
       " './data/homer_bart_1\\\\bart112.bmp',\n",
       " './data/homer_bart_1\\\\bart113.bmp',\n",
       " './data/homer_bart_1\\\\bart114.bmp',\n",
       " './data/homer_bart_1\\\\bart115.bmp',\n",
       " './data/homer_bart_1\\\\bart116.bmp',\n",
       " './data/homer_bart_1\\\\bart117.bmp',\n",
       " './data/homer_bart_1\\\\bart118.bmp',\n",
       " './data/homer_bart_1\\\\bart119.bmp',\n",
       " './data/homer_bart_1\\\\bart12.bmp',\n",
       " './data/homer_bart_1\\\\bart120.bmp',\n",
       " './data/homer_bart_1\\\\bart121.bmp',\n",
       " './data/homer_bart_1\\\\bart122.bmp',\n",
       " './data/homer_bart_1\\\\bart123.bmp',\n",
       " './data/homer_bart_1\\\\bart124.bmp',\n",
       " './data/homer_bart_1\\\\bart125.bmp',\n",
       " './data/homer_bart_1\\\\bart126.bmp',\n",
       " './data/homer_bart_1\\\\bart127.bmp',\n",
       " './data/homer_bart_1\\\\bart128.bmp',\n",
       " './data/homer_bart_1\\\\bart13.bmp',\n",
       " './data/homer_bart_1\\\\bart130.bmp',\n",
       " './data/homer_bart_1\\\\bart131.bmp',\n",
       " './data/homer_bart_1\\\\bart132.bmp',\n",
       " './data/homer_bart_1\\\\bart133.bmp',\n",
       " './data/homer_bart_1\\\\bart134.bmp',\n",
       " './data/homer_bart_1\\\\bart135.bmp',\n",
       " './data/homer_bart_1\\\\bart136.bmp',\n",
       " './data/homer_bart_1\\\\bart137.bmp',\n",
       " './data/homer_bart_1\\\\bart138.bmp',\n",
       " './data/homer_bart_1\\\\bart139.bmp',\n",
       " './data/homer_bart_1\\\\bart14.bmp',\n",
       " './data/homer_bart_1\\\\bart141.bmp',\n",
       " './data/homer_bart_1\\\\bart142.bmp',\n",
       " './data/homer_bart_1\\\\bart143.bmp',\n",
       " './data/homer_bart_1\\\\bart144.bmp',\n",
       " './data/homer_bart_1\\\\bart145.bmp',\n",
       " './data/homer_bart_1\\\\bart146.bmp',\n",
       " './data/homer_bart_1\\\\bart147.bmp',\n",
       " './data/homer_bart_1\\\\bart148.bmp',\n",
       " './data/homer_bart_1\\\\bart149.bmp',\n",
       " './data/homer_bart_1\\\\bart15.bmp',\n",
       " './data/homer_bart_1\\\\bart150.bmp',\n",
       " './data/homer_bart_1\\\\bart151.bmp',\n",
       " './data/homer_bart_1\\\\bart153.bmp',\n",
       " './data/homer_bart_1\\\\bart154.bmp',\n",
       " './data/homer_bart_1\\\\bart155.bmp',\n",
       " './data/homer_bart_1\\\\bart156.bmp',\n",
       " './data/homer_bart_1\\\\bart157.bmp',\n",
       " './data/homer_bart_1\\\\bart158.bmp',\n",
       " './data/homer_bart_1\\\\bart159.bmp',\n",
       " './data/homer_bart_1\\\\bart16.bmp',\n",
       " './data/homer_bart_1\\\\bart160.bmp',\n",
       " './data/homer_bart_1\\\\bart161.bmp',\n",
       " './data/homer_bart_1\\\\bart162.bmp',\n",
       " './data/homer_bart_1\\\\bart164.bmp',\n",
       " './data/homer_bart_1\\\\bart165.bmp',\n",
       " './data/homer_bart_1\\\\bart166.bmp',\n",
       " './data/homer_bart_1\\\\bart167.bmp',\n",
       " './data/homer_bart_1\\\\bart168.bmp',\n",
       " './data/homer_bart_1\\\\bart169.bmp',\n",
       " './data/homer_bart_1\\\\bart17.bmp',\n",
       " './data/homer_bart_1\\\\bart18.bmp',\n",
       " './data/homer_bart_1\\\\bart19.bmp',\n",
       " './data/homer_bart_1\\\\bart2.bmp',\n",
       " './data/homer_bart_1\\\\bart20.bmp',\n",
       " './data/homer_bart_1\\\\bart21.bmp',\n",
       " './data/homer_bart_1\\\\bart22.bmp',\n",
       " './data/homer_bart_1\\\\bart23.bmp',\n",
       " './data/homer_bart_1\\\\bart24.bmp',\n",
       " './data/homer_bart_1\\\\bart25.bmp',\n",
       " './data/homer_bart_1\\\\bart26.bmp',\n",
       " './data/homer_bart_1\\\\bart27.bmp',\n",
       " './data/homer_bart_1\\\\bart28.bmp',\n",
       " './data/homer_bart_1\\\\bart29.bmp',\n",
       " './data/homer_bart_1\\\\bart3.bmp',\n",
       " './data/homer_bart_1\\\\bart30.bmp',\n",
       " './data/homer_bart_1\\\\bart31.bmp',\n",
       " './data/homer_bart_1\\\\bart32.bmp',\n",
       " './data/homer_bart_1\\\\bart34.bmp',\n",
       " './data/homer_bart_1\\\\bart35.bmp',\n",
       " './data/homer_bart_1\\\\bart36.bmp',\n",
       " './data/homer_bart_1\\\\bart37.bmp',\n",
       " './data/homer_bart_1\\\\bart38.bmp',\n",
       " './data/homer_bart_1\\\\bart39.bmp',\n",
       " './data/homer_bart_1\\\\bart4.bmp',\n",
       " './data/homer_bart_1\\\\bart40.bmp',\n",
       " './data/homer_bart_1\\\\bart42.bmp',\n",
       " './data/homer_bart_1\\\\bart43.bmp',\n",
       " './data/homer_bart_1\\\\bart44.bmp',\n",
       " './data/homer_bart_1\\\\bart45.bmp',\n",
       " './data/homer_bart_1\\\\bart46.bmp',\n",
       " './data/homer_bart_1\\\\bart47.bmp',\n",
       " './data/homer_bart_1\\\\bart48.bmp',\n",
       " './data/homer_bart_1\\\\bart49.bmp',\n",
       " './data/homer_bart_1\\\\bart5.bmp',\n",
       " './data/homer_bart_1\\\\bart50.bmp',\n",
       " './data/homer_bart_1\\\\bart51.bmp',\n",
       " './data/homer_bart_1\\\\bart52.bmp',\n",
       " './data/homer_bart_1\\\\bart53.bmp',\n",
       " './data/homer_bart_1\\\\bart54.bmp',\n",
       " './data/homer_bart_1\\\\bart55.bmp',\n",
       " './data/homer_bart_1\\\\bart56.bmp',\n",
       " './data/homer_bart_1\\\\bart57.bmp',\n",
       " './data/homer_bart_1\\\\bart58.bmp',\n",
       " './data/homer_bart_1\\\\bart59.bmp',\n",
       " './data/homer_bart_1\\\\bart6.bmp',\n",
       " './data/homer_bart_1\\\\bart60.bmp',\n",
       " './data/homer_bart_1\\\\bart61.bmp',\n",
       " './data/homer_bart_1\\\\bart62.bmp',\n",
       " './data/homer_bart_1\\\\bart63.bmp',\n",
       " './data/homer_bart_1\\\\bart64.bmp',\n",
       " './data/homer_bart_1\\\\bart65.bmp',\n",
       " './data/homer_bart_1\\\\bart66.bmp',\n",
       " './data/homer_bart_1\\\\bart67.bmp',\n",
       " './data/homer_bart_1\\\\bart68.bmp',\n",
       " './data/homer_bart_1\\\\bart69.bmp',\n",
       " './data/homer_bart_1\\\\bart7.bmp',\n",
       " './data/homer_bart_1\\\\bart70.bmp',\n",
       " './data/homer_bart_1\\\\bart71.bmp',\n",
       " './data/homer_bart_1\\\\bart72.bmp',\n",
       " './data/homer_bart_1\\\\bart73.bmp',\n",
       " './data/homer_bart_1\\\\bart74.bmp',\n",
       " './data/homer_bart_1\\\\bart75.bmp',\n",
       " './data/homer_bart_1\\\\bart76.bmp',\n",
       " './data/homer_bart_1\\\\bart77.bmp',\n",
       " './data/homer_bart_1\\\\bart79.bmp',\n",
       " './data/homer_bart_1\\\\bart8.bmp',\n",
       " './data/homer_bart_1\\\\bart80.bmp',\n",
       " './data/homer_bart_1\\\\bart81.bmp',\n",
       " './data/homer_bart_1\\\\bart82.bmp',\n",
       " './data/homer_bart_1\\\\bart83.bmp',\n",
       " './data/homer_bart_1\\\\bart84.bmp',\n",
       " './data/homer_bart_1\\\\bart85.bmp',\n",
       " './data/homer_bart_1\\\\bart86.bmp',\n",
       " './data/homer_bart_1\\\\bart87.bmp',\n",
       " './data/homer_bart_1\\\\bart89.bmp',\n",
       " './data/homer_bart_1\\\\bart9.bmp',\n",
       " './data/homer_bart_1\\\\bart90.bmp',\n",
       " './data/homer_bart_1\\\\bart91.bmp',\n",
       " './data/homer_bart_1\\\\bart92.bmp',\n",
       " './data/homer_bart_1\\\\bart93.bmp',\n",
       " './data/homer_bart_1\\\\bart94.bmp',\n",
       " './data/homer_bart_1\\\\bart95.bmp',\n",
       " './data/homer_bart_1\\\\bart96.bmp',\n",
       " './data/homer_bart_1\\\\bart97.bmp',\n",
       " './data/homer_bart_1\\\\bart98.bmp',\n",
       " './data/homer_bart_1\\\\bart99.bmp',\n",
       " './data/homer_bart_1\\\\homer1.bmp',\n",
       " './data/homer_bart_1\\\\homer10.bmp',\n",
       " './data/homer_bart_1\\\\homer100.bmp',\n",
       " './data/homer_bart_1\\\\homer101.bmp',\n",
       " './data/homer_bart_1\\\\homer102.bmp',\n",
       " './data/homer_bart_1\\\\homer103.bmp',\n",
       " './data/homer_bart_1\\\\homer104.bmp',\n",
       " './data/homer_bart_1\\\\homer105.bmp',\n",
       " './data/homer_bart_1\\\\homer106.bmp',\n",
       " './data/homer_bart_1\\\\homer107.bmp',\n",
       " './data/homer_bart_1\\\\homer109.bmp',\n",
       " './data/homer_bart_1\\\\homer110.bmp',\n",
       " './data/homer_bart_1\\\\homer112.bmp',\n",
       " './data/homer_bart_1\\\\homer113.bmp',\n",
       " './data/homer_bart_1\\\\homer115.bmp',\n",
       " './data/homer_bart_1\\\\homer116.bmp',\n",
       " './data/homer_bart_1\\\\homer117.bmp',\n",
       " './data/homer_bart_1\\\\homer119.bmp',\n",
       " './data/homer_bart_1\\\\homer120.bmp',\n",
       " './data/homer_bart_1\\\\homer121.bmp',\n",
       " './data/homer_bart_1\\\\homer122.bmp',\n",
       " './data/homer_bart_1\\\\homer123.bmp',\n",
       " './data/homer_bart_1\\\\homer124.bmp',\n",
       " './data/homer_bart_1\\\\homer13.bmp',\n",
       " './data/homer_bart_1\\\\homer14.bmp',\n",
       " './data/homer_bart_1\\\\homer15.bmp',\n",
       " './data/homer_bart_1\\\\homer16.bmp',\n",
       " './data/homer_bart_1\\\\homer17.bmp',\n",
       " './data/homer_bart_1\\\\homer18.bmp',\n",
       " './data/homer_bart_1\\\\homer2.bmp',\n",
       " './data/homer_bart_1\\\\homer20.bmp',\n",
       " './data/homer_bart_1\\\\homer21.bmp',\n",
       " './data/homer_bart_1\\\\homer22.bmp',\n",
       " './data/homer_bart_1\\\\homer23.bmp',\n",
       " './data/homer_bart_1\\\\homer24.bmp',\n",
       " './data/homer_bart_1\\\\homer26.bmp',\n",
       " './data/homer_bart_1\\\\homer27.bmp',\n",
       " './data/homer_bart_1\\\\homer28.bmp',\n",
       " './data/homer_bart_1\\\\homer29.bmp',\n",
       " './data/homer_bart_1\\\\homer3.bmp',\n",
       " './data/homer_bart_1\\\\homer30.bmp',\n",
       " './data/homer_bart_1\\\\homer31.bmp',\n",
       " './data/homer_bart_1\\\\homer32.bmp',\n",
       " './data/homer_bart_1\\\\homer33.bmp',\n",
       " './data/homer_bart_1\\\\homer34.bmp',\n",
       " './data/homer_bart_1\\\\homer35.bmp',\n",
       " './data/homer_bart_1\\\\homer36.bmp',\n",
       " './data/homer_bart_1\\\\homer37.bmp',\n",
       " './data/homer_bart_1\\\\homer38.bmp',\n",
       " './data/homer_bart_1\\\\homer4.bmp',\n",
       " './data/homer_bart_1\\\\homer40.bmp',\n",
       " './data/homer_bart_1\\\\homer41.bmp',\n",
       " './data/homer_bart_1\\\\homer43.bmp',\n",
       " './data/homer_bart_1\\\\homer44.bmp',\n",
       " './data/homer_bart_1\\\\homer45.bmp',\n",
       " './data/homer_bart_1\\\\homer46.bmp',\n",
       " './data/homer_bart_1\\\\homer47.bmp',\n",
       " './data/homer_bart_1\\\\homer48.bmp',\n",
       " './data/homer_bart_1\\\\homer49.bmp',\n",
       " './data/homer_bart_1\\\\homer5.bmp',\n",
       " './data/homer_bart_1\\\\homer50.bmp',\n",
       " './data/homer_bart_1\\\\homer51.bmp',\n",
       " './data/homer_bart_1\\\\homer52.bmp',\n",
       " './data/homer_bart_1\\\\homer54.bmp',\n",
       " './data/homer_bart_1\\\\homer55.bmp',\n",
       " './data/homer_bart_1\\\\homer56.bmp',\n",
       " './data/homer_bart_1\\\\homer57.bmp',\n",
       " './data/homer_bart_1\\\\homer58.bmp',\n",
       " './data/homer_bart_1\\\\homer59.bmp',\n",
       " './data/homer_bart_1\\\\homer6.bmp',\n",
       " './data/homer_bart_1\\\\homer60.bmp',\n",
       " './data/homer_bart_1\\\\homer61.bmp',\n",
       " './data/homer_bart_1\\\\homer62.bmp',\n",
       " './data/homer_bart_1\\\\homer63.bmp',\n",
       " './data/homer_bart_1\\\\homer65.bmp',\n",
       " './data/homer_bart_1\\\\homer66.bmp',\n",
       " './data/homer_bart_1\\\\homer68.bmp',\n",
       " './data/homer_bart_1\\\\homer69.bmp',\n",
       " './data/homer_bart_1\\\\homer7.bmp',\n",
       " './data/homer_bart_1\\\\homer70.bmp',\n",
       " './data/homer_bart_1\\\\homer71.bmp',\n",
       " './data/homer_bart_1\\\\homer72.bmp',\n",
       " './data/homer_bart_1\\\\homer73.bmp',\n",
       " './data/homer_bart_1\\\\homer74.bmp',\n",
       " './data/homer_bart_1\\\\homer75.bmp',\n",
       " './data/homer_bart_1\\\\homer76.bmp',\n",
       " './data/homer_bart_1\\\\homer77.bmp',\n",
       " './data/homer_bart_1\\\\homer78.bmp',\n",
       " './data/homer_bart_1\\\\homer79.bmp',\n",
       " './data/homer_bart_1\\\\homer8.bmp',\n",
       " './data/homer_bart_1\\\\homer80.bmp',\n",
       " './data/homer_bart_1\\\\homer81.bmp',\n",
       " './data/homer_bart_1\\\\homer82.bmp',\n",
       " './data/homer_bart_1\\\\homer83.bmp',\n",
       " './data/homer_bart_1\\\\homer84.bmp',\n",
       " './data/homer_bart_1\\\\homer85.bmp',\n",
       " './data/homer_bart_1\\\\homer86.bmp',\n",
       " './data/homer_bart_1\\\\homer87.bmp',\n",
       " './data/homer_bart_1\\\\homer9.bmp',\n",
       " './data/homer_bart_1\\\\homer90.bmp',\n",
       " './data/homer_bart_1\\\\homer91.bmp',\n",
       " './data/homer_bart_1\\\\homer92.bmp',\n",
       " './data/homer_bart_1\\\\homer93.bmp',\n",
       " './data/homer_bart_1\\\\homer94.bmp',\n",
       " './data/homer_bart_1\\\\homer95.bmp',\n",
       " './data/homer_bart_1\\\\homer96.bmp',\n",
       " './data/homer_bart_1\\\\homer97.bmp',\n",
       " './data/homer_bart_1\\\\homer98.bmp',\n",
       " './data/homer_bart_1\\\\homer99.bmp']"
      ]
     },
     "execution_count": 50,
     "metadata": {},
     "output_type": "execute_result"
    }
   ],
   "source": [
    "arquivos"
   ]
  },
  {
   "attachments": {},
   "cell_type": "markdown",
   "metadata": {},
   "source": [
    "- Precisamos definir o tamanho das imagens único para todas 128x128"
   ]
  },
  {
   "cell_type": "code",
   "execution_count": 51,
   "metadata": {},
   "outputs": [],
   "source": [
    "largura, altura = 128, 128"
   ]
  },
  {
   "attachments": {},
   "cell_type": "markdown",
   "metadata": {},
   "source": [
    "- Variável imagens para armazenar as imagens em formato de array\n",
    "- Variável classes para armazenar as classes das imagens 0 -> Homer, 1 -> Bart"
   ]
  },
  {
   "cell_type": "code",
   "execution_count": 52,
   "metadata": {},
   "outputs": [],
   "source": [
    "imagens = []\n",
    "classes = []"
   ]
  },
  {
   "attachments": {},
   "cell_type": "markdown",
   "metadata": {},
   "source": [
    "- Extração dos pixels das imagens"
   ]
  },
  {
   "attachments": {},
   "cell_type": "markdown",
   "metadata": {},
   "source": [
    "- Nesse bloco de código, estamos lendo as imagens, ajustando o seu tamanho, convertendo para escala de cinza, convertendo para array e adicionando na variável imagens.\n",
    "- No finalzinho estamos pegando o nome referente a identificação da imagem e adicionando na variável classes para identificar a classe da imagem."
   ]
  },
  {
   "cell_type": "code",
   "execution_count": 53,
   "metadata": {},
   "outputs": [],
   "source": [
    "for arquivo in arquivos:\n",
    "    try:\n",
    "        imagem = cv2.imread(arquivo)\n",
    "        (H, W) = imagem.shape[:2] # Altura e largura da imagem\n",
    "    except:\n",
    "        continue\n",
    "    imagem = cv2.resize(imagem, (largura, altura)) # Redimensiona a imagem\n",
    "    imagem = cv2.cvtColor(imagem, cv2.COLOR_BGR2GRAY) # Converte a imagem para tons de cinza\n",
    "    imagem = imagem.ravel() # Converte a imagem para um vetor\n",
    "    imagens.append(imagem) # Adiciona a imagem na lista de imagens\n",
    "    nome_imagem = arquivo.split(os.path.sep)[-1] # Pega o nome da imagem\n",
    "    if \"homer\" in nome_imagem:\n",
    "        classes.append(0)\n",
    "    else:\n",
    "        classes.append(1)            "
   ]
  },
  {
   "attachments": {},
   "cell_type": "markdown",
   "metadata": {},
   "source": [
    "- Convertendo as imagens em array e suas respectivas classes em array numpy"
   ]
  },
  {
   "cell_type": "code",
   "execution_count": 54,
   "metadata": {},
   "outputs": [],
   "source": [
    "X = np.array(imagens)\n",
    "y = np.array(classes)"
   ]
  },
  {
   "cell_type": "code",
   "execution_count": 55,
   "metadata": {},
   "outputs": [
    {
     "data": {
      "text/plain": [
       "((269, 16384), (269,))"
      ]
     },
     "execution_count": 55,
     "metadata": {},
     "output_type": "execute_result"
    }
   ],
   "source": [
    "X.shape, y.shape"
   ]
  },
  {
   "attachments": {},
   "cell_type": "markdown",
   "metadata": {},
   "source": [
    "- Plot da quantidade de imagens por classe"
   ]
  },
  {
   "cell_type": "code",
   "execution_count": 56,
   "metadata": {},
   "outputs": [
    {
     "data": {
      "text/plain": [
       "<Axes: ylabel='count'>"
      ]
     },
     "execution_count": 56,
     "metadata": {},
     "output_type": "execute_result"
    },
    {
     "data": {
      "image/png": "[encoded data removed]",
      "text/plain": [
       "<Figure size 640x480 with 1 Axes>"
      ]
     },
     "metadata": {},
     "output_type": "display_data"
    }
   ],
   "source": [
    "sns.countplot(y)"
   ]
  },
  {
   "attachments": {},
   "cell_type": "markdown",
   "metadata": {},
   "source": [
    "- Normalização dos dados"
   ]
  },
  {
   "cell_type": "code",
   "execution_count": 57,
   "metadata": {},
   "outputs": [
    {
     "data": {
      "text/plain": [
       "(255, 0)"
      ]
     },
     "execution_count": 57,
     "metadata": {},
     "output_type": "execute_result"
    }
   ],
   "source": [
    "X[0].max(), X[0].min()"
   ]
  },
  {
   "attachments": {},
   "cell_type": "markdown",
   "metadata": {},
   "source": [
    "- Pegamos os 256 pixes e fizemos a normalização entre 0 e 1 onde 1 é a cor branca e 0 é a cor preta"
   ]
  },
  {
   "cell_type": "code",
   "execution_count": 58,
   "metadata": {},
   "outputs": [],
   "source": [
    "scaler = MinMaxScaler()\n",
    "X = scaler.fit_transform(X)"
   ]
  },
  {
   "cell_type": "code",
   "execution_count": 59,
   "metadata": {},
   "outputs": [
    {
     "data": {
      "text/plain": [
       "(1.0000000000000002, 0.0)"
      ]
     },
     "execution_count": 59,
     "metadata": {},
     "output_type": "execute_result"
    }
   ],
   "source": [
    "X[0].max(), X[0].min()"
   ]
  },
  {
   "attachments": {},
   "cell_type": "markdown",
   "metadata": {},
   "source": [
    "- Base de treinamento e teste\n",
    "- A biblioteca sklearn possui uma função chamada train_test_split que faz a divisão da base de dados em treinamento e teste\n",
    "- test_size = 0.25 -> 25% da base de dados será usada para teste e 75% para treinamento\n",
    "- random_state = 1 -> Para que a divisão seja sempre a mesma"
   ]
  },
  {
   "cell_type": "code",
   "execution_count": 60,
   "metadata": {},
   "outputs": [],
   "source": [
    "from sklearn.model_selection import train_test_split\n",
    "X_train, X_test, y_train, y_test = train_test_split(X, y, test_size=0.2, random_state=1)"
   ]
  },
  {
   "cell_type": "code",
   "execution_count": 61,
   "metadata": {},
   "outputs": [
    {
     "data": {
      "text/plain": [
       "((215, 16384), (54, 16384), (215,), (54,))"
      ]
     },
     "execution_count": 61,
     "metadata": {},
     "output_type": "execute_result"
    }
   ],
   "source": [
    "X_train.shape, X_test.shape, y_train.shape, y_test.shape"
   ]
  },
  {
   "attachments": {},
   "cell_type": "markdown",
   "metadata": {},
   "source": [
    "## Construção e treinamento da rede neural"
   ]
  },
  {
   "attachments": {},
   "cell_type": "markdown",
   "metadata": {},
   "source": [
    "- units parâmetro de entrada de neurônios da camada oculta\n",
    "- activation função de ativação da camada oculta\n",
    "- input_shape parâmetro de entrada de neurônios da camada de entrada"
   ]
  },
  {
   "cell_type": "code",
   "execution_count": 62,
   "metadata": {},
   "outputs": [],
   "source": [
    "network1 = tf.keras.models.Sequential() # Cria a rede neural sequencial \n",
    "network1.add(tf.keras.layers.Dense(units=8193, activation='relu', input_shape=(X_train.shape[1],))) # Adiciona a primeira camada oculta\n",
    "network1.add(tf.keras.layers.Dense(units=8193, activation='relu')) # Adiciona a segunda camada oculta\n",
    "network1.add(tf.keras.layers.Dense(units=1, activation='sigmoid')) # Adiciona a camada de saída"
   ]
  },
  {
   "cell_type": "code",
   "execution_count": 63,
   "metadata": {},
   "outputs": [
    {
     "name": "stdout",
     "output_type": "stream",
     "text": [
      "Model: \"sequential_1\"\n",
      "_________________________________________________________________\n",
      " Layer (type)                Output Shape              Param #   \n",
      "=================================================================\n",
      " dense_3 (Dense)             (None, 8193)              134242305 \n",
      "                                                                 \n",
      " dense_4 (Dense)             (None, 8193)              67133442  \n",
      "                                                                 \n",
      " dense_5 (Dense)             (None, 1)                 8194      \n",
      "                                                                 \n",
      "=================================================================\n",
      "Total params: 201,383,941\n",
      "Trainable params: 201,383,941\n",
      "Non-trainable params: 0\n",
      "_________________________________________________________________\n"
     ]
    }
   ],
   "source": [
    "network1.summary()"
   ]
  },
  {
   "attachments": {},
   "cell_type": "markdown",
   "metadata": {},
   "source": [
    "- optimizer parametro de otimização dos pesos da rede neural (adam)\n",
    "- loss função para calcular o erro (binary_crossentropy)\n",
    "- metrics métrica para avaliar o modelo (accuracy)"
   ]
  },
  {
   "cell_type": "code",
   "execution_count": 64,
   "metadata": {},
   "outputs": [],
   "source": [
    "network1.compile(optimizer='adam', loss='binary_crossentropy', metrics=['accuracy']) # Compila a rede neural"
   ]
  },
  {
   "attachments": {},
   "cell_type": "markdown",
   "metadata": {},
   "source": [
    "- epochs quantidade de vezes que o modelo será treinado"
   ]
  },
  {
   "cell_type": "code",
   "execution_count": 65,
   "metadata": {},
   "outputs": [
    {
     "name": "stdout",
     "output_type": "stream",
     "text": [
      "Epoch 1/40\n",
      "7/7 [==============================] - 123s 8s/step - loss: 122.9425 - accuracy: 0.5163\n",
      "Epoch 2/40\n",
      "7/7 [==============================] - 29s 4s/step - loss: 12.5555 - accuracy: 0.5209\n",
      "Epoch 3/40\n",
      "7/7 [==============================] - 30s 4s/step - loss: 2.0161 - accuracy: 0.5163\n",
      "Epoch 4/40\n",
      "7/7 [==============================] - 25s 3s/step - loss: 1.0088 - accuracy: 0.5256\n",
      "Epoch 5/40\n",
      "7/7 [==============================] - 29s 4s/step - loss: 0.7101 - accuracy: 0.5116\n",
      "Epoch 6/40\n",
      "7/7 [==============================] - 24s 3s/step - loss: 0.6923 - accuracy: 0.5209\n",
      "Epoch 7/40\n",
      "7/7 [==============================] - 23s 3s/step - loss: 0.7648 - accuracy: 0.5302\n",
      "Epoch 8/40\n",
      "7/7 [==============================] - 25s 3s/step - loss: 0.7382 - accuracy: 0.5674\n",
      "Epoch 9/40\n",
      "7/7 [==============================] - 24s 4s/step - loss: 0.6729 - accuracy: 0.6651\n",
      "Epoch 10/40\n",
      "7/7 [==============================] - 30s 4s/step - loss: 0.6278 - accuracy: 0.6186\n",
      "Epoch 11/40\n",
      "7/7 [==============================] - 20s 3s/step - loss: 0.5749 - accuracy: 0.7209\n",
      "Epoch 12/40\n",
      "7/7 [==============================] - 20s 3s/step - loss: 0.5317 - accuracy: 0.7209\n",
      "Epoch 13/40\n",
      "7/7 [==============================] - 20s 3s/step - loss: 0.5132 - accuracy: 0.7349\n",
      "Epoch 14/40\n",
      "7/7 [==============================] - 25s 4s/step - loss: 0.5178 - accuracy: 0.7395\n",
      "Epoch 15/40\n",
      "7/7 [==============================] - 20s 3s/step - loss: 0.5615 - accuracy: 0.7256\n",
      "Epoch 16/40\n",
      "7/7 [==============================] - 23s 3s/step - loss: 0.4329 - accuracy: 0.8140\n",
      "Epoch 17/40\n",
      "7/7 [==============================] - 21s 3s/step - loss: 0.4385 - accuracy: 0.8140\n",
      "Epoch 18/40\n",
      "7/7 [==============================] - 20s 3s/step - loss: 0.4686 - accuracy: 0.7535\n",
      "Epoch 19/40\n",
      "7/7 [==============================] - 20s 3s/step - loss: 0.3010 - accuracy: 0.8837\n",
      "Epoch 20/40\n",
      "7/7 [==============================] - 20s 3s/step - loss: 0.3531 - accuracy: 0.8372\n",
      "Epoch 21/40\n",
      "7/7 [==============================] - 20s 3s/step - loss: 0.2754 - accuracy: 0.8884\n",
      "Epoch 22/40\n",
      "7/7 [==============================] - 21s 3s/step - loss: 0.6830 - accuracy: 0.7581\n",
      "Epoch 23/40\n",
      "7/7 [==============================] - 30s 4s/step - loss: 0.5594 - accuracy: 0.7023\n",
      "Epoch 24/40\n",
      "7/7 [==============================] - 28s 3s/step - loss: 0.4775 - accuracy: 0.8744\n",
      "Epoch 25/40\n",
      "7/7 [==============================] - 20s 3s/step - loss: 0.3518 - accuracy: 0.9116\n",
      "Epoch 26/40\n",
      "7/7 [==============================] - 20s 3s/step - loss: 0.7814 - accuracy: 0.7442\n",
      "Epoch 27/40\n",
      "7/7 [==============================] - 27s 4s/step - loss: 0.6456 - accuracy: 0.6605\n",
      "Epoch 28/40\n",
      "7/7 [==============================] - 20s 3s/step - loss: 0.4694 - accuracy: 0.7767\n",
      "Epoch 29/40\n",
      "7/7 [==============================] - 20s 3s/step - loss: 0.4721 - accuracy: 0.7256\n",
      "Epoch 30/40\n",
      "7/7 [==============================] - 20s 3s/step - loss: 0.5875 - accuracy: 0.6837\n",
      "Epoch 31/40\n",
      "7/7 [==============================] - 20s 3s/step - loss: 0.3510 - accuracy: 0.8233\n",
      "Epoch 32/40\n",
      "7/7 [==============================] - 20s 3s/step - loss: 0.3403 - accuracy: 0.8140\n",
      "Epoch 33/40\n",
      "7/7 [==============================] - 20s 3s/step - loss: 0.2236 - accuracy: 0.9209\n",
      "Epoch 34/40\n",
      "7/7 [==============================] - 20s 3s/step - loss: 0.4469 - accuracy: 0.8000\n",
      "Epoch 35/40\n",
      "7/7 [==============================] - 20s 3s/step - loss: 0.2582 - accuracy: 0.8791\n",
      "Epoch 36/40\n",
      "7/7 [==============================] - 20s 3s/step - loss: 0.1302 - accuracy: 0.9488\n",
      "Epoch 37/40\n",
      "7/7 [==============================] - 21s 3s/step - loss: 0.1339 - accuracy: 0.9581\n",
      "Epoch 38/40\n",
      "7/7 [==============================] - 20s 3s/step - loss: 0.0783 - accuracy: 0.9907\n",
      "Epoch 39/40\n",
      "7/7 [==============================] - 20s 3s/step - loss: 0.1425 - accuracy: 0.9581\n",
      "Epoch 40/40\n",
      "7/7 [==============================] - 20s 3s/step - loss: 0.0524 - accuracy: 0.9907\n"
     ]
    }
   ],
   "source": [
    "historico = network1.fit(X_train, y_train, epochs=40) # Treina a rede neural"
   ]
  },
  {
   "attachments": {},
   "cell_type": "markdown",
   "metadata": {},
   "source": [
    "- Avaliação da rede neural"
   ]
  },
  {
   "cell_type": "code",
   "execution_count": 66,
   "metadata": {},
   "outputs": [
    {
     "data": {
      "text/plain": [
       "dict_keys(['loss', 'accuracy'])"
      ]
     },
     "execution_count": 66,
     "metadata": {},
     "output_type": "execute_result"
    }
   ],
   "source": [
    "historico.history.keys()"
   ]
  },
  {
   "attachments": {},
   "cell_type": "markdown",
   "metadata": {},
   "source": [
    "- Plot dos valores de erro"
   ]
  },
  {
   "cell_type": "code",
   "execution_count": 67,
   "metadata": {},
   "outputs": [
    {
     "data": {
      "image/png": "[encoded data removed]",
      "text/plain": [
       "<Figure size 640x480 with 1 Axes>"
      ]
     },
     "metadata": {},
     "output_type": "display_data"
    }
   ],
   "source": [
    "plt.plot(historico.history['loss']);"
   ]
  },
  {
   "attachments": {},
   "cell_type": "markdown",
   "metadata": {},
   "source": [
    "- Plot da acurácia que é a porcentagem de acerto"
   ]
  },
  {
   "cell_type": "code",
   "execution_count": 68,
   "metadata": {},
   "outputs": [
    {
     "data": {
      "image/png": "[encoded data removed]",
      "text/plain": [
       "<Figure size 640x480 with 1 Axes>"
      ]
     },
     "metadata": {},
     "output_type": "display_data"
    }
   ],
   "source": [
    "plt.plot(historico.history['accuracy']);"
   ]
  },
  {
   "cell_type": "code",
   "execution_count": 69,
   "metadata": {},
   "outputs": [
    {
     "data": {
      "text/plain": [
       "(54, 16384)"
      ]
     },
     "execution_count": 69,
     "metadata": {},
     "output_type": "execute_result"
    }
   ],
   "source": [
    "X_test.shape"
   ]
  },
  {
   "attachments": {},
   "cell_type": "markdown",
   "metadata": {},
   "source": [
    "- o predict faz a previsão da imagem de teste"
   ]
  },
  {
   "cell_type": "code",
   "execution_count": 70,
   "metadata": {},
   "outputs": [
    {
     "name": "stdout",
     "output_type": "stream",
     "text": [
      "2/2 [==============================] - 1s 88ms/step\n"
     ]
    },
    {
     "data": {
      "text/plain": [
       "array([[9.90195811e-01],\n",
       "       [6.38289005e-03],\n",
       "       [9.84747052e-01],\n",
       "       [9.21488523e-01],\n",
       "       [4.39342648e-01],\n",
       "       [9.55466688e-01],\n",
       "       [1.01480912e-02],\n",
       "       [6.52503148e-02],\n",
       "       [4.45237547e-01],\n",
       "       [1.20530486e-01],\n",
       "       [9.07434225e-01],\n",
       "       [2.16918124e-05],\n",
       "       [1.51250556e-01],\n",
       "       [4.57658947e-01],\n",
       "       [8.53623271e-01],\n",
       "       [9.68481064e-01],\n",
       "       [9.02372479e-01],\n",
       "       [3.73496592e-01],\n",
       "       [9.59469080e-01],\n",
       "       [9.80998516e-01],\n",
       "       [9.83798027e-01],\n",
       "       [3.36957574e-01],\n",
       "       [9.81847525e-01],\n",
       "       [8.43697548e-01],\n",
       "       [9.18733537e-01],\n",
       "       [5.16977847e-01],\n",
       "       [9.79748905e-01],\n",
       "       [9.82499957e-01],\n",
       "       [7.54835725e-01],\n",
       "       [1.82134584e-02],\n",
       "       [7.35865951e-01],\n",
       "       [2.80415732e-03],\n",
       "       [2.11332425e-01],\n",
       "       [9.92816746e-01],\n",
       "       [2.13513456e-04],\n",
       "       [9.81920302e-01],\n",
       "       [6.19583845e-01],\n",
       "       [9.52486813e-01],\n",
       "       [8.60932410e-01],\n",
       "       [9.91518199e-01],\n",
       "       [6.43152893e-02],\n",
       "       [1.38066396e-01],\n",
       "       [8.75891864e-01],\n",
       "       [9.49245691e-01],\n",
       "       [9.76847589e-01],\n",
       "       [5.61556101e-01],\n",
       "       [5.67159802e-02],\n",
       "       [9.81277347e-01],\n",
       "       [9.60721791e-01],\n",
       "       [6.63160756e-02],\n",
       "       [9.95211840e-01],\n",
       "       [3.06176394e-01],\n",
       "       [1.59654930e-01],\n",
       "       [4.15337145e-01]], dtype=float32)"
      ]
     },
     "execution_count": 70,
     "metadata": {},
     "output_type": "execute_result"
    }
   ],
   "source": [
    "previsao = network1.predict(X_test)\n",
    "previsao"
   ]
  },
  {
   "attachments": {},
   "cell_type": "markdown",
   "metadata": {},
   "source": [
    "- 0 false Homer\n",
    "- 1 true Bart"
   ]
  },
  {
   "cell_type": "code",
   "execution_count": 71,
   "metadata": {},
   "outputs": [
    {
     "data": {
      "text/plain": [
       "array([[ True],\n",
       "       [False],\n",
       "       [ True],\n",
       "       [ True],\n",
       "       [False],\n",
       "       [ True],\n",
       "       [False],\n",
       "       [False],\n",
       "       [False],\n",
       "       [False],\n",
       "       [ True],\n",
       "       [False],\n",
       "       [False],\n",
       "       [False],\n",
       "       [ True],\n",
       "       [ True],\n",
       "       [ True],\n",
       "       [False],\n",
       "       [ True],\n",
       "       [ True],\n",
       "       [ True],\n",
       "       [False],\n",
       "       [ True],\n",
       "       [ True],\n",
       "       [ True],\n",
       "       [ True],\n",
       "       [ True],\n",
       "       [ True],\n",
       "       [ True],\n",
       "       [False],\n",
       "       [ True],\n",
       "       [False],\n",
       "       [False],\n",
       "       [ True],\n",
       "       [False],\n",
       "       [ True],\n",
       "       [ True],\n",
       "       [ True],\n",
       "       [ True],\n",
       "       [ True],\n",
       "       [False],\n",
       "       [False],\n",
       "       [ True],\n",
       "       [ True],\n",
       "       [ True],\n",
       "       [ True],\n",
       "       [False],\n",
       "       [ True],\n",
       "       [ True],\n",
       "       [False],\n",
       "       [ True],\n",
       "       [False],\n",
       "       [False],\n",
       "       [False]])"
      ]
     },
     "execution_count": 71,
     "metadata": {},
     "output_type": "execute_result"
    }
   ],
   "source": [
    "previsao = (previsao > 0.5)\n",
    "previsao"
   ]
  },
  {
   "cell_type": "code",
   "execution_count": 72,
   "metadata": {},
   "outputs": [
    {
     "data": {
      "text/plain": [
       "array([1, 0, 1, 1, 1, 0, 1, 1, 1, 1, 1, 0, 0, 1, 0, 0, 0, 0, 1, 1, 1, 0,\n",
       "       1, 1, 1, 0, 1, 1, 0, 0, 0, 0, 0, 0, 0, 0, 1, 1, 1, 1, 0, 0, 1, 1,\n",
       "       1, 0, 0, 1, 1, 0, 1, 0, 0, 0])"
      ]
     },
     "execution_count": 72,
     "metadata": {},
     "output_type": "execute_result"
    }
   ],
   "source": [
    "y_test"
   ]
  },
  {
   "attachments": {},
   "cell_type": "markdown",
   "metadata": {},
   "source": [
    "- acuracy mede a probabilidade de acerto da rede neural"
   ]
  },
  {
   "cell_type": "code",
   "execution_count": 73,
   "metadata": {},
   "outputs": [
    {
     "data": {
      "text/plain": [
       "0.7037037037037037"
      ]
     },
     "execution_count": 73,
     "metadata": {},
     "output_type": "execute_result"
    }
   ],
   "source": [
    "accuracy_score(y_test, previsao)"
   ]
  },
  {
   "cell_type": "code",
   "execution_count": 74,
   "metadata": {},
   "outputs": [
    {
     "data": {
      "text/plain": [
       "array([[16, 10],\n",
       "       [ 6, 22]], dtype=int64)"
      ]
     },
     "execution_count": 74,
     "metadata": {},
     "output_type": "execute_result"
    }
   ],
   "source": [
    "cm = confusion_matrix(y_test, previsao)\n",
    "cm"
   ]
  },
  {
   "cell_type": "code",
   "execution_count": 75,
   "metadata": {},
   "outputs": [
    {
     "data": {
      "image/png": "[encoded data removed]",
      "text/plain": [
       "<Figure size 640x480 with 2 Axes>"
      ]
     },
     "metadata": {},
     "output_type": "display_data"
    }
   ],
   "source": [
    "sns.heatmap(cm, annot=True);"
   ]
  },
  {
   "cell_type": "code",
   "execution_count": 76,
   "metadata": {},
   "outputs": [
    {
     "name": "stdout",
     "output_type": "stream",
     "text": [
      "              precision    recall  f1-score   support\n",
      "\n",
      "           0       0.73      0.62      0.67        26\n",
      "           1       0.69      0.79      0.73        28\n",
      "\n",
      "    accuracy                           0.70        54\n",
      "   macro avg       0.71      0.70      0.70        54\n",
      "weighted avg       0.71      0.70      0.70        54\n",
      "\n"
     ]
    }
   ],
   "source": [
    "print(classification_report(y_test, previsao))"
   ]
  },
  {
   "attachments": {},
   "cell_type": "markdown",
   "metadata": {},
   "source": [
    "- Salvar e carregar o modelo treinado "
   ]
  },
  {
   "cell_type": "code",
   "execution_count": 77,
   "metadata": {},
   "outputs": [],
   "source": [
    "model_json = network1.to_json()\n",
    "with open(\"model.json\", \"w\") as json_file:\n",
    "    json_file.write(model_json)"
   ]
  },
  {
   "cell_type": "code",
   "execution_count": 78,
   "metadata": {},
   "outputs": [],
   "source": [
    "network1_saved = save_model(network1, \"weights1.hdf5\")"
   ]
  },
  {
   "cell_type": "code",
   "execution_count": 79,
   "metadata": {},
   "outputs": [
    {
     "data": {
      "text/plain": [
       "'{\"class_name\": \"Sequential\", \"config\": {\"name\": \"sequential_1\", \"layers\": [{\"class_name\": \"InputLayer\", \"config\": {\"batch_input_shape\": [null, 16384], \"dtype\": \"float32\", \"sparse\": false, \"ragged\": false, \"name\": \"dense_3_input\"}}, {\"class_name\": \"Dense\", \"config\": {\"name\": \"dense_3\", \"trainable\": true, \"dtype\": \"float32\", \"batch_input_shape\": [null, 16384], \"units\": 8193, \"activation\": \"relu\", \"use_bias\": true, \"kernel_initializer\": {\"class_name\": \"GlorotUniform\", \"config\": {\"seed\": null}}, \"bias_initializer\": {\"class_name\": \"Zeros\", \"config\": {}}, \"kernel_regularizer\": null, \"bias_regularizer\": null, \"activity_regularizer\": null, \"kernel_constraint\": null, \"bias_constraint\": null}}, {\"class_name\": \"Dense\", \"config\": {\"name\": \"dense_4\", \"trainable\": true, \"dtype\": \"float32\", \"units\": 8193, \"activation\": \"relu\", \"use_bias\": true, \"kernel_initializer\": {\"class_name\": \"GlorotUniform\", \"config\": {\"seed\": null}}, \"bias_initializer\": {\"class_name\": \"Zeros\", \"config\": {}}, \"kernel_regularizer\": null, \"bias_regularizer\": null, \"activity_regularizer\": null, \"kernel_constraint\": null, \"bias_constraint\": null}}, {\"class_name\": \"Dense\", \"config\": {\"name\": \"dense_5\", \"trainable\": true, \"dtype\": \"float32\", \"units\": 1, \"activation\": \"sigmoid\", \"use_bias\": true, \"kernel_initializer\": {\"class_name\": \"GlorotUniform\", \"config\": {\"seed\": null}}, \"bias_initializer\": {\"class_name\": \"Zeros\", \"config\": {}}, \"kernel_regularizer\": null, \"bias_regularizer\": null, \"activity_regularizer\": null, \"kernel_constraint\": null, \"bias_constraint\": null}}]}, \"keras_version\": \"2.12.0\", \"backend\": \"tensorflow\"}'"
      ]
     },
     "execution_count": 79,
     "metadata": {},
     "output_type": "execute_result"
    }
   ],
   "source": [
    "with open('model.json', 'r') as json_file:\n",
    "    json_savedModel= json_file.read()\n",
    "json_savedModel    "
   ]
  },
  {
   "cell_type": "code",
   "execution_count": 80,
   "metadata": {},
   "outputs": [],
   "source": [
    "network1_loaded = tf.keras.models.model_from_json(json_savedModel)\n",
    "network1_loaded.load_weights('weights1.hdf5')\n",
    "network1_loaded.compile(optimizer='adam', loss='binary_crossentropy', metrics=['accuracy'])"
   ]
  },
  {
   "cell_type": "code",
   "execution_count": 81,
   "metadata": {},
   "outputs": [
    {
     "name": "stdout",
     "output_type": "stream",
     "text": [
      "Model: \"sequential_1\"\n",
      "_________________________________________________________________\n",
      " Layer (type)                Output Shape              Param #   \n",
      "=================================================================\n",
      " dense_3 (Dense)             (None, 8193)              134242305 \n",
      "                                                                 \n",
      " dense_4 (Dense)             (None, 8193)              67133442  \n",
      "                                                                 \n",
      " dense_5 (Dense)             (None, 1)                 8194      \n",
      "                                                                 \n",
      "=================================================================\n",
      "Total params: 201,383,941\n",
      "Trainable params: 201,383,941\n",
      "Non-trainable params: 0\n",
      "_________________________________________________________________\n"
     ]
    }
   ],
   "source": [
    "network1_loaded.summary()"
   ]
  },
  {
   "attachments": {},
   "cell_type": "markdown",
   "metadata": {},
   "source": [
    "- Classificação de uma unica imagem"
   ]
  },
  {
   "cell_type": "code",
   "execution_count": 82,
   "metadata": {},
   "outputs": [
    {
     "data": {
      "text/plain": [
       "(array([1., 1., 1., ..., 1., 1., 1.]), 1)"
      ]
     },
     "execution_count": 82,
     "metadata": {},
     "output_type": "execute_result"
    }
   ],
   "source": [
    "X_test[0], y_test[0]"
   ]
  },
  {
   "attachments": {},
   "cell_type": "markdown",
   "metadata": {},
   "source": [
    "- Para verrificar a imagem precisamos converter o array em matriz e depois voltar a normalização"
   ]
  },
  {
   "cell_type": "code",
   "execution_count": 93,
   "metadata": {},
   "outputs": [],
   "source": [
    "imagem_teste = X_test[31]\n",
    "imagem_teste = scaler.inverse_transform(imagem_teste.reshape(1, -1))"
   ]
  },
  {
   "cell_type": "code",
   "execution_count": 94,
   "metadata": {},
   "outputs": [
    {
     "data": {
      "text/plain": [
       "array([[255., 255., 255., ..., 255., 255., 255.]])"
      ]
     },
     "execution_count": 94,
     "metadata": {},
     "output_type": "execute_result"
    }
   ],
   "source": [
    "imagem_teste"
   ]
  },
  {
   "cell_type": "code",
   "execution_count": 95,
   "metadata": {},
   "outputs": [],
   "source": [
    "PIL_image = PIL.Image.fromarray(imagem_teste.reshape(128, 128))\n",
    "PIL_image.show()"
   ]
  },
  {
   "cell_type": "code",
   "execution_count": 96,
   "metadata": {},
   "outputs": [
    {
     "name": "stdout",
     "output_type": "stream",
     "text": [
      "1/1 [==============================] - 0s 85ms/step\n"
     ]
    },
    {
     "data": {
      "text/plain": [
       "0.0"
      ]
     },
     "execution_count": 96,
     "metadata": {},
     "output_type": "execute_result"
    }
   ],
   "source": [
    "network1_loaded.predict(imagem_teste)[0][0]"
   ]
  },
  {
   "cell_type": "code",
   "execution_count": 97,
   "metadata": {},
   "outputs": [
    {
     "name": "stdout",
     "output_type": "stream",
     "text": [
      "1/1 [==============================] - 0s 93ms/step\n",
      "É o Homer\n"
     ]
    }
   ],
   "source": [
    "if network1_loaded.predict(imagem_teste)[0][0] > 0.5:\n",
    "    print(\"É o Bart\")\n",
    "else:\n",
    "    print(\"É o Homer\")    "
   ]
  }
 ],
 "metadata": {
  "kernelspec": {
   "display_name": "base",
   "language": "python",
   "name": "python3"
  },
  "language_info": {
   "codemirror_mode": {
    "name": "ipython",
    "version": 3
   },
   "file_extension": ".py",
   "mimetype": "text/x-python",
   "name": "python",
   "nbconvert_exporter": "python",
   "pygments_lexer": "ipython3",
   "version": "3.8.0"
  },
  "orig_nbformat": 4
 },
 "nbformat": 4,
 "nbformat_minor": 2
}
