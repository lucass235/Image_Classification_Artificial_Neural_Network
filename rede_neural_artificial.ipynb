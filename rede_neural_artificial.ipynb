{
 "cells": [
  {
   "attachments": {},
   "cell_type": "markdown",
   "metadata": {},
   "source": [
    "# Classificação de imagem com rede neural artificial"
   ]
  },
  {
   "cell_type": "code",
   "execution_count": 1,
   "metadata": {},
   "outputs": [
    {
     "data": {
      "text/plain": [
       "'2.12.0'"
      ]
     },
     "execution_count": 1,
     "metadata": {},
     "output_type": "execute_result"
    }
   ],
   "source": [
    "import cv2\n",
    "import numpy as np\n",
    "import os \n",
    "import tensorflow as tf # Deep Learning\n",
    "import pandas as pd # Manipulação de dados\n",
    "import seaborn as sns # Visualização de dados\n",
    "import matplotlib.pyplot as plt # Visualização de dados\n",
    "import PIL # Manipulação de imagens\n",
    "from sklearn.preprocessing import MinMaxScaler\n",
    "from sklearn.metrics import accuracy_score, confusion_matrix, classification_report\n",
    "from keras.models import save_model\n",
    "from keras.callbacks import EarlyStopping\n",
    "tf.__version__"
   ]
  },
  {
   "attachments": {},
   "cell_type": "markdown",
   "metadata": {},
   "source": [
    "- Definindo caminho das imagens na variável arquivos"
   ]
  },
  {
   "cell_type": "code",
   "execution_count": 2,
   "metadata": {},
   "outputs": [],
   "source": [
    "diretorio = \"./data/homer_bart_1\"\n",
    "arquivos = [os.path.join(diretorio, arquivo) for arquivo in sorted(os.listdir(diretorio))]"
   ]
  },
  {
   "attachments": {},
   "cell_type": "markdown",
   "metadata": {},
   "source": [
    "- Precisamos definir o tamanho das imagens único para todas 128x128"
   ]
  },
  {
   "cell_type": "code",
   "execution_count": 3,
   "metadata": {},
   "outputs": [],
   "source": [
    "largura, altura = 128, 128"
   ]
  },
  {
   "attachments": {},
   "cell_type": "markdown",
   "metadata": {},
   "source": [
    "- Variável imagens para armazenar as imagens em formato de array\n",
    "- Variável classes para armazenar as classes das imagens 0 -> Homer, 1 -> Bart"
   ]
  },
  {
   "cell_type": "code",
   "execution_count": 4,
   "metadata": {},
   "outputs": [],
   "source": [
    "imagens = []\n",
    "classes = []"
   ]
  },
  {
   "attachments": {},
   "cell_type": "markdown",
   "metadata": {},
   "source": [
    "- Extração dos pixels das imagens"
   ]
  },
  {
   "attachments": {},
   "cell_type": "markdown",
   "metadata": {},
   "source": [
    "- Nesse bloco de código, estamos lendo as imagens, ajustando o seu tamanho, convertendo para escala de cinza, convertendo para array e adicionando na variável imagens.\n",
    "- No finalzinho estamos pegando o nome referente a identificação da imagem e adicionando na variável classes para identificar a classe da imagem."
   ]
  },
  {
   "cell_type": "code",
   "execution_count": 5,
   "metadata": {},
   "outputs": [],
   "source": [
    "for arquivo in arquivos:\n",
    "    try:\n",
    "        imagem = cv2.imread(arquivo)\n",
    "        (H, W) = imagem.shape[:2] # Altura e largura da imagem\n",
    "    except:\n",
    "        continue\n",
    "    imagem = cv2.resize(imagem, (largura, altura)) # Redimensiona a imagem\n",
    "    imagem = cv2.cvtColor(imagem, cv2.COLOR_BGR2GRAY) # Converte a imagem para tons de cinza\n",
    "    imagem = imagem.ravel() # Converte a imagem para um vetor\n",
    "    imagens.append(imagem) # Adiciona a imagem na lista de imagens\n",
    "    nome_imagem = arquivo.split(os.path.sep)[-1] # Pega o nome da imagem\n",
    "    if \"homer\" in nome_imagem:\n",
    "        classes.append(0)\n",
    "    else:\n",
    "        classes.append(1)            "
   ]
  },
  {
   "attachments": {},
   "cell_type": "markdown",
   "metadata": {},
   "source": [
    "- Convertendo as imagens em array e suas respectivas classes em array numpy"
   ]
  },
  {
   "cell_type": "code",
   "execution_count": 6,
   "metadata": {},
   "outputs": [],
   "source": [
    "X = np.array(imagens)\n",
    "y = np.array(classes)"
   ]
  },
  {
   "cell_type": "code",
   "execution_count": 7,
   "metadata": {},
   "outputs": [
    {
     "data": {
      "text/plain": [
       "((269, 16384), (269,))"
      ]
     },
     "execution_count": 7,
     "metadata": {},
     "output_type": "execute_result"
    }
   ],
   "source": [
    "X.shape, y.shape"
   ]
  },
  {
   "attachments": {},
   "cell_type": "markdown",
   "metadata": {},
   "source": [
    "- Normalização dos dados"
   ]
  },
  {
   "cell_type": "code",
   "execution_count": 8,
   "metadata": {},
   "outputs": [
    {
     "data": {
      "text/plain": [
       "(255, 0)"
      ]
     },
     "execution_count": 8,
     "metadata": {},
     "output_type": "execute_result"
    }
   ],
   "source": [
    "X[0].max(), X[0].min()"
   ]
  },
  {
   "attachments": {},
   "cell_type": "markdown",
   "metadata": {},
   "source": [
    "- Pegamos os 256 pixes e fizemos a normalização entre 0 e 1 onde 1 é a cor branca e 0 é a cor preta"
   ]
  },
  {
   "cell_type": "code",
   "execution_count": 9,
   "metadata": {},
   "outputs": [],
   "source": [
    "scaler = MinMaxScaler()\n",
    "X = scaler.fit_transform(X)"
   ]
  },
  {
   "cell_type": "code",
   "execution_count": 10,
   "metadata": {},
   "outputs": [
    {
     "data": {
      "text/plain": [
       "(1.0000000000000002, 0.0)"
      ]
     },
     "execution_count": 10,
     "metadata": {},
     "output_type": "execute_result"
    }
   ],
   "source": [
    "X[0].max(), X[0].min()"
   ]
  },
  {
   "attachments": {},
   "cell_type": "markdown",
   "metadata": {},
   "source": [
    "- Base de treinamento e teste\n",
    "- A biblioteca sklearn possui uma função chamada train_test_split que faz a divisão da base de dados em treinamento e teste\n",
    "- test_size = 0.25 -> 25% da base de dados será usada para teste e 75% para treinamento\n",
    "- random_state = 1 -> Para que a divisão seja sempre a mesma"
   ]
  },
  {
   "cell_type": "code",
   "execution_count": 11,
   "metadata": {},
   "outputs": [],
   "source": [
    "from sklearn.model_selection import train_test_split\n",
    "X_train, X_test, y_train, y_test = train_test_split(X, y, test_size=0.2, random_state=1)"
   ]
  },
  {
   "cell_type": "code",
   "execution_count": 12,
   "metadata": {},
   "outputs": [
    {
     "data": {
      "text/plain": [
       "((215, 16384), (54, 16384), (215,), (54,))"
      ]
     },
     "execution_count": 12,
     "metadata": {},
     "output_type": "execute_result"
    }
   ],
   "source": [
    "X_train.shape, X_test.shape, y_train.shape, y_test.shape"
   ]
  },
  {
   "attachments": {},
   "cell_type": "markdown",
   "metadata": {},
   "source": [
    "## Construção e treinamento da rede neural"
   ]
  },
  {
   "attachments": {},
   "cell_type": "markdown",
   "metadata": {},
   "source": [
    "- units parâmetro de entrada de neurônios da camada oculta\n",
    "- activation função de ativação da camada oculta\n",
    "- input_shape parâmetro de entrada de neurônios da camada de entrada"
   ]
  },
  {
   "cell_type": "code",
   "execution_count": 13,
   "metadata": {},
   "outputs": [],
   "source": [
    "network1 = tf.keras.models.Sequential() # Cria a rede neural sequencial \n",
    "network1.add(tf.keras.layers.Dense(units=8193, activation='relu', input_shape=(X_train.shape[1],))) # Adiciona a primeira camada oculta\n",
    "network1.add(tf.keras.layers.Dense(units=8193, activation='relu')) # Adiciona a segunda camada oculta\n",
    "network1.add(tf.keras.layers.Dense(units=1, activation='sigmoid')) # Adiciona a camada de saída"
   ]
  },
  {
   "cell_type": "code",
   "execution_count": 14,
   "metadata": {},
   "outputs": [
    {
     "name": "stdout",
     "output_type": "stream",
     "text": [
      "Model: \"sequential\"\n",
      "_________________________________________________________________\n",
      " Layer (type)                Output Shape              Param #   \n",
      "=================================================================\n",
      " dense (Dense)               (None, 8193)              134242305 \n",
      "                                                                 \n",
      " dense_1 (Dense)             (None, 8193)              67133442  \n",
      "                                                                 \n",
      " dense_2 (Dense)             (None, 1)                 8194      \n",
      "                                                                 \n",
      "=================================================================\n",
      "Total params: 201,383,941\n",
      "Trainable params: 201,383,941\n",
      "Non-trainable params: 0\n",
      "_________________________________________________________________\n"
     ]
    }
   ],
   "source": [
    "network1.summary()"
   ]
  },
  {
   "attachments": {},
   "cell_type": "markdown",
   "metadata": {},
   "source": [
    "- optimizer parametro de otimização dos pesos da rede neural (adam)\n",
    "- loss função para calcular o erro (binary_crossentropy)\n",
    "- metrics métrica para avaliar o modelo (accuracy)"
   ]
  },
  {
   "cell_type": "code",
   "execution_count": 15,
   "metadata": {},
   "outputs": [],
   "source": [
    "network1.compile(optimizer='adam', loss='binary_crossentropy', metrics=['accuracy']) # Compila a rede neural"
   ]
  },
  {
   "attachments": {},
   "cell_type": "markdown",
   "metadata": {},
   "source": [
    "- Definição do callback para parar o treinamento quando a acurácia de validação não melhorar"
   ]
  },
  {
   "cell_type": "code",
   "execution_count": 16,
   "metadata": {},
   "outputs": [],
   "source": [
    "# Definir o critério de parada antecipada\n",
    "early_stopping = EarlyStopping(monitor='val_loss', patience=150, restore_best_weights=True)\n",
    "# Incluir o critério de parada antecipada na lista de callbacks\n",
    "callbacks_list = [early_stopping]"
   ]
  },
  {
   "attachments": {},
   "cell_type": "markdown",
   "metadata": {},
   "source": [
    "- epochs quantidade de vezes que o modelo será treinado\n",
    "- callbacks parâmetro para definir o callback de parada do treinamento\n",
    "- validation_split parâmetro para definir a quantidade de dados que será usada para validação"
   ]
  },
  {
   "cell_type": "code",
   "execution_count": 17,
   "metadata": {},
   "outputs": [
    {
     "name": "stdout",
     "output_type": "stream",
     "text": [
      "Epoch 1/200\n",
      "7/7 [==============================] - ETA: 0s - loss: 87.9943 - accuracy: 0.5395WARNING:tensorflow:Early stopping conditioned on metric `val_loss` which is not available. Available metrics are: loss,accuracy\n",
      "7/7 [==============================] - 12s 2s/step - loss: 87.9943 - accuracy: 0.5395\n",
      "Epoch 2/200\n",
      "7/7 [==============================] - ETA: 0s - loss: 28.2395 - accuracy: 0.5674WARNING:tensorflow:Early stopping conditioned on metric `val_loss` which is not available. Available metrics are: loss,accuracy\n",
      "7/7 [==============================] - 11s 2s/step - loss: 28.2395 - accuracy: 0.5674\n",
      "Epoch 3/200\n",
      "7/7 [==============================] - ETA: 0s - loss: 12.7959 - accuracy: 0.4419WARNING:tensorflow:Early stopping conditioned on metric `val_loss` which is not available. Available metrics are: loss,accuracy\n",
      "7/7 [==============================] - 11s 2s/step - loss: 12.7959 - accuracy: 0.4419\n",
      "Epoch 4/200\n",
      "7/7 [==============================] - ETA: 0s - loss: 2.8380 - accuracy: 0.5302WARNING:tensorflow:Early stopping conditioned on metric `val_loss` which is not available. Available metrics are: loss,accuracy\n",
      "7/7 [==============================] - 11s 2s/step - loss: 2.8380 - accuracy: 0.5302\n",
      "Epoch 5/200\n",
      "7/7 [==============================] - ETA: 0s - loss: 0.9147 - accuracy: 0.5628WARNING:tensorflow:Early stopping conditioned on metric `val_loss` which is not available. Available metrics are: loss,accuracy\n",
      "7/7 [==============================] - 11s 2s/step - loss: 0.9147 - accuracy: 0.5628\n",
      "Epoch 6/200\n",
      "7/7 [==============================] - ETA: 0s - loss: 0.6449 - accuracy: 0.6558WARNING:tensorflow:Early stopping conditioned on metric `val_loss` which is not available. Available metrics are: loss,accuracy\n",
      "7/7 [==============================] - 11s 2s/step - loss: 0.6449 - accuracy: 0.6558\n",
      "Epoch 7/200\n",
      "7/7 [==============================] - ETA: 0s - loss: 0.7042 - accuracy: 0.6093WARNING:tensorflow:Early stopping conditioned on metric `val_loss` which is not available. Available metrics are: loss,accuracy\n",
      "7/7 [==============================] - 11s 2s/step - loss: 0.7042 - accuracy: 0.6093\n",
      "Epoch 8/200\n",
      "7/7 [==============================] - ETA: 0s - loss: 0.6333 - accuracy: 0.6465WARNING:tensorflow:Early stopping conditioned on metric `val_loss` which is not available. Available metrics are: loss,accuracy\n",
      "7/7 [==============================] - 11s 2s/step - loss: 0.6333 - accuracy: 0.6465\n",
      "Epoch 9/200\n",
      "7/7 [==============================] - ETA: 0s - loss: 0.6031 - accuracy: 0.7070WARNING:tensorflow:Early stopping conditioned on metric `val_loss` which is not available. Available metrics are: loss,accuracy\n",
      "7/7 [==============================] - 11s 2s/step - loss: 0.6031 - accuracy: 0.7070\n",
      "Epoch 10/200\n",
      "7/7 [==============================] - ETA: 0s - loss: 0.5534 - accuracy: 0.7116WARNING:tensorflow:Early stopping conditioned on metric `val_loss` which is not available. Available metrics are: loss,accuracy\n",
      "7/7 [==============================] - 11s 2s/step - loss: 0.5534 - accuracy: 0.7116\n",
      "Epoch 11/200\n",
      "7/7 [==============================] - ETA: 0s - loss: 0.5864 - accuracy: 0.6837WARNING:tensorflow:Early stopping conditioned on metric `val_loss` which is not available. Available metrics are: loss,accuracy\n",
      "7/7 [==============================] - 11s 2s/step - loss: 0.5864 - accuracy: 0.6837\n",
      "Epoch 12/200\n",
      "7/7 [==============================] - ETA: 0s - loss: 0.5444 - accuracy: 0.7070WARNING:tensorflow:Early stopping conditioned on metric `val_loss` which is not available. Available metrics are: loss,accuracy\n",
      "7/7 [==============================] - 10s 1s/step - loss: 0.5444 - accuracy: 0.7070\n",
      "Epoch 13/200\n",
      "7/7 [==============================] - ETA: 0s - loss: 0.5700 - accuracy: 0.6930WARNING:tensorflow:Early stopping conditioned on metric `val_loss` which is not available. Available metrics are: loss,accuracy\n",
      "7/7 [==============================] - 10s 1s/step - loss: 0.5700 - accuracy: 0.6930\n",
      "Epoch 14/200\n",
      "7/7 [==============================] - ETA: 0s - loss: 0.6570 - accuracy: 0.6465WARNING:tensorflow:Early stopping conditioned on metric `val_loss` which is not available. Available metrics are: loss,accuracy\n",
      "7/7 [==============================] - 10s 1s/step - loss: 0.6570 - accuracy: 0.6465\n",
      "Epoch 15/200\n",
      "7/7 [==============================] - ETA: 0s - loss: 0.4733 - accuracy: 0.7814WARNING:tensorflow:Early stopping conditioned on metric `val_loss` which is not available. Available metrics are: loss,accuracy\n",
      "7/7 [==============================] - 10s 1s/step - loss: 0.4733 - accuracy: 0.7814\n",
      "Epoch 16/200\n",
      "7/7 [==============================] - ETA: 0s - loss: 0.4433 - accuracy: 0.7767WARNING:tensorflow:Early stopping conditioned on metric `val_loss` which is not available. Available metrics are: loss,accuracy\n",
      "7/7 [==============================] - 11s 2s/step - loss: 0.4433 - accuracy: 0.7767\n",
      "Epoch 17/200\n",
      "7/7 [==============================] - ETA: 0s - loss: 0.5929 - accuracy: 0.7070WARNING:tensorflow:Early stopping conditioned on metric `val_loss` which is not available. Available metrics are: loss,accuracy\n",
      "7/7 [==============================] - 11s 2s/step - loss: 0.5929 - accuracy: 0.7070\n",
      "Epoch 18/200\n",
      "7/7 [==============================] - ETA: 0s - loss: 0.4359 - accuracy: 0.8000WARNING:tensorflow:Early stopping conditioned on metric `val_loss` which is not available. Available metrics are: loss,accuracy\n",
      "7/7 [==============================] - 11s 2s/step - loss: 0.4359 - accuracy: 0.8000\n",
      "Epoch 19/200\n",
      "7/7 [==============================] - ETA: 0s - loss: 0.4171 - accuracy: 0.8140WARNING:tensorflow:Early stopping conditioned on metric `val_loss` which is not available. Available metrics are: loss,accuracy\n",
      "7/7 [==============================] - 11s 2s/step - loss: 0.4171 - accuracy: 0.8140\n",
      "Epoch 20/200\n",
      "7/7 [==============================] - ETA: 0s - loss: 0.4853 - accuracy: 0.7395WARNING:tensorflow:Early stopping conditioned on metric `val_loss` which is not available. Available metrics are: loss,accuracy\n",
      "7/7 [==============================] - 10s 1s/step - loss: 0.4853 - accuracy: 0.7395\n",
      "Epoch 21/200\n",
      "7/7 [==============================] - ETA: 0s - loss: 0.6781 - accuracy: 0.6651WARNING:tensorflow:Early stopping conditioned on metric `val_loss` which is not available. Available metrics are: loss,accuracy\n",
      "7/7 [==============================] - 11s 1s/step - loss: 0.6781 - accuracy: 0.6651\n",
      "Epoch 22/200\n",
      "7/7 [==============================] - ETA: 0s - loss: 0.5454 - accuracy: 0.6744WARNING:tensorflow:Early stopping conditioned on metric `val_loss` which is not available. Available metrics are: loss,accuracy\n",
      "7/7 [==============================] - 11s 2s/step - loss: 0.5454 - accuracy: 0.6744\n",
      "Epoch 23/200\n",
      "7/7 [==============================] - ETA: 0s - loss: 0.4109 - accuracy: 0.8558WARNING:tensorflow:Early stopping conditioned on metric `val_loss` which is not available. Available metrics are: loss,accuracy\n",
      "7/7 [==============================] - 11s 2s/step - loss: 0.4109 - accuracy: 0.8558\n",
      "Epoch 24/200\n",
      "7/7 [==============================] - ETA: 0s - loss: 0.5884 - accuracy: 0.6930WARNING:tensorflow:Early stopping conditioned on metric `val_loss` which is not available. Available metrics are: loss,accuracy\n",
      "7/7 [==============================] - 11s 2s/step - loss: 0.5884 - accuracy: 0.6930\n",
      "Epoch 25/200\n",
      "7/7 [==============================] - ETA: 0s - loss: 0.4782 - accuracy: 0.7256WARNING:tensorflow:Early stopping conditioned on metric `val_loss` which is not available. Available metrics are: loss,accuracy\n",
      "7/7 [==============================] - 11s 2s/step - loss: 0.4782 - accuracy: 0.7256\n",
      "Epoch 26/200\n",
      "7/7 [==============================] - ETA: 0s - loss: 0.2920 - accuracy: 0.9209WARNING:tensorflow:Early stopping conditioned on metric `val_loss` which is not available. Available metrics are: loss,accuracy\n",
      "7/7 [==============================] - 10s 1s/step - loss: 0.2920 - accuracy: 0.9209\n",
      "Epoch 27/200\n",
      "7/7 [==============================] - ETA: 0s - loss: 0.2405 - accuracy: 0.9302WARNING:tensorflow:Early stopping conditioned on metric `val_loss` which is not available. Available metrics are: loss,accuracy\n",
      "7/7 [==============================] - 11s 2s/step - loss: 0.2405 - accuracy: 0.9302\n",
      "Epoch 28/200\n",
      "7/7 [==============================] - ETA: 0s - loss: 0.3066 - accuracy: 0.8419WARNING:tensorflow:Early stopping conditioned on metric `val_loss` which is not available. Available metrics are: loss,accuracy\n",
      "7/7 [==============================] - 11s 2s/step - loss: 0.3066 - accuracy: 0.8419\n",
      "Epoch 29/200\n",
      "7/7 [==============================] - ETA: 0s - loss: 0.2806 - accuracy: 0.8698WARNING:tensorflow:Early stopping conditioned on metric `val_loss` which is not available. Available metrics are: loss,accuracy\n",
      "7/7 [==============================] - 11s 2s/step - loss: 0.2806 - accuracy: 0.8698\n",
      "Epoch 30/200\n",
      "7/7 [==============================] - ETA: 0s - loss: 0.3952 - accuracy: 0.8233WARNING:tensorflow:Early stopping conditioned on metric `val_loss` which is not available. Available metrics are: loss,accuracy\n",
      "7/7 [==============================] - 11s 2s/step - loss: 0.3952 - accuracy: 0.8233\n",
      "Epoch 31/200\n",
      "7/7 [==============================] - ETA: 0s - loss: 0.2024 - accuracy: 0.9163WARNING:tensorflow:Early stopping conditioned on metric `val_loss` which is not available. Available metrics are: loss,accuracy\n",
      "7/7 [==============================] - 11s 2s/step - loss: 0.2024 - accuracy: 0.9163\n",
      "Epoch 32/200\n",
      "7/7 [==============================] - ETA: 0s - loss: 0.3596 - accuracy: 0.8558WARNING:tensorflow:Early stopping conditioned on metric `val_loss` which is not available. Available metrics are: loss,accuracy\n",
      "7/7 [==============================] - 10s 1s/step - loss: 0.3596 - accuracy: 0.8558\n",
      "Epoch 33/200\n",
      "7/7 [==============================] - ETA: 0s - loss: 0.6196 - accuracy: 0.7070WARNING:tensorflow:Early stopping conditioned on metric `val_loss` which is not available. Available metrics are: loss,accuracy\n",
      "7/7 [==============================] - 10s 1s/step - loss: 0.6196 - accuracy: 0.7070\n",
      "Epoch 34/200\n",
      "7/7 [==============================] - ETA: 0s - loss: 0.4107 - accuracy: 0.8047WARNING:tensorflow:Early stopping conditioned on metric `val_loss` which is not available. Available metrics are: loss,accuracy\n",
      "7/7 [==============================] - 10s 1s/step - loss: 0.4107 - accuracy: 0.8047\n",
      "Epoch 35/200\n",
      "7/7 [==============================] - ETA: 0s - loss: 0.2886 - accuracy: 0.8837WARNING:tensorflow:Early stopping conditioned on metric `val_loss` which is not available. Available metrics are: loss,accuracy\n",
      "7/7 [==============================] - 11s 2s/step - loss: 0.2886 - accuracy: 0.8837\n",
      "Epoch 36/200\n",
      "7/7 [==============================] - ETA: 0s - loss: 0.1516 - accuracy: 0.9535WARNING:tensorflow:Early stopping conditioned on metric `val_loss` which is not available. Available metrics are: loss,accuracy\n",
      "7/7 [==============================] - 11s 2s/step - loss: 0.1516 - accuracy: 0.9535\n",
      "Epoch 37/200\n",
      "7/7 [==============================] - ETA: 0s - loss: 0.4145 - accuracy: 0.7814WARNING:tensorflow:Early stopping conditioned on metric `val_loss` which is not available. Available metrics are: loss,accuracy\n",
      "7/7 [==============================] - 11s 2s/step - loss: 0.4145 - accuracy: 0.7814\n",
      "Epoch 38/200\n",
      "7/7 [==============================] - ETA: 0s - loss: 0.5599 - accuracy: 0.7349WARNING:tensorflow:Early stopping conditioned on metric `val_loss` which is not available. Available metrics are: loss,accuracy\n",
      "7/7 [==============================] - 10s 1s/step - loss: 0.5599 - accuracy: 0.7349\n",
      "Epoch 39/200\n",
      "7/7 [==============================] - ETA: 0s - loss: 0.4451 - accuracy: 0.7907WARNING:tensorflow:Early stopping conditioned on metric `val_loss` which is not available. Available metrics are: loss,accuracy\n",
      "7/7 [==============================] - 10s 1s/step - loss: 0.4451 - accuracy: 0.7907\n",
      "Epoch 40/200\n",
      "7/7 [==============================] - ETA: 0s - loss: 0.2389 - accuracy: 0.9116WARNING:tensorflow:Early stopping conditioned on metric `val_loss` which is not available. Available metrics are: loss,accuracy\n",
      "7/7 [==============================] - 10s 1s/step - loss: 0.2389 - accuracy: 0.9116\n",
      "Epoch 41/200\n",
      "7/7 [==============================] - ETA: 0s - loss: 0.0998 - accuracy: 0.9953WARNING:tensorflow:Early stopping conditioned on metric `val_loss` which is not available. Available metrics are: loss,accuracy\n",
      "7/7 [==============================] - 10s 1s/step - loss: 0.0998 - accuracy: 0.9953\n",
      "Epoch 42/200\n",
      "7/7 [==============================] - ETA: 0s - loss: 0.0408 - accuracy: 1.0000WARNING:tensorflow:Early stopping conditioned on metric `val_loss` which is not available. Available metrics are: loss,accuracy\n",
      "7/7 [==============================] - 10s 1s/step - loss: 0.0408 - accuracy: 1.0000\n",
      "Epoch 43/200\n",
      "7/7 [==============================] - ETA: 0s - loss: 0.0206 - accuracy: 1.0000WARNING:tensorflow:Early stopping conditioned on metric `val_loss` which is not available. Available metrics are: loss,accuracy\n",
      "7/7 [==============================] - 10s 1s/step - loss: 0.0206 - accuracy: 1.0000\n",
      "Epoch 44/200\n",
      "7/7 [==============================] - ETA: 0s - loss: 0.0368 - accuracy: 0.9860WARNING:tensorflow:Early stopping conditioned on metric `val_loss` which is not available. Available metrics are: loss,accuracy\n",
      "7/7 [==============================] - 10s 1s/step - loss: 0.0368 - accuracy: 0.9860\n",
      "Epoch 45/200\n",
      "7/7 [==============================] - ETA: 0s - loss: 0.0805 - accuracy: 0.9674WARNING:tensorflow:Early stopping conditioned on metric `val_loss` which is not available. Available metrics are: loss,accuracy\n",
      "7/7 [==============================] - 10s 1s/step - loss: 0.0805 - accuracy: 0.9674\n",
      "Epoch 46/200\n",
      "7/7 [==============================] - ETA: 0s - loss: 1.2744 - accuracy: 0.6977WARNING:tensorflow:Early stopping conditioned on metric `val_loss` which is not available. Available metrics are: loss,accuracy\n",
      "7/7 [==============================] - 10s 1s/step - loss: 1.2744 - accuracy: 0.6977\n",
      "Epoch 47/200\n",
      "7/7 [==============================] - ETA: 0s - loss: 0.2834 - accuracy: 0.8465WARNING:tensorflow:Early stopping conditioned on metric `val_loss` which is not available. Available metrics are: loss,accuracy\n",
      "7/7 [==============================] - 10s 1s/step - loss: 0.2834 - accuracy: 0.8465\n",
      "Epoch 48/200\n",
      "7/7 [==============================] - ETA: 0s - loss: 0.2445 - accuracy: 0.8791WARNING:tensorflow:Early stopping conditioned on metric `val_loss` which is not available. Available metrics are: loss,accuracy\n",
      "7/7 [==============================] - 10s 1s/step - loss: 0.2445 - accuracy: 0.8791\n",
      "Epoch 49/200\n",
      "7/7 [==============================] - ETA: 0s - loss: 0.4430 - accuracy: 0.8233WARNING:tensorflow:Early stopping conditioned on metric `val_loss` which is not available. Available metrics are: loss,accuracy\n",
      "7/7 [==============================] - 10s 1s/step - loss: 0.4430 - accuracy: 0.8233\n",
      "Epoch 50/200\n",
      "7/7 [==============================] - ETA: 0s - loss: 0.2556 - accuracy: 0.8512WARNING:tensorflow:Early stopping conditioned on metric `val_loss` which is not available. Available metrics are: loss,accuracy\n",
      "7/7 [==============================] - 10s 1s/step - loss: 0.2556 - accuracy: 0.8512\n",
      "Epoch 51/200\n",
      "7/7 [==============================] - ETA: 0s - loss: 0.2034 - accuracy: 0.8837WARNING:tensorflow:Early stopping conditioned on metric `val_loss` which is not available. Available metrics are: loss,accuracy\n",
      "7/7 [==============================] - 10s 1s/step - loss: 0.2034 - accuracy: 0.8837\n",
      "Epoch 52/200\n",
      "7/7 [==============================] - ETA: 0s - loss: 0.1981 - accuracy: 0.9116WARNING:tensorflow:Early stopping conditioned on metric `val_loss` which is not available. Available metrics are: loss,accuracy\n",
      "7/7 [==============================] - 10s 1s/step - loss: 0.1981 - accuracy: 0.9116\n",
      "Epoch 53/200\n",
      "7/7 [==============================] - ETA: 0s - loss: 0.1454 - accuracy: 0.9442WARNING:tensorflow:Early stopping conditioned on metric `val_loss` which is not available. Available metrics are: loss,accuracy\n",
      "7/7 [==============================] - 10s 1s/step - loss: 0.1454 - accuracy: 0.9442\n",
      "Epoch 54/200\n",
      "7/7 [==============================] - ETA: 0s - loss: 0.1108 - accuracy: 0.9674WARNING:tensorflow:Early stopping conditioned on metric `val_loss` which is not available. Available metrics are: loss,accuracy\n",
      "7/7 [==============================] - 10s 1s/step - loss: 0.1108 - accuracy: 0.9674\n",
      "Epoch 55/200\n",
      "7/7 [==============================] - ETA: 0s - loss: 0.1387 - accuracy: 0.9628WARNING:tensorflow:Early stopping conditioned on metric `val_loss` which is not available. Available metrics are: loss,accuracy\n",
      "7/7 [==============================] - 10s 1s/step - loss: 0.1387 - accuracy: 0.9628\n",
      "Epoch 56/200\n",
      "7/7 [==============================] - ETA: 0s - loss: 0.0518 - accuracy: 0.9953WARNING:tensorflow:Early stopping conditioned on metric `val_loss` which is not available. Available metrics are: loss,accuracy\n",
      "7/7 [==============================] - 10s 1s/step - loss: 0.0518 - accuracy: 0.9953\n",
      "Epoch 57/200\n",
      "7/7 [==============================] - ETA: 0s - loss: 0.0188 - accuracy: 1.0000WARNING:tensorflow:Early stopping conditioned on metric `val_loss` which is not available. Available metrics are: loss,accuracy\n",
      "7/7 [==============================] - 10s 1s/step - loss: 0.0188 - accuracy: 1.0000\n",
      "Epoch 58/200\n",
      "7/7 [==============================] - ETA: 0s - loss: 0.0141 - accuracy: 1.0000WARNING:tensorflow:Early stopping conditioned on metric `val_loss` which is not available. Available metrics are: loss,accuracy\n",
      "7/7 [==============================] - 10s 1s/step - loss: 0.0141 - accuracy: 1.0000\n",
      "Epoch 59/200\n",
      "7/7 [==============================] - ETA: 0s - loss: 0.0087 - accuracy: 1.0000WARNING:tensorflow:Early stopping conditioned on metric `val_loss` which is not available. Available metrics are: loss,accuracy\n",
      "7/7 [==============================] - 10s 1s/step - loss: 0.0087 - accuracy: 1.0000\n",
      "Epoch 60/200\n",
      "7/7 [==============================] - ETA: 0s - loss: 0.0119 - accuracy: 1.0000WARNING:tensorflow:Early stopping conditioned on metric `val_loss` which is not available. Available metrics are: loss,accuracy\n",
      "7/7 [==============================] - 10s 1s/step - loss: 0.0119 - accuracy: 1.0000\n",
      "Epoch 61/200\n",
      "7/7 [==============================] - ETA: 0s - loss: 0.0055 - accuracy: 1.0000WARNING:tensorflow:Early stopping conditioned on metric `val_loss` which is not available. Available metrics are: loss,accuracy\n",
      "7/7 [==============================] - 10s 1s/step - loss: 0.0055 - accuracy: 1.0000\n",
      "Epoch 62/200\n",
      "7/7 [==============================] - ETA: 0s - loss: 0.0037 - accuracy: 1.0000WARNING:tensorflow:Early stopping conditioned on metric `val_loss` which is not available. Available metrics are: loss,accuracy\n",
      "7/7 [==============================] - 10s 1s/step - loss: 0.0037 - accuracy: 1.0000\n",
      "Epoch 63/200\n",
      "7/7 [==============================] - ETA: 0s - loss: 0.0034 - accuracy: 1.0000WARNING:tensorflow:Early stopping conditioned on metric `val_loss` which is not available. Available metrics are: loss,accuracy\n",
      "7/7 [==============================] - 10s 1s/step - loss: 0.0034 - accuracy: 1.0000\n",
      "Epoch 64/200\n",
      "7/7 [==============================] - ETA: 0s - loss: 0.0025 - accuracy: 1.0000WARNING:tensorflow:Early stopping conditioned on metric `val_loss` which is not available. Available metrics are: loss,accuracy\n",
      "7/7 [==============================] - 10s 1s/step - loss: 0.0025 - accuracy: 1.0000\n",
      "Epoch 65/200\n",
      "7/7 [==============================] - ETA: 0s - loss: 0.0021 - accuracy: 1.0000WARNING:tensorflow:Early stopping conditioned on metric `val_loss` which is not available. Available metrics are: loss,accuracy\n",
      "7/7 [==============================] - 10s 1s/step - loss: 0.0021 - accuracy: 1.0000\n",
      "Epoch 66/200\n",
      "7/7 [==============================] - ETA: 0s - loss: 0.0017 - accuracy: 1.0000WARNING:tensorflow:Early stopping conditioned on metric `val_loss` which is not available. Available metrics are: loss,accuracy\n",
      "7/7 [==============================] - 10s 1s/step - loss: 0.0017 - accuracy: 1.0000\n",
      "Epoch 67/200\n",
      "7/7 [==============================] - ETA: 0s - loss: 0.0015 - accuracy: 1.0000WARNING:tensorflow:Early stopping conditioned on metric `val_loss` which is not available. Available metrics are: loss,accuracy\n",
      "7/7 [==============================] - 10s 1s/step - loss: 0.0015 - accuracy: 1.0000\n",
      "Epoch 68/200\n",
      "7/7 [==============================] - ETA: 0s - loss: 0.0014 - accuracy: 1.0000WARNING:tensorflow:Early stopping conditioned on metric `val_loss` which is not available. Available metrics are: loss,accuracy\n",
      "7/7 [==============================] - 10s 1s/step - loss: 0.0014 - accuracy: 1.0000\n",
      "Epoch 69/200\n",
      "7/7 [==============================] - ETA: 0s - loss: 0.0014 - accuracy: 1.0000    WARNING:tensorflow:Early stopping conditioned on metric `val_loss` which is not available. Available metrics are: loss,accuracy\n",
      "7/7 [==============================] - 10s 1s/step - loss: 0.0014 - accuracy: 1.0000\n",
      "Epoch 70/200\n",
      "7/7 [==============================] - ETA: 0s - loss: 0.0017 - accuracy: 1.0000WARNING:tensorflow:Early stopping conditioned on metric `val_loss` which is not available. Available metrics are: loss,accuracy\n",
      "7/7 [==============================] - 10s 1s/step - loss: 0.0017 - accuracy: 1.0000\n",
      "Epoch 71/200\n",
      "7/7 [==============================] - ETA: 0s - loss: 0.0011 - accuracy: 1.0000  WARNING:tensorflow:Early stopping conditioned on metric `val_loss` which is not available. Available metrics are: loss,accuracy\n",
      "7/7 [==============================] - 10s 1s/step - loss: 0.0011 - accuracy: 1.0000\n",
      "Epoch 72/200\n",
      "7/7 [==============================] - ETA: 0s - loss: 8.9991e-04 - accuracy: 1.0000WARNING:tensorflow:Early stopping conditioned on metric `val_loss` which is not available. Available metrics are: loss,accuracy\n",
      "7/7 [==============================] - 10s 1s/step - loss: 8.9991e-04 - accuracy: 1.0000\n",
      "Epoch 73/200\n",
      "7/7 [==============================] - ETA: 0s - loss: 7.9330e-04 - accuracy: 1.0000WARNING:tensorflow:Early stopping conditioned on metric `val_loss` which is not available. Available metrics are: loss,accuracy\n",
      "7/7 [==============================] - 10s 1s/step - loss: 7.9330e-04 - accuracy: 1.0000\n",
      "Epoch 74/200\n",
      "7/7 [==============================] - ETA: 0s - loss: 7.5061e-04 - accuracy: 1.0000WARNING:tensorflow:Early stopping conditioned on metric `val_loss` which is not available. Available metrics are: loss,accuracy\n",
      "7/7 [==============================] - 10s 1s/step - loss: 7.5061e-04 - accuracy: 1.0000\n",
      "Epoch 75/200\n",
      "7/7 [==============================] - ETA: 0s - loss: 7.1413e-04 - accuracy: 1.0000WARNING:tensorflow:Early stopping conditioned on metric `val_loss` which is not available. Available metrics are: loss,accuracy\n",
      "7/7 [==============================] - 10s 1s/step - loss: 7.1413e-04 - accuracy: 1.0000\n",
      "Epoch 76/200\n",
      "7/7 [==============================] - ETA: 0s - loss: 6.1311e-04 - accuracy: 1.0000WARNING:tensorflow:Early stopping conditioned on metric `val_loss` which is not available. Available metrics are: loss,accuracy\n",
      "7/7 [==============================] - 10s 1s/step - loss: 6.1311e-04 - accuracy: 1.0000\n",
      "Epoch 77/200\n",
      "7/7 [==============================] - ETA: 0s - loss: 6.3296e-04 - accuracy: 1.0000WARNING:tensorflow:Early stopping conditioned on metric `val_loss` which is not available. Available metrics are: loss,accuracy\n",
      "7/7 [==============================] - 10s 1s/step - loss: 6.3296e-04 - accuracy: 1.0000\n",
      "Epoch 78/200\n",
      "7/7 [==============================] - ETA: 0s - loss: 5.9573e-04 - accuracy: 1.0000WARNING:tensorflow:Early stopping conditioned on metric `val_loss` which is not available. Available metrics are: loss,accuracy\n",
      "7/7 [==============================] - 10s 1s/step - loss: 5.9573e-04 - accuracy: 1.0000\n",
      "Epoch 79/200\n",
      "7/7 [==============================] - ETA: 0s - loss: 5.5386e-04 - accuracy: 1.0000WARNING:tensorflow:Early stopping conditioned on metric `val_loss` which is not available. Available metrics are: loss,accuracy\n",
      "7/7 [==============================] - 10s 1s/step - loss: 5.5386e-04 - accuracy: 1.0000\n",
      "Epoch 80/200\n",
      "7/7 [==============================] - ETA: 0s - loss: 5.1540e-04 - accuracy: 1.0000WARNING:tensorflow:Early stopping conditioned on metric `val_loss` which is not available. Available metrics are: loss,accuracy\n",
      "7/7 [==============================] - 10s 1s/step - loss: 5.1540e-04 - accuracy: 1.0000\n",
      "Epoch 81/200\n",
      "7/7 [==============================] - ETA: 0s - loss: 4.3283e-04 - accuracy: 1.0000WARNING:tensorflow:Early stopping conditioned on metric `val_loss` which is not available. Available metrics are: loss,accuracy\n",
      "7/7 [==============================] - 10s 1s/step - loss: 4.3283e-04 - accuracy: 1.0000\n",
      "Epoch 82/200\n",
      "7/7 [==============================] - ETA: 0s - loss: 4.2935e-04 - accuracy: 1.0000WARNING:tensorflow:Early stopping conditioned on metric `val_loss` which is not available. Available metrics are: loss,accuracy\n",
      "7/7 [==============================] - 10s 1s/step - loss: 4.2935e-04 - accuracy: 1.0000\n",
      "Epoch 83/200\n",
      "7/7 [==============================] - ETA: 0s - loss: 3.9074e-04 - accuracy: 1.0000WARNING:tensorflow:Early stopping conditioned on metric `val_loss` which is not available. Available metrics are: loss,accuracy\n",
      "7/7 [==============================] - 10s 1s/step - loss: 3.9074e-04 - accuracy: 1.0000\n",
      "Epoch 84/200\n",
      "7/7 [==============================] - ETA: 0s - loss: 3.8159e-04 - accuracy: 1.0000WARNING:tensorflow:Early stopping conditioned on metric `val_loss` which is not available. Available metrics are: loss,accuracy\n",
      "7/7 [==============================] - 10s 1s/step - loss: 3.8159e-04 - accuracy: 1.0000\n",
      "Epoch 85/200\n",
      "7/7 [==============================] - ETA: 0s - loss: 3.3417e-04 - accuracy: 1.0000WARNING:tensorflow:Early stopping conditioned on metric `val_loss` which is not available. Available metrics are: loss,accuracy\n",
      "7/7 [==============================] - 10s 1s/step - loss: 3.3417e-04 - accuracy: 1.0000\n",
      "Epoch 86/200\n",
      "7/7 [==============================] - ETA: 0s - loss: 3.2334e-04 - accuracy: 1.0000WARNING:tensorflow:Early stopping conditioned on metric `val_loss` which is not available. Available metrics are: loss,accuracy\n",
      "7/7 [==============================] - 10s 1s/step - loss: 3.2334e-04 - accuracy: 1.0000\n",
      "Epoch 87/200\n",
      "7/7 [==============================] - ETA: 0s - loss: 3.0700e-04 - accuracy: 1.0000WARNING:tensorflow:Early stopping conditioned on metric `val_loss` which is not available. Available metrics are: loss,accuracy\n",
      "7/7 [==============================] - 10s 1s/step - loss: 3.0700e-04 - accuracy: 1.0000\n",
      "Epoch 88/200\n",
      "7/7 [==============================] - ETA: 0s - loss: 2.9284e-04 - accuracy: 1.0000WARNING:tensorflow:Early stopping conditioned on metric `val_loss` which is not available. Available metrics are: loss,accuracy\n",
      "7/7 [==============================] - 10s 1s/step - loss: 2.9284e-04 - accuracy: 1.0000\n",
      "Epoch 89/200\n",
      "7/7 [==============================] - ETA: 0s - loss: 2.7777e-04 - accuracy: 1.0000WARNING:tensorflow:Early stopping conditioned on metric `val_loss` which is not available. Available metrics are: loss,accuracy\n",
      "7/7 [==============================] - 10s 1s/step - loss: 2.7777e-04 - accuracy: 1.0000\n",
      "Epoch 90/200\n",
      "7/7 [==============================] - ETA: 0s - loss: 2.6387e-04 - accuracy: 1.0000WARNING:tensorflow:Early stopping conditioned on metric `val_loss` which is not available. Available metrics are: loss,accuracy\n",
      "7/7 [==============================] - 10s 1s/step - loss: 2.6387e-04 - accuracy: 1.0000\n",
      "Epoch 91/200\n",
      "7/7 [==============================] - ETA: 0s - loss: 2.5231e-04 - accuracy: 1.0000WARNING:tensorflow:Early stopping conditioned on metric `val_loss` which is not available. Available metrics are: loss,accuracy\n",
      "7/7 [==============================] - 10s 1s/step - loss: 2.5231e-04 - accuracy: 1.0000\n",
      "Epoch 92/200\n",
      "7/7 [==============================] - ETA: 0s - loss: 2.4041e-04 - accuracy: 1.0000WARNING:tensorflow:Early stopping conditioned on metric `val_loss` which is not available. Available metrics are: loss,accuracy\n",
      "7/7 [==============================] - 10s 1s/step - loss: 2.4041e-04 - accuracy: 1.0000\n",
      "Epoch 93/200\n",
      "7/7 [==============================] - ETA: 0s - loss: 2.3479e-04 - accuracy: 1.0000WARNING:tensorflow:Early stopping conditioned on metric `val_loss` which is not available. Available metrics are: loss,accuracy\n",
      "7/7 [==============================] - 10s 1s/step - loss: 2.3479e-04 - accuracy: 1.0000\n",
      "Epoch 94/200\n",
      "7/7 [==============================] - ETA: 0s - loss: 2.1781e-04 - accuracy: 1.0000WARNING:tensorflow:Early stopping conditioned on metric `val_loss` which is not available. Available metrics are: loss,accuracy\n",
      "7/7 [==============================] - 10s 1s/step - loss: 2.1781e-04 - accuracy: 1.0000\n",
      "Epoch 95/200\n",
      "7/7 [==============================] - ETA: 0s - loss: 2.1258e-04 - accuracy: 1.0000WARNING:tensorflow:Early stopping conditioned on metric `val_loss` which is not available. Available metrics are: loss,accuracy\n",
      "7/7 [==============================] - 10s 1s/step - loss: 2.1258e-04 - accuracy: 1.0000\n",
      "Epoch 96/200\n",
      "7/7 [==============================] - ETA: 0s - loss: 2.0225e-04 - accuracy: 1.0000WARNING:tensorflow:Early stopping conditioned on metric `val_loss` which is not available. Available metrics are: loss,accuracy\n",
      "7/7 [==============================] - 10s 1s/step - loss: 2.0225e-04 - accuracy: 1.0000\n",
      "Epoch 97/200\n",
      "7/7 [==============================] - ETA: 0s - loss: 1.9403e-04 - accuracy: 1.0000WARNING:tensorflow:Early stopping conditioned on metric `val_loss` which is not available. Available metrics are: loss,accuracy\n",
      "7/7 [==============================] - 10s 1s/step - loss: 1.9403e-04 - accuracy: 1.0000\n",
      "Epoch 98/200\n",
      "7/7 [==============================] - ETA: 0s - loss: 1.8678e-04 - accuracy: 1.0000WARNING:tensorflow:Early stopping conditioned on metric `val_loss` which is not available. Available metrics are: loss,accuracy\n",
      "7/7 [==============================] - 10s 1s/step - loss: 1.8678e-04 - accuracy: 1.0000\n",
      "Epoch 99/200\n",
      "7/7 [==============================] - ETA: 0s - loss: 1.7674e-04 - accuracy: 1.0000WARNING:tensorflow:Early stopping conditioned on metric `val_loss` which is not available. Available metrics are: loss,accuracy\n",
      "7/7 [==============================] - 10s 1s/step - loss: 1.7674e-04 - accuracy: 1.0000\n",
      "Epoch 100/200\n",
      "7/7 [==============================] - ETA: 0s - loss: 1.7161e-04 - accuracy: 1.0000WARNING:tensorflow:Early stopping conditioned on metric `val_loss` which is not available. Available metrics are: loss,accuracy\n",
      "7/7 [==============================] - 10s 1s/step - loss: 1.7161e-04 - accuracy: 1.0000\n",
      "Epoch 101/200\n",
      "7/7 [==============================] - ETA: 0s - loss: 1.6657e-04 - accuracy: 1.0000WARNING:tensorflow:Early stopping conditioned on metric `val_loss` which is not available. Available metrics are: loss,accuracy\n",
      "7/7 [==============================] - 10s 1s/step - loss: 1.6657e-04 - accuracy: 1.0000\n",
      "Epoch 102/200\n",
      "7/7 [==============================] - ETA: 0s - loss: 1.5772e-04 - accuracy: 1.0000WARNING:tensorflow:Early stopping conditioned on metric `val_loss` which is not available. Available metrics are: loss,accuracy\n",
      "7/7 [==============================] - 10s 1s/step - loss: 1.5772e-04 - accuracy: 1.0000\n",
      "Epoch 103/200\n",
      "7/7 [==============================] - ETA: 0s - loss: 1.5364e-04 - accuracy: 1.0000WARNING:tensorflow:Early stopping conditioned on metric `val_loss` which is not available. Available metrics are: loss,accuracy\n",
      "7/7 [==============================] - 10s 1s/step - loss: 1.5364e-04 - accuracy: 1.0000\n",
      "Epoch 104/200\n",
      "7/7 [==============================] - ETA: 0s - loss: 1.4750e-04 - accuracy: 1.0000WARNING:tensorflow:Early stopping conditioned on metric `val_loss` which is not available. Available metrics are: loss,accuracy\n",
      "7/7 [==============================] - 10s 1s/step - loss: 1.4750e-04 - accuracy: 1.0000\n",
      "Epoch 105/200\n",
      "7/7 [==============================] - ETA: 0s - loss: 1.4042e-04 - accuracy: 1.0000WARNING:tensorflow:Early stopping conditioned on metric `val_loss` which is not available. Available metrics are: loss,accuracy\n",
      "7/7 [==============================] - 10s 1s/step - loss: 1.4042e-04 - accuracy: 1.0000\n",
      "Epoch 106/200\n",
      "7/7 [==============================] - ETA: 0s - loss: 1.3647e-04 - accuracy: 1.0000WARNING:tensorflow:Early stopping conditioned on metric `val_loss` which is not available. Available metrics are: loss,accuracy\n",
      "7/7 [==============================] - 10s 1s/step - loss: 1.3647e-04 - accuracy: 1.0000\n",
      "Epoch 107/200\n",
      "7/7 [==============================] - ETA: 0s - loss: 1.3198e-04 - accuracy: 1.0000WARNING:tensorflow:Early stopping conditioned on metric `val_loss` which is not available. Available metrics are: loss,accuracy\n",
      "7/7 [==============================] - 10s 1s/step - loss: 1.3198e-04 - accuracy: 1.0000\n",
      "Epoch 108/200\n",
      "7/7 [==============================] - ETA: 0s - loss: 1.2652e-04 - accuracy: 1.0000WARNING:tensorflow:Early stopping conditioned on metric `val_loss` which is not available. Available metrics are: loss,accuracy\n",
      "7/7 [==============================] - 10s 1s/step - loss: 1.2652e-04 - accuracy: 1.0000\n",
      "Epoch 109/200\n",
      "7/7 [==============================] - ETA: 0s - loss: 1.2272e-04 - accuracy: 1.0000WARNING:tensorflow:Early stopping conditioned on metric `val_loss` which is not available. Available metrics are: loss,accuracy\n",
      "7/7 [==============================] - 10s 1s/step - loss: 1.2272e-04 - accuracy: 1.0000\n",
      "Epoch 110/200\n",
      "7/7 [==============================] - ETA: 0s - loss: 1.2101e-04 - accuracy: 1.0000WARNING:tensorflow:Early stopping conditioned on metric `val_loss` which is not available. Available metrics are: loss,accuracy\n",
      "7/7 [==============================] - 10s 1s/step - loss: 1.2101e-04 - accuracy: 1.0000\n",
      "Epoch 111/200\n",
      "7/7 [==============================] - ETA: 0s - loss: 1.1412e-04 - accuracy: 1.0000WARNING:tensorflow:Early stopping conditioned on metric `val_loss` which is not available. Available metrics are: loss,accuracy\n",
      "7/7 [==============================] - 10s 1s/step - loss: 1.1412e-04 - accuracy: 1.0000\n",
      "Epoch 112/200\n",
      "7/7 [==============================] - ETA: 0s - loss: 1.1127e-04 - accuracy: 1.0000WARNING:tensorflow:Early stopping conditioned on metric `val_loss` which is not available. Available metrics are: loss,accuracy\n",
      "7/7 [==============================] - 10s 1s/step - loss: 1.1127e-04 - accuracy: 1.0000\n",
      "Epoch 113/200\n",
      "7/7 [==============================] - ETA: 0s - loss: 1.0754e-04 - accuracy: 1.0000WARNING:tensorflow:Early stopping conditioned on metric `val_loss` which is not available. Available metrics are: loss,accuracy\n",
      "7/7 [==============================] - 10s 1s/step - loss: 1.0754e-04 - accuracy: 1.0000\n",
      "Epoch 114/200\n",
      "7/7 [==============================] - ETA: 0s - loss: 1.0521e-04 - accuracy: 1.0000WARNING:tensorflow:Early stopping conditioned on metric `val_loss` which is not available. Available metrics are: loss,accuracy\n",
      "7/7 [==============================] - 10s 1s/step - loss: 1.0521e-04 - accuracy: 1.0000\n",
      "Epoch 115/200\n",
      "7/7 [==============================] - ETA: 0s - loss: 1.0256e-04 - accuracy: 1.0000WARNING:tensorflow:Early stopping conditioned on metric `val_loss` which is not available. Available metrics are: loss,accuracy\n",
      "7/7 [==============================] - 10s 1s/step - loss: 1.0256e-04 - accuracy: 1.0000\n",
      "Epoch 116/200\n",
      "7/7 [==============================] - ETA: 0s - loss: 9.7865e-05 - accuracy: 1.0000WARNING:tensorflow:Early stopping conditioned on metric `val_loss` which is not available. Available metrics are: loss,accuracy\n",
      "7/7 [==============================] - 10s 1s/step - loss: 9.7865e-05 - accuracy: 1.0000\n",
      "Epoch 117/200\n",
      "7/7 [==============================] - ETA: 0s - loss: 9.4493e-05 - accuracy: 1.0000WARNING:tensorflow:Early stopping conditioned on metric `val_loss` which is not available. Available metrics are: loss,accuracy\n",
      "7/7 [==============================] - 10s 1s/step - loss: 9.4493e-05 - accuracy: 1.0000\n",
      "Epoch 118/200\n",
      "7/7 [==============================] - ETA: 0s - loss: 9.1767e-05 - accuracy: 1.0000WARNING:tensorflow:Early stopping conditioned on metric `val_loss` which is not available. Available metrics are: loss,accuracy\n",
      "7/7 [==============================] - 10s 1s/step - loss: 9.1767e-05 - accuracy: 1.0000\n",
      "Epoch 119/200\n",
      "7/7 [==============================] - ETA: 0s - loss: 8.9527e-05 - accuracy: 1.0000WARNING:tensorflow:Early stopping conditioned on metric `val_loss` which is not available. Available metrics are: loss,accuracy\n",
      "7/7 [==============================] - 10s 1s/step - loss: 8.9527e-05 - accuracy: 1.0000\n",
      "Epoch 120/200\n",
      "7/7 [==============================] - ETA: 0s - loss: 8.6861e-05 - accuracy: 1.0000WARNING:tensorflow:Early stopping conditioned on metric `val_loss` which is not available. Available metrics are: loss,accuracy\n",
      "7/7 [==============================] - 10s 1s/step - loss: 8.6861e-05 - accuracy: 1.0000\n",
      "Epoch 121/200\n",
      "7/7 [==============================] - ETA: 0s - loss: 8.4160e-05 - accuracy: 1.0000WARNING:tensorflow:Early stopping conditioned on metric `val_loss` which is not available. Available metrics are: loss,accuracy\n",
      "7/7 [==============================] - 10s 1s/step - loss: 8.4160e-05 - accuracy: 1.0000\n",
      "Epoch 122/200\n",
      "7/7 [==============================] - ETA: 0s - loss: 8.1834e-05 - accuracy: 1.0000WARNING:tensorflow:Early stopping conditioned on metric `val_loss` which is not available. Available metrics are: loss,accuracy\n",
      "7/7 [==============================] - 10s 1s/step - loss: 8.1834e-05 - accuracy: 1.0000\n",
      "Epoch 123/200\n",
      "7/7 [==============================] - ETA: 0s - loss: 7.9796e-05 - accuracy: 1.0000WARNING:tensorflow:Early stopping conditioned on metric `val_loss` which is not available. Available metrics are: loss,accuracy\n",
      "7/7 [==============================] - 10s 1s/step - loss: 7.9796e-05 - accuracy: 1.0000\n",
      "Epoch 124/200\n",
      "7/7 [==============================] - ETA: 0s - loss: 7.7708e-05 - accuracy: 1.0000WARNING:tensorflow:Early stopping conditioned on metric `val_loss` which is not available. Available metrics are: loss,accuracy\n",
      "7/7 [==============================] - 10s 1s/step - loss: 7.7708e-05 - accuracy: 1.0000\n",
      "Epoch 125/200\n",
      "7/7 [==============================] - ETA: 0s - loss: 7.7038e-05 - accuracy: 1.0000WARNING:tensorflow:Early stopping conditioned on metric `val_loss` which is not available. Available metrics are: loss,accuracy\n",
      "7/7 [==============================] - 10s 1s/step - loss: 7.7038e-05 - accuracy: 1.0000\n",
      "Epoch 126/200\n",
      "7/7 [==============================] - ETA: 0s - loss: 7.3666e-05 - accuracy: 1.0000WARNING:tensorflow:Early stopping conditioned on metric `val_loss` which is not available. Available metrics are: loss,accuracy\n",
      "7/7 [==============================] - 10s 1s/step - loss: 7.3666e-05 - accuracy: 1.0000\n",
      "Epoch 127/200\n",
      "7/7 [==============================] - ETA: 0s - loss: 7.2043e-05 - accuracy: 1.0000WARNING:tensorflow:Early stopping conditioned on metric `val_loss` which is not available. Available metrics are: loss,accuracy\n",
      "7/7 [==============================] - 10s 1s/step - loss: 7.2043e-05 - accuracy: 1.0000\n",
      "Epoch 128/200\n",
      "7/7 [==============================] - ETA: 0s - loss: 6.9494e-05 - accuracy: 1.0000WARNING:tensorflow:Early stopping conditioned on metric `val_loss` which is not available. Available metrics are: loss,accuracy\n",
      "7/7 [==============================] - 10s 1s/step - loss: 6.9494e-05 - accuracy: 1.0000\n",
      "Epoch 129/200\n",
      "7/7 [==============================] - ETA: 0s - loss: 6.7832e-05 - accuracy: 1.0000WARNING:tensorflow:Early stopping conditioned on metric `val_loss` which is not available. Available metrics are: loss,accuracy\n",
      "7/7 [==============================] - 10s 1s/step - loss: 6.7832e-05 - accuracy: 1.0000\n",
      "Epoch 130/200\n",
      "7/7 [==============================] - ETA: 0s - loss: 6.6048e-05 - accuracy: 1.0000WARNING:tensorflow:Early stopping conditioned on metric `val_loss` which is not available. Available metrics are: loss,accuracy\n",
      "7/7 [==============================] - 10s 1s/step - loss: 6.6048e-05 - accuracy: 1.0000\n",
      "Epoch 131/200\n",
      "7/7 [==============================] - ETA: 0s - loss: 6.4584e-05 - accuracy: 1.0000WARNING:tensorflow:Early stopping conditioned on metric `val_loss` which is not available. Available metrics are: loss,accuracy\n",
      "7/7 [==============================] - 10s 1s/step - loss: 6.4584e-05 - accuracy: 1.0000\n",
      "Epoch 132/200\n",
      "7/7 [==============================] - ETA: 0s - loss: 6.2849e-05 - accuracy: 1.0000WARNING:tensorflow:Early stopping conditioned on metric `val_loss` which is not available. Available metrics are: loss,accuracy\n",
      "7/7 [==============================] - 10s 1s/step - loss: 6.2849e-05 - accuracy: 1.0000\n",
      "Epoch 133/200\n",
      "7/7 [==============================] - ETA: 0s - loss: 6.1202e-05 - accuracy: 1.0000WARNING:tensorflow:Early stopping conditioned on metric `val_loss` which is not available. Available metrics are: loss,accuracy\n",
      "7/7 [==============================] - 10s 1s/step - loss: 6.1202e-05 - accuracy: 1.0000\n",
      "Epoch 134/200\n",
      "7/7 [==============================] - ETA: 0s - loss: 5.9952e-05 - accuracy: 1.0000WARNING:tensorflow:Early stopping conditioned on metric `val_loss` which is not available. Available metrics are: loss,accuracy\n",
      "7/7 [==============================] - 10s 1s/step - loss: 5.9952e-05 - accuracy: 1.0000\n",
      "Epoch 135/200\n",
      "7/7 [==============================] - ETA: 0s - loss: 5.8904e-05 - accuracy: 1.0000WARNING:tensorflow:Early stopping conditioned on metric `val_loss` which is not available. Available metrics are: loss,accuracy\n",
      "7/7 [==============================] - 10s 1s/step - loss: 5.8904e-05 - accuracy: 1.0000\n",
      "Epoch 136/200\n",
      "7/7 [==============================] - ETA: 0s - loss: 5.7387e-05 - accuracy: 1.0000WARNING:tensorflow:Early stopping conditioned on metric `val_loss` which is not available. Available metrics are: loss,accuracy\n",
      "7/7 [==============================] - 10s 1s/step - loss: 5.7387e-05 - accuracy: 1.0000\n",
      "Epoch 137/200\n",
      "7/7 [==============================] - ETA: 0s - loss: 5.6109e-05 - accuracy: 1.0000WARNING:tensorflow:Early stopping conditioned on metric `val_loss` which is not available. Available metrics are: loss,accuracy\n",
      "7/7 [==============================] - 10s 1s/step - loss: 5.6109e-05 - accuracy: 1.0000\n",
      "Epoch 138/200\n",
      "7/7 [==============================] - ETA: 0s - loss: 5.4344e-05 - accuracy: 1.0000WARNING:tensorflow:Early stopping conditioned on metric `val_loss` which is not available. Available metrics are: loss,accuracy\n",
      "7/7 [==============================] - 10s 1s/step - loss: 5.4344e-05 - accuracy: 1.0000\n",
      "Epoch 139/200\n",
      "7/7 [==============================] - ETA: 0s - loss: 5.3261e-05 - accuracy: 1.0000WARNING:tensorflow:Early stopping conditioned on metric `val_loss` which is not available. Available metrics are: loss,accuracy\n",
      "7/7 [==============================] - 10s 1s/step - loss: 5.3261e-05 - accuracy: 1.0000\n",
      "Epoch 140/200\n",
      "7/7 [==============================] - ETA: 0s - loss: 5.2667e-05 - accuracy: 1.0000WARNING:tensorflow:Early stopping conditioned on metric `val_loss` which is not available. Available metrics are: loss,accuracy\n",
      "7/7 [==============================] - 10s 1s/step - loss: 5.2667e-05 - accuracy: 1.0000\n",
      "Epoch 141/200\n",
      "7/7 [==============================] - ETA: 0s - loss: 5.0826e-05 - accuracy: 1.0000WARNING:tensorflow:Early stopping conditioned on metric `val_loss` which is not available. Available metrics are: loss,accuracy\n",
      "7/7 [==============================] - 10s 1s/step - loss: 5.0826e-05 - accuracy: 1.0000\n",
      "Epoch 142/200\n",
      "7/7 [==============================] - ETA: 0s - loss: 4.9923e-05 - accuracy: 1.0000WARNING:tensorflow:Early stopping conditioned on metric `val_loss` which is not available. Available metrics are: loss,accuracy\n",
      "7/7 [==============================] - 10s 1s/step - loss: 4.9923e-05 - accuracy: 1.0000\n",
      "Epoch 143/200\n",
      "7/7 [==============================] - ETA: 0s - loss: 4.9012e-05 - accuracy: 1.0000WARNING:tensorflow:Early stopping conditioned on metric `val_loss` which is not available. Available metrics are: loss,accuracy\n",
      "7/7 [==============================] - 10s 1s/step - loss: 4.9012e-05 - accuracy: 1.0000\n",
      "Epoch 144/200\n",
      "7/7 [==============================] - ETA: 0s - loss: 4.7426e-05 - accuracy: 1.0000WARNING:tensorflow:Early stopping conditioned on metric `val_loss` which is not available. Available metrics are: loss,accuracy\n",
      "7/7 [==============================] - 10s 1s/step - loss: 4.7426e-05 - accuracy: 1.0000\n",
      "Epoch 145/200\n",
      "7/7 [==============================] - ETA: 0s - loss: 4.6694e-05 - accuracy: 1.0000WARNING:tensorflow:Early stopping conditioned on metric `val_loss` which is not available. Available metrics are: loss,accuracy\n",
      "7/7 [==============================] - 10s 1s/step - loss: 4.6694e-05 - accuracy: 1.0000\n",
      "Epoch 146/200\n",
      "7/7 [==============================] - ETA: 0s - loss: 4.5532e-05 - accuracy: 1.0000WARNING:tensorflow:Early stopping conditioned on metric `val_loss` which is not available. Available metrics are: loss,accuracy\n",
      "7/7 [==============================] - 10s 1s/step - loss: 4.5532e-05 - accuracy: 1.0000\n",
      "Epoch 147/200\n",
      "7/7 [==============================] - ETA: 0s - loss: 4.4534e-05 - accuracy: 1.0000WARNING:tensorflow:Early stopping conditioned on metric `val_loss` which is not available. Available metrics are: loss,accuracy\n",
      "7/7 [==============================] - 10s 1s/step - loss: 4.4534e-05 - accuracy: 1.0000\n",
      "Epoch 148/200\n",
      "7/7 [==============================] - ETA: 0s - loss: 4.3838e-05 - accuracy: 1.0000WARNING:tensorflow:Early stopping conditioned on metric `val_loss` which is not available. Available metrics are: loss,accuracy\n",
      "7/7 [==============================] - 10s 1s/step - loss: 4.3838e-05 - accuracy: 1.0000\n",
      "Epoch 149/200\n",
      "7/7 [==============================] - ETA: 0s - loss: 4.2603e-05 - accuracy: 1.0000WARNING:tensorflow:Early stopping conditioned on metric `val_loss` which is not available. Available metrics are: loss,accuracy\n",
      "7/7 [==============================] - 10s 1s/step - loss: 4.2603e-05 - accuracy: 1.0000\n",
      "Epoch 150/200\n",
      "7/7 [==============================] - ETA: 0s - loss: 4.1874e-05 - accuracy: 1.0000WARNING:tensorflow:Early stopping conditioned on metric `val_loss` which is not available. Available metrics are: loss,accuracy\n",
      "7/7 [==============================] - 10s 1s/step - loss: 4.1874e-05 - accuracy: 1.0000\n",
      "Epoch 151/200\n",
      "7/7 [==============================] - ETA: 0s - loss: 4.1167e-05 - accuracy: 1.0000WARNING:tensorflow:Early stopping conditioned on metric `val_loss` which is not available. Available metrics are: loss,accuracy\n",
      "7/7 [==============================] - 10s 1s/step - loss: 4.1167e-05 - accuracy: 1.0000\n",
      "Epoch 152/200\n",
      "7/7 [==============================] - ETA: 0s - loss: 4.0211e-05 - accuracy: 1.0000WARNING:tensorflow:Early stopping conditioned on metric `val_loss` which is not available. Available metrics are: loss,accuracy\n",
      "7/7 [==============================] - 10s 1s/step - loss: 4.0211e-05 - accuracy: 1.0000\n",
      "Epoch 153/200\n",
      "7/7 [==============================] - ETA: 0s - loss: 3.9312e-05 - accuracy: 1.0000WARNING:tensorflow:Early stopping conditioned on metric `val_loss` which is not available. Available metrics are: loss,accuracy\n",
      "7/7 [==============================] - 10s 1s/step - loss: 3.9312e-05 - accuracy: 1.0000\n",
      "Epoch 154/200\n",
      "7/7 [==============================] - ETA: 0s - loss: 3.8787e-05 - accuracy: 1.0000WARNING:tensorflow:Early stopping conditioned on metric `val_loss` which is not available. Available metrics are: loss,accuracy\n",
      "7/7 [==============================] - 10s 1s/step - loss: 3.8787e-05 - accuracy: 1.0000\n",
      "Epoch 155/200\n",
      "7/7 [==============================] - ETA: 0s - loss: 3.7679e-05 - accuracy: 1.0000WARNING:tensorflow:Early stopping conditioned on metric `val_loss` which is not available. Available metrics are: loss,accuracy\n",
      "7/7 [==============================] - 11s 2s/step - loss: 3.7679e-05 - accuracy: 1.0000\n",
      "Epoch 156/200\n",
      "7/7 [==============================] - ETA: 0s - loss: 3.7167e-05 - accuracy: 1.0000WARNING:tensorflow:Early stopping conditioned on metric `val_loss` which is not available. Available metrics are: loss,accuracy\n",
      "7/7 [==============================] - 11s 1s/step - loss: 3.7167e-05 - accuracy: 1.0000\n",
      "Epoch 157/200\n",
      "7/7 [==============================] - ETA: 0s - loss: 3.6377e-05 - accuracy: 1.0000WARNING:tensorflow:Early stopping conditioned on metric `val_loss` which is not available. Available metrics are: loss,accuracy\n",
      "7/7 [==============================] - 11s 2s/step - loss: 3.6377e-05 - accuracy: 1.0000\n",
      "Epoch 158/200\n",
      "7/7 [==============================] - ETA: 0s - loss: 3.5677e-05 - accuracy: 1.0000WARNING:tensorflow:Early stopping conditioned on metric `val_loss` which is not available. Available metrics are: loss,accuracy\n",
      "7/7 [==============================] - 12s 2s/step - loss: 3.5677e-05 - accuracy: 1.0000\n",
      "Epoch 159/200\n",
      "7/7 [==============================] - ETA: 0s - loss: 3.4886e-05 - accuracy: 1.0000WARNING:tensorflow:Early stopping conditioned on metric `val_loss` which is not available. Available metrics are: loss,accuracy\n",
      "7/7 [==============================] - 11s 2s/step - loss: 3.4886e-05 - accuracy: 1.0000\n",
      "Epoch 160/200\n",
      "7/7 [==============================] - ETA: 0s - loss: 3.4189e-05 - accuracy: 1.0000WARNING:tensorflow:Early stopping conditioned on metric `val_loss` which is not available. Available metrics are: loss,accuracy\n",
      "7/7 [==============================] - 11s 2s/step - loss: 3.4189e-05 - accuracy: 1.0000\n",
      "Epoch 161/200\n",
      "7/7 [==============================] - ETA: 0s - loss: 3.3653e-05 - accuracy: 1.0000WARNING:tensorflow:Early stopping conditioned on metric `val_loss` which is not available. Available metrics are: loss,accuracy\n",
      "7/7 [==============================] - 11s 2s/step - loss: 3.3653e-05 - accuracy: 1.0000\n",
      "Epoch 162/200\n",
      "7/7 [==============================] - ETA: 0s - loss: 3.2924e-05 - accuracy: 1.0000WARNING:tensorflow:Early stopping conditioned on metric `val_loss` which is not available. Available metrics are: loss,accuracy\n",
      "7/7 [==============================] - 11s 2s/step - loss: 3.2924e-05 - accuracy: 1.0000\n",
      "Epoch 163/200\n",
      "7/7 [==============================] - ETA: 0s - loss: 3.2412e-05 - accuracy: 1.0000WARNING:tensorflow:Early stopping conditioned on metric `val_loss` which is not available. Available metrics are: loss,accuracy\n",
      "7/7 [==============================] - 11s 2s/step - loss: 3.2412e-05 - accuracy: 1.0000\n",
      "Epoch 164/200\n",
      "7/7 [==============================] - ETA: 0s - loss: 3.1754e-05 - accuracy: 1.0000WARNING:tensorflow:Early stopping conditioned on metric `val_loss` which is not available. Available metrics are: loss,accuracy\n",
      "7/7 [==============================] - 11s 2s/step - loss: 3.1754e-05 - accuracy: 1.0000\n",
      "Epoch 165/200\n",
      "7/7 [==============================] - ETA: 0s - loss: 3.1293e-05 - accuracy: 1.0000WARNING:tensorflow:Early stopping conditioned on metric `val_loss` which is not available. Available metrics are: loss,accuracy\n",
      "7/7 [==============================] - 11s 2s/step - loss: 3.1293e-05 - accuracy: 1.0000\n",
      "Epoch 166/200\n",
      "7/7 [==============================] - ETA: 0s - loss: 3.0662e-05 - accuracy: 1.0000WARNING:tensorflow:Early stopping conditioned on metric `val_loss` which is not available. Available metrics are: loss,accuracy\n",
      "7/7 [==============================] - 11s 1s/step - loss: 3.0662e-05 - accuracy: 1.0000\n",
      "Epoch 167/200\n",
      "7/7 [==============================] - ETA: 0s - loss: 3.0089e-05 - accuracy: 1.0000WARNING:tensorflow:Early stopping conditioned on metric `val_loss` which is not available. Available metrics are: loss,accuracy\n",
      "7/7 [==============================] - 11s 2s/step - loss: 3.0089e-05 - accuracy: 1.0000\n",
      "Epoch 168/200\n",
      "7/7 [==============================] - ETA: 0s - loss: 2.9688e-05 - accuracy: 1.0000WARNING:tensorflow:Early stopping conditioned on metric `val_loss` which is not available. Available metrics are: loss,accuracy\n",
      "7/7 [==============================] - 11s 2s/step - loss: 2.9688e-05 - accuracy: 1.0000\n",
      "Epoch 169/200\n",
      "7/7 [==============================] - ETA: 0s - loss: 2.9309e-05 - accuracy: 1.0000WARNING:tensorflow:Early stopping conditioned on metric `val_loss` which is not available. Available metrics are: loss,accuracy\n",
      "7/7 [==============================] - 10s 1s/step - loss: 2.9309e-05 - accuracy: 1.0000\n",
      "Epoch 170/200\n",
      "7/7 [==============================] - ETA: 0s - loss: 2.8577e-05 - accuracy: 1.0000WARNING:tensorflow:Early stopping conditioned on metric `val_loss` which is not available. Available metrics are: loss,accuracy\n",
      "7/7 [==============================] - 11s 2s/step - loss: 2.8577e-05 - accuracy: 1.0000\n",
      "Epoch 171/200\n",
      "7/7 [==============================] - ETA: 0s - loss: 2.8098e-05 - accuracy: 1.0000WARNING:tensorflow:Early stopping conditioned on metric `val_loss` which is not available. Available metrics are: loss,accuracy\n",
      "7/7 [==============================] - 11s 2s/step - loss: 2.8098e-05 - accuracy: 1.0000\n",
      "Epoch 172/200\n",
      "7/7 [==============================] - ETA: 0s - loss: 2.7646e-05 - accuracy: 1.0000WARNING:tensorflow:Early stopping conditioned on metric `val_loss` which is not available. Available metrics are: loss,accuracy\n",
      "7/7 [==============================] - 11s 2s/step - loss: 2.7646e-05 - accuracy: 1.0000\n",
      "Epoch 173/200\n",
      "7/7 [==============================] - ETA: 0s - loss: 2.7138e-05 - accuracy: 1.0000WARNING:tensorflow:Early stopping conditioned on metric `val_loss` which is not available. Available metrics are: loss,accuracy\n",
      "7/7 [==============================] - 11s 2s/step - loss: 2.7138e-05 - accuracy: 1.0000\n",
      "Epoch 174/200\n",
      "7/7 [==============================] - ETA: 0s - loss: 2.6777e-05 - accuracy: 1.0000WARNING:tensorflow:Early stopping conditioned on metric `val_loss` which is not available. Available metrics are: loss,accuracy\n",
      "7/7 [==============================] - 11s 2s/step - loss: 2.6777e-05 - accuracy: 1.0000\n",
      "Epoch 175/200\n",
      "7/7 [==============================] - ETA: 0s - loss: 2.6247e-05 - accuracy: 1.0000WARNING:tensorflow:Early stopping conditioned on metric `val_loss` which is not available. Available metrics are: loss,accuracy\n",
      "7/7 [==============================] - 10s 1s/step - loss: 2.6247e-05 - accuracy: 1.0000\n",
      "Epoch 176/200\n",
      "7/7 [==============================] - ETA: 0s - loss: 2.5972e-05 - accuracy: 1.0000WARNING:tensorflow:Early stopping conditioned on metric `val_loss` which is not available. Available metrics are: loss,accuracy\n",
      "7/7 [==============================] - 11s 2s/step - loss: 2.5972e-05 - accuracy: 1.0000\n",
      "Epoch 177/200\n",
      "7/7 [==============================] - ETA: 0s - loss: 2.5494e-05 - accuracy: 1.0000WARNING:tensorflow:Early stopping conditioned on metric `val_loss` which is not available. Available metrics are: loss,accuracy\n",
      "7/7 [==============================] - 11s 2s/step - loss: 2.5494e-05 - accuracy: 1.0000\n",
      "Epoch 178/200\n",
      "7/7 [==============================] - ETA: 0s - loss: 2.5035e-05 - accuracy: 1.0000WARNING:tensorflow:Early stopping conditioned on metric `val_loss` which is not available. Available metrics are: loss,accuracy\n",
      "7/7 [==============================] - 11s 2s/step - loss: 2.5035e-05 - accuracy: 1.0000\n",
      "Epoch 179/200\n",
      "7/7 [==============================] - ETA: 0s - loss: 2.4629e-05 - accuracy: 1.0000WARNING:tensorflow:Early stopping conditioned on metric `val_loss` which is not available. Available metrics are: loss,accuracy\n",
      "7/7 [==============================] - 11s 2s/step - loss: 2.4629e-05 - accuracy: 1.0000\n",
      "Epoch 180/200\n",
      "7/7 [==============================] - ETA: 0s - loss: 2.4141e-05 - accuracy: 1.0000WARNING:tensorflow:Early stopping conditioned on metric `val_loss` which is not available. Available metrics are: loss,accuracy\n",
      "7/7 [==============================] - 10s 1s/step - loss: 2.4141e-05 - accuracy: 1.0000\n",
      "Epoch 181/200\n",
      "7/7 [==============================] - ETA: 0s - loss: 2.3857e-05 - accuracy: 1.0000WARNING:tensorflow:Early stopping conditioned on metric `val_loss` which is not available. Available metrics are: loss,accuracy\n",
      "7/7 [==============================] - 11s 2s/step - loss: 2.3857e-05 - accuracy: 1.0000\n",
      "Epoch 182/200\n",
      "7/7 [==============================] - ETA: 0s - loss: 2.3481e-05 - accuracy: 1.0000WARNING:tensorflow:Early stopping conditioned on metric `val_loss` which is not available. Available metrics are: loss,accuracy\n",
      "7/7 [==============================] - 11s 2s/step - loss: 2.3481e-05 - accuracy: 1.0000\n",
      "Epoch 183/200\n",
      "7/7 [==============================] - ETA: 0s - loss: 2.3092e-05 - accuracy: 1.0000WARNING:tensorflow:Early stopping conditioned on metric `val_loss` which is not available. Available metrics are: loss,accuracy\n",
      "7/7 [==============================] - 11s 2s/step - loss: 2.3092e-05 - accuracy: 1.0000\n",
      "Epoch 184/200\n",
      "7/7 [==============================] - ETA: 0s - loss: 2.2763e-05 - accuracy: 1.0000WARNING:tensorflow:Early stopping conditioned on metric `val_loss` which is not available. Available metrics are: loss,accuracy\n",
      "7/7 [==============================] - 10s 1s/step - loss: 2.2763e-05 - accuracy: 1.0000\n",
      "Epoch 185/200\n",
      "7/7 [==============================] - ETA: 0s - loss: 2.2394e-05 - accuracy: 1.0000WARNING:tensorflow:Early stopping conditioned on metric `val_loss` which is not available. Available metrics are: loss,accuracy\n",
      "7/7 [==============================] - 10s 1s/step - loss: 2.2394e-05 - accuracy: 1.0000\n",
      "Epoch 186/200\n",
      "7/7 [==============================] - ETA: 0s - loss: 2.2039e-05 - accuracy: 1.0000WARNING:tensorflow:Early stopping conditioned on metric `val_loss` which is not available. Available metrics are: loss,accuracy\n",
      "7/7 [==============================] - 10s 1s/step - loss: 2.2039e-05 - accuracy: 1.0000\n",
      "Epoch 187/200\n",
      "7/7 [==============================] - ETA: 0s - loss: 2.1891e-05 - accuracy: 1.0000WARNING:tensorflow:Early stopping conditioned on metric `val_loss` which is not available. Available metrics are: loss,accuracy\n",
      "7/7 [==============================] - 10s 1s/step - loss: 2.1891e-05 - accuracy: 1.0000\n",
      "Epoch 188/200\n",
      "7/7 [==============================] - ETA: 0s - loss: 2.1332e-05 - accuracy: 1.0000WARNING:tensorflow:Early stopping conditioned on metric `val_loss` which is not available. Available metrics are: loss,accuracy\n",
      "7/7 [==============================] - 10s 1s/step - loss: 2.1332e-05 - accuracy: 1.0000\n",
      "Epoch 189/200\n",
      "7/7 [==============================] - ETA: 0s - loss: 2.1019e-05 - accuracy: 1.0000WARNING:tensorflow:Early stopping conditioned on metric `val_loss` which is not available. Available metrics are: loss,accuracy\n",
      "7/7 [==============================] - 11s 2s/step - loss: 2.1019e-05 - accuracy: 1.0000\n",
      "Epoch 190/200\n",
      "7/7 [==============================] - ETA: 0s - loss: 2.0769e-05 - accuracy: 1.0000WARNING:tensorflow:Early stopping conditioned on metric `val_loss` which is not available. Available metrics are: loss,accuracy\n",
      "7/7 [==============================] - 10s 1s/step - loss: 2.0769e-05 - accuracy: 1.0000\n",
      "Epoch 191/200\n",
      "7/7 [==============================] - ETA: 0s - loss: 2.0388e-05 - accuracy: 1.0000WARNING:tensorflow:Early stopping conditioned on metric `val_loss` which is not available. Available metrics are: loss,accuracy\n",
      "7/7 [==============================] - 10s 1s/step - loss: 2.0388e-05 - accuracy: 1.0000\n",
      "Epoch 192/200\n",
      "7/7 [==============================] - ETA: 0s - loss: 2.0087e-05 - accuracy: 1.0000WARNING:tensorflow:Early stopping conditioned on metric `val_loss` which is not available. Available metrics are: loss,accuracy\n",
      "7/7 [==============================] - 10s 1s/step - loss: 2.0087e-05 - accuracy: 1.0000\n",
      "Epoch 193/200\n",
      "7/7 [==============================] - ETA: 0s - loss: 1.9857e-05 - accuracy: 1.0000WARNING:tensorflow:Early stopping conditioned on metric `val_loss` which is not available. Available metrics are: loss,accuracy\n",
      "7/7 [==============================] - 10s 1s/step - loss: 1.9857e-05 - accuracy: 1.0000\n",
      "Epoch 194/200\n",
      "7/7 [==============================] - ETA: 0s - loss: 1.9610e-05 - accuracy: 1.0000WARNING:tensorflow:Early stopping conditioned on metric `val_loss` which is not available. Available metrics are: loss,accuracy\n",
      "7/7 [==============================] - 11s 2s/step - loss: 1.9610e-05 - accuracy: 1.0000\n",
      "Epoch 195/200\n",
      "7/7 [==============================] - ETA: 0s - loss: 1.9276e-05 - accuracy: 1.0000WARNING:tensorflow:Early stopping conditioned on metric `val_loss` which is not available. Available metrics are: loss,accuracy\n",
      "7/7 [==============================] - 11s 2s/step - loss: 1.9276e-05 - accuracy: 1.0000\n",
      "Epoch 196/200\n",
      "7/7 [==============================] - ETA: 0s - loss: 1.9133e-05 - accuracy: 1.0000WARNING:tensorflow:Early stopping conditioned on metric `val_loss` which is not available. Available metrics are: loss,accuracy\n",
      "7/7 [==============================] - 11s 2s/step - loss: 1.9133e-05 - accuracy: 1.0000\n",
      "Epoch 197/200\n",
      "7/7 [==============================] - ETA: 0s - loss: 1.8683e-05 - accuracy: 1.0000WARNING:tensorflow:Early stopping conditioned on metric `val_loss` which is not available. Available metrics are: loss,accuracy\n",
      "7/7 [==============================] - 11s 2s/step - loss: 1.8683e-05 - accuracy: 1.0000\n",
      "Epoch 198/200\n",
      "7/7 [==============================] - ETA: 0s - loss: 1.8464e-05 - accuracy: 1.0000WARNING:tensorflow:Early stopping conditioned on metric `val_loss` which is not available. Available metrics are: loss,accuracy\n",
      "7/7 [==============================] - 11s 2s/step - loss: 1.8464e-05 - accuracy: 1.0000\n",
      "Epoch 199/200\n",
      "7/7 [==============================] - ETA: 0s - loss: 1.8201e-05 - accuracy: 1.0000WARNING:tensorflow:Early stopping conditioned on metric `val_loss` which is not available. Available metrics are: loss,accuracy\n",
      "7/7 [==============================] - 11s 2s/step - loss: 1.8201e-05 - accuracy: 1.0000\n",
      "Epoch 200/200\n",
      "7/7 [==============================] - ETA: 0s - loss: 1.7932e-05 - accuracy: 1.0000WARNING:tensorflow:Early stopping conditioned on metric `val_loss` which is not available. Available metrics are: loss,accuracy\n",
      "7/7 [==============================] - 11s 1s/step - loss: 1.7932e-05 - accuracy: 1.0000\n"
     ]
    }
   ],
   "source": [
    "historico = network1.fit(X_train, y_train, epochs=200, callbacks=callbacks_list) # Treina a rede neural"
   ]
  },
  {
   "attachments": {},
   "cell_type": "markdown",
   "metadata": {},
   "source": [
    "- Avaliação da rede neural"
   ]
  },
  {
   "cell_type": "code",
   "execution_count": 18,
   "metadata": {},
   "outputs": [
    {
     "data": {
      "text/plain": [
       "dict_keys(['loss', 'accuracy'])"
      ]
     },
     "execution_count": 18,
     "metadata": {},
     "output_type": "execute_result"
    }
   ],
   "source": [
    "historico.history.keys()"
   ]
  },
  {
   "attachments": {},
   "cell_type": "markdown",
   "metadata": {},
   "source": [
    "- Plot dos valores de erro"
   ]
  },
  {
   "cell_type": "code",
   "execution_count": 37,
   "metadata": {},
   "outputs": [
    {
     "data": {
      "image/png": "[encoded data removed]",
      "text/plain": [
       "<Figure size 640x480 with 1 Axes>"
      ]
     },
     "metadata": {},
     "output_type": "display_data"
    }
   ],
   "source": [
    "plt.plot(historico.history['loss']);\n",
    "plt.xlabel('Época');\n",
    "plt.ylabel('Loss');\n",
    "plt.title('Loss vs Época');\n",
    "plt.legend(['Loss']);\n",
    "plt.show();"
   ]
  },
  {
   "attachments": {},
   "cell_type": "markdown",
   "metadata": {},
   "source": [
    "- Plot da acurácia que é a porcentagem de acerto"
   ]
  },
  {
   "cell_type": "code",
   "execution_count": 38,
   "metadata": {},
   "outputs": [
    {
     "data": {
      "image/png": "[encoded data removed]",
      "text/plain": [
       "<Figure size 640x480 with 1 Axes>"
      ]
     },
     "metadata": {},
     "output_type": "display_data"
    }
   ],
   "source": [
    "plt.plot(historico.history['accuracy']);\n",
    "plt.xlabel('Época');\n",
    "plt.ylabel('Acurácia');\n",
    "plt.title('Acurácia vs Época');\n",
    "plt.legend(['Acurácia']);\n",
    "plt.show();"
   ]
  },
  {
   "attachments": {},
   "cell_type": "markdown",
   "metadata": {},
   "source": [
    "- o predict faz a previsão da imagem de teste"
   ]
  },
  {
   "cell_type": "code",
   "execution_count": 21,
   "metadata": {},
   "outputs": [
    {
     "name": "stdout",
     "output_type": "stream",
     "text": [
      "2/2 [==============================] - 0s 49ms/step\n"
     ]
    },
    {
     "data": {
      "text/plain": [
       "array([[9.99989212e-01],\n",
       "       [2.08609441e-09],\n",
       "       [9.99912977e-01],\n",
       "       [9.96985853e-01],\n",
       "       [1.50699824e-01],\n",
       "       [9.99872029e-01],\n",
       "       [4.50754145e-09],\n",
       "       [1.42713515e-02],\n",
       "       [6.58097029e-01],\n",
       "       [7.25131133e-04],\n",
       "       [9.99333739e-01],\n",
       "       [1.15443213e-14],\n",
       "       [2.90911756e-02],\n",
       "       [1.36867221e-02],\n",
       "       [9.94988084e-01],\n",
       "       [9.99924481e-01],\n",
       "       [9.67295706e-01],\n",
       "       [3.22258566e-03],\n",
       "       [9.97052014e-01],\n",
       "       [9.99987662e-01],\n",
       "       [9.99971986e-01],\n",
       "       [8.16353597e-03],\n",
       "       [9.99986649e-01],\n",
       "       [9.87066984e-01],\n",
       "       [9.97450590e-01],\n",
       "       [1.49869546e-02],\n",
       "       [9.99941766e-01],\n",
       "       [9.99760747e-01],\n",
       "       [9.92731392e-01],\n",
       "       [7.94376829e-05],\n",
       "       [8.76867056e-01],\n",
       "       [7.13221766e-08],\n",
       "       [3.60396411e-03],\n",
       "       [9.99992430e-01],\n",
       "       [1.74753909e-11],\n",
       "       [9.99978840e-01],\n",
       "       [5.19734621e-01],\n",
       "       [9.99971330e-01],\n",
       "       [9.85289931e-01],\n",
       "       [9.99991655e-01],\n",
       "       [1.06907748e-04],\n",
       "       [5.84510912e-04],\n",
       "       [9.85950351e-01],\n",
       "       [9.99922156e-01],\n",
       "       [9.99779582e-01],\n",
       "       [9.80788589e-01],\n",
       "       [3.38028549e-05],\n",
       "       [9.99961793e-01],\n",
       "       [6.53481960e-01],\n",
       "       [7.34969660e-07],\n",
       "       [9.99995589e-01],\n",
       "       [4.46782745e-02],\n",
       "       [5.63548296e-04],\n",
       "       [7.35985935e-01]], dtype=float32)"
      ]
     },
     "execution_count": 21,
     "metadata": {},
     "output_type": "execute_result"
    }
   ],
   "source": [
    "previsao = network1.predict(X_test)\n",
    "previsao"
   ]
  },
  {
   "attachments": {},
   "cell_type": "markdown",
   "metadata": {},
   "source": [
    "- 0 false Homer\n",
    "- 1 true Bart"
   ]
  },
  {
   "cell_type": "code",
   "execution_count": 36,
   "metadata": {},
   "outputs": [
    {
     "name": "stdout",
     "output_type": "stream",
     "text": [
      "Homer - Bart\n",
      "Bart - Homer\n",
      "Homer - Bart\n",
      "Homer - Bart\n",
      "Bart - Bart\n",
      "Homer - Homer\n",
      "Bart - Bart\n",
      "Bart - Bart\n",
      "Homer - Bart\n",
      "Bart - Bart\n",
      "Homer - Bart\n",
      "Bart - Homer\n",
      "Bart - Homer\n",
      "Bart - Bart\n",
      "Homer - Homer\n",
      "Homer - Homer\n",
      "Homer - Homer\n",
      "Bart - Homer\n",
      "Homer - Bart\n",
      "Homer - Bart\n",
      "Homer - Bart\n",
      "Bart - Homer\n",
      "Homer - Bart\n",
      "Homer - Bart\n",
      "Homer - Bart\n",
      "Bart - Homer\n",
      "Homer - Bart\n",
      "Homer - Bart\n",
      "Homer - Homer\n",
      "Bart - Homer\n",
      "Homer - Homer\n",
      "Bart - Homer\n",
      "Bart - Homer\n",
      "Homer - Homer\n",
      "Bart - Homer\n",
      "Homer - Homer\n",
      "Homer - Bart\n",
      "Homer - Bart\n",
      "Homer - Bart\n",
      "Homer - Bart\n",
      "Bart - Homer\n",
      "Bart - Homer\n",
      "Homer - Bart\n",
      "Homer - Bart\n",
      "Homer - Bart\n",
      "Homer - Homer\n",
      "Bart - Homer\n",
      "Homer - Bart\n",
      "Homer - Bart\n",
      "Bart - Homer\n",
      "Homer - Bart\n",
      "Bart - Homer\n",
      "Bart - Homer\n",
      "Homer - Homer\n"
     ]
    }
   ],
   "source": [
    "# Se a previsão for maior que 0.5, então é Homer, caso contrário é Bart\n",
    "previsao = (previsao > 0.5)\n",
    "previsao\n",
    "for i in range(len(previsao)):\n",
    "    if previsao[i] == True:\n",
    "        print(f\"Homer - {'Homer' if y_test[i] == 0 else 'Bart'}\") \n",
    "    else:\n",
    "        print(f\"Bart - {'Homer' if y_test[i] == 0 else 'Bart'}\")   "
   ]
  },
  {
   "cell_type": "code",
   "execution_count": 23,
   "metadata": {},
   "outputs": [
    {
     "data": {
      "text/plain": [
       "array([1, 0, 1, 1, 1, 0, 1, 1, 1, 1, 1, 0, 0, 1, 0, 0, 0, 0, 1, 1, 1, 0,\n",
       "       1, 1, 1, 0, 1, 1, 0, 0, 0, 0, 0, 0, 0, 0, 1, 1, 1, 1, 0, 0, 1, 1,\n",
       "       1, 0, 0, 1, 1, 0, 1, 0, 0, 0])"
      ]
     },
     "execution_count": 23,
     "metadata": {},
     "output_type": "execute_result"
    }
   ],
   "source": [
    "y_test"
   ]
  },
  {
   "attachments": {},
   "cell_type": "markdown",
   "metadata": {},
   "source": [
    "- acuracy mede a probabilidade de acerto da rede neural"
   ]
  },
  {
   "cell_type": "code",
   "execution_count": 24,
   "metadata": {},
   "outputs": [
    {
     "data": {
      "text/plain": [
       "0.7222222222222222"
      ]
     },
     "execution_count": 24,
     "metadata": {},
     "output_type": "execute_result"
    }
   ],
   "source": [
    "accuracy_score(y_test, previsao)"
   ]
  },
  {
   "cell_type": "code",
   "execution_count": 25,
   "metadata": {},
   "outputs": [
    {
     "data": {
      "text/plain": [
       "array([[16, 10],\n",
       "       [ 5, 23]], dtype=int64)"
      ]
     },
     "execution_count": 25,
     "metadata": {},
     "output_type": "execute_result"
    }
   ],
   "source": [
    "cm = confusion_matrix(y_test, previsao)\n",
    "cm"
   ]
  },
  {
   "cell_type": "code",
   "execution_count": 46,
   "metadata": {},
   "outputs": [
    {
     "data": {
      "image/png": "[encoded data removed]",
      "text/plain": [
       "<Figure size 640x480 with 2 Axes>"
      ]
     },
     "metadata": {},
     "output_type": "display_data"
    }
   ],
   "source": [
    "sns.heatmap(cm, annot=True, fmt='d',);"
   ]
  },
  {
   "cell_type": "code",
   "execution_count": 27,
   "metadata": {},
   "outputs": [
    {
     "name": "stdout",
     "output_type": "stream",
     "text": [
      "              precision    recall  f1-score   support\n",
      "\n",
      "           0       0.76      0.62      0.68        26\n",
      "           1       0.70      0.82      0.75        28\n",
      "\n",
      "    accuracy                           0.72        54\n",
      "   macro avg       0.73      0.72      0.72        54\n",
      "weighted avg       0.73      0.72      0.72        54\n",
      "\n"
     ]
    }
   ],
   "source": [
    "print(classification_report(y_test, previsao))"
   ]
  },
  {
   "attachments": {},
   "cell_type": "markdown",
   "metadata": {},
   "source": [
    "- Salvar e carregar o modelo treinado "
   ]
  },
  {
   "cell_type": "code",
   "execution_count": 28,
   "metadata": {},
   "outputs": [],
   "source": [
    "model_json = network1.to_json()\n",
    "with open(\"model.json\", \"w\") as json_file:\n",
    "    json_file.write(model_json)"
   ]
  },
  {
   "cell_type": "code",
   "execution_count": 29,
   "metadata": {},
   "outputs": [],
   "source": [
    "network1_saved = save_model(network1, \"weights1.hdf5\")"
   ]
  },
  {
   "cell_type": "code",
   "execution_count": 30,
   "metadata": {},
   "outputs": [
    {
     "data": {
      "text/plain": [
       "'{\"class_name\": \"Sequential\", \"config\": {\"name\": \"sequential\", \"layers\": [{\"class_name\": \"InputLayer\", \"config\": {\"batch_input_shape\": [null, 16384], \"dtype\": \"float32\", \"sparse\": false, \"ragged\": false, \"name\": \"dense_input\"}}, {\"class_name\": \"Dense\", \"config\": {\"name\": \"dense\", \"trainable\": true, \"dtype\": \"float32\", \"batch_input_shape\": [null, 16384], \"units\": 8193, \"activation\": \"relu\", \"use_bias\": true, \"kernel_initializer\": {\"class_name\": \"GlorotUniform\", \"config\": {\"seed\": null}}, \"bias_initializer\": {\"class_name\": \"Zeros\", \"config\": {}}, \"kernel_regularizer\": null, \"bias_regularizer\": null, \"activity_regularizer\": null, \"kernel_constraint\": null, \"bias_constraint\": null}}, {\"class_name\": \"Dense\", \"config\": {\"name\": \"dense_1\", \"trainable\": true, \"dtype\": \"float32\", \"units\": 8193, \"activation\": \"relu\", \"use_bias\": true, \"kernel_initializer\": {\"class_name\": \"GlorotUniform\", \"config\": {\"seed\": null}}, \"bias_initializer\": {\"class_name\": \"Zeros\", \"config\": {}}, \"kernel_regularizer\": null, \"bias_regularizer\": null, \"activity_regularizer\": null, \"kernel_constraint\": null, \"bias_constraint\": null}}, {\"class_name\": \"Dense\", \"config\": {\"name\": \"dense_2\", \"trainable\": true, \"dtype\": \"float32\", \"units\": 1, \"activation\": \"sigmoid\", \"use_bias\": true, \"kernel_initializer\": {\"class_name\": \"GlorotUniform\", \"config\": {\"seed\": null}}, \"bias_initializer\": {\"class_name\": \"Zeros\", \"config\": {}}, \"kernel_regularizer\": null, \"bias_regularizer\": null, \"activity_regularizer\": null, \"kernel_constraint\": null, \"bias_constraint\": null}}]}, \"keras_version\": \"2.12.0\", \"backend\": \"tensorflow\"}'"
      ]
     },
     "execution_count": 30,
     "metadata": {},
     "output_type": "execute_result"
    }
   ],
   "source": [
    "with open('model.json', 'r') as json_file:\n",
    "    json_savedModel= json_file.read()\n",
    "json_savedModel    "
   ]
  },
  {
   "cell_type": "code",
   "execution_count": 31,
   "metadata": {},
   "outputs": [],
   "source": [
    "network1_loaded = tf.keras.models.model_from_json(json_savedModel)\n",
    "network1_loaded.load_weights('weights1.hdf5')\n",
    "network1_loaded.compile(optimizer='adam', loss='binary_crossentropy', metrics=['accuracy'])"
   ]
  },
  {
   "cell_type": "code",
   "execution_count": 32,
   "metadata": {},
   "outputs": [
    {
     "name": "stdout",
     "output_type": "stream",
     "text": [
      "Model: \"sequential\"\n",
      "_________________________________________________________________\n",
      " Layer (type)                Output Shape              Param #   \n",
      "=================================================================\n",
      " dense (Dense)               (None, 8193)              134242305 \n",
      "                                                                 \n",
      " dense_1 (Dense)             (None, 8193)              67133442  \n",
      "                                                                 \n",
      " dense_2 (Dense)             (None, 1)                 8194      \n",
      "                                                                 \n",
      "=================================================================\n",
      "Total params: 201,383,941\n",
      "Trainable params: 201,383,941\n",
      "Non-trainable params: 0\n",
      "_________________________________________________________________\n"
     ]
    }
   ],
   "source": [
    "network1_loaded.summary()"
   ]
  }
 ],
 "metadata": {
  "kernelspec": {
   "display_name": "base",
   "language": "python",
   "name": "python3"
  },
  "language_info": {
   "codemirror_mode": {
    "name": "ipython",
    "version": 3
   },
   "file_extension": ".py",
   "mimetype": "text/x-python",
   "name": "python",
   "nbconvert_exporter": "python",
   "pygments_lexer": "ipython3",
   "version": "3.8.0"
  },
  "orig_nbformat": 4
 },
 "nbformat": 4,
 "nbformat_minor": 2
}
