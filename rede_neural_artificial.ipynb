{
 "cells": [
  {
   "attachments": {},
   "cell_type": "markdown",
   "metadata": {},
   "source": [
    "# Classificação de imagem com rede neural artificial"
   ]
  },
  {
   "cell_type": "code",
   "execution_count": 52,
   "metadata": {},
   "outputs": [
    {
     "data": {
      "text/plain": [
       "'2.12.0'"
      ]
     },
     "execution_count": 52,
     "metadata": {},
     "output_type": "execute_result"
    }
   ],
   "source": [
    "import cv2\n",
    "import numpy as np\n",
    "import os \n",
    "import tensorflow as tf # Deep Learning\n",
    "import pandas as pd # Manipulação de dados\n",
    "import seaborn as sns # Visualização de dados\n",
    "import matplotlib.pyplot as plt # Visualização de dados\n",
    "import PIL # Manipulação de imagens\n",
    "from sklearn.preprocessing import MinMaxScaler\n",
    "from sklearn.metrics import accuracy_score, confusion_matrix, classification_report\n",
    "from keras.models import save_model\n",
    "tf.__version__"
   ]
  },
  {
   "attachments": {},
   "cell_type": "markdown",
   "metadata": {},
   "source": [
    "- Definindo caminho das imagens na variável arquivos"
   ]
  },
  {
   "cell_type": "code",
   "execution_count": 53,
   "metadata": {},
   "outputs": [],
   "source": [
    "diretorio = \"./data/homer_bart_1\"\n",
    "arquivos = [os.path.join(diretorio, arquivo) for arquivo in sorted(os.listdir(diretorio))]"
   ]
  },
  {
   "cell_type": "code",
   "execution_count": 54,
   "metadata": {},
   "outputs": [
    {
     "data": {
      "text/plain": [
       "['./data/homer_bart_1\\\\.DS_Store',\n",
       " './data/homer_bart_1\\\\bart1.bmp',\n",
       " './data/homer_bart_1\\\\bart10.bmp',\n",
       " './data/homer_bart_1\\\\bart100.bmp',\n",
       " './data/homer_bart_1\\\\bart101.bmp',\n",
       " './data/homer_bart_1\\\\bart102.bmp',\n",
       " './data/homer_bart_1\\\\bart103.bmp',\n",
       " './data/homer_bart_1\\\\bart104.bmp',\n",
       " './data/homer_bart_1\\\\bart105.bmp',\n",
       " './data/homer_bart_1\\\\bart106.bmp',\n",
       " './data/homer_bart_1\\\\bart108.bmp',\n",
       " './data/homer_bart_1\\\\bart109.bmp',\n",
       " './data/homer_bart_1\\\\bart11.bmp',\n",
       " './data/homer_bart_1\\\\bart110.bmp',\n",
       " './data/homer_bart_1\\\\bart111.bmp',\n",
       " './data/homer_bart_1\\\\bart112.bmp',\n",
       " './data/homer_bart_1\\\\bart113.bmp',\n",
       " './data/homer_bart_1\\\\bart114.bmp',\n",
       " './data/homer_bart_1\\\\bart115.bmp',\n",
       " './data/homer_bart_1\\\\bart116.bmp',\n",
       " './data/homer_bart_1\\\\bart117.bmp',\n",
       " './data/homer_bart_1\\\\bart118.bmp',\n",
       " './data/homer_bart_1\\\\bart119.bmp',\n",
       " './data/homer_bart_1\\\\bart12.bmp',\n",
       " './data/homer_bart_1\\\\bart120.bmp',\n",
       " './data/homer_bart_1\\\\bart121.bmp',\n",
       " './data/homer_bart_1\\\\bart122.bmp',\n",
       " './data/homer_bart_1\\\\bart123.bmp',\n",
       " './data/homer_bart_1\\\\bart124.bmp',\n",
       " './data/homer_bart_1\\\\bart125.bmp',\n",
       " './data/homer_bart_1\\\\bart126.bmp',\n",
       " './data/homer_bart_1\\\\bart127.bmp',\n",
       " './data/homer_bart_1\\\\bart128.bmp',\n",
       " './data/homer_bart_1\\\\bart13.bmp',\n",
       " './data/homer_bart_1\\\\bart130.bmp',\n",
       " './data/homer_bart_1\\\\bart131.bmp',\n",
       " './data/homer_bart_1\\\\bart132.bmp',\n",
       " './data/homer_bart_1\\\\bart133.bmp',\n",
       " './data/homer_bart_1\\\\bart134.bmp',\n",
       " './data/homer_bart_1\\\\bart135.bmp',\n",
       " './data/homer_bart_1\\\\bart136.bmp',\n",
       " './data/homer_bart_1\\\\bart137.bmp',\n",
       " './data/homer_bart_1\\\\bart138.bmp',\n",
       " './data/homer_bart_1\\\\bart139.bmp',\n",
       " './data/homer_bart_1\\\\bart14.bmp',\n",
       " './data/homer_bart_1\\\\bart141.bmp',\n",
       " './data/homer_bart_1\\\\bart142.bmp',\n",
       " './data/homer_bart_1\\\\bart143.bmp',\n",
       " './data/homer_bart_1\\\\bart144.bmp',\n",
       " './data/homer_bart_1\\\\bart145.bmp',\n",
       " './data/homer_bart_1\\\\bart146.bmp',\n",
       " './data/homer_bart_1\\\\bart147.bmp',\n",
       " './data/homer_bart_1\\\\bart148.bmp',\n",
       " './data/homer_bart_1\\\\bart149.bmp',\n",
       " './data/homer_bart_1\\\\bart15.bmp',\n",
       " './data/homer_bart_1\\\\bart150.bmp',\n",
       " './data/homer_bart_1\\\\bart151.bmp',\n",
       " './data/homer_bart_1\\\\bart153.bmp',\n",
       " './data/homer_bart_1\\\\bart154.bmp',\n",
       " './data/homer_bart_1\\\\bart155.bmp',\n",
       " './data/homer_bart_1\\\\bart156.bmp',\n",
       " './data/homer_bart_1\\\\bart157.bmp',\n",
       " './data/homer_bart_1\\\\bart158.bmp',\n",
       " './data/homer_bart_1\\\\bart159.bmp',\n",
       " './data/homer_bart_1\\\\bart16.bmp',\n",
       " './data/homer_bart_1\\\\bart160.bmp',\n",
       " './data/homer_bart_1\\\\bart161.bmp',\n",
       " './data/homer_bart_1\\\\bart162.bmp',\n",
       " './data/homer_bart_1\\\\bart164.bmp',\n",
       " './data/homer_bart_1\\\\bart165.bmp',\n",
       " './data/homer_bart_1\\\\bart166.bmp',\n",
       " './data/homer_bart_1\\\\bart167.bmp',\n",
       " './data/homer_bart_1\\\\bart168.bmp',\n",
       " './data/homer_bart_1\\\\bart169.bmp',\n",
       " './data/homer_bart_1\\\\bart17.bmp',\n",
       " './data/homer_bart_1\\\\bart18.bmp',\n",
       " './data/homer_bart_1\\\\bart19.bmp',\n",
       " './data/homer_bart_1\\\\bart2.bmp',\n",
       " './data/homer_bart_1\\\\bart20.bmp',\n",
       " './data/homer_bart_1\\\\bart21.bmp',\n",
       " './data/homer_bart_1\\\\bart22.bmp',\n",
       " './data/homer_bart_1\\\\bart23.bmp',\n",
       " './data/homer_bart_1\\\\bart24.bmp',\n",
       " './data/homer_bart_1\\\\bart25.bmp',\n",
       " './data/homer_bart_1\\\\bart26.bmp',\n",
       " './data/homer_bart_1\\\\bart27.bmp',\n",
       " './data/homer_bart_1\\\\bart28.bmp',\n",
       " './data/homer_bart_1\\\\bart29.bmp',\n",
       " './data/homer_bart_1\\\\bart3.bmp',\n",
       " './data/homer_bart_1\\\\bart30.bmp',\n",
       " './data/homer_bart_1\\\\bart31.bmp',\n",
       " './data/homer_bart_1\\\\bart32.bmp',\n",
       " './data/homer_bart_1\\\\bart34.bmp',\n",
       " './data/homer_bart_1\\\\bart35.bmp',\n",
       " './data/homer_bart_1\\\\bart36.bmp',\n",
       " './data/homer_bart_1\\\\bart37.bmp',\n",
       " './data/homer_bart_1\\\\bart38.bmp',\n",
       " './data/homer_bart_1\\\\bart39.bmp',\n",
       " './data/homer_bart_1\\\\bart4.bmp',\n",
       " './data/homer_bart_1\\\\bart40.bmp',\n",
       " './data/homer_bart_1\\\\bart42.bmp',\n",
       " './data/homer_bart_1\\\\bart43.bmp',\n",
       " './data/homer_bart_1\\\\bart44.bmp',\n",
       " './data/homer_bart_1\\\\bart45.bmp',\n",
       " './data/homer_bart_1\\\\bart46.bmp',\n",
       " './data/homer_bart_1\\\\bart47.bmp',\n",
       " './data/homer_bart_1\\\\bart48.bmp',\n",
       " './data/homer_bart_1\\\\bart49.bmp',\n",
       " './data/homer_bart_1\\\\bart5.bmp',\n",
       " './data/homer_bart_1\\\\bart50.bmp',\n",
       " './data/homer_bart_1\\\\bart51.bmp',\n",
       " './data/homer_bart_1\\\\bart52.bmp',\n",
       " './data/homer_bart_1\\\\bart53.bmp',\n",
       " './data/homer_bart_1\\\\bart54.bmp',\n",
       " './data/homer_bart_1\\\\bart55.bmp',\n",
       " './data/homer_bart_1\\\\bart56.bmp',\n",
       " './data/homer_bart_1\\\\bart57.bmp',\n",
       " './data/homer_bart_1\\\\bart58.bmp',\n",
       " './data/homer_bart_1\\\\bart59.bmp',\n",
       " './data/homer_bart_1\\\\bart6.bmp',\n",
       " './data/homer_bart_1\\\\bart60.bmp',\n",
       " './data/homer_bart_1\\\\bart61.bmp',\n",
       " './data/homer_bart_1\\\\bart62.bmp',\n",
       " './data/homer_bart_1\\\\bart63.bmp',\n",
       " './data/homer_bart_1\\\\bart64.bmp',\n",
       " './data/homer_bart_1\\\\bart65.bmp',\n",
       " './data/homer_bart_1\\\\bart66.bmp',\n",
       " './data/homer_bart_1\\\\bart67.bmp',\n",
       " './data/homer_bart_1\\\\bart68.bmp',\n",
       " './data/homer_bart_1\\\\bart69.bmp',\n",
       " './data/homer_bart_1\\\\bart7.bmp',\n",
       " './data/homer_bart_1\\\\bart70.bmp',\n",
       " './data/homer_bart_1\\\\bart71.bmp',\n",
       " './data/homer_bart_1\\\\bart72.bmp',\n",
       " './data/homer_bart_1\\\\bart73.bmp',\n",
       " './data/homer_bart_1\\\\bart74.bmp',\n",
       " './data/homer_bart_1\\\\bart75.bmp',\n",
       " './data/homer_bart_1\\\\bart76.bmp',\n",
       " './data/homer_bart_1\\\\bart77.bmp',\n",
       " './data/homer_bart_1\\\\bart79.bmp',\n",
       " './data/homer_bart_1\\\\bart8.bmp',\n",
       " './data/homer_bart_1\\\\bart80.bmp',\n",
       " './data/homer_bart_1\\\\bart81.bmp',\n",
       " './data/homer_bart_1\\\\bart82.bmp',\n",
       " './data/homer_bart_1\\\\bart83.bmp',\n",
       " './data/homer_bart_1\\\\bart84.bmp',\n",
       " './data/homer_bart_1\\\\bart85.bmp',\n",
       " './data/homer_bart_1\\\\bart86.bmp',\n",
       " './data/homer_bart_1\\\\bart87.bmp',\n",
       " './data/homer_bart_1\\\\bart89.bmp',\n",
       " './data/homer_bart_1\\\\bart9.bmp',\n",
       " './data/homer_bart_1\\\\bart90.bmp',\n",
       " './data/homer_bart_1\\\\bart91.bmp',\n",
       " './data/homer_bart_1\\\\bart92.bmp',\n",
       " './data/homer_bart_1\\\\bart93.bmp',\n",
       " './data/homer_bart_1\\\\bart94.bmp',\n",
       " './data/homer_bart_1\\\\bart95.bmp',\n",
       " './data/homer_bart_1\\\\bart96.bmp',\n",
       " './data/homer_bart_1\\\\bart97.bmp',\n",
       " './data/homer_bart_1\\\\bart98.bmp',\n",
       " './data/homer_bart_1\\\\bart99.bmp',\n",
       " './data/homer_bart_1\\\\homer1.bmp',\n",
       " './data/homer_bart_1\\\\homer10.bmp',\n",
       " './data/homer_bart_1\\\\homer100.bmp',\n",
       " './data/homer_bart_1\\\\homer101.bmp',\n",
       " './data/homer_bart_1\\\\homer102.bmp',\n",
       " './data/homer_bart_1\\\\homer103.bmp',\n",
       " './data/homer_bart_1\\\\homer104.bmp',\n",
       " './data/homer_bart_1\\\\homer105.bmp',\n",
       " './data/homer_bart_1\\\\homer106.bmp',\n",
       " './data/homer_bart_1\\\\homer107.bmp',\n",
       " './data/homer_bart_1\\\\homer109.bmp',\n",
       " './data/homer_bart_1\\\\homer110.bmp',\n",
       " './data/homer_bart_1\\\\homer112.bmp',\n",
       " './data/homer_bart_1\\\\homer113.bmp',\n",
       " './data/homer_bart_1\\\\homer115.bmp',\n",
       " './data/homer_bart_1\\\\homer116.bmp',\n",
       " './data/homer_bart_1\\\\homer117.bmp',\n",
       " './data/homer_bart_1\\\\homer119.bmp',\n",
       " './data/homer_bart_1\\\\homer120.bmp',\n",
       " './data/homer_bart_1\\\\homer121.bmp',\n",
       " './data/homer_bart_1\\\\homer122.bmp',\n",
       " './data/homer_bart_1\\\\homer123.bmp',\n",
       " './data/homer_bart_1\\\\homer124.bmp',\n",
       " './data/homer_bart_1\\\\homer13.bmp',\n",
       " './data/homer_bart_1\\\\homer14.bmp',\n",
       " './data/homer_bart_1\\\\homer15.bmp',\n",
       " './data/homer_bart_1\\\\homer16.bmp',\n",
       " './data/homer_bart_1\\\\homer17.bmp',\n",
       " './data/homer_bart_1\\\\homer18.bmp',\n",
       " './data/homer_bart_1\\\\homer2.bmp',\n",
       " './data/homer_bart_1\\\\homer20.bmp',\n",
       " './data/homer_bart_1\\\\homer21.bmp',\n",
       " './data/homer_bart_1\\\\homer22.bmp',\n",
       " './data/homer_bart_1\\\\homer23.bmp',\n",
       " './data/homer_bart_1\\\\homer24.bmp',\n",
       " './data/homer_bart_1\\\\homer26.bmp',\n",
       " './data/homer_bart_1\\\\homer27.bmp',\n",
       " './data/homer_bart_1\\\\homer28.bmp',\n",
       " './data/homer_bart_1\\\\homer29.bmp',\n",
       " './data/homer_bart_1\\\\homer3.bmp',\n",
       " './data/homer_bart_1\\\\homer30.bmp',\n",
       " './data/homer_bart_1\\\\homer31.bmp',\n",
       " './data/homer_bart_1\\\\homer32.bmp',\n",
       " './data/homer_bart_1\\\\homer33.bmp',\n",
       " './data/homer_bart_1\\\\homer34.bmp',\n",
       " './data/homer_bart_1\\\\homer35.bmp',\n",
       " './data/homer_bart_1\\\\homer36.bmp',\n",
       " './data/homer_bart_1\\\\homer37.bmp',\n",
       " './data/homer_bart_1\\\\homer38.bmp',\n",
       " './data/homer_bart_1\\\\homer4.bmp',\n",
       " './data/homer_bart_1\\\\homer40.bmp',\n",
       " './data/homer_bart_1\\\\homer41.bmp',\n",
       " './data/homer_bart_1\\\\homer43.bmp',\n",
       " './data/homer_bart_1\\\\homer44.bmp',\n",
       " './data/homer_bart_1\\\\homer45.bmp',\n",
       " './data/homer_bart_1\\\\homer46.bmp',\n",
       " './data/homer_bart_1\\\\homer47.bmp',\n",
       " './data/homer_bart_1\\\\homer48.bmp',\n",
       " './data/homer_bart_1\\\\homer49.bmp',\n",
       " './data/homer_bart_1\\\\homer5.bmp',\n",
       " './data/homer_bart_1\\\\homer50.bmp',\n",
       " './data/homer_bart_1\\\\homer51.bmp',\n",
       " './data/homer_bart_1\\\\homer52.bmp',\n",
       " './data/homer_bart_1\\\\homer54.bmp',\n",
       " './data/homer_bart_1\\\\homer55.bmp',\n",
       " './data/homer_bart_1\\\\homer56.bmp',\n",
       " './data/homer_bart_1\\\\homer57.bmp',\n",
       " './data/homer_bart_1\\\\homer58.bmp',\n",
       " './data/homer_bart_1\\\\homer59.bmp',\n",
       " './data/homer_bart_1\\\\homer6.bmp',\n",
       " './data/homer_bart_1\\\\homer60.bmp',\n",
       " './data/homer_bart_1\\\\homer61.bmp',\n",
       " './data/homer_bart_1\\\\homer62.bmp',\n",
       " './data/homer_bart_1\\\\homer63.bmp',\n",
       " './data/homer_bart_1\\\\homer65.bmp',\n",
       " './data/homer_bart_1\\\\homer66.bmp',\n",
       " './data/homer_bart_1\\\\homer68.bmp',\n",
       " './data/homer_bart_1\\\\homer69.bmp',\n",
       " './data/homer_bart_1\\\\homer7.bmp',\n",
       " './data/homer_bart_1\\\\homer70.bmp',\n",
       " './data/homer_bart_1\\\\homer71.bmp',\n",
       " './data/homer_bart_1\\\\homer72.bmp',\n",
       " './data/homer_bart_1\\\\homer73.bmp',\n",
       " './data/homer_bart_1\\\\homer74.bmp',\n",
       " './data/homer_bart_1\\\\homer75.bmp',\n",
       " './data/homer_bart_1\\\\homer76.bmp',\n",
       " './data/homer_bart_1\\\\homer77.bmp',\n",
       " './data/homer_bart_1\\\\homer78.bmp',\n",
       " './data/homer_bart_1\\\\homer79.bmp',\n",
       " './data/homer_bart_1\\\\homer8.bmp',\n",
       " './data/homer_bart_1\\\\homer80.bmp',\n",
       " './data/homer_bart_1\\\\homer81.bmp',\n",
       " './data/homer_bart_1\\\\homer82.bmp',\n",
       " './data/homer_bart_1\\\\homer83.bmp',\n",
       " './data/homer_bart_1\\\\homer84.bmp',\n",
       " './data/homer_bart_1\\\\homer85.bmp',\n",
       " './data/homer_bart_1\\\\homer86.bmp',\n",
       " './data/homer_bart_1\\\\homer87.bmp',\n",
       " './data/homer_bart_1\\\\homer9.bmp',\n",
       " './data/homer_bart_1\\\\homer90.bmp',\n",
       " './data/homer_bart_1\\\\homer91.bmp',\n",
       " './data/homer_bart_1\\\\homer92.bmp',\n",
       " './data/homer_bart_1\\\\homer93.bmp',\n",
       " './data/homer_bart_1\\\\homer94.bmp',\n",
       " './data/homer_bart_1\\\\homer95.bmp',\n",
       " './data/homer_bart_1\\\\homer96.bmp',\n",
       " './data/homer_bart_1\\\\homer97.bmp',\n",
       " './data/homer_bart_1\\\\homer98.bmp',\n",
       " './data/homer_bart_1\\\\homer99.bmp']"
      ]
     },
     "execution_count": 54,
     "metadata": {},
     "output_type": "execute_result"
    }
   ],
   "source": [
    "arquivos"
   ]
  },
  {
   "attachments": {},
   "cell_type": "markdown",
   "metadata": {},
   "source": [
    "- Precisamos definir o tamanho das imagens único para todas 128x128"
   ]
  },
  {
   "cell_type": "code",
   "execution_count": 55,
   "metadata": {},
   "outputs": [],
   "source": [
    "largura, altura = 128, 128"
   ]
  },
  {
   "attachments": {},
   "cell_type": "markdown",
   "metadata": {},
   "source": [
    "- Variável imagens para armazenar as imagens em formato de array\n",
    "- Variável classes para armazenar as classes das imagens 0 -> Homer, 1 -> Bart"
   ]
  },
  {
   "cell_type": "code",
   "execution_count": 56,
   "metadata": {},
   "outputs": [],
   "source": [
    "imagens = []\n",
    "classes = []"
   ]
  },
  {
   "attachments": {},
   "cell_type": "markdown",
   "metadata": {},
   "source": [
    "- Extração dos pixels das imagens"
   ]
  },
  {
   "attachments": {},
   "cell_type": "markdown",
   "metadata": {},
   "source": [
    "- Nesse bloco de código, estamos lendo as imagens, ajustando o seu tamanho, convertendo para escala de cinza, convertendo para array e adicionando na variável imagens.\n",
    "- No finalzinho estamos pegando o nome referente a identificação da imagem e adicionando na variável classes para identificar a classe da imagem."
   ]
  },
  {
   "cell_type": "code",
   "execution_count": 57,
   "metadata": {},
   "outputs": [],
   "source": [
    "for arquivo in arquivos:\n",
    "    try:\n",
    "        imagem = cv2.imread(arquivo)\n",
    "        (H, W) = imagem.shape[:2] # Altura e largura da imagem\n",
    "    except:\n",
    "        continue\n",
    "    imagem = cv2.resize(imagem, (largura, altura)) # Redimensiona a imagem\n",
    "    imagem = cv2.cvtColor(imagem, cv2.COLOR_BGR2GRAY) # Converte a imagem para tons de cinza\n",
    "    imagem = imagem.ravel() # Converte a imagem para um vetor\n",
    "    imagens.append(imagem) # Adiciona a imagem na lista de imagens\n",
    "    nome_imagem = arquivo.split(os.path.sep)[-1] # Pega o nome da imagem\n",
    "    if \"homer\" in nome_imagem:\n",
    "        classes.append(0)\n",
    "    else:\n",
    "        classes.append(1)            "
   ]
  },
  {
   "attachments": {},
   "cell_type": "markdown",
   "metadata": {},
   "source": [
    "- Convertendo as imagens em array e suas respectivas classes em array numpy"
   ]
  },
  {
   "cell_type": "code",
   "execution_count": 58,
   "metadata": {},
   "outputs": [],
   "source": [
    "X = np.array(imagens)\n",
    "y = np.array(classes)"
   ]
  },
  {
   "cell_type": "code",
   "execution_count": 59,
   "metadata": {},
   "outputs": [
    {
     "data": {
      "text/plain": [
       "((269, 16384), (269,))"
      ]
     },
     "execution_count": 59,
     "metadata": {},
     "output_type": "execute_result"
    }
   ],
   "source": [
    "X.shape, y.shape"
   ]
  },
  {
   "attachments": {},
   "cell_type": "markdown",
   "metadata": {},
   "source": [
    "- Plot da quantidade de imagens por classe"
   ]
  },
  {
   "cell_type": "code",
   "execution_count": 60,
   "metadata": {},
   "outputs": [
    {
     "data": {
      "text/plain": [
       "<Axes: ylabel='count'>"
      ]
     },
     "execution_count": 60,
     "metadata": {},
     "output_type": "execute_result"
    },
    {
     "data": {
      "image/png": "[encoded data removed]",
      "text/plain": [
       "<Figure size 640x480 with 1 Axes>"
      ]
     },
     "metadata": {},
     "output_type": "display_data"
    }
   ],
   "source": [
    "sns.countplot(y)"
   ]
  },
  {
   "attachments": {},
   "cell_type": "markdown",
   "metadata": {},
   "source": [
    "- Normalização dos dados"
   ]
  },
  {
   "cell_type": "code",
   "execution_count": 61,
   "metadata": {},
   "outputs": [
    {
     "data": {
      "text/plain": [
       "(255, 0)"
      ]
     },
     "execution_count": 61,
     "metadata": {},
     "output_type": "execute_result"
    }
   ],
   "source": [
    "X[0].max(), X[0].min()"
   ]
  },
  {
   "attachments": {},
   "cell_type": "markdown",
   "metadata": {},
   "source": [
    "- Pegamos os 256 pixes e fizemos a normalização entre 0 e 1 onde 1 é a cor branca e 0 é a cor preta"
   ]
  },
  {
   "cell_type": "code",
   "execution_count": 62,
   "metadata": {},
   "outputs": [],
   "source": [
    "scaler = MinMaxScaler()\n",
    "X = scaler.fit_transform(X)"
   ]
  },
  {
   "cell_type": "code",
   "execution_count": 63,
   "metadata": {},
   "outputs": [
    {
     "data": {
      "text/plain": [
       "(1.0000000000000002, 0.0)"
      ]
     },
     "execution_count": 63,
     "metadata": {},
     "output_type": "execute_result"
    }
   ],
   "source": [
    "X[0].max(), X[0].min()"
   ]
  },
  {
   "attachments": {},
   "cell_type": "markdown",
   "metadata": {},
   "source": [
    "- Base de treinamento e teste\n",
    "- A biblioteca sklearn possui uma função chamada train_test_split que faz a divisão da base de dados em treinamento e teste\n",
    "- test_size = 0.25 -> 25% da base de dados será usada para teste e 75% para treinamento\n",
    "- random_state = 1 -> Para que a divisão seja sempre a mesma"
   ]
  },
  {
   "cell_type": "code",
   "execution_count": 64,
   "metadata": {},
   "outputs": [],
   "source": [
    "from sklearn.model_selection import train_test_split\n",
    "X_train, X_test, y_train, y_test = train_test_split(X, y, test_size=0.2, random_state=1)"
   ]
  },
  {
   "cell_type": "code",
   "execution_count": 65,
   "metadata": {},
   "outputs": [
    {
     "data": {
      "text/plain": [
       "((215, 16384), (54, 16384), (215,), (54,))"
      ]
     },
     "execution_count": 65,
     "metadata": {},
     "output_type": "execute_result"
    }
   ],
   "source": [
    "X_train.shape, X_test.shape, y_train.shape, y_test.shape"
   ]
  },
  {
   "attachments": {},
   "cell_type": "markdown",
   "metadata": {},
   "source": [
    "## Construção e treinamento da rede neural"
   ]
  },
  {
   "attachments": {},
   "cell_type": "markdown",
   "metadata": {},
   "source": [
    "- units parâmetro de entrada de neurônios da camada oculta\n",
    "- activation função de ativação da camada oculta\n",
    "- input_shape parâmetro de entrada de neurônios da camada de entrada"
   ]
  },
  {
   "cell_type": "code",
   "execution_count": 66,
   "metadata": {},
   "outputs": [],
   "source": [
    "network1 = tf.keras.models.Sequential() # Cria a rede neural sequencial \n",
    "network1.add(tf.keras.layers.Dense(units=8193, activation='relu', input_shape=(X_train.shape[1],))) # Adiciona a primeira camada oculta\n",
    "network1.add(tf.keras.layers.Dense(units=8193, activation='relu')) # Adiciona a segunda camada oculta\n",
    "network1.add(tf.keras.layers.Dense(units=1, activation='sigmoid')) # Adiciona a camada de saída"
   ]
  },
  {
   "cell_type": "code",
   "execution_count": 67,
   "metadata": {},
   "outputs": [
    {
     "name": "stdout",
     "output_type": "stream",
     "text": [
      "Model: \"sequential_1\"\n",
      "_________________________________________________________________\n",
      " Layer (type)                Output Shape              Param #   \n",
      "=================================================================\n",
      " dense_3 (Dense)             (None, 8193)              134242305 \n",
      "                                                                 \n",
      " dense_4 (Dense)             (None, 8193)              67133442  \n",
      "                                                                 \n",
      " dense_5 (Dense)             (None, 1)                 8194      \n",
      "                                                                 \n",
      "=================================================================\n",
      "Total params: 201,383,941\n",
      "Trainable params: 201,383,941\n",
      "Non-trainable params: 0\n",
      "_________________________________________________________________\n"
     ]
    }
   ],
   "source": [
    "network1.summary()"
   ]
  },
  {
   "attachments": {},
   "cell_type": "markdown",
   "metadata": {},
   "source": [
    "- optimizer parametro de otimização dos pesos da rede neural (adam)\n",
    "- loss função para calcular o erro (binary_crossentropy)\n",
    "- metrics métrica para avaliar o modelo (accuracy)"
   ]
  },
  {
   "cell_type": "code",
   "execution_count": 68,
   "metadata": {},
   "outputs": [],
   "source": [
    "network1.compile(optimizer='adam', loss='binary_crossentropy', metrics=['accuracy']) # Compila a rede neural"
   ]
  },
  {
   "attachments": {},
   "cell_type": "markdown",
   "metadata": {},
   "source": [
    "- epochs quantidade de vezes que o modelo será treinado"
   ]
  },
  {
   "cell_type": "code",
   "execution_count": 69,
   "metadata": {},
   "outputs": [
    {
     "name": "stdout",
     "output_type": "stream",
     "text": [
      "Epoch 1/150\n",
      "7/7 [==============================] - 25s 2s/step - loss: 121.9122 - accuracy: 0.5302\n",
      "Epoch 2/150\n",
      "7/7 [==============================] - 10s 1s/step - loss: 21.4256 - accuracy: 0.5535\n",
      "Epoch 3/150\n",
      "7/7 [==============================] - 10s 1s/step - loss: 5.9732 - accuracy: 0.5674\n",
      "Epoch 4/150\n",
      "7/7 [==============================] - 10s 1s/step - loss: 3.8049 - accuracy: 0.5767\n",
      "Epoch 5/150\n",
      "7/7 [==============================] - 10s 1s/step - loss: 5.9323 - accuracy: 0.5302\n",
      "Epoch 6/150\n",
      "7/7 [==============================] - 11s 1s/step - loss: 1.9357 - accuracy: 0.5488\n",
      "Epoch 7/150\n",
      "7/7 [==============================] - 10s 1s/step - loss: 0.9355 - accuracy: 0.5395\n",
      "Epoch 8/150\n",
      "7/7 [==============================] - 10s 1s/step - loss: 0.6704 - accuracy: 0.5395\n",
      "Epoch 9/150\n",
      "7/7 [==============================] - 10s 1s/step - loss: 0.6542 - accuracy: 0.6186\n",
      "Epoch 10/150\n",
      "7/7 [==============================] - 10s 1s/step - loss: 0.6582 - accuracy: 0.6326\n",
      "Epoch 11/150\n",
      "7/7 [==============================] - 11s 2s/step - loss: 0.6118 - accuracy: 0.6465\n",
      "Epoch 12/150\n",
      "7/7 [==============================] - 10s 1s/step - loss: 0.7230 - accuracy: 0.5535\n",
      "Epoch 13/150\n",
      "7/7 [==============================] - 10s 1s/step - loss: 0.6677 - accuracy: 0.5395\n",
      "Epoch 14/150\n",
      "7/7 [==============================] - 10s 1s/step - loss: 0.5882 - accuracy: 0.6977\n",
      "Epoch 15/150\n",
      "7/7 [==============================] - 10s 1s/step - loss: 0.5610 - accuracy: 0.7535\n",
      "Epoch 16/150\n",
      "7/7 [==============================] - 10s 1s/step - loss: 0.5961 - accuracy: 0.7070\n",
      "Epoch 17/150\n",
      "7/7 [==============================] - 10s 1s/step - loss: 0.8020 - accuracy: 0.6233\n",
      "Epoch 18/150\n",
      "7/7 [==============================] - 10s 1s/step - loss: 0.7224 - accuracy: 0.4930\n",
      "Epoch 19/150\n",
      "7/7 [==============================] - 10s 1s/step - loss: 0.6397 - accuracy: 0.6465\n",
      "Epoch 20/150\n",
      "7/7 [==============================] - 10s 1s/step - loss: 0.5789 - accuracy: 0.6884\n",
      "Epoch 21/150\n",
      "7/7 [==============================] - 10s 1s/step - loss: 0.5544 - accuracy: 0.6837\n",
      "Epoch 22/150\n",
      "7/7 [==============================] - 10s 1s/step - loss: 0.6723 - accuracy: 0.6419\n",
      "Epoch 23/150\n",
      "7/7 [==============================] - 10s 1s/step - loss: 0.5612 - accuracy: 0.7023\n",
      "Epoch 24/150\n",
      "7/7 [==============================] - 10s 1s/step - loss: 0.5044 - accuracy: 0.7674\n",
      "Epoch 25/150\n",
      "7/7 [==============================] - 10s 1s/step - loss: 0.5443 - accuracy: 0.7349\n",
      "Epoch 26/150\n",
      "7/7 [==============================] - 10s 1s/step - loss: 0.4492 - accuracy: 0.8233\n",
      "Epoch 27/150\n",
      "7/7 [==============================] - 10s 1s/step - loss: 0.5320 - accuracy: 0.7116\n",
      "Epoch 28/150\n",
      "7/7 [==============================] - 10s 1s/step - loss: 0.4684 - accuracy: 0.7209\n",
      "Epoch 29/150\n",
      "7/7 [==============================] - 10s 1s/step - loss: 0.4711 - accuracy: 0.7302\n",
      "Epoch 30/150\n",
      "7/7 [==============================] - 10s 1s/step - loss: 0.4431 - accuracy: 0.7535\n",
      "Epoch 31/150\n",
      "7/7 [==============================] - 10s 1s/step - loss: 0.3599 - accuracy: 0.8419\n",
      "Epoch 32/150\n",
      "7/7 [==============================] - 10s 1s/step - loss: 0.2708 - accuracy: 0.8884\n",
      "Epoch 33/150\n",
      "7/7 [==============================] - 10s 1s/step - loss: 0.2389 - accuracy: 0.9116\n",
      "Epoch 34/150\n",
      "7/7 [==============================] - 10s 1s/step - loss: 0.2358 - accuracy: 0.9070\n",
      "Epoch 35/150\n",
      "7/7 [==============================] - 10s 1s/step - loss: 0.1259 - accuracy: 0.9767\n",
      "Epoch 36/150\n",
      "7/7 [==============================] - 10s 1s/step - loss: 0.1529 - accuracy: 0.9349\n",
      "Epoch 37/150\n",
      "7/7 [==============================] - 10s 1s/step - loss: 0.6401 - accuracy: 0.7349\n",
      "Epoch 38/150\n",
      "7/7 [==============================] - 10s 1s/step - loss: 0.2575 - accuracy: 0.8930\n",
      "Epoch 39/150\n",
      "7/7 [==============================] - 10s 1s/step - loss: 0.2947 - accuracy: 0.8558\n",
      "Epoch 40/150\n",
      "7/7 [==============================] - 10s 1s/step - loss: 0.2330 - accuracy: 0.8884\n",
      "Epoch 41/150\n",
      "7/7 [==============================] - 10s 1s/step - loss: 0.1623 - accuracy: 0.9488\n",
      "Epoch 42/150\n",
      "7/7 [==============================] - 10s 1s/step - loss: 0.1857 - accuracy: 0.9070\n",
      "Epoch 43/150\n",
      "7/7 [==============================] - 10s 1s/step - loss: 0.1313 - accuracy: 0.9442\n",
      "Epoch 44/150\n",
      "7/7 [==============================] - 10s 1s/step - loss: 0.0936 - accuracy: 0.9860\n",
      "Epoch 45/150\n",
      "7/7 [==============================] - 10s 1s/step - loss: 0.0572 - accuracy: 0.9953\n",
      "Epoch 46/150\n",
      "7/7 [==============================] - 10s 1s/step - loss: 0.0393 - accuracy: 1.0000\n",
      "Epoch 47/150\n",
      "7/7 [==============================] - 10s 1s/step - loss: 0.0173 - accuracy: 1.0000\n",
      "Epoch 48/150\n",
      "7/7 [==============================] - 10s 1s/step - loss: 0.0269 - accuracy: 0.9953\n",
      "Epoch 49/150\n",
      "7/7 [==============================] - 10s 1s/step - loss: 0.0169 - accuracy: 1.0000\n",
      "Epoch 50/150\n",
      "7/7 [==============================] - 10s 1s/step - loss: 0.0102 - accuracy: 1.0000\n",
      "Epoch 51/150\n",
      "7/7 [==============================] - 10s 1s/step - loss: 0.0059 - accuracy: 1.0000\n",
      "Epoch 52/150\n",
      "7/7 [==============================] - 10s 1s/step - loss: 0.0050 - accuracy: 1.0000\n",
      "Epoch 53/150\n",
      "7/7 [==============================] - 10s 1s/step - loss: 0.0044 - accuracy: 1.0000\n",
      "Epoch 54/150\n",
      "7/7 [==============================] - 10s 1s/step - loss: 0.0038 - accuracy: 1.0000\n",
      "Epoch 55/150\n",
      "7/7 [==============================] - 10s 1s/step - loss: 0.0040 - accuracy: 1.0000\n",
      "Epoch 56/150\n",
      "7/7 [==============================] - 10s 1s/step - loss: 0.0034 - accuracy: 1.0000\n",
      "Epoch 57/150\n",
      "7/7 [==============================] - 10s 1s/step - loss: 0.0027 - accuracy: 1.0000\n",
      "Epoch 58/150\n",
      "7/7 [==============================] - 10s 1s/step - loss: 0.0025 - accuracy: 1.0000\n",
      "Epoch 59/150\n",
      "7/7 [==============================] - 10s 1s/step - loss: 0.0023 - accuracy: 1.0000\n",
      "Epoch 60/150\n",
      "7/7 [==============================] - 10s 1s/step - loss: 0.0023 - accuracy: 1.0000\n",
      "Epoch 61/150\n",
      "7/7 [==============================] - 10s 1s/step - loss: 0.0020 - accuracy: 1.0000\n",
      "Epoch 62/150\n",
      "7/7 [==============================] - 10s 1s/step - loss: 0.0019 - accuracy: 1.0000\n",
      "Epoch 63/150\n",
      "7/7 [==============================] - 10s 1s/step - loss: 0.0017 - accuracy: 1.0000\n",
      "Epoch 64/150\n",
      "7/7 [==============================] - 10s 1s/step - loss: 0.0017 - accuracy: 1.0000\n",
      "Epoch 65/150\n",
      "7/7 [==============================] - 10s 1s/step - loss: 0.0014 - accuracy: 1.0000\n",
      "Epoch 66/150\n",
      "7/7 [==============================] - 10s 1s/step - loss: 0.0013 - accuracy: 1.0000\n",
      "Epoch 67/150\n",
      "7/7 [==============================] - 10s 1s/step - loss: 0.0012 - accuracy: 1.0000\n",
      "Epoch 68/150\n",
      "7/7 [==============================] - 10s 1s/step - loss: 0.0011 - accuracy: 1.0000\n",
      "Epoch 69/150\n",
      "7/7 [==============================] - 10s 1s/step - loss: 0.0010 - accuracy: 1.0000\n",
      "Epoch 70/150\n",
      "7/7 [==============================] - 10s 1s/step - loss: 9.5908e-04 - accuracy: 1.0000\n",
      "Epoch 71/150\n",
      "7/7 [==============================] - 10s 1s/step - loss: 9.2849e-04 - accuracy: 1.0000\n",
      "Epoch 72/150\n",
      "7/7 [==============================] - 10s 1s/step - loss: 8.4547e-04 - accuracy: 1.0000\n",
      "Epoch 73/150\n",
      "7/7 [==============================] - 10s 1s/step - loss: 7.7087e-04 - accuracy: 1.0000\n",
      "Epoch 74/150\n",
      "7/7 [==============================] - 10s 1s/step - loss: 7.2997e-04 - accuracy: 1.0000\n",
      "Epoch 75/150\n",
      "7/7 [==============================] - 10s 1s/step - loss: 6.7140e-04 - accuracy: 1.0000\n",
      "Epoch 76/150\n",
      "7/7 [==============================] - 10s 1s/step - loss: 6.2232e-04 - accuracy: 1.0000\n",
      "Epoch 77/150\n",
      "7/7 [==============================] - 10s 1s/step - loss: 5.8864e-04 - accuracy: 1.0000\n",
      "Epoch 78/150\n",
      "7/7 [==============================] - 10s 1s/step - loss: 5.4280e-04 - accuracy: 1.0000\n",
      "Epoch 79/150\n",
      "7/7 [==============================] - 10s 1s/step - loss: 5.0716e-04 - accuracy: 1.0000\n",
      "Epoch 80/150\n",
      "7/7 [==============================] - 10s 1s/step - loss: 4.8227e-04 - accuracy: 1.0000\n",
      "Epoch 81/150\n",
      "7/7 [==============================] - 10s 1s/step - loss: 4.5039e-04 - accuracy: 1.0000\n",
      "Epoch 82/150\n",
      "7/7 [==============================] - 10s 1s/step - loss: 4.2400e-04 - accuracy: 1.0000\n",
      "Epoch 83/150\n",
      "7/7 [==============================] - 10s 1s/step - loss: 4.0128e-04 - accuracy: 1.0000\n",
      "Epoch 84/150\n",
      "7/7 [==============================] - 10s 1s/step - loss: 3.7534e-04 - accuracy: 1.0000\n",
      "Epoch 85/150\n",
      "7/7 [==============================] - 10s 1s/step - loss: 3.5152e-04 - accuracy: 1.0000\n",
      "Epoch 86/150\n",
      "7/7 [==============================] - 10s 1s/step - loss: 3.3439e-04 - accuracy: 1.0000\n",
      "Epoch 87/150\n",
      "7/7 [==============================] - 10s 1s/step - loss: 3.3336e-04 - accuracy: 1.0000\n",
      "Epoch 88/150\n",
      "7/7 [==============================] - 10s 1s/step - loss: 3.0033e-04 - accuracy: 1.0000\n",
      "Epoch 89/150\n",
      "7/7 [==============================] - 10s 1s/step - loss: 2.9522e-04 - accuracy: 1.0000\n",
      "Epoch 90/150\n",
      "7/7 [==============================] - 10s 1s/step - loss: 2.7526e-04 - accuracy: 1.0000\n",
      "Epoch 91/150\n",
      "7/7 [==============================] - 10s 1s/step - loss: 2.5207e-04 - accuracy: 1.0000\n",
      "Epoch 92/150\n",
      "7/7 [==============================] - 10s 1s/step - loss: 2.4335e-04 - accuracy: 1.0000\n",
      "Epoch 93/150\n",
      "7/7 [==============================] - 10s 1s/step - loss: 2.3006e-04 - accuracy: 1.0000\n",
      "Epoch 94/150\n",
      "7/7 [==============================] - 10s 1s/step - loss: 2.2138e-04 - accuracy: 1.0000\n",
      "Epoch 95/150\n",
      "7/7 [==============================] - 10s 1s/step - loss: 2.1038e-04 - accuracy: 1.0000\n",
      "Epoch 96/150\n",
      "7/7 [==============================] - 10s 1s/step - loss: 2.0114e-04 - accuracy: 1.0000\n",
      "Epoch 97/150\n",
      "7/7 [==============================] - 10s 1s/step - loss: 1.9284e-04 - accuracy: 1.0000\n",
      "Epoch 98/150\n",
      "7/7 [==============================] - 10s 1s/step - loss: 1.8948e-04 - accuracy: 1.0000\n",
      "Epoch 99/150\n",
      "7/7 [==============================] - 10s 1s/step - loss: 1.8049e-04 - accuracy: 1.0000\n",
      "Epoch 100/150\n",
      "7/7 [==============================] - 10s 1s/step - loss: 1.7025e-04 - accuracy: 1.0000\n",
      "Epoch 101/150\n",
      "7/7 [==============================] - 10s 1s/step - loss: 1.6663e-04 - accuracy: 1.0000\n",
      "Epoch 102/150\n",
      "7/7 [==============================] - 10s 1s/step - loss: 1.5855e-04 - accuracy: 1.0000\n",
      "Epoch 103/150\n",
      "7/7 [==============================] - 10s 1s/step - loss: 1.5386e-04 - accuracy: 1.0000\n",
      "Epoch 104/150\n",
      "7/7 [==============================] - 10s 1s/step - loss: 1.5009e-04 - accuracy: 1.0000\n",
      "Epoch 105/150\n",
      "7/7 [==============================] - 10s 1s/step - loss: 1.4253e-04 - accuracy: 1.0000\n",
      "Epoch 106/150\n",
      "7/7 [==============================] - 10s 1s/step - loss: 1.3743e-04 - accuracy: 1.0000\n",
      "Epoch 107/150\n",
      "7/7 [==============================] - 10s 1s/step - loss: 1.3076e-04 - accuracy: 1.0000\n",
      "Epoch 108/150\n",
      "7/7 [==============================] - 10s 1s/step - loss: 1.2698e-04 - accuracy: 1.0000\n",
      "Epoch 109/150\n",
      "7/7 [==============================] - 10s 1s/step - loss: 1.2361e-04 - accuracy: 1.0000\n",
      "Epoch 110/150\n",
      "7/7 [==============================] - 10s 1s/step - loss: 1.1810e-04 - accuracy: 1.0000\n",
      "Epoch 111/150\n",
      "7/7 [==============================] - 10s 1s/step - loss: 1.1465e-04 - accuracy: 1.0000\n",
      "Epoch 112/150\n",
      "7/7 [==============================] - 10s 1s/step - loss: 1.1186e-04 - accuracy: 1.0000\n",
      "Epoch 113/150\n",
      "7/7 [==============================] - 10s 1s/step - loss: 1.0763e-04 - accuracy: 1.0000\n",
      "Epoch 114/150\n",
      "7/7 [==============================] - 10s 1s/step - loss: 1.0738e-04 - accuracy: 1.0000\n",
      "Epoch 115/150\n",
      "7/7 [==============================] - 10s 1s/step - loss: 1.0117e-04 - accuracy: 1.0000\n",
      "Epoch 116/150\n",
      "7/7 [==============================] - 10s 1s/step - loss: 9.8460e-05 - accuracy: 1.0000\n",
      "Epoch 117/150\n",
      "7/7 [==============================] - 10s 1s/step - loss: 9.5944e-05 - accuracy: 1.0000\n",
      "Epoch 118/150\n",
      "7/7 [==============================] - 10s 1s/step - loss: 9.2703e-05 - accuracy: 1.0000\n",
      "Epoch 119/150\n",
      "7/7 [==============================] - 10s 1s/step - loss: 9.0513e-05 - accuracy: 1.0000\n",
      "Epoch 120/150\n",
      "7/7 [==============================] - 10s 1s/step - loss: 8.9531e-05 - accuracy: 1.0000\n",
      "Epoch 121/150\n",
      "7/7 [==============================] - 10s 1s/step - loss: 8.5627e-05 - accuracy: 1.0000\n",
      "Epoch 122/150\n",
      "7/7 [==============================] - 10s 1s/step - loss: 8.3028e-05 - accuracy: 1.0000\n",
      "Epoch 123/150\n",
      "7/7 [==============================] - 10s 1s/step - loss: 8.1185e-05 - accuracy: 1.0000\n",
      "Epoch 124/150\n",
      "7/7 [==============================] - 10s 1s/step - loss: 7.8712e-05 - accuracy: 1.0000\n",
      "Epoch 125/150\n",
      "7/7 [==============================] - 10s 1s/step - loss: 7.7703e-05 - accuracy: 1.0000\n",
      "Epoch 126/150\n",
      "7/7 [==============================] - 10s 1s/step - loss: 7.4295e-05 - accuracy: 1.0000\n",
      "Epoch 127/150\n",
      "7/7 [==============================] - 10s 1s/step - loss: 7.3629e-05 - accuracy: 1.0000\n",
      "Epoch 128/150\n",
      "7/7 [==============================] - 10s 1s/step - loss: 7.1365e-05 - accuracy: 1.0000\n",
      "Epoch 129/150\n",
      "7/7 [==============================] - 10s 1s/step - loss: 6.9634e-05 - accuracy: 1.0000\n",
      "Epoch 130/150\n",
      "7/7 [==============================] - 10s 1s/step - loss: 6.8426e-05 - accuracy: 1.0000\n",
      "Epoch 131/150\n",
      "7/7 [==============================] - 10s 1s/step - loss: 6.6260e-05 - accuracy: 1.0000\n",
      "Epoch 132/150\n",
      "7/7 [==============================] - 10s 1s/step - loss: 6.5108e-05 - accuracy: 1.0000\n",
      "Epoch 133/150\n",
      "7/7 [==============================] - 10s 1s/step - loss: 6.3664e-05 - accuracy: 1.0000\n",
      "Epoch 134/150\n",
      "7/7 [==============================] - 10s 1s/step - loss: 6.1900e-05 - accuracy: 1.0000\n",
      "Epoch 135/150\n",
      "7/7 [==============================] - 10s 1s/step - loss: 6.0800e-05 - accuracy: 1.0000\n",
      "Epoch 136/150\n",
      "7/7 [==============================] - 10s 1s/step - loss: 5.9003e-05 - accuracy: 1.0000\n",
      "Epoch 137/150\n",
      "7/7 [==============================] - 10s 1s/step - loss: 5.7721e-05 - accuracy: 1.0000\n",
      "Epoch 138/150\n",
      "7/7 [==============================] - 10s 1s/step - loss: 5.7220e-05 - accuracy: 1.0000\n",
      "Epoch 139/150\n",
      "7/7 [==============================] - 10s 1s/step - loss: 5.5734e-05 - accuracy: 1.0000\n",
      "Epoch 140/150\n",
      "7/7 [==============================] - 10s 1s/step - loss: 5.4595e-05 - accuracy: 1.0000\n",
      "Epoch 141/150\n",
      "7/7 [==============================] - 10s 1s/step - loss: 5.3261e-05 - accuracy: 1.0000\n",
      "Epoch 142/150\n",
      "7/7 [==============================] - 10s 1s/step - loss: 5.2033e-05 - accuracy: 1.0000\n",
      "Epoch 143/150\n",
      "7/7 [==============================] - 10s 1s/step - loss: 5.0977e-05 - accuracy: 1.0000\n",
      "Epoch 144/150\n",
      "7/7 [==============================] - 10s 1s/step - loss: 5.0069e-05 - accuracy: 1.0000\n",
      "Epoch 145/150\n",
      "7/7 [==============================] - 10s 1s/step - loss: 4.9257e-05 - accuracy: 1.0000\n",
      "Epoch 146/150\n",
      "7/7 [==============================] - 10s 1s/step - loss: 4.8061e-05 - accuracy: 1.0000\n",
      "Epoch 147/150\n",
      "7/7 [==============================] - 10s 1s/step - loss: 4.7129e-05 - accuracy: 1.0000\n",
      "Epoch 148/150\n",
      "7/7 [==============================] - 10s 1s/step - loss: 4.6348e-05 - accuracy: 1.0000\n",
      "Epoch 149/150\n",
      "7/7 [==============================] - 10s 1s/step - loss: 4.5485e-05 - accuracy: 1.0000\n",
      "Epoch 150/150\n",
      "7/7 [==============================] - 10s 1s/step - loss: 4.4583e-05 - accuracy: 1.0000\n"
     ]
    }
   ],
   "source": [
    "historico = network1.fit(X_train, y_train, epochs=150) # Treina a rede neural"
   ]
  },
  {
   "attachments": {},
   "cell_type": "markdown",
   "metadata": {},
   "source": [
    "- Avaliação da rede neural"
   ]
  },
  {
   "cell_type": "code",
   "execution_count": 70,
   "metadata": {},
   "outputs": [
    {
     "data": {
      "text/plain": [
       "dict_keys(['loss', 'accuracy'])"
      ]
     },
     "execution_count": 70,
     "metadata": {},
     "output_type": "execute_result"
    }
   ],
   "source": [
    "historico.history.keys()"
   ]
  },
  {
   "attachments": {},
   "cell_type": "markdown",
   "metadata": {},
   "source": [
    "- Plot dos valores de erro"
   ]
  },
  {
   "cell_type": "code",
   "execution_count": 71,
   "metadata": {},
   "outputs": [
    {
     "data": {
      "image/png": "[encoded data removed]",
      "text/plain": [
       "<Figure size 640x480 with 1 Axes>"
      ]
     },
     "metadata": {},
     "output_type": "display_data"
    }
   ],
   "source": [
    "plt.plot(historico.history['loss']);"
   ]
  },
  {
   "attachments": {},
   "cell_type": "markdown",
   "metadata": {},
   "source": [
    "- Plot da acurácia que é a porcentagem de acerto"
   ]
  },
  {
   "cell_type": "code",
   "execution_count": 72,
   "metadata": {},
   "outputs": [
    {
     "data": {
      "image/png": "[encoded data removed]",
      "text/plain": [
       "<Figure size 640x480 with 1 Axes>"
      ]
     },
     "metadata": {},
     "output_type": "display_data"
    }
   ],
   "source": [
    "plt.plot(historico.history['accuracy']);"
   ]
  },
  {
   "cell_type": "code",
   "execution_count": 73,
   "metadata": {},
   "outputs": [
    {
     "data": {
      "text/plain": [
       "(54, 16384)"
      ]
     },
     "execution_count": 73,
     "metadata": {},
     "output_type": "execute_result"
    }
   ],
   "source": [
    "X_test.shape"
   ]
  },
  {
   "attachments": {},
   "cell_type": "markdown",
   "metadata": {},
   "source": [
    "- o predict faz a previsão da imagem de teste"
   ]
  },
  {
   "cell_type": "code",
   "execution_count": 74,
   "metadata": {},
   "outputs": [
    {
     "name": "stdout",
     "output_type": "stream",
     "text": [
      "2/2 [==============================] - 0s 44ms/step\n"
     ]
    },
    {
     "data": {
      "text/plain": [
       "array([[9.9996948e-01],\n",
       "       [1.4891083e-06],\n",
       "       [9.9997890e-01],\n",
       "       [9.9266392e-01],\n",
       "       [4.2424974e-01],\n",
       "       [9.9948293e-01],\n",
       "       [4.3047580e-06],\n",
       "       [1.0335437e-02],\n",
       "       [7.0111781e-01],\n",
       "       [4.3132785e-03],\n",
       "       [9.9893856e-01],\n",
       "       [8.1007636e-09],\n",
       "       [1.1832949e-01],\n",
       "       [5.9000075e-02],\n",
       "       [9.9289548e-01],\n",
       "       [9.9948931e-01],\n",
       "       [9.6888089e-01],\n",
       "       [3.9121889e-02],\n",
       "       [9.9835622e-01],\n",
       "       [9.9999219e-01],\n",
       "       [9.9999374e-01],\n",
       "       [3.6564242e-02],\n",
       "       [9.9993026e-01],\n",
       "       [9.8455524e-01],\n",
       "       [9.9758804e-01],\n",
       "       [5.0128354e-03],\n",
       "       [9.9972880e-01],\n",
       "       [9.9998200e-01],\n",
       "       [9.9159282e-01],\n",
       "       [1.1010712e-03],\n",
       "       [8.3429021e-01],\n",
       "       [3.2016987e-06],\n",
       "       [8.8214763e-03],\n",
       "       [9.9999928e-01],\n",
       "       [1.3480917e-07],\n",
       "       [9.9994159e-01],\n",
       "       [3.9412725e-01],\n",
       "       [9.9997729e-01],\n",
       "       [9.6963638e-01],\n",
       "       [9.9996138e-01],\n",
       "       [9.8898413e-04],\n",
       "       [2.0898164e-03],\n",
       "       [9.8730516e-01],\n",
       "       [9.9995172e-01],\n",
       "       [9.9972594e-01],\n",
       "       [8.5549545e-01],\n",
       "       [7.3828996e-04],\n",
       "       [9.9985766e-01],\n",
       "       [9.2943662e-01],\n",
       "       [2.3776220e-04],\n",
       "       [9.9999821e-01],\n",
       "       [5.3475194e-02],\n",
       "       [1.5782783e-02],\n",
       "       [4.6047711e-01]], dtype=float32)"
      ]
     },
     "execution_count": 74,
     "metadata": {},
     "output_type": "execute_result"
    }
   ],
   "source": [
    "previsao = network1.predict(X_test)\n",
    "previsao"
   ]
  },
  {
   "attachments": {},
   "cell_type": "markdown",
   "metadata": {},
   "source": [
    "- 0 false Homer\n",
    "- 1 true Bart"
   ]
  },
  {
   "cell_type": "code",
   "execution_count": 75,
   "metadata": {},
   "outputs": [
    {
     "data": {
      "text/plain": [
       "array([[ True],\n",
       "       [False],\n",
       "       [ True],\n",
       "       [ True],\n",
       "       [False],\n",
       "       [ True],\n",
       "       [False],\n",
       "       [False],\n",
       "       [ True],\n",
       "       [False],\n",
       "       [ True],\n",
       "       [False],\n",
       "       [False],\n",
       "       [False],\n",
       "       [ True],\n",
       "       [ True],\n",
       "       [ True],\n",
       "       [False],\n",
       "       [ True],\n",
       "       [ True],\n",
       "       [ True],\n",
       "       [False],\n",
       "       [ True],\n",
       "       [ True],\n",
       "       [ True],\n",
       "       [False],\n",
       "       [ True],\n",
       "       [ True],\n",
       "       [ True],\n",
       "       [False],\n",
       "       [ True],\n",
       "       [False],\n",
       "       [False],\n",
       "       [ True],\n",
       "       [False],\n",
       "       [ True],\n",
       "       [False],\n",
       "       [ True],\n",
       "       [ True],\n",
       "       [ True],\n",
       "       [False],\n",
       "       [False],\n",
       "       [ True],\n",
       "       [ True],\n",
       "       [ True],\n",
       "       [ True],\n",
       "       [False],\n",
       "       [ True],\n",
       "       [ True],\n",
       "       [False],\n",
       "       [ True],\n",
       "       [False],\n",
       "       [False],\n",
       "       [False]])"
      ]
     },
     "execution_count": 75,
     "metadata": {},
     "output_type": "execute_result"
    }
   ],
   "source": [
    "previsao = (previsao > 0.5)\n",
    "previsao"
   ]
  },
  {
   "cell_type": "code",
   "execution_count": 76,
   "metadata": {},
   "outputs": [
    {
     "data": {
      "text/plain": [
       "array([1, 0, 1, 1, 1, 0, 1, 1, 1, 1, 1, 0, 0, 1, 0, 0, 0, 0, 1, 1, 1, 0,\n",
       "       1, 1, 1, 0, 1, 1, 0, 0, 0, 0, 0, 0, 0, 0, 1, 1, 1, 1, 0, 0, 1, 1,\n",
       "       1, 0, 0, 1, 1, 0, 1, 0, 0, 0])"
      ]
     },
     "execution_count": 76,
     "metadata": {},
     "output_type": "execute_result"
    }
   ],
   "source": [
    "y_test"
   ]
  },
  {
   "attachments": {},
   "cell_type": "markdown",
   "metadata": {},
   "source": [
    "- acuracy mede a probabilidade de acerto da rede neural"
   ]
  },
  {
   "cell_type": "code",
   "execution_count": 77,
   "metadata": {},
   "outputs": [
    {
     "data": {
      "text/plain": [
       "0.7222222222222222"
      ]
     },
     "execution_count": 77,
     "metadata": {},
     "output_type": "execute_result"
    }
   ],
   "source": [
    "accuracy_score(y_test, previsao)"
   ]
  },
  {
   "cell_type": "code",
   "execution_count": 78,
   "metadata": {},
   "outputs": [
    {
     "data": {
      "text/plain": [
       "array([[17,  9],\n",
       "       [ 6, 22]], dtype=int64)"
      ]
     },
     "execution_count": 78,
     "metadata": {},
     "output_type": "execute_result"
    }
   ],
   "source": [
    "cm = confusion_matrix(y_test, previsao)\n",
    "cm"
   ]
  },
  {
   "cell_type": "code",
   "execution_count": 79,
   "metadata": {},
   "outputs": [
    {
     "data": {
      "image/png": "[encoded data removed]",
      "text/plain": [
       "<Figure size 640x480 with 2 Axes>"
      ]
     },
     "metadata": {},
     "output_type": "display_data"
    }
   ],
   "source": [
    "sns.heatmap(cm, annot=True);"
   ]
  },
  {
   "cell_type": "code",
   "execution_count": 80,
   "metadata": {},
   "outputs": [
    {
     "name": "stdout",
     "output_type": "stream",
     "text": [
      "              precision    recall  f1-score   support\n",
      "\n",
      "           0       0.74      0.65      0.69        26\n",
      "           1       0.71      0.79      0.75        28\n",
      "\n",
      "    accuracy                           0.72        54\n",
      "   macro avg       0.72      0.72      0.72        54\n",
      "weighted avg       0.72      0.72      0.72        54\n",
      "\n"
     ]
    }
   ],
   "source": [
    "print(classification_report(y_test, previsao))"
   ]
  },
  {
   "attachments": {},
   "cell_type": "markdown",
   "metadata": {},
   "source": [
    "- Salvar e carregar o modelo treinado "
   ]
  },
  {
   "cell_type": "code",
   "execution_count": 81,
   "metadata": {},
   "outputs": [],
   "source": [
    "model_json = network1.to_json()\n",
    "with open(\"model.json\", \"w\") as json_file:\n",
    "    json_file.write(model_json)"
   ]
  },
  {
   "cell_type": "code",
   "execution_count": 82,
   "metadata": {},
   "outputs": [],
   "source": [
    "network1_saved = save_model(network1, \"weights1.hdf5\")"
   ]
  },
  {
   "cell_type": "code",
   "execution_count": 83,
   "metadata": {},
   "outputs": [
    {
     "data": {
      "text/plain": [
       "'{\"class_name\": \"Sequential\", \"config\": {\"name\": \"sequential_1\", \"layers\": [{\"class_name\": \"InputLayer\", \"config\": {\"batch_input_shape\": [null, 16384], \"dtype\": \"float32\", \"sparse\": false, \"ragged\": false, \"name\": \"dense_3_input\"}}, {\"class_name\": \"Dense\", \"config\": {\"name\": \"dense_3\", \"trainable\": true, \"dtype\": \"float32\", \"batch_input_shape\": [null, 16384], \"units\": 8193, \"activation\": \"relu\", \"use_bias\": true, \"kernel_initializer\": {\"class_name\": \"GlorotUniform\", \"config\": {\"seed\": null}}, \"bias_initializer\": {\"class_name\": \"Zeros\", \"config\": {}}, \"kernel_regularizer\": null, \"bias_regularizer\": null, \"activity_regularizer\": null, \"kernel_constraint\": null, \"bias_constraint\": null}}, {\"class_name\": \"Dense\", \"config\": {\"name\": \"dense_4\", \"trainable\": true, \"dtype\": \"float32\", \"units\": 8193, \"activation\": \"relu\", \"use_bias\": true, \"kernel_initializer\": {\"class_name\": \"GlorotUniform\", \"config\": {\"seed\": null}}, \"bias_initializer\": {\"class_name\": \"Zeros\", \"config\": {}}, \"kernel_regularizer\": null, \"bias_regularizer\": null, \"activity_regularizer\": null, \"kernel_constraint\": null, \"bias_constraint\": null}}, {\"class_name\": \"Dense\", \"config\": {\"name\": \"dense_5\", \"trainable\": true, \"dtype\": \"float32\", \"units\": 1, \"activation\": \"sigmoid\", \"use_bias\": true, \"kernel_initializer\": {\"class_name\": \"GlorotUniform\", \"config\": {\"seed\": null}}, \"bias_initializer\": {\"class_name\": \"Zeros\", \"config\": {}}, \"kernel_regularizer\": null, \"bias_regularizer\": null, \"activity_regularizer\": null, \"kernel_constraint\": null, \"bias_constraint\": null}}]}, \"keras_version\": \"2.12.0\", \"backend\": \"tensorflow\"}'"
      ]
     },
     "execution_count": 83,
     "metadata": {},
     "output_type": "execute_result"
    }
   ],
   "source": [
    "with open('model.json', 'r') as json_file:\n",
    "    json_savedModel= json_file.read()\n",
    "json_savedModel    "
   ]
  },
  {
   "cell_type": "code",
   "execution_count": 84,
   "metadata": {},
   "outputs": [],
   "source": [
    "network1_loaded = tf.keras.models.model_from_json(json_savedModel)\n",
    "network1_loaded.load_weights('weights1.hdf5')\n",
    "network1_loaded.compile(optimizer='adam', loss='binary_crossentropy', metrics=['accuracy'])"
   ]
  },
  {
   "cell_type": "code",
   "execution_count": 85,
   "metadata": {},
   "outputs": [
    {
     "name": "stdout",
     "output_type": "stream",
     "text": [
      "Model: \"sequential_1\"\n",
      "_________________________________________________________________\n",
      " Layer (type)                Output Shape              Param #   \n",
      "=================================================================\n",
      " dense_3 (Dense)             (None, 8193)              134242305 \n",
      "                                                                 \n",
      " dense_4 (Dense)             (None, 8193)              67133442  \n",
      "                                                                 \n",
      " dense_5 (Dense)             (None, 1)                 8194      \n",
      "                                                                 \n",
      "=================================================================\n",
      "Total params: 201,383,941\n",
      "Trainable params: 201,383,941\n",
      "Non-trainable params: 0\n",
      "_________________________________________________________________\n"
     ]
    }
   ],
   "source": [
    "network1_loaded.summary()"
   ]
  },
  {
   "attachments": {},
   "cell_type": "markdown",
   "metadata": {},
   "source": [
    "- Classificação de uma unica imagem"
   ]
  },
  {
   "cell_type": "code",
   "execution_count": 92,
   "metadata": {},
   "outputs": [
    {
     "data": {
      "text/plain": [
       "(array([1., 1., 1., ..., 1., 1., 1.]), 1)"
      ]
     },
     "execution_count": 92,
     "metadata": {},
     "output_type": "execute_result"
    }
   ],
   "source": [
    "X_test[0], y_test[0]"
   ]
  },
  {
   "attachments": {},
   "cell_type": "markdown",
   "metadata": {},
   "source": [
    "- Para verrificar a imagem precisamos converter o array em matriz e depois voltar a normalização"
   ]
  },
  {
   "cell_type": "code",
   "execution_count": 98,
   "metadata": {},
   "outputs": [],
   "source": [
    "imagem_teste = X_test[20]\n",
    "imagem_teste = scaler.inverse_transform(imagem_teste.reshape(1, -1))"
   ]
  },
  {
   "cell_type": "code",
   "execution_count": 99,
   "metadata": {},
   "outputs": [
    {
     "data": {
      "text/plain": [
       "array([[255., 255., 255., ..., 255., 255., 254.]])"
      ]
     },
     "execution_count": 99,
     "metadata": {},
     "output_type": "execute_result"
    }
   ],
   "source": [
    "imagem_teste"
   ]
  },
  {
   "cell_type": "code",
   "execution_count": 100,
   "metadata": {},
   "outputs": [],
   "source": [
    "PIL_image = PIL.Image.fromarray(imagem_teste.reshape(128, 128))\n",
    "PIL_image.show()"
   ]
  },
  {
   "cell_type": "code",
   "execution_count": 101,
   "metadata": {},
   "outputs": [
    {
     "name": "stdout",
     "output_type": "stream",
     "text": [
      "1/1 [==============================] - 0s 48ms/step\n"
     ]
    },
    {
     "data": {
      "text/plain": [
       "1.0"
      ]
     },
     "execution_count": 101,
     "metadata": {},
     "output_type": "execute_result"
    }
   ],
   "source": [
    "network1_loaded.predict(imagem_teste)[0][0]"
   ]
  },
  {
   "cell_type": "code",
   "execution_count": 102,
   "metadata": {},
   "outputs": [
    {
     "name": "stdout",
     "output_type": "stream",
     "text": [
      "1/1 [==============================] - 0s 51ms/step\n",
      "É o Bart\n"
     ]
    }
   ],
   "source": [
    "if network1_loaded.predict(imagem_teste)[0][0] > 0.5:\n",
    "    print(\"É o Bart\")\n",
    "else:\n",
    "    print(\"É o Homer\")    "
   ]
  }
 ],
 "metadata": {
  "kernelspec": {
   "display_name": "base",
   "language": "python",
   "name": "python3"
  },
  "language_info": {
   "codemirror_mode": {
    "name": "ipython",
    "version": 3
   },
   "file_extension": ".py",
   "mimetype": "text/x-python",
   "name": "python",
   "nbconvert_exporter": "python",
   "pygments_lexer": "ipython3",
   "version": "3.8.0"
  },
  "orig_nbformat": 4
 },
 "nbformat": 4,
 "nbformat_minor": 2
}
