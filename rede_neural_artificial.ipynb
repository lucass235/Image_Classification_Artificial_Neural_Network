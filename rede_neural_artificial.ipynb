{
 "cells": [
  {
   "attachments": {},
   "cell_type": "markdown",
   "metadata": {},
   "source": [
    "# Classificação de imagem com rede neural artificial"
   ]
  },
  {
   "cell_type": "code",
   "execution_count": 1,
   "metadata": {},
   "outputs": [
    {
     "data": {
      "text/plain": [
       "'2.12.0'"
      ]
     },
     "execution_count": 1,
     "metadata": {},
     "output_type": "execute_result"
    }
   ],
   "source": [
    "import cv2\n",
    "import numpy as np\n",
    "import os \n",
    "import tensorflow as tf # Deep Learning\n",
    "import pandas as pd # Manipulação de dados\n",
    "import seaborn as sns # Visualização de dados\n",
    "import matplotlib.pyplot as plt # Visualização de dados\n",
    "import PIL # Manipulação de imagens\n",
    "from sklearn.preprocessing import MinMaxScaler\n",
    "from sklearn.metrics import accuracy_score, confusion_matrix, classification_report\n",
    "from keras.models import save_model\n",
    "from keras.callbacks import EarlyStopping\n",
    "tf.__version__"
   ]
  },
  {
   "attachments": {},
   "cell_type": "markdown",
   "metadata": {},
   "source": [
    "- Definindo caminho das imagens na variável arquivos"
   ]
  },
  {
   "cell_type": "code",
   "execution_count": 2,
   "metadata": {},
   "outputs": [],
   "source": [
    "diretorio = \"./data/homer_bart_1\"\n",
    "arquivos = [os.path.join(diretorio, arquivo) for arquivo in sorted(os.listdir(diretorio))]"
   ]
  },
  {
   "attachments": {},
   "cell_type": "markdown",
   "metadata": {},
   "source": [
    "- Precisamos definir o tamanho das imagens único para todas 128x128"
   ]
  },
  {
   "cell_type": "code",
   "execution_count": 3,
   "metadata": {},
   "outputs": [],
   "source": [
    "largura, altura = 128, 128"
   ]
  },
  {
   "attachments": {},
   "cell_type": "markdown",
   "metadata": {},
   "source": [
    "- Variável imagens para armazenar as imagens em formato de array\n",
    "- Variável classes para armazenar as classes das imagens 0 -> Homer, 1 -> Bart"
   ]
  },
  {
   "cell_type": "code",
   "execution_count": 4,
   "metadata": {},
   "outputs": [],
   "source": [
    "imagens = []\n",
    "classes = []"
   ]
  },
  {
   "attachments": {},
   "cell_type": "markdown",
   "metadata": {},
   "source": [
    "- Extração dos pixels das imagens"
   ]
  },
  {
   "attachments": {},
   "cell_type": "markdown",
   "metadata": {},
   "source": [
    "- Nesse bloco de código, estamos lendo as imagens, ajustando o seu tamanho, convertendo para escala de cinza, convertendo para array e adicionando na variável imagens.\n",
    "- No finalzinho estamos pegando o nome referente a identificação da imagem e adicionando na variável classes para identificar a classe da imagem."
   ]
  },
  {
   "cell_type": "code",
   "execution_count": 5,
   "metadata": {},
   "outputs": [],
   "source": [
    "for arquivo in arquivos:\n",
    "    try:\n",
    "        imagem = cv2.imread(arquivo)\n",
    "        (H, W) = imagem.shape[:2] # Altura e largura da imagem\n",
    "    except:\n",
    "        continue\n",
    "    imagem = cv2.resize(imagem, (largura, altura)) # Redimensiona a imagem\n",
    "    imagem = cv2.cvtColor(imagem, cv2.COLOR_BGR2GRAY) # Converte a imagem para tons de cinza\n",
    "    imagem = imagem.ravel() # Converte a imagem para um vetor\n",
    "    imagens.append(imagem) # Adiciona a imagem na lista de imagens\n",
    "    nome_imagem = arquivo.split(os.path.sep)[-1] # Pega o nome da imagem\n",
    "    if \"homer\" in nome_imagem:\n",
    "        classes.append(0)\n",
    "    else:\n",
    "        classes.append(1)            "
   ]
  },
  {
   "attachments": {},
   "cell_type": "markdown",
   "metadata": {},
   "source": [
    "- Convertendo as imagens em array e suas respectivas classes em array numpy"
   ]
  },
  {
   "cell_type": "code",
   "execution_count": 6,
   "metadata": {},
   "outputs": [],
   "source": [
    "X = np.array(imagens)\n",
    "y = np.array(classes)"
   ]
  },
  {
   "cell_type": "code",
   "execution_count": 7,
   "metadata": {},
   "outputs": [
    {
     "data": {
      "text/plain": [
       "((269, 16384), (269,))"
      ]
     },
     "execution_count": 7,
     "metadata": {},
     "output_type": "execute_result"
    }
   ],
   "source": [
    "X.shape, y.shape"
   ]
  },
  {
   "attachments": {},
   "cell_type": "markdown",
   "metadata": {},
   "source": [
    "- Normalização dos dados"
   ]
  },
  {
   "cell_type": "code",
   "execution_count": 9,
   "metadata": {},
   "outputs": [
    {
     "data": {
      "text/plain": [
       "(255, 0)"
      ]
     },
     "execution_count": 9,
     "metadata": {},
     "output_type": "execute_result"
    }
   ],
   "source": [
    "X[0].max(), X[0].min()"
   ]
  },
  {
   "attachments": {},
   "cell_type": "markdown",
   "metadata": {},
   "source": [
    "- Pegamos os 256 pixes e fizemos a normalização entre 0 e 1 onde 1 é a cor branca e 0 é a cor preta"
   ]
  },
  {
   "cell_type": "code",
   "execution_count": 10,
   "metadata": {},
   "outputs": [],
   "source": [
    "scaler = MinMaxScaler()\n",
    "X = scaler.fit_transform(X)"
   ]
  },
  {
   "cell_type": "code",
   "execution_count": 11,
   "metadata": {},
   "outputs": [
    {
     "data": {
      "text/plain": [
       "(1.0000000000000002, 0.0)"
      ]
     },
     "execution_count": 11,
     "metadata": {},
     "output_type": "execute_result"
    }
   ],
   "source": [
    "X[0].max(), X[0].min()"
   ]
  },
  {
   "attachments": {},
   "cell_type": "markdown",
   "metadata": {},
   "source": [
    "- Base de treinamento e teste\n",
    "- A biblioteca sklearn possui uma função chamada train_test_split que faz a divisão da base de dados em treinamento e teste\n",
    "- test_size = 0.25 -> 25% da base de dados será usada para teste e 75% para treinamento\n",
    "- random_state = 1 -> Para que a divisão seja sempre a mesma"
   ]
  },
  {
   "cell_type": "code",
   "execution_count": 12,
   "metadata": {},
   "outputs": [],
   "source": [
    "from sklearn.model_selection import train_test_split\n",
    "X_train, X_test, y_train, y_test = train_test_split(X, y, test_size=0.2, random_state=1)"
   ]
  },
  {
   "cell_type": "code",
   "execution_count": 13,
   "metadata": {},
   "outputs": [
    {
     "data": {
      "text/plain": [
       "((215, 16384), (54, 16384), (215,), (54,))"
      ]
     },
     "execution_count": 13,
     "metadata": {},
     "output_type": "execute_result"
    }
   ],
   "source": [
    "X_train.shape, X_test.shape, y_train.shape, y_test.shape"
   ]
  },
  {
   "attachments": {},
   "cell_type": "markdown",
   "metadata": {},
   "source": [
    "## Construção e treinamento da rede neural"
   ]
  },
  {
   "attachments": {},
   "cell_type": "markdown",
   "metadata": {},
   "source": [
    "- units parâmetro de entrada de neurônios da camada oculta\n",
    "- activation função de ativação da camada oculta\n",
    "- input_shape parâmetro de entrada de neurônios da camada de entrada"
   ]
  },
  {
   "cell_type": "code",
   "execution_count": 14,
   "metadata": {},
   "outputs": [],
   "source": [
    "network1 = tf.keras.models.Sequential() # Cria a rede neural sequencial \n",
    "network1.add(tf.keras.layers.Dense(units=8193, activation='relu', input_shape=(X_train.shape[1],))) # Adiciona a primeira camada oculta\n",
    "network1.add(tf.keras.layers.Dense(units=8193, activation='relu')) # Adiciona a segunda camada oculta\n",
    "network1.add(tf.keras.layers.Dense(units=1, activation='sigmoid')) # Adiciona a camada de saída"
   ]
  },
  {
   "cell_type": "code",
   "execution_count": 15,
   "metadata": {},
   "outputs": [
    {
     "name": "stdout",
     "output_type": "stream",
     "text": [
      "Model: \"sequential\"\n",
      "_________________________________________________________________\n",
      " Layer (type)                Output Shape              Param #   \n",
      "=================================================================\n",
      " dense (Dense)               (None, 8193)              134242305 \n",
      "                                                                 \n",
      " dense_1 (Dense)             (None, 8193)              67133442  \n",
      "                                                                 \n",
      " dense_2 (Dense)             (None, 1)                 8194      \n",
      "                                                                 \n",
      "=================================================================\n",
      "Total params: 201,383,941\n",
      "Trainable params: 201,383,941\n",
      "Non-trainable params: 0\n",
      "_________________________________________________________________\n"
     ]
    }
   ],
   "source": [
    "network1.summary()"
   ]
  },
  {
   "attachments": {},
   "cell_type": "markdown",
   "metadata": {},
   "source": [
    "- optimizer parametro de otimização dos pesos da rede neural (adam)\n",
    "- loss função para calcular o erro (binary_crossentropy)\n",
    "- metrics métrica para avaliar o modelo (accuracy)"
   ]
  },
  {
   "cell_type": "code",
   "execution_count": 16,
   "metadata": {},
   "outputs": [],
   "source": [
    "network1.compile(optimizer='adam', loss='binary_crossentropy', metrics=['accuracy']) # Compila a rede neural"
   ]
  },
  {
   "attachments": {},
   "cell_type": "markdown",
   "metadata": {},
   "source": [
    "- Definição do callback para parar o treinamento quando a acurácia de validação não melhorar"
   ]
  },
  {
   "cell_type": "code",
   "execution_count": 17,
   "metadata": {},
   "outputs": [],
   "source": [
    "# Definir o critério de parada antecipada\n",
    "early_stopping = EarlyStopping(monitor='val_loss', patience=150, restore_best_weights=True)\n",
    "# Incluir o critério de parada antecipada na lista de callbacks\n",
    "callbacks_list = [early_stopping]"
   ]
  },
  {
   "attachments": {},
   "cell_type": "markdown",
   "metadata": {},
   "source": [
    "- epochs quantidade de vezes que o modelo será treinado\n",
    "- callbacks parâmetro para definir o callback de parada do treinamento\n",
    "- validation_split parâmetro para definir a quantidade de dados que será usada para validação"
   ]
  },
  {
   "cell_type": "code",
   "execution_count": 18,
   "metadata": {},
   "outputs": [
    {
     "name": "stdout",
     "output_type": "stream",
     "text": [
      "Epoch 1/200\n",
      "7/7 [==============================] - ETA: 0s - loss: 132.8913 - accuracy: 0.5070WARNING:tensorflow:Early stopping conditioned on metric `val_loss` which is not available. Available metrics are: loss,accuracy\n",
      "7/7 [==============================] - 11s 2s/step - loss: 132.8913 - accuracy: 0.5070\n",
      "Epoch 2/200\n",
      "7/7 [==============================] - ETA: 0s - loss: 26.2830 - accuracy: 0.4651WARNING:tensorflow:Early stopping conditioned on metric `val_loss` which is not available. Available metrics are: loss,accuracy\n",
      "7/7 [==============================] - 10s 1s/step - loss: 26.2830 - accuracy: 0.4651\n",
      "Epoch 3/200\n",
      "7/7 [==============================] - ETA: 0s - loss: 4.6563 - accuracy: 0.5302WARNING:tensorflow:Early stopping conditioned on metric `val_loss` which is not available. Available metrics are: loss,accuracy\n",
      "7/7 [==============================] - 10s 1s/step - loss: 4.6563 - accuracy: 0.5302\n",
      "Epoch 4/200\n",
      "7/7 [==============================] - ETA: 0s - loss: 1.2982 - accuracy: 0.5442WARNING:tensorflow:Early stopping conditioned on metric `val_loss` which is not available. Available metrics are: loss,accuracy\n",
      "7/7 [==============================] - 10s 1s/step - loss: 1.2982 - accuracy: 0.5442\n",
      "Epoch 5/200\n",
      "7/7 [==============================] - ETA: 0s - loss: 0.8682 - accuracy: 0.4977WARNING:tensorflow:Early stopping conditioned on metric `val_loss` which is not available. Available metrics are: loss,accuracy\n",
      "7/7 [==============================] - 10s 1s/step - loss: 0.8682 - accuracy: 0.4977\n",
      "Epoch 6/200\n",
      "7/7 [==============================] - ETA: 0s - loss: 0.7005 - accuracy: 0.5953WARNING:tensorflow:Early stopping conditioned on metric `val_loss` which is not available. Available metrics are: loss,accuracy\n",
      "7/7 [==============================] - 10s 1s/step - loss: 0.7005 - accuracy: 0.5953\n",
      "Epoch 7/200\n",
      "7/7 [==============================] - ETA: 0s - loss: 0.6492 - accuracy: 0.6419WARNING:tensorflow:Early stopping conditioned on metric `val_loss` which is not available. Available metrics are: loss,accuracy\n",
      "7/7 [==============================] - 10s 1s/step - loss: 0.6492 - accuracy: 0.6419\n",
      "Epoch 8/200\n",
      "7/7 [==============================] - ETA: 0s - loss: 0.6287 - accuracy: 0.6837WARNING:tensorflow:Early stopping conditioned on metric `val_loss` which is not available. Available metrics are: loss,accuracy\n",
      "7/7 [==============================] - 10s 1s/step - loss: 0.6287 - accuracy: 0.6837\n",
      "Epoch 9/200\n",
      "7/7 [==============================] - ETA: 0s - loss: 0.5899 - accuracy: 0.7116WARNING:tensorflow:Early stopping conditioned on metric `val_loss` which is not available. Available metrics are: loss,accuracy\n",
      "7/7 [==============================] - 10s 1s/step - loss: 0.5899 - accuracy: 0.7116\n",
      "Epoch 10/200\n",
      "7/7 [==============================] - ETA: 0s - loss: 0.6456 - accuracy: 0.6093WARNING:tensorflow:Early stopping conditioned on metric `val_loss` which is not available. Available metrics are: loss,accuracy\n",
      "7/7 [==============================] - 10s 1s/step - loss: 0.6456 - accuracy: 0.6093\n",
      "Epoch 11/200\n",
      "7/7 [==============================] - ETA: 0s - loss: 0.7376 - accuracy: 0.5860WARNING:tensorflow:Early stopping conditioned on metric `val_loss` which is not available. Available metrics are: loss,accuracy\n",
      "7/7 [==============================] - 10s 1s/step - loss: 0.7376 - accuracy: 0.5860\n",
      "Epoch 12/200\n",
      "7/7 [==============================] - ETA: 0s - loss: 0.5914 - accuracy: 0.6837WARNING:tensorflow:Early stopping conditioned on metric `val_loss` which is not available. Available metrics are: loss,accuracy\n",
      "7/7 [==============================] - 10s 1s/step - loss: 0.5914 - accuracy: 0.6837\n",
      "Epoch 13/200\n",
      "7/7 [==============================] - ETA: 0s - loss: 0.5478 - accuracy: 0.7163WARNING:tensorflow:Early stopping conditioned on metric `val_loss` which is not available. Available metrics are: loss,accuracy\n",
      "7/7 [==============================] - 10s 1s/step - loss: 0.5478 - accuracy: 0.7163\n",
      "Epoch 14/200\n",
      "7/7 [==============================] - ETA: 0s - loss: 0.4885 - accuracy: 0.7814WARNING:tensorflow:Early stopping conditioned on metric `val_loss` which is not available. Available metrics are: loss,accuracy\n",
      "7/7 [==============================] - 10s 1s/step - loss: 0.4885 - accuracy: 0.7814\n",
      "Epoch 15/200\n",
      "7/7 [==============================] - ETA: 0s - loss: 0.4568 - accuracy: 0.7767WARNING:tensorflow:Early stopping conditioned on metric `val_loss` which is not available. Available metrics are: loss,accuracy\n",
      "7/7 [==============================] - 10s 1s/step - loss: 0.4568 - accuracy: 0.7767\n",
      "Epoch 16/200\n",
      "7/7 [==============================] - ETA: 0s - loss: 0.4392 - accuracy: 0.8000WARNING:tensorflow:Early stopping conditioned on metric `val_loss` which is not available. Available metrics are: loss,accuracy\n",
      "7/7 [==============================] - 10s 1s/step - loss: 0.4392 - accuracy: 0.8000\n",
      "Epoch 17/200\n",
      "7/7 [==============================] - ETA: 0s - loss: 0.7264 - accuracy: 0.6000WARNING:tensorflow:Early stopping conditioned on metric `val_loss` which is not available. Available metrics are: loss,accuracy\n",
      "7/7 [==============================] - 10s 1s/step - loss: 0.7264 - accuracy: 0.6000\n",
      "Epoch 18/200\n",
      "7/7 [==============================] - ETA: 0s - loss: 0.4752 - accuracy: 0.7674WARNING:tensorflow:Early stopping conditioned on metric `val_loss` which is not available. Available metrics are: loss,accuracy\n",
      "7/7 [==============================] - 10s 1s/step - loss: 0.4752 - accuracy: 0.7674\n",
      "Epoch 19/200\n",
      "7/7 [==============================] - ETA: 0s - loss: 0.3610 - accuracy: 0.8837WARNING:tensorflow:Early stopping conditioned on metric `val_loss` which is not available. Available metrics are: loss,accuracy\n",
      "7/7 [==============================] - 10s 1s/step - loss: 0.3610 - accuracy: 0.8837\n",
      "Epoch 20/200\n",
      "7/7 [==============================] - ETA: 0s - loss: 0.3374 - accuracy: 0.8372WARNING:tensorflow:Early stopping conditioned on metric `val_loss` which is not available. Available metrics are: loss,accuracy\n",
      "7/7 [==============================] - 10s 1s/step - loss: 0.3374 - accuracy: 0.8372\n",
      "Epoch 21/200\n",
      "7/7 [==============================] - ETA: 0s - loss: 0.4807 - accuracy: 0.7674WARNING:tensorflow:Early stopping conditioned on metric `val_loss` which is not available. Available metrics are: loss,accuracy\n",
      "7/7 [==============================] - 10s 1s/step - loss: 0.4807 - accuracy: 0.7674\n",
      "Epoch 22/200\n",
      "7/7 [==============================] - ETA: 0s - loss: 0.4163 - accuracy: 0.8233WARNING:tensorflow:Early stopping conditioned on metric `val_loss` which is not available. Available metrics are: loss,accuracy\n",
      "7/7 [==============================] - 10s 1s/step - loss: 0.4163 - accuracy: 0.8233\n",
      "Epoch 23/200\n",
      "7/7 [==============================] - ETA: 0s - loss: 0.2511 - accuracy: 0.9302WARNING:tensorflow:Early stopping conditioned on metric `val_loss` which is not available. Available metrics are: loss,accuracy\n",
      "7/7 [==============================] - 10s 1s/step - loss: 0.2511 - accuracy: 0.9302\n",
      "Epoch 24/200\n",
      "7/7 [==============================] - ETA: 0s - loss: 0.2072 - accuracy: 0.9349WARNING:tensorflow:Early stopping conditioned on metric `val_loss` which is not available. Available metrics are: loss,accuracy\n",
      "7/7 [==============================] - 10s 1s/step - loss: 0.2072 - accuracy: 0.9349\n",
      "Epoch 25/200\n",
      "7/7 [==============================] - ETA: 0s - loss: 0.1330 - accuracy: 0.9721WARNING:tensorflow:Early stopping conditioned on metric `val_loss` which is not available. Available metrics are: loss,accuracy\n",
      "7/7 [==============================] - 10s 1s/step - loss: 0.1330 - accuracy: 0.9721\n",
      "Epoch 26/200\n",
      "7/7 [==============================] - ETA: 0s - loss: 0.7089 - accuracy: 0.7628WARNING:tensorflow:Early stopping conditioned on metric `val_loss` which is not available. Available metrics are: loss,accuracy\n",
      "7/7 [==============================] - 10s 1s/step - loss: 0.7089 - accuracy: 0.7628\n",
      "Epoch 27/200\n",
      "7/7 [==============================] - ETA: 0s - loss: 1.2330 - accuracy: 0.6047WARNING:tensorflow:Early stopping conditioned on metric `val_loss` which is not available. Available metrics are: loss,accuracy\n",
      "7/7 [==============================] - 10s 1s/step - loss: 1.2330 - accuracy: 0.6047\n",
      "Epoch 28/200\n",
      "7/7 [==============================] - ETA: 0s - loss: 0.5424 - accuracy: 0.6791WARNING:tensorflow:Early stopping conditioned on metric `val_loss` which is not available. Available metrics are: loss,accuracy\n",
      "7/7 [==============================] - 10s 1s/step - loss: 0.5424 - accuracy: 0.6791\n",
      "Epoch 29/200\n",
      "7/7 [==============================] - ETA: 0s - loss: 0.2879 - accuracy: 0.9628WARNING:tensorflow:Early stopping conditioned on metric `val_loss` which is not available. Available metrics are: loss,accuracy\n",
      "7/7 [==============================] - 10s 1s/step - loss: 0.2879 - accuracy: 0.9628\n",
      "Epoch 30/200\n",
      "7/7 [==============================] - ETA: 0s - loss: 0.5167 - accuracy: 0.7814WARNING:tensorflow:Early stopping conditioned on metric `val_loss` which is not available. Available metrics are: loss,accuracy\n",
      "7/7 [==============================] - 10s 1s/step - loss: 0.5167 - accuracy: 0.7814\n",
      "Epoch 31/200\n",
      "7/7 [==============================] - ETA: 0s - loss: 0.2346 - accuracy: 0.8884WARNING:tensorflow:Early stopping conditioned on metric `val_loss` which is not available. Available metrics are: loss,accuracy\n",
      "7/7 [==============================] - 10s 1s/step - loss: 0.2346 - accuracy: 0.8884\n",
      "Epoch 32/200\n",
      "7/7 [==============================] - ETA: 0s - loss: 0.1481 - accuracy: 0.9581WARNING:tensorflow:Early stopping conditioned on metric `val_loss` which is not available. Available metrics are: loss,accuracy\n",
      "7/7 [==============================] - 10s 1s/step - loss: 0.1481 - accuracy: 0.9581\n",
      "Epoch 33/200\n",
      "7/7 [==============================] - ETA: 0s - loss: 0.1568 - accuracy: 0.9442WARNING:tensorflow:Early stopping conditioned on metric `val_loss` which is not available. Available metrics are: loss,accuracy\n",
      "7/7 [==============================] - 10s 1s/step - loss: 0.1568 - accuracy: 0.9442\n",
      "Epoch 34/200\n",
      "7/7 [==============================] - ETA: 0s - loss: 0.1564 - accuracy: 0.9209WARNING:tensorflow:Early stopping conditioned on metric `val_loss` which is not available. Available metrics are: loss,accuracy\n",
      "7/7 [==============================] - 10s 1s/step - loss: 0.1564 - accuracy: 0.9209\n",
      "Epoch 35/200\n",
      "7/7 [==============================] - ETA: 0s - loss: 0.0726 - accuracy: 0.9907WARNING:tensorflow:Early stopping conditioned on metric `val_loss` which is not available. Available metrics are: loss,accuracy\n",
      "7/7 [==============================] - 10s 1s/step - loss: 0.0726 - accuracy: 0.9907\n",
      "Epoch 36/200\n",
      "7/7 [==============================] - ETA: 0s - loss: 0.0394 - accuracy: 0.9953WARNING:tensorflow:Early stopping conditioned on metric `val_loss` which is not available. Available metrics are: loss,accuracy\n",
      "7/7 [==============================] - 10s 1s/step - loss: 0.0394 - accuracy: 0.9953\n",
      "Epoch 37/200\n",
      "7/7 [==============================] - ETA: 0s - loss: 0.0351 - accuracy: 0.9907WARNING:tensorflow:Early stopping conditioned on metric `val_loss` which is not available. Available metrics are: loss,accuracy\n",
      "7/7 [==============================] - 10s 1s/step - loss: 0.0351 - accuracy: 0.9907\n",
      "Epoch 38/200\n",
      "7/7 [==============================] - ETA: 0s - loss: 0.0325 - accuracy: 1.0000WARNING:tensorflow:Early stopping conditioned on metric `val_loss` which is not available. Available metrics are: loss,accuracy\n",
      "7/7 [==============================] - 10s 1s/step - loss: 0.0325 - accuracy: 1.0000\n",
      "Epoch 39/200\n",
      "7/7 [==============================] - ETA: 0s - loss: 0.0833 - accuracy: 0.9721WARNING:tensorflow:Early stopping conditioned on metric `val_loss` which is not available. Available metrics are: loss,accuracy\n",
      "7/7 [==============================] - 10s 1s/step - loss: 0.0833 - accuracy: 0.9721\n",
      "Epoch 40/200\n",
      "7/7 [==============================] - ETA: 0s - loss: 0.0619 - accuracy: 0.9767WARNING:tensorflow:Early stopping conditioned on metric `val_loss` which is not available. Available metrics are: loss,accuracy\n",
      "7/7 [==============================] - 10s 1s/step - loss: 0.0619 - accuracy: 0.9767\n",
      "Epoch 41/200\n",
      "7/7 [==============================] - ETA: 0s - loss: 0.0152 - accuracy: 1.0000WARNING:tensorflow:Early stopping conditioned on metric `val_loss` which is not available. Available metrics are: loss,accuracy\n",
      "7/7 [==============================] - 10s 1s/step - loss: 0.0152 - accuracy: 1.0000\n",
      "Epoch 42/200\n",
      "7/7 [==============================] - ETA: 0s - loss: 0.0098 - accuracy: 1.0000WARNING:tensorflow:Early stopping conditioned on metric `val_loss` which is not available. Available metrics are: loss,accuracy\n",
      "7/7 [==============================] - 10s 1s/step - loss: 0.0098 - accuracy: 1.0000\n",
      "Epoch 43/200\n",
      "7/7 [==============================] - ETA: 0s - loss: 0.0075 - accuracy: 1.0000WARNING:tensorflow:Early stopping conditioned on metric `val_loss` which is not available. Available metrics are: loss,accuracy\n",
      "7/7 [==============================] - 10s 1s/step - loss: 0.0075 - accuracy: 1.0000\n",
      "Epoch 44/200\n",
      "7/7 [==============================] - ETA: 0s - loss: 0.0046 - accuracy: 1.0000WARNING:tensorflow:Early stopping conditioned on metric `val_loss` which is not available. Available metrics are: loss,accuracy\n",
      "7/7 [==============================] - 10s 1s/step - loss: 0.0046 - accuracy: 1.0000\n",
      "Epoch 45/200\n",
      "7/7 [==============================] - ETA: 0s - loss: 0.0042 - accuracy: 1.0000WARNING:tensorflow:Early stopping conditioned on metric `val_loss` which is not available. Available metrics are: loss,accuracy\n",
      "7/7 [==============================] - 10s 1s/step - loss: 0.0042 - accuracy: 1.0000\n",
      "Epoch 46/200\n",
      "7/7 [==============================] - ETA: 0s - loss: 0.0034 - accuracy: 1.0000WARNING:tensorflow:Early stopping conditioned on metric `val_loss` which is not available. Available metrics are: loss,accuracy\n",
      "7/7 [==============================] - 10s 1s/step - loss: 0.0034 - accuracy: 1.0000\n",
      "Epoch 47/200\n",
      "7/7 [==============================] - ETA: 0s - loss: 0.0031 - accuracy: 1.0000WARNING:tensorflow:Early stopping conditioned on metric `val_loss` which is not available. Available metrics are: loss,accuracy\n",
      "7/7 [==============================] - 10s 1s/step - loss: 0.0031 - accuracy: 1.0000\n",
      "Epoch 48/200\n",
      "7/7 [==============================] - ETA: 0s - loss: 0.0028 - accuracy: 1.0000WARNING:tensorflow:Early stopping conditioned on metric `val_loss` which is not available. Available metrics are: loss,accuracy\n",
      "7/7 [==============================] - 10s 1s/step - loss: 0.0028 - accuracy: 1.0000\n",
      "Epoch 49/200\n",
      "7/7 [==============================] - ETA: 0s - loss: 0.0020 - accuracy: 1.0000WARNING:tensorflow:Early stopping conditioned on metric `val_loss` which is not available. Available metrics are: loss,accuracy\n",
      "7/7 [==============================] - 10s 1s/step - loss: 0.0020 - accuracy: 1.0000\n",
      "Epoch 50/200\n",
      "7/7 [==============================] - ETA: 0s - loss: 0.0020 - accuracy: 1.0000WARNING:tensorflow:Early stopping conditioned on metric `val_loss` which is not available. Available metrics are: loss,accuracy\n",
      "7/7 [==============================] - 10s 1s/step - loss: 0.0020 - accuracy: 1.0000\n",
      "Epoch 51/200\n",
      "7/7 [==============================] - ETA: 0s - loss: 0.0019 - accuracy: 1.0000WARNING:tensorflow:Early stopping conditioned on metric `val_loss` which is not available. Available metrics are: loss,accuracy\n",
      "7/7 [==============================] - 10s 1s/step - loss: 0.0019 - accuracy: 1.0000\n",
      "Epoch 52/200\n",
      "7/7 [==============================] - ETA: 0s - loss: 0.0017 - accuracy: 1.0000WARNING:tensorflow:Early stopping conditioned on metric `val_loss` which is not available. Available metrics are: loss,accuracy\n",
      "7/7 [==============================] - 10s 1s/step - loss: 0.0017 - accuracy: 1.0000\n",
      "Epoch 53/200\n",
      "7/7 [==============================] - ETA: 0s - loss: 0.0020 - accuracy: 1.0000WARNING:tensorflow:Early stopping conditioned on metric `val_loss` which is not available. Available metrics are: loss,accuracy\n",
      "7/7 [==============================] - 10s 1s/step - loss: 0.0020 - accuracy: 1.0000\n",
      "Epoch 54/200\n",
      "7/7 [==============================] - ETA: 0s - loss: 0.0020 - accuracy: 1.0000WARNING:tensorflow:Early stopping conditioned on metric `val_loss` which is not available. Available metrics are: loss,accuracy\n",
      "7/7 [==============================] - 10s 1s/step - loss: 0.0020 - accuracy: 1.0000\n",
      "Epoch 55/200\n",
      "7/7 [==============================] - ETA: 0s - loss: 0.0015 - accuracy: 1.0000WARNING:tensorflow:Early stopping conditioned on metric `val_loss` which is not available. Available metrics are: loss,accuracy\n",
      "7/7 [==============================] - 10s 1s/step - loss: 0.0015 - accuracy: 1.0000\n",
      "Epoch 56/200\n",
      "7/7 [==============================] - ETA: 0s - loss: 0.0013 - accuracy: 1.0000WARNING:tensorflow:Early stopping conditioned on metric `val_loss` which is not available. Available metrics are: loss,accuracy\n",
      "7/7 [==============================] - 10s 1s/step - loss: 0.0013 - accuracy: 1.0000\n",
      "Epoch 57/200\n",
      "7/7 [==============================] - ETA: 0s - loss: 0.0011 - accuracy: 1.0000WARNING:tensorflow:Early stopping conditioned on metric `val_loss` which is not available. Available metrics are: loss,accuracy\n",
      "7/7 [==============================] - 10s 1s/step - loss: 0.0011 - accuracy: 1.0000\n",
      "Epoch 58/200\n",
      "7/7 [==============================] - ETA: 0s - loss: 8.1419e-04 - accuracy: 1.0000WARNING:tensorflow:Early stopping conditioned on metric `val_loss` which is not available. Available metrics are: loss,accuracy\n",
      "7/7 [==============================] - 10s 1s/step - loss: 8.1419e-04 - accuracy: 1.0000\n",
      "Epoch 59/200\n",
      "7/7 [==============================] - ETA: 0s - loss: 6.5491e-04 - accuracy: 1.0000WARNING:tensorflow:Early stopping conditioned on metric `val_loss` which is not available. Available metrics are: loss,accuracy\n",
      "7/7 [==============================] - 10s 1s/step - loss: 6.5491e-04 - accuracy: 1.0000\n",
      "Epoch 60/200\n",
      "7/7 [==============================] - ETA: 0s - loss: 6.0349e-04 - accuracy: 1.0000WARNING:tensorflow:Early stopping conditioned on metric `val_loss` which is not available. Available metrics are: loss,accuracy\n",
      "7/7 [==============================] - 10s 1s/step - loss: 6.0349e-04 - accuracy: 1.0000\n",
      "Epoch 61/200\n",
      "7/7 [==============================] - ETA: 0s - loss: 5.3470e-04 - accuracy: 1.0000WARNING:tensorflow:Early stopping conditioned on metric `val_loss` which is not available. Available metrics are: loss,accuracy\n",
      "7/7 [==============================] - 10s 1s/step - loss: 5.3470e-04 - accuracy: 1.0000\n",
      "Epoch 62/200\n",
      "7/7 [==============================] - ETA: 0s - loss: 5.1489e-04 - accuracy: 1.0000WARNING:tensorflow:Early stopping conditioned on metric `val_loss` which is not available. Available metrics are: loss,accuracy\n",
      "7/7 [==============================] - 10s 1s/step - loss: 5.1489e-04 - accuracy: 1.0000\n",
      "Epoch 63/200\n",
      "7/7 [==============================] - ETA: 0s - loss: 4.4854e-04 - accuracy: 1.0000WARNING:tensorflow:Early stopping conditioned on metric `val_loss` which is not available. Available metrics are: loss,accuracy\n",
      "7/7 [==============================] - 10s 1s/step - loss: 4.4854e-04 - accuracy: 1.0000\n",
      "Epoch 64/200\n",
      "7/7 [==============================] - ETA: 0s - loss: 3.9554e-04 - accuracy: 1.0000WARNING:tensorflow:Early stopping conditioned on metric `val_loss` which is not available. Available metrics are: loss,accuracy\n",
      "7/7 [==============================] - 10s 1s/step - loss: 3.9554e-04 - accuracy: 1.0000\n",
      "Epoch 65/200\n",
      "7/7 [==============================] - ETA: 0s - loss: 3.5832e-04 - accuracy: 1.0000WARNING:tensorflow:Early stopping conditioned on metric `val_loss` which is not available. Available metrics are: loss,accuracy\n",
      "7/7 [==============================] - 10s 1s/step - loss: 3.5832e-04 - accuracy: 1.0000\n",
      "Epoch 66/200\n",
      "7/7 [==============================] - ETA: 0s - loss: 3.2515e-04 - accuracy: 1.0000WARNING:tensorflow:Early stopping conditioned on metric `val_loss` which is not available. Available metrics are: loss,accuracy\n",
      "7/7 [==============================] - 10s 1s/step - loss: 3.2515e-04 - accuracy: 1.0000\n",
      "Epoch 67/200\n",
      "7/7 [==============================] - ETA: 0s - loss: 2.7221e-04 - accuracy: 1.0000WARNING:tensorflow:Early stopping conditioned on metric `val_loss` which is not available. Available metrics are: loss,accuracy\n",
      "7/7 [==============================] - 10s 1s/step - loss: 2.7221e-04 - accuracy: 1.0000\n",
      "Epoch 68/200\n",
      "7/7 [==============================] - ETA: 0s - loss: 2.3486e-04 - accuracy: 1.0000WARNING:tensorflow:Early stopping conditioned on metric `val_loss` which is not available. Available metrics are: loss,accuracy\n",
      "7/7 [==============================] - 10s 1s/step - loss: 2.3486e-04 - accuracy: 1.0000\n",
      "Epoch 69/200\n",
      "7/7 [==============================] - ETA: 0s - loss: 2.0644e-04 - accuracy: 1.0000WARNING:tensorflow:Early stopping conditioned on metric `val_loss` which is not available. Available metrics are: loss,accuracy\n",
      "7/7 [==============================] - 10s 1s/step - loss: 2.0644e-04 - accuracy: 1.0000\n",
      "Epoch 70/200\n",
      "7/7 [==============================] - ETA: 0s - loss: 1.7688e-04 - accuracy: 1.0000WARNING:tensorflow:Early stopping conditioned on metric `val_loss` which is not available. Available metrics are: loss,accuracy\n",
      "7/7 [==============================] - 10s 1s/step - loss: 1.7688e-04 - accuracy: 1.0000\n",
      "Epoch 71/200\n",
      "7/7 [==============================] - ETA: 0s - loss: 1.5246e-04 - accuracy: 1.0000WARNING:tensorflow:Early stopping conditioned on metric `val_loss` which is not available. Available metrics are: loss,accuracy\n",
      "7/7 [==============================] - 10s 1s/step - loss: 1.5246e-04 - accuracy: 1.0000\n",
      "Epoch 72/200\n",
      "7/7 [==============================] - ETA: 0s - loss: 1.3005e-04 - accuracy: 1.0000WARNING:tensorflow:Early stopping conditioned on metric `val_loss` which is not available. Available metrics are: loss,accuracy\n",
      "7/7 [==============================] - 10s 1s/step - loss: 1.3005e-04 - accuracy: 1.0000\n",
      "Epoch 73/200\n",
      "7/7 [==============================] - ETA: 0s - loss: 1.1467e-04 - accuracy: 1.0000WARNING:tensorflow:Early stopping conditioned on metric `val_loss` which is not available. Available metrics are: loss,accuracy\n",
      "7/7 [==============================] - 10s 1s/step - loss: 1.1467e-04 - accuracy: 1.0000\n",
      "Epoch 74/200\n",
      "7/7 [==============================] - ETA: 0s - loss: 9.9484e-05 - accuracy: 1.0000WARNING:tensorflow:Early stopping conditioned on metric `val_loss` which is not available. Available metrics are: loss,accuracy\n",
      "7/7 [==============================] - 10s 1s/step - loss: 9.9484e-05 - accuracy: 1.0000\n",
      "Epoch 75/200\n",
      "7/7 [==============================] - ETA: 0s - loss: 9.0448e-05 - accuracy: 1.0000WARNING:tensorflow:Early stopping conditioned on metric `val_loss` which is not available. Available metrics are: loss,accuracy\n",
      "7/7 [==============================] - 10s 1s/step - loss: 9.0448e-05 - accuracy: 1.0000\n",
      "Epoch 76/200\n",
      "7/7 [==============================] - ETA: 0s - loss: 8.0716e-05 - accuracy: 1.0000WARNING:tensorflow:Early stopping conditioned on metric `val_loss` which is not available. Available metrics are: loss,accuracy\n",
      "7/7 [==============================] - 10s 1s/step - loss: 8.0716e-05 - accuracy: 1.0000\n",
      "Epoch 77/200\n",
      "7/7 [==============================] - ETA: 0s - loss: 7.3290e-05 - accuracy: 1.0000WARNING:tensorflow:Early stopping conditioned on metric `val_loss` which is not available. Available metrics are: loss,accuracy\n",
      "7/7 [==============================] - 10s 1s/step - loss: 7.3290e-05 - accuracy: 1.0000\n",
      "Epoch 78/200\n",
      "7/7 [==============================] - ETA: 0s - loss: 6.6015e-05 - accuracy: 1.0000WARNING:tensorflow:Early stopping conditioned on metric `val_loss` which is not available. Available metrics are: loss,accuracy\n",
      "7/7 [==============================] - 10s 1s/step - loss: 6.6015e-05 - accuracy: 1.0000\n",
      "Epoch 79/200\n",
      "7/7 [==============================] - ETA: 0s - loss: 6.0924e-05 - accuracy: 1.0000WARNING:tensorflow:Early stopping conditioned on metric `val_loss` which is not available. Available metrics are: loss,accuracy\n",
      "7/7 [==============================] - 10s 1s/step - loss: 6.0924e-05 - accuracy: 1.0000\n",
      "Epoch 80/200\n",
      "7/7 [==============================] - ETA: 0s - loss: 5.4707e-05 - accuracy: 1.0000WARNING:tensorflow:Early stopping conditioned on metric `val_loss` which is not available. Available metrics are: loss,accuracy\n",
      "7/7 [==============================] - 10s 1s/step - loss: 5.4707e-05 - accuracy: 1.0000\n",
      "Epoch 81/200\n",
      "7/7 [==============================] - ETA: 0s - loss: 5.0318e-05 - accuracy: 1.0000WARNING:tensorflow:Early stopping conditioned on metric `val_loss` which is not available. Available metrics are: loss,accuracy\n",
      "7/7 [==============================] - 10s 1s/step - loss: 5.0318e-05 - accuracy: 1.0000\n",
      "Epoch 82/200\n",
      "7/7 [==============================] - ETA: 0s - loss: 4.6759e-05 - accuracy: 1.0000WARNING:tensorflow:Early stopping conditioned on metric `val_loss` which is not available. Available metrics are: loss,accuracy\n",
      "7/7 [==============================] - 10s 1s/step - loss: 4.6759e-05 - accuracy: 1.0000\n",
      "Epoch 83/200\n",
      "7/7 [==============================] - ETA: 0s - loss: 4.3499e-05 - accuracy: 1.0000WARNING:tensorflow:Early stopping conditioned on metric `val_loss` which is not available. Available metrics are: loss,accuracy\n",
      "7/7 [==============================] - 10s 1s/step - loss: 4.3499e-05 - accuracy: 1.0000\n",
      "Epoch 84/200\n",
      "7/7 [==============================] - ETA: 0s - loss: 4.0343e-05 - accuracy: 1.0000WARNING:tensorflow:Early stopping conditioned on metric `val_loss` which is not available. Available metrics are: loss,accuracy\n",
      "7/7 [==============================] - 10s 1s/step - loss: 4.0343e-05 - accuracy: 1.0000\n",
      "Epoch 85/200\n",
      "7/7 [==============================] - ETA: 0s - loss: 3.8013e-05 - accuracy: 1.0000WARNING:tensorflow:Early stopping conditioned on metric `val_loss` which is not available. Available metrics are: loss,accuracy\n",
      "7/7 [==============================] - 10s 1s/step - loss: 3.8013e-05 - accuracy: 1.0000\n",
      "Epoch 86/200\n",
      "7/7 [==============================] - ETA: 0s - loss: 3.5446e-05 - accuracy: 1.0000WARNING:tensorflow:Early stopping conditioned on metric `val_loss` which is not available. Available metrics are: loss,accuracy\n",
      "7/7 [==============================] - 10s 1s/step - loss: 3.5446e-05 - accuracy: 1.0000\n",
      "Epoch 87/200\n",
      "7/7 [==============================] - ETA: 0s - loss: 3.4231e-05 - accuracy: 1.0000WARNING:tensorflow:Early stopping conditioned on metric `val_loss` which is not available. Available metrics are: loss,accuracy\n",
      "7/7 [==============================] - 10s 1s/step - loss: 3.4231e-05 - accuracy: 1.0000\n",
      "Epoch 88/200\n",
      "7/7 [==============================] - ETA: 0s - loss: 3.1661e-05 - accuracy: 1.0000WARNING:tensorflow:Early stopping conditioned on metric `val_loss` which is not available. Available metrics are: loss,accuracy\n",
      "7/7 [==============================] - 10s 1s/step - loss: 3.1661e-05 - accuracy: 1.0000\n",
      "Epoch 89/200\n",
      "7/7 [==============================] - ETA: 0s - loss: 2.9969e-05 - accuracy: 1.0000WARNING:tensorflow:Early stopping conditioned on metric `val_loss` which is not available. Available metrics are: loss,accuracy\n",
      "7/7 [==============================] - 10s 1s/step - loss: 2.9969e-05 - accuracy: 1.0000\n",
      "Epoch 90/200\n",
      "7/7 [==============================] - ETA: 0s - loss: 2.8413e-05 - accuracy: 1.0000WARNING:tensorflow:Early stopping conditioned on metric `val_loss` which is not available. Available metrics are: loss,accuracy\n",
      "7/7 [==============================] - 10s 1s/step - loss: 2.8413e-05 - accuracy: 1.0000\n",
      "Epoch 91/200\n",
      "7/7 [==============================] - ETA: 0s - loss: 2.7253e-05 - accuracy: 1.0000WARNING:tensorflow:Early stopping conditioned on metric `val_loss` which is not available. Available metrics are: loss,accuracy\n",
      "7/7 [==============================] - 10s 1s/step - loss: 2.7253e-05 - accuracy: 1.0000\n",
      "Epoch 92/200\n",
      "7/7 [==============================] - ETA: 0s - loss: 2.5966e-05 - accuracy: 1.0000WARNING:tensorflow:Early stopping conditioned on metric `val_loss` which is not available. Available metrics are: loss,accuracy\n",
      "7/7 [==============================] - 10s 1s/step - loss: 2.5966e-05 - accuracy: 1.0000\n",
      "Epoch 93/200\n",
      "7/7 [==============================] - ETA: 0s - loss: 2.4875e-05 - accuracy: 1.0000WARNING:tensorflow:Early stopping conditioned on metric `val_loss` which is not available. Available metrics are: loss,accuracy\n",
      "7/7 [==============================] - 10s 1s/step - loss: 2.4875e-05 - accuracy: 1.0000\n",
      "Epoch 94/200\n",
      "7/7 [==============================] - ETA: 0s - loss: 2.3429e-05 - accuracy: 1.0000WARNING:tensorflow:Early stopping conditioned on metric `val_loss` which is not available. Available metrics are: loss,accuracy\n",
      "7/7 [==============================] - 10s 1s/step - loss: 2.3429e-05 - accuracy: 1.0000\n",
      "Epoch 95/200\n",
      "7/7 [==============================] - ETA: 0s - loss: 2.2687e-05 - accuracy: 1.0000WARNING:tensorflow:Early stopping conditioned on metric `val_loss` which is not available. Available metrics are: loss,accuracy\n",
      "7/7 [==============================] - 10s 1s/step - loss: 2.2687e-05 - accuracy: 1.0000\n",
      "Epoch 96/200\n",
      "7/7 [==============================] - ETA: 0s - loss: 2.1613e-05 - accuracy: 1.0000WARNING:tensorflow:Early stopping conditioned on metric `val_loss` which is not available. Available metrics are: loss,accuracy\n",
      "7/7 [==============================] - 10s 1s/step - loss: 2.1613e-05 - accuracy: 1.0000\n",
      "Epoch 97/200\n",
      "7/7 [==============================] - ETA: 0s - loss: 2.1311e-05 - accuracy: 1.0000WARNING:tensorflow:Early stopping conditioned on metric `val_loss` which is not available. Available metrics are: loss,accuracy\n",
      "7/7 [==============================] - 10s 1s/step - loss: 2.1311e-05 - accuracy: 1.0000\n",
      "Epoch 98/200\n",
      "7/7 [==============================] - ETA: 0s - loss: 1.9811e-05 - accuracy: 1.0000WARNING:tensorflow:Early stopping conditioned on metric `val_loss` which is not available. Available metrics are: loss,accuracy\n",
      "7/7 [==============================] - 10s 1s/step - loss: 1.9811e-05 - accuracy: 1.0000\n",
      "Epoch 99/200\n",
      "7/7 [==============================] - ETA: 0s - loss: 1.9209e-05 - accuracy: 1.0000WARNING:tensorflow:Early stopping conditioned on metric `val_loss` which is not available. Available metrics are: loss,accuracy\n",
      "7/7 [==============================] - 10s 1s/step - loss: 1.9209e-05 - accuracy: 1.0000\n",
      "Epoch 100/200\n",
      "7/7 [==============================] - ETA: 0s - loss: 1.8279e-05 - accuracy: 1.0000WARNING:tensorflow:Early stopping conditioned on metric `val_loss` which is not available. Available metrics are: loss,accuracy\n",
      "7/7 [==============================] - 10s 1s/step - loss: 1.8279e-05 - accuracy: 1.0000\n",
      "Epoch 101/200\n",
      "7/7 [==============================] - ETA: 0s - loss: 1.7589e-05 - accuracy: 1.0000WARNING:tensorflow:Early stopping conditioned on metric `val_loss` which is not available. Available metrics are: loss,accuracy\n",
      "7/7 [==============================] - 10s 1s/step - loss: 1.7589e-05 - accuracy: 1.0000\n",
      "Epoch 102/200\n",
      "7/7 [==============================] - ETA: 0s - loss: 1.6931e-05 - accuracy: 1.0000WARNING:tensorflow:Early stopping conditioned on metric `val_loss` which is not available. Available metrics are: loss,accuracy\n",
      "7/7 [==============================] - 10s 1s/step - loss: 1.6931e-05 - accuracy: 1.0000\n",
      "Epoch 103/200\n",
      "7/7 [==============================] - ETA: 0s - loss: 1.6698e-05 - accuracy: 1.0000WARNING:tensorflow:Early stopping conditioned on metric `val_loss` which is not available. Available metrics are: loss,accuracy\n",
      "7/7 [==============================] - 10s 1s/step - loss: 1.6698e-05 - accuracy: 1.0000\n",
      "Epoch 104/200\n",
      "7/7 [==============================] - ETA: 0s - loss: 1.5818e-05 - accuracy: 1.0000WARNING:tensorflow:Early stopping conditioned on metric `val_loss` which is not available. Available metrics are: loss,accuracy\n",
      "7/7 [==============================] - 10s 1s/step - loss: 1.5818e-05 - accuracy: 1.0000\n",
      "Epoch 105/200\n",
      "7/7 [==============================] - ETA: 0s - loss: 1.5205e-05 - accuracy: 1.0000WARNING:tensorflow:Early stopping conditioned on metric `val_loss` which is not available. Available metrics are: loss,accuracy\n",
      "7/7 [==============================] - 10s 1s/step - loss: 1.5205e-05 - accuracy: 1.0000\n",
      "Epoch 106/200\n",
      "7/7 [==============================] - ETA: 0s - loss: 1.4726e-05 - accuracy: 1.0000WARNING:tensorflow:Early stopping conditioned on metric `val_loss` which is not available. Available metrics are: loss,accuracy\n",
      "7/7 [==============================] - 10s 1s/step - loss: 1.4726e-05 - accuracy: 1.0000\n",
      "Epoch 107/200\n",
      "7/7 [==============================] - ETA: 0s - loss: 1.4275e-05 - accuracy: 1.0000WARNING:tensorflow:Early stopping conditioned on metric `val_loss` which is not available. Available metrics are: loss,accuracy\n",
      "7/7 [==============================] - 10s 1s/step - loss: 1.4275e-05 - accuracy: 1.0000\n",
      "Epoch 108/200\n",
      "7/7 [==============================] - ETA: 0s - loss: 1.3818e-05 - accuracy: 1.0000WARNING:tensorflow:Early stopping conditioned on metric `val_loss` which is not available. Available metrics are: loss,accuracy\n",
      "7/7 [==============================] - 10s 1s/step - loss: 1.3818e-05 - accuracy: 1.0000\n",
      "Epoch 109/200\n",
      "7/7 [==============================] - ETA: 0s - loss: 1.3396e-05 - accuracy: 1.0000WARNING:tensorflow:Early stopping conditioned on metric `val_loss` which is not available. Available metrics are: loss,accuracy\n",
      "7/7 [==============================] - 10s 1s/step - loss: 1.3396e-05 - accuracy: 1.0000\n",
      "Epoch 110/200\n",
      "7/7 [==============================] - ETA: 0s - loss: 1.2946e-05 - accuracy: 1.0000WARNING:tensorflow:Early stopping conditioned on metric `val_loss` which is not available. Available metrics are: loss,accuracy\n",
      "7/7 [==============================] - 10s 1s/step - loss: 1.2946e-05 - accuracy: 1.0000\n",
      "Epoch 111/200\n",
      "7/7 [==============================] - ETA: 0s - loss: 1.2567e-05 - accuracy: 1.0000WARNING:tensorflow:Early stopping conditioned on metric `val_loss` which is not available. Available metrics are: loss,accuracy\n",
      "7/7 [==============================] - 10s 1s/step - loss: 1.2567e-05 - accuracy: 1.0000\n",
      "Epoch 112/200\n",
      "7/7 [==============================] - ETA: 0s - loss: 1.2206e-05 - accuracy: 1.0000WARNING:tensorflow:Early stopping conditioned on metric `val_loss` which is not available. Available metrics are: loss,accuracy\n",
      "7/7 [==============================] - 10s 1s/step - loss: 1.2206e-05 - accuracy: 1.0000\n",
      "Epoch 113/200\n",
      "7/7 [==============================] - ETA: 0s - loss: 1.1866e-05 - accuracy: 1.0000WARNING:tensorflow:Early stopping conditioned on metric `val_loss` which is not available. Available metrics are: loss,accuracy\n",
      "7/7 [==============================] - 10s 1s/step - loss: 1.1866e-05 - accuracy: 1.0000\n",
      "Epoch 114/200\n",
      "7/7 [==============================] - ETA: 0s - loss: 1.1539e-05 - accuracy: 1.0000WARNING:tensorflow:Early stopping conditioned on metric `val_loss` which is not available. Available metrics are: loss,accuracy\n",
      "7/7 [==============================] - 10s 1s/step - loss: 1.1539e-05 - accuracy: 1.0000\n",
      "Epoch 115/200\n",
      "7/7 [==============================] - ETA: 0s - loss: 1.1213e-05 - accuracy: 1.0000WARNING:tensorflow:Early stopping conditioned on metric `val_loss` which is not available. Available metrics are: loss,accuracy\n",
      "7/7 [==============================] - 10s 1s/step - loss: 1.1213e-05 - accuracy: 1.0000\n",
      "Epoch 116/200\n",
      "7/7 [==============================] - ETA: 0s - loss: 1.0929e-05 - accuracy: 1.0000WARNING:tensorflow:Early stopping conditioned on metric `val_loss` which is not available. Available metrics are: loss,accuracy\n",
      "7/7 [==============================] - 10s 1s/step - loss: 1.0929e-05 - accuracy: 1.0000\n",
      "Epoch 117/200\n",
      "7/7 [==============================] - ETA: 0s - loss: 1.0578e-05 - accuracy: 1.0000WARNING:tensorflow:Early stopping conditioned on metric `val_loss` which is not available. Available metrics are: loss,accuracy\n",
      "7/7 [==============================] - 10s 1s/step - loss: 1.0578e-05 - accuracy: 1.0000\n",
      "Epoch 118/200\n",
      "7/7 [==============================] - ETA: 0s - loss: 1.0377e-05 - accuracy: 1.0000WARNING:tensorflow:Early stopping conditioned on metric `val_loss` which is not available. Available metrics are: loss,accuracy\n",
      "7/7 [==============================] - 10s 1s/step - loss: 1.0377e-05 - accuracy: 1.0000\n",
      "Epoch 119/200\n",
      "7/7 [==============================] - ETA: 0s - loss: 1.0073e-05 - accuracy: 1.0000WARNING:tensorflow:Early stopping conditioned on metric `val_loss` which is not available. Available metrics are: loss,accuracy\n",
      "7/7 [==============================] - 10s 1s/step - loss: 1.0073e-05 - accuracy: 1.0000\n",
      "Epoch 120/200\n",
      "7/7 [==============================] - ETA: 0s - loss: 9.8172e-06 - accuracy: 1.0000WARNING:tensorflow:Early stopping conditioned on metric `val_loss` which is not available. Available metrics are: loss,accuracy\n",
      "7/7 [==============================] - 10s 1s/step - loss: 9.8172e-06 - accuracy: 1.0000\n",
      "Epoch 121/200\n",
      "7/7 [==============================] - ETA: 0s - loss: 9.5687e-06 - accuracy: 1.0000WARNING:tensorflow:Early stopping conditioned on metric `val_loss` which is not available. Available metrics are: loss,accuracy\n",
      "7/7 [==============================] - 10s 1s/step - loss: 9.5687e-06 - accuracy: 1.0000\n",
      "Epoch 122/200\n",
      "7/7 [==============================] - ETA: 0s - loss: 9.3071e-06 - accuracy: 1.0000WARNING:tensorflow:Early stopping conditioned on metric `val_loss` which is not available. Available metrics are: loss,accuracy\n",
      "7/7 [==============================] - 10s 1s/step - loss: 9.3071e-06 - accuracy: 1.0000\n",
      "Epoch 123/200\n",
      "7/7 [==============================] - ETA: 0s - loss: 9.0969e-06 - accuracy: 1.0000WARNING:tensorflow:Early stopping conditioned on metric `val_loss` which is not available. Available metrics are: loss,accuracy\n",
      "7/7 [==============================] - 10s 1s/step - loss: 9.0969e-06 - accuracy: 1.0000\n",
      "Epoch 124/200\n",
      "7/7 [==============================] - ETA: 0s - loss: 8.8917e-06 - accuracy: 1.0000WARNING:tensorflow:Early stopping conditioned on metric `val_loss` which is not available. Available metrics are: loss,accuracy\n",
      "7/7 [==============================] - 10s 1s/step - loss: 8.8917e-06 - accuracy: 1.0000\n",
      "Epoch 125/200\n",
      "7/7 [==============================] - ETA: 0s - loss: 8.6822e-06 - accuracy: 1.0000WARNING:tensorflow:Early stopping conditioned on metric `val_loss` which is not available. Available metrics are: loss,accuracy\n",
      "7/7 [==============================] - 10s 1s/step - loss: 8.6822e-06 - accuracy: 1.0000\n",
      "Epoch 126/200\n",
      "7/7 [==============================] - ETA: 0s - loss: 8.4742e-06 - accuracy: 1.0000WARNING:tensorflow:Early stopping conditioned on metric `val_loss` which is not available. Available metrics are: loss,accuracy\n",
      "7/7 [==============================] - 10s 1s/step - loss: 8.4742e-06 - accuracy: 1.0000\n",
      "Epoch 127/200\n",
      "7/7 [==============================] - ETA: 0s - loss: 8.2809e-06 - accuracy: 1.0000WARNING:tensorflow:Early stopping conditioned on metric `val_loss` which is not available. Available metrics are: loss,accuracy\n",
      "7/7 [==============================] - 10s 1s/step - loss: 8.2809e-06 - accuracy: 1.0000\n",
      "Epoch 128/200\n",
      "7/7 [==============================] - ETA: 0s - loss: 8.0753e-06 - accuracy: 1.0000WARNING:tensorflow:Early stopping conditioned on metric `val_loss` which is not available. Available metrics are: loss,accuracy\n",
      "7/7 [==============================] - 10s 1s/step - loss: 8.0753e-06 - accuracy: 1.0000\n",
      "Epoch 129/200\n",
      "7/7 [==============================] - ETA: 0s - loss: 7.9190e-06 - accuracy: 1.0000WARNING:tensorflow:Early stopping conditioned on metric `val_loss` which is not available. Available metrics are: loss,accuracy\n",
      "7/7 [==============================] - 10s 1s/step - loss: 7.9190e-06 - accuracy: 1.0000\n",
      "Epoch 130/200\n",
      "7/7 [==============================] - ETA: 0s - loss: 7.7951e-06 - accuracy: 1.0000WARNING:tensorflow:Early stopping conditioned on metric `val_loss` which is not available. Available metrics are: loss,accuracy\n",
      "7/7 [==============================] - 10s 1s/step - loss: 7.7951e-06 - accuracy: 1.0000\n",
      "Epoch 131/200\n",
      "7/7 [==============================] - ETA: 0s - loss: 7.5868e-06 - accuracy: 1.0000WARNING:tensorflow:Early stopping conditioned on metric `val_loss` which is not available. Available metrics are: loss,accuracy\n",
      "7/7 [==============================] - 10s 1s/step - loss: 7.5868e-06 - accuracy: 1.0000\n",
      "Epoch 132/200\n",
      "7/7 [==============================] - ETA: 0s - loss: 7.4178e-06 - accuracy: 1.0000WARNING:tensorflow:Early stopping conditioned on metric `val_loss` which is not available. Available metrics are: loss,accuracy\n",
      "7/7 [==============================] - 10s 1s/step - loss: 7.4178e-06 - accuracy: 1.0000\n",
      "Epoch 133/200\n",
      "7/7 [==============================] - ETA: 0s - loss: 7.2723e-06 - accuracy: 1.0000WARNING:tensorflow:Early stopping conditioned on metric `val_loss` which is not available. Available metrics are: loss,accuracy\n",
      "7/7 [==============================] - 10s 1s/step - loss: 7.2723e-06 - accuracy: 1.0000\n",
      "Epoch 134/200\n",
      "7/7 [==============================] - ETA: 0s - loss: 7.1301e-06 - accuracy: 1.0000WARNING:tensorflow:Early stopping conditioned on metric `val_loss` which is not available. Available metrics are: loss,accuracy\n",
      "7/7 [==============================] - 10s 1s/step - loss: 7.1301e-06 - accuracy: 1.0000\n",
      "Epoch 135/200\n",
      "7/7 [==============================] - ETA: 0s - loss: 6.9821e-06 - accuracy: 1.0000WARNING:tensorflow:Early stopping conditioned on metric `val_loss` which is not available. Available metrics are: loss,accuracy\n",
      "7/7 [==============================] - 10s 1s/step - loss: 6.9821e-06 - accuracy: 1.0000\n",
      "Epoch 136/200\n",
      "7/7 [==============================] - ETA: 0s - loss: 6.8232e-06 - accuracy: 1.0000WARNING:tensorflow:Early stopping conditioned on metric `val_loss` which is not available. Available metrics are: loss,accuracy\n",
      "7/7 [==============================] - 10s 1s/step - loss: 6.8232e-06 - accuracy: 1.0000\n",
      "Epoch 137/200\n",
      "7/7 [==============================] - ETA: 0s - loss: 6.6815e-06 - accuracy: 1.0000WARNING:tensorflow:Early stopping conditioned on metric `val_loss` which is not available. Available metrics are: loss,accuracy\n",
      "7/7 [==============================] - 10s 1s/step - loss: 6.6815e-06 - accuracy: 1.0000\n",
      "Epoch 138/200\n",
      "7/7 [==============================] - ETA: 0s - loss: 6.5641e-06 - accuracy: 1.0000WARNING:tensorflow:Early stopping conditioned on metric `val_loss` which is not available. Available metrics are: loss,accuracy\n",
      "7/7 [==============================] - 10s 1s/step - loss: 6.5641e-06 - accuracy: 1.0000\n",
      "Epoch 139/200\n",
      "7/7 [==============================] - ETA: 0s - loss: 6.4237e-06 - accuracy: 1.0000WARNING:tensorflow:Early stopping conditioned on metric `val_loss` which is not available. Available metrics are: loss,accuracy\n",
      "7/7 [==============================] - 10s 1s/step - loss: 6.4237e-06 - accuracy: 1.0000\n",
      "Epoch 140/200\n",
      "7/7 [==============================] - ETA: 0s - loss: 6.3110e-06 - accuracy: 1.0000WARNING:tensorflow:Early stopping conditioned on metric `val_loss` which is not available. Available metrics are: loss,accuracy\n",
      "7/7 [==============================] - 10s 1s/step - loss: 6.3110e-06 - accuracy: 1.0000\n",
      "Epoch 141/200\n",
      "7/7 [==============================] - ETA: 0s - loss: 6.1874e-06 - accuracy: 1.0000WARNING:tensorflow:Early stopping conditioned on metric `val_loss` which is not available. Available metrics are: loss,accuracy\n",
      "7/7 [==============================] - 10s 1s/step - loss: 6.1874e-06 - accuracy: 1.0000\n",
      "Epoch 142/200\n",
      "7/7 [==============================] - ETA: 0s - loss: 6.0894e-06 - accuracy: 1.0000WARNING:tensorflow:Early stopping conditioned on metric `val_loss` which is not available. Available metrics are: loss,accuracy\n",
      "7/7 [==============================] - 10s 1s/step - loss: 6.0894e-06 - accuracy: 1.0000\n",
      "Epoch 143/200\n",
      "7/7 [==============================] - ETA: 0s - loss: 5.9470e-06 - accuracy: 1.0000WARNING:tensorflow:Early stopping conditioned on metric `val_loss` which is not available. Available metrics are: loss,accuracy\n",
      "7/7 [==============================] - 10s 1s/step - loss: 5.9470e-06 - accuracy: 1.0000\n",
      "Epoch 144/200\n",
      "7/7 [==============================] - ETA: 0s - loss: 5.8490e-06 - accuracy: 1.0000WARNING:tensorflow:Early stopping conditioned on metric `val_loss` which is not available. Available metrics are: loss,accuracy\n",
      "7/7 [==============================] - 10s 1s/step - loss: 5.8490e-06 - accuracy: 1.0000\n",
      "Epoch 145/200\n",
      "7/7 [==============================] - ETA: 0s - loss: 5.7379e-06 - accuracy: 1.0000WARNING:tensorflow:Early stopping conditioned on metric `val_loss` which is not available. Available metrics are: loss,accuracy\n",
      "7/7 [==============================] - 10s 1s/step - loss: 5.7379e-06 - accuracy: 1.0000\n",
      "Epoch 146/200\n",
      "7/7 [==============================] - ETA: 0s - loss: 5.6301e-06 - accuracy: 1.0000WARNING:tensorflow:Early stopping conditioned on metric `val_loss` which is not available. Available metrics are: loss,accuracy\n",
      "7/7 [==============================] - 10s 1s/step - loss: 5.6301e-06 - accuracy: 1.0000\n",
      "Epoch 147/200\n",
      "7/7 [==============================] - ETA: 0s - loss: 5.5351e-06 - accuracy: 1.0000WARNING:tensorflow:Early stopping conditioned on metric `val_loss` which is not available. Available metrics are: loss,accuracy\n",
      "7/7 [==============================] - 10s 1s/step - loss: 5.5351e-06 - accuracy: 1.0000\n",
      "Epoch 148/200\n",
      "7/7 [==============================] - ETA: 0s - loss: 5.4240e-06 - accuracy: 1.0000WARNING:tensorflow:Early stopping conditioned on metric `val_loss` which is not available. Available metrics are: loss,accuracy\n",
      "7/7 [==============================] - 10s 1s/step - loss: 5.4240e-06 - accuracy: 1.0000\n",
      "Epoch 149/200\n",
      "7/7 [==============================] - ETA: 0s - loss: 5.3408e-06 - accuracy: 1.0000WARNING:tensorflow:Early stopping conditioned on metric `val_loss` which is not available. Available metrics are: loss,accuracy\n",
      "7/7 [==============================] - 10s 1s/step - loss: 5.3408e-06 - accuracy: 1.0000\n",
      "Epoch 150/200\n",
      "7/7 [==============================] - ETA: 0s - loss: 5.2451e-06 - accuracy: 1.0000WARNING:tensorflow:Early stopping conditioned on metric `val_loss` which is not available. Available metrics are: loss,accuracy\n",
      "7/7 [==============================] - 10s 1s/step - loss: 5.2451e-06 - accuracy: 1.0000\n",
      "Epoch 151/200\n",
      "7/7 [==============================] - ETA: 0s - loss: 5.1541e-06 - accuracy: 1.0000WARNING:tensorflow:Early stopping conditioned on metric `val_loss` which is not available. Available metrics are: loss,accuracy\n",
      "7/7 [==============================] - 10s 1s/step - loss: 5.1541e-06 - accuracy: 1.0000\n",
      "Epoch 152/200\n",
      "7/7 [==============================] - ETA: 0s - loss: 5.0650e-06 - accuracy: 1.0000WARNING:tensorflow:Early stopping conditioned on metric `val_loss` which is not available. Available metrics are: loss,accuracy\n",
      "7/7 [==============================] - 10s 1s/step - loss: 5.0650e-06 - accuracy: 1.0000\n",
      "Epoch 153/200\n",
      "7/7 [==============================] - ETA: 0s - loss: 4.9849e-06 - accuracy: 1.0000WARNING:tensorflow:Early stopping conditioned on metric `val_loss` which is not available. Available metrics are: loss,accuracy\n",
      "7/7 [==============================] - 10s 1s/step - loss: 4.9849e-06 - accuracy: 1.0000\n",
      "Epoch 154/200\n",
      "7/7 [==============================] - ETA: 0s - loss: 4.8887e-06 - accuracy: 1.0000WARNING:tensorflow:Early stopping conditioned on metric `val_loss` which is not available. Available metrics are: loss,accuracy\n",
      "7/7 [==============================] - 10s 1s/step - loss: 4.8887e-06 - accuracy: 1.0000\n",
      "Epoch 155/200\n",
      "7/7 [==============================] - ETA: 0s - loss: 4.8186e-06 - accuracy: 1.0000WARNING:tensorflow:Early stopping conditioned on metric `val_loss` which is not available. Available metrics are: loss,accuracy\n",
      "7/7 [==============================] - 10s 1s/step - loss: 4.8186e-06 - accuracy: 1.0000\n",
      "Epoch 156/200\n",
      "7/7 [==============================] - ETA: 0s - loss: 4.7378e-06 - accuracy: 1.0000WARNING:tensorflow:Early stopping conditioned on metric `val_loss` which is not available. Available metrics are: loss,accuracy\n",
      "7/7 [==============================] - 10s 1s/step - loss: 4.7378e-06 - accuracy: 1.0000\n",
      "Epoch 157/200\n",
      "7/7 [==============================] - ETA: 0s - loss: 4.6585e-06 - accuracy: 1.0000WARNING:tensorflow:Early stopping conditioned on metric `val_loss` which is not available. Available metrics are: loss,accuracy\n",
      "7/7 [==============================] - 10s 1s/step - loss: 4.6585e-06 - accuracy: 1.0000\n",
      "Epoch 158/200\n",
      "7/7 [==============================] - ETA: 0s - loss: 4.5905e-06 - accuracy: 1.0000WARNING:tensorflow:Early stopping conditioned on metric `val_loss` which is not available. Available metrics are: loss,accuracy\n",
      "7/7 [==============================] - 10s 1s/step - loss: 4.5905e-06 - accuracy: 1.0000\n",
      "Epoch 159/200\n",
      "7/7 [==============================] - ETA: 0s - loss: 4.5274e-06 - accuracy: 1.0000WARNING:tensorflow:Early stopping conditioned on metric `val_loss` which is not available. Available metrics are: loss,accuracy\n",
      "7/7 [==============================] - 10s 1s/step - loss: 4.5274e-06 - accuracy: 1.0000\n",
      "Epoch 160/200\n",
      "7/7 [==============================] - ETA: 0s - loss: 4.4381e-06 - accuracy: 1.0000WARNING:tensorflow:Early stopping conditioned on metric `val_loss` which is not available. Available metrics are: loss,accuracy\n",
      "7/7 [==============================] - 10s 1s/step - loss: 4.4381e-06 - accuracy: 1.0000\n",
      "Epoch 161/200\n",
      "7/7 [==============================] - ETA: 0s - loss: 4.3674e-06 - accuracy: 1.0000WARNING:tensorflow:Early stopping conditioned on metric `val_loss` which is not available. Available metrics are: loss,accuracy\n",
      "7/7 [==============================] - 10s 1s/step - loss: 4.3674e-06 - accuracy: 1.0000\n",
      "Epoch 162/200\n",
      "7/7 [==============================] - ETA: 0s - loss: 4.2915e-06 - accuracy: 1.0000WARNING:tensorflow:Early stopping conditioned on metric `val_loss` which is not available. Available metrics are: loss,accuracy\n",
      "7/7 [==============================] - 10s 1s/step - loss: 4.2915e-06 - accuracy: 1.0000\n",
      "Epoch 163/200\n",
      "7/7 [==============================] - ETA: 0s - loss: 4.2254e-06 - accuracy: 1.0000WARNING:tensorflow:Early stopping conditioned on metric `val_loss` which is not available. Available metrics are: loss,accuracy\n",
      "7/7 [==============================] - 10s 1s/step - loss: 4.2254e-06 - accuracy: 1.0000\n",
      "Epoch 164/200\n",
      "7/7 [==============================] - ETA: 0s - loss: 4.1556e-06 - accuracy: 1.0000WARNING:tensorflow:Early stopping conditioned on metric `val_loss` which is not available. Available metrics are: loss,accuracy\n",
      "7/7 [==============================] - 10s 1s/step - loss: 4.1556e-06 - accuracy: 1.0000\n",
      "Epoch 165/200\n",
      "7/7 [==============================] - ETA: 0s - loss: 4.0903e-06 - accuracy: 1.0000WARNING:tensorflow:Early stopping conditioned on metric `val_loss` which is not available. Available metrics are: loss,accuracy\n",
      "7/7 [==============================] - 10s 1s/step - loss: 4.0903e-06 - accuracy: 1.0000\n",
      "Epoch 166/200\n",
      "7/7 [==============================] - ETA: 0s - loss: 4.0372e-06 - accuracy: 1.0000WARNING:tensorflow:Early stopping conditioned on metric `val_loss` which is not available. Available metrics are: loss,accuracy\n",
      "7/7 [==============================] - 10s 1s/step - loss: 4.0372e-06 - accuracy: 1.0000\n",
      "Epoch 167/200\n",
      "7/7 [==============================] - ETA: 0s - loss: 3.9747e-06 - accuracy: 1.0000WARNING:tensorflow:Early stopping conditioned on metric `val_loss` which is not available. Available metrics are: loss,accuracy\n",
      "7/7 [==============================] - 10s 1s/step - loss: 3.9747e-06 - accuracy: 1.0000\n",
      "Epoch 168/200\n",
      "7/7 [==============================] - ETA: 0s - loss: 3.9055e-06 - accuracy: 1.0000WARNING:tensorflow:Early stopping conditioned on metric `val_loss` which is not available. Available metrics are: loss,accuracy\n",
      "7/7 [==============================] - 10s 1s/step - loss: 3.9055e-06 - accuracy: 1.0000\n",
      "Epoch 169/200\n",
      "7/7 [==============================] - ETA: 0s - loss: 3.8527e-06 - accuracy: 1.0000WARNING:tensorflow:Early stopping conditioned on metric `val_loss` which is not available. Available metrics are: loss,accuracy\n",
      "7/7 [==============================] - 10s 1s/step - loss: 3.8527e-06 - accuracy: 1.0000\n",
      "Epoch 170/200\n",
      "7/7 [==============================] - ETA: 0s - loss: 3.7907e-06 - accuracy: 1.0000WARNING:tensorflow:Early stopping conditioned on metric `val_loss` which is not available. Available metrics are: loss,accuracy\n",
      "7/7 [==============================] - 10s 1s/step - loss: 3.7907e-06 - accuracy: 1.0000\n",
      "Epoch 171/200\n",
      "7/7 [==============================] - ETA: 0s - loss: 3.7375e-06 - accuracy: 1.0000WARNING:tensorflow:Early stopping conditioned on metric `val_loss` which is not available. Available metrics are: loss,accuracy\n",
      "7/7 [==============================] - 10s 1s/step - loss: 3.7375e-06 - accuracy: 1.0000\n",
      "Epoch 172/200\n",
      "7/7 [==============================] - ETA: 0s - loss: 3.6806e-06 - accuracy: 1.0000WARNING:tensorflow:Early stopping conditioned on metric `val_loss` which is not available. Available metrics are: loss,accuracy\n",
      "7/7 [==============================] - 10s 1s/step - loss: 3.6806e-06 - accuracy: 1.0000\n",
      "Epoch 173/200\n",
      "7/7 [==============================] - ETA: 0s - loss: 3.6190e-06 - accuracy: 1.0000WARNING:tensorflow:Early stopping conditioned on metric `val_loss` which is not available. Available metrics are: loss,accuracy\n",
      "7/7 [==============================] - 10s 1s/step - loss: 3.6190e-06 - accuracy: 1.0000\n",
      "Epoch 174/200\n",
      "7/7 [==============================] - ETA: 0s - loss: 3.5748e-06 - accuracy: 1.0000WARNING:tensorflow:Early stopping conditioned on metric `val_loss` which is not available. Available metrics are: loss,accuracy\n",
      "7/7 [==============================] - 10s 1s/step - loss: 3.5748e-06 - accuracy: 1.0000\n",
      "Epoch 175/200\n",
      "7/7 [==============================] - ETA: 0s - loss: 3.5275e-06 - accuracy: 1.0000WARNING:tensorflow:Early stopping conditioned on metric `val_loss` which is not available. Available metrics are: loss,accuracy\n",
      "7/7 [==============================] - 10s 1s/step - loss: 3.5275e-06 - accuracy: 1.0000\n",
      "Epoch 176/200\n",
      "7/7 [==============================] - ETA: 0s - loss: 3.4628e-06 - accuracy: 1.0000WARNING:tensorflow:Early stopping conditioned on metric `val_loss` which is not available. Available metrics are: loss,accuracy\n",
      "7/7 [==============================] - 10s 1s/step - loss: 3.4628e-06 - accuracy: 1.0000\n",
      "Epoch 177/200\n",
      "7/7 [==============================] - ETA: 0s - loss: 3.4085e-06 - accuracy: 1.0000WARNING:tensorflow:Early stopping conditioned on metric `val_loss` which is not available. Available metrics are: loss,accuracy\n",
      "7/7 [==============================] - 10s 1s/step - loss: 3.4085e-06 - accuracy: 1.0000\n",
      "Epoch 178/200\n",
      "7/7 [==============================] - ETA: 0s - loss: 3.3622e-06 - accuracy: 1.0000WARNING:tensorflow:Early stopping conditioned on metric `val_loss` which is not available. Available metrics are: loss,accuracy\n",
      "7/7 [==============================] - 10s 1s/step - loss: 3.3622e-06 - accuracy: 1.0000\n",
      "Epoch 179/200\n",
      "7/7 [==============================] - ETA: 0s - loss: 3.3130e-06 - accuracy: 1.0000WARNING:tensorflow:Early stopping conditioned on metric `val_loss` which is not available. Available metrics are: loss,accuracy\n",
      "7/7 [==============================] - 10s 1s/step - loss: 3.3130e-06 - accuracy: 1.0000\n",
      "Epoch 180/200\n",
      "7/7 [==============================] - ETA: 0s - loss: 3.2580e-06 - accuracy: 1.0000WARNING:tensorflow:Early stopping conditioned on metric `val_loss` which is not available. Available metrics are: loss,accuracy\n",
      "7/7 [==============================] - 10s 1s/step - loss: 3.2580e-06 - accuracy: 1.0000\n",
      "Epoch 181/200\n",
      "7/7 [==============================] - ETA: 0s - loss: 3.2101e-06 - accuracy: 1.0000WARNING:tensorflow:Early stopping conditioned on metric `val_loss` which is not available. Available metrics are: loss,accuracy\n",
      "7/7 [==============================] - 10s 1s/step - loss: 3.2101e-06 - accuracy: 1.0000\n",
      "Epoch 182/200\n",
      "7/7 [==============================] - ETA: 0s - loss: 3.1757e-06 - accuracy: 1.0000WARNING:tensorflow:Early stopping conditioned on metric `val_loss` which is not available. Available metrics are: loss,accuracy\n",
      "7/7 [==============================] - 10s 1s/step - loss: 3.1757e-06 - accuracy: 1.0000\n",
      "Epoch 183/200\n",
      "7/7 [==============================] - ETA: 0s - loss: 3.1170e-06 - accuracy: 1.0000WARNING:tensorflow:Early stopping conditioned on metric `val_loss` which is not available. Available metrics are: loss,accuracy\n",
      "7/7 [==============================] - 10s 1s/step - loss: 3.1170e-06 - accuracy: 1.0000\n",
      "Epoch 184/200\n",
      "7/7 [==============================] - ETA: 0s - loss: 3.0713e-06 - accuracy: 1.0000WARNING:tensorflow:Early stopping conditioned on metric `val_loss` which is not available. Available metrics are: loss,accuracy\n",
      "7/7 [==============================] - 10s 1s/step - loss: 3.0713e-06 - accuracy: 1.0000\n",
      "Epoch 185/200\n",
      "7/7 [==============================] - ETA: 0s - loss: 3.0319e-06 - accuracy: 1.0000WARNING:tensorflow:Early stopping conditioned on metric `val_loss` which is not available. Available metrics are: loss,accuracy\n",
      "7/7 [==============================] - 10s 1s/step - loss: 3.0319e-06 - accuracy: 1.0000\n",
      "Epoch 186/200\n",
      "7/7 [==============================] - ETA: 0s - loss: 2.9924e-06 - accuracy: 1.0000WARNING:tensorflow:Early stopping conditioned on metric `val_loss` which is not available. Available metrics are: loss,accuracy\n",
      "7/7 [==============================] - 10s 1s/step - loss: 2.9924e-06 - accuracy: 1.0000\n",
      "Epoch 187/200\n",
      "7/7 [==============================] - ETA: 0s - loss: 2.9368e-06 - accuracy: 1.0000WARNING:tensorflow:Early stopping conditioned on metric `val_loss` which is not available. Available metrics are: loss,accuracy\n",
      "7/7 [==============================] - 10s 1s/step - loss: 2.9368e-06 - accuracy: 1.0000\n",
      "Epoch 188/200\n",
      "7/7 [==============================] - ETA: 0s - loss: 2.9021e-06 - accuracy: 1.0000WARNING:tensorflow:Early stopping conditioned on metric `val_loss` which is not available. Available metrics are: loss,accuracy\n",
      "7/7 [==============================] - 10s 1s/step - loss: 2.9021e-06 - accuracy: 1.0000\n",
      "Epoch 189/200\n",
      "7/7 [==============================] - ETA: 0s - loss: 2.8570e-06 - accuracy: 1.0000WARNING:tensorflow:Early stopping conditioned on metric `val_loss` which is not available. Available metrics are: loss,accuracy\n",
      "7/7 [==============================] - 10s 1s/step - loss: 2.8570e-06 - accuracy: 1.0000\n",
      "Epoch 190/200\n",
      "7/7 [==============================] - ETA: 0s - loss: 2.8129e-06 - accuracy: 1.0000WARNING:tensorflow:Early stopping conditioned on metric `val_loss` which is not available. Available metrics are: loss,accuracy\n",
      "7/7 [==============================] - 10s 1s/step - loss: 2.8129e-06 - accuracy: 1.0000\n",
      "Epoch 191/200\n",
      "7/7 [==============================] - ETA: 0s - loss: 2.7834e-06 - accuracy: 1.0000WARNING:tensorflow:Early stopping conditioned on metric `val_loss` which is not available. Available metrics are: loss,accuracy\n",
      "7/7 [==============================] - 10s 1s/step - loss: 2.7834e-06 - accuracy: 1.0000\n",
      "Epoch 192/200\n",
      "7/7 [==============================] - ETA: 0s - loss: 2.7349e-06 - accuracy: 1.0000WARNING:tensorflow:Early stopping conditioned on metric `val_loss` which is not available. Available metrics are: loss,accuracy\n",
      "7/7 [==============================] - 10s 1s/step - loss: 2.7349e-06 - accuracy: 1.0000\n",
      "Epoch 193/200\n",
      "7/7 [==============================] - ETA: 0s - loss: 2.6942e-06 - accuracy: 1.0000WARNING:tensorflow:Early stopping conditioned on metric `val_loss` which is not available. Available metrics are: loss,accuracy\n",
      "7/7 [==============================] - 10s 1s/step - loss: 2.6942e-06 - accuracy: 1.0000\n",
      "Epoch 194/200\n",
      "7/7 [==============================] - ETA: 0s - loss: 2.6583e-06 - accuracy: 1.0000WARNING:tensorflow:Early stopping conditioned on metric `val_loss` which is not available. Available metrics are: loss,accuracy\n",
      "7/7 [==============================] - 10s 1s/step - loss: 2.6583e-06 - accuracy: 1.0000\n",
      "Epoch 195/200\n",
      "7/7 [==============================] - ETA: 0s - loss: 2.6211e-06 - accuracy: 1.0000WARNING:tensorflow:Early stopping conditioned on metric `val_loss` which is not available. Available metrics are: loss,accuracy\n",
      "7/7 [==============================] - 10s 1s/step - loss: 2.6211e-06 - accuracy: 1.0000\n",
      "Epoch 196/200\n",
      "7/7 [==============================] - ETA: 0s - loss: 2.5855e-06 - accuracy: 1.0000WARNING:tensorflow:Early stopping conditioned on metric `val_loss` which is not available. Available metrics are: loss,accuracy\n",
      "7/7 [==============================] - 10s 1s/step - loss: 2.5855e-06 - accuracy: 1.0000\n",
      "Epoch 197/200\n",
      "7/7 [==============================] - ETA: 0s - loss: 2.5443e-06 - accuracy: 1.0000WARNING:tensorflow:Early stopping conditioned on metric `val_loss` which is not available. Available metrics are: loss,accuracy\n",
      "7/7 [==============================] - 10s 1s/step - loss: 2.5443e-06 - accuracy: 1.0000\n",
      "Epoch 198/200\n",
      "7/7 [==============================] - ETA: 0s - loss: 2.5115e-06 - accuracy: 1.0000WARNING:tensorflow:Early stopping conditioned on metric `val_loss` which is not available. Available metrics are: loss,accuracy\n",
      "7/7 [==============================] - 10s 1s/step - loss: 2.5115e-06 - accuracy: 1.0000\n",
      "Epoch 199/200\n",
      "7/7 [==============================] - ETA: 0s - loss: 2.4751e-06 - accuracy: 1.0000WARNING:tensorflow:Early stopping conditioned on metric `val_loss` which is not available. Available metrics are: loss,accuracy\n",
      "7/7 [==============================] - 10s 1s/step - loss: 2.4751e-06 - accuracy: 1.0000\n",
      "Epoch 200/200\n",
      "7/7 [==============================] - ETA: 0s - loss: 2.4348e-06 - accuracy: 1.0000WARNING:tensorflow:Early stopping conditioned on metric `val_loss` which is not available. Available metrics are: loss,accuracy\n",
      "7/7 [==============================] - 10s 1s/step - loss: 2.4348e-06 - accuracy: 1.0000\n"
     ]
    }
   ],
   "source": [
    "historico = network1.fit(X_train, y_train, epochs=200, callbacks=callbacks_list) # Treina a rede neural"
   ]
  },
  {
   "attachments": {},
   "cell_type": "markdown",
   "metadata": {},
   "source": [
    "- Avaliação da rede neural"
   ]
  },
  {
   "cell_type": "code",
   "execution_count": 19,
   "metadata": {},
   "outputs": [
    {
     "data": {
      "text/plain": [
       "dict_keys(['loss', 'accuracy'])"
      ]
     },
     "execution_count": 19,
     "metadata": {},
     "output_type": "execute_result"
    }
   ],
   "source": [
    "historico.history.keys()"
   ]
  },
  {
   "attachments": {},
   "cell_type": "markdown",
   "metadata": {},
   "source": [
    "- Plot dos valores de erro"
   ]
  },
  {
   "cell_type": "code",
   "execution_count": 20,
   "metadata": {},
   "outputs": [
    {
     "data": {
      "image/png": "[encoded data removed]",
      "text/plain": [
       "<Figure size 640x480 with 1 Axes>"
      ]
     },
     "metadata": {},
     "output_type": "display_data"
    }
   ],
   "source": [
    "plt.plot(historico.history['loss']);"
   ]
  },
  {
   "attachments": {},
   "cell_type": "markdown",
   "metadata": {},
   "source": [
    "- Plot da acurácia que é a porcentagem de acerto"
   ]
  },
  {
   "cell_type": "code",
   "execution_count": 21,
   "metadata": {},
   "outputs": [
    {
     "data": {
      "image/png": "[encoded data removed]",
      "text/plain": [
       "<Figure size 640x480 with 1 Axes>"
      ]
     },
     "metadata": {},
     "output_type": "display_data"
    }
   ],
   "source": [
    "plt.plot(historico.history['accuracy']);"
   ]
  },
  {
   "attachments": {},
   "cell_type": "markdown",
   "metadata": {},
   "source": [
    "- o predict faz a previsão da imagem de teste"
   ]
  },
  {
   "cell_type": "code",
   "execution_count": 23,
   "metadata": {},
   "outputs": [
    {
     "name": "stdout",
     "output_type": "stream",
     "text": [
      "2/2 [==============================] - 0s 42ms/step\n"
     ]
    },
    {
     "data": {
      "text/plain": [
       "array([[9.9999976e-01],\n",
       "       [1.4279073e-09],\n",
       "       [9.9999928e-01],\n",
       "       [9.9397045e-01],\n",
       "       [1.0557031e-01],\n",
       "       [9.9991465e-01],\n",
       "       [5.5131487e-08],\n",
       "       [8.0646895e-04],\n",
       "       [7.0307553e-01],\n",
       "       [2.3060059e-04],\n",
       "       [9.9986690e-01],\n",
       "       [2.4298402e-14],\n",
       "       [1.0172719e-01],\n",
       "       [1.6316921e-02],\n",
       "       [9.9731934e-01],\n",
       "       [9.9980009e-01],\n",
       "       [9.6680522e-01],\n",
       "       [6.9414084e-03],\n",
       "       [9.9937195e-01],\n",
       "       [9.9999982e-01],\n",
       "       [9.9999928e-01],\n",
       "       [1.0695140e-02],\n",
       "       [9.9999559e-01],\n",
       "       [9.9896413e-01],\n",
       "       [9.9990660e-01],\n",
       "       [1.4471963e-02],\n",
       "       [9.9999237e-01],\n",
       "       [9.9999881e-01],\n",
       "       [9.9738717e-01],\n",
       "       [1.8632061e-04],\n",
       "       [9.1207504e-01],\n",
       "       [2.1416231e-08],\n",
       "       [9.6538542e-03],\n",
       "       [1.0000000e+00],\n",
       "       [1.0184639e-11],\n",
       "       [9.9998397e-01],\n",
       "       [3.8167390e-01],\n",
       "       [9.9999827e-01],\n",
       "       [9.9296612e-01],\n",
       "       [9.9999982e-01],\n",
       "       [8.7470878e-05],\n",
       "       [2.3049332e-04],\n",
       "       [9.9460340e-01],\n",
       "       [9.9998856e-01],\n",
       "       [9.9979544e-01],\n",
       "       [9.2776608e-01],\n",
       "       [2.5466719e-05],\n",
       "       [9.9998569e-01],\n",
       "       [9.9718082e-01],\n",
       "       [5.3351511e-07],\n",
       "       [1.0000000e+00],\n",
       "       [3.1643738e-03],\n",
       "       [9.9636323e-04],\n",
       "       [7.5111485e-01]], dtype=float32)"
      ]
     },
     "execution_count": 23,
     "metadata": {},
     "output_type": "execute_result"
    }
   ],
   "source": [
    "previsao = network1.predict(X_test)\n",
    "previsao"
   ]
  },
  {
   "attachments": {},
   "cell_type": "markdown",
   "metadata": {},
   "source": [
    "- 0 false Homer\n",
    "- 1 true Bart"
   ]
  },
  {
   "cell_type": "code",
   "execution_count": 24,
   "metadata": {},
   "outputs": [
    {
     "data": {
      "text/plain": [
       "array([[ True],\n",
       "       [False],\n",
       "       [ True],\n",
       "       [ True],\n",
       "       [False],\n",
       "       [ True],\n",
       "       [False],\n",
       "       [False],\n",
       "       [ True],\n",
       "       [False],\n",
       "       [ True],\n",
       "       [False],\n",
       "       [False],\n",
       "       [False],\n",
       "       [ True],\n",
       "       [ True],\n",
       "       [ True],\n",
       "       [False],\n",
       "       [ True],\n",
       "       [ True],\n",
       "       [ True],\n",
       "       [False],\n",
       "       [ True],\n",
       "       [ True],\n",
       "       [ True],\n",
       "       [False],\n",
       "       [ True],\n",
       "       [ True],\n",
       "       [ True],\n",
       "       [False],\n",
       "       [ True],\n",
       "       [False],\n",
       "       [False],\n",
       "       [ True],\n",
       "       [False],\n",
       "       [ True],\n",
       "       [False],\n",
       "       [ True],\n",
       "       [ True],\n",
       "       [ True],\n",
       "       [False],\n",
       "       [False],\n",
       "       [ True],\n",
       "       [ True],\n",
       "       [ True],\n",
       "       [ True],\n",
       "       [False],\n",
       "       [ True],\n",
       "       [ True],\n",
       "       [False],\n",
       "       [ True],\n",
       "       [False],\n",
       "       [False],\n",
       "       [ True]])"
      ]
     },
     "execution_count": 24,
     "metadata": {},
     "output_type": "execute_result"
    }
   ],
   "source": [
    "previsao = (previsao > 0.5)\n",
    "previsao\n",
    "for i in range(len(previsao)):\n",
    "    if previsao[i] == True:\n",
    "        print(\"Bart\")\n",
    "    else:\n",
    "        print(\"Homer\")    "
   ]
  },
  {
   "cell_type": "code",
   "execution_count": 25,
   "metadata": {},
   "outputs": [
    {
     "data": {
      "text/plain": [
       "array([1, 0, 1, 1, 1, 0, 1, 1, 1, 1, 1, 0, 0, 1, 0, 0, 0, 0, 1, 1, 1, 0,\n",
       "       1, 1, 1, 0, 1, 1, 0, 0, 0, 0, 0, 0, 0, 0, 1, 1, 1, 1, 0, 0, 1, 1,\n",
       "       1, 0, 0, 1, 1, 0, 1, 0, 0, 0])"
      ]
     },
     "execution_count": 25,
     "metadata": {},
     "output_type": "execute_result"
    }
   ],
   "source": [
    "y_test"
   ]
  },
  {
   "attachments": {},
   "cell_type": "markdown",
   "metadata": {},
   "source": [
    "- acuracy mede a probabilidade de acerto da rede neural"
   ]
  },
  {
   "cell_type": "code",
   "execution_count": 26,
   "metadata": {},
   "outputs": [
    {
     "data": {
      "text/plain": [
       "0.7037037037037037"
      ]
     },
     "execution_count": 26,
     "metadata": {},
     "output_type": "execute_result"
    }
   ],
   "source": [
    "accuracy_score(y_test, previsao)"
   ]
  },
  {
   "cell_type": "code",
   "execution_count": 27,
   "metadata": {},
   "outputs": [
    {
     "data": {
      "text/plain": [
       "array([[16, 10],\n",
       "       [ 6, 22]], dtype=int64)"
      ]
     },
     "execution_count": 27,
     "metadata": {},
     "output_type": "execute_result"
    }
   ],
   "source": [
    "cm = confusion_matrix(y_test, previsao)\n",
    "cm"
   ]
  },
  {
   "cell_type": "code",
   "execution_count": 28,
   "metadata": {},
   "outputs": [
    {
     "data": {
      "image/png": "[encoded data removed]",
      "text/plain": [
       "<Figure size 640x480 with 2 Axes>"
      ]
     },
     "metadata": {},
     "output_type": "display_data"
    }
   ],
   "source": [
    "sns.heatmap(cm, annot=True);"
   ]
  },
  {
   "cell_type": "code",
   "execution_count": 29,
   "metadata": {},
   "outputs": [
    {
     "name": "stdout",
     "output_type": "stream",
     "text": [
      "              precision    recall  f1-score   support\n",
      "\n",
      "           0       0.73      0.62      0.67        26\n",
      "           1       0.69      0.79      0.73        28\n",
      "\n",
      "    accuracy                           0.70        54\n",
      "   macro avg       0.71      0.70      0.70        54\n",
      "weighted avg       0.71      0.70      0.70        54\n",
      "\n"
     ]
    }
   ],
   "source": [
    "print(classification_report(y_test, previsao))"
   ]
  },
  {
   "attachments": {},
   "cell_type": "markdown",
   "metadata": {},
   "source": [
    "- Salvar e carregar o modelo treinado "
   ]
  },
  {
   "cell_type": "code",
   "execution_count": 30,
   "metadata": {},
   "outputs": [],
   "source": [
    "model_json = network1.to_json()\n",
    "with open(\"model.json\", \"w\") as json_file:\n",
    "    json_file.write(model_json)"
   ]
  },
  {
   "cell_type": "code",
   "execution_count": 31,
   "metadata": {},
   "outputs": [],
   "source": [
    "network1_saved = save_model(network1, \"weights1.hdf5\")"
   ]
  },
  {
   "cell_type": "code",
   "execution_count": 32,
   "metadata": {},
   "outputs": [
    {
     "data": {
      "text/plain": [
       "'{\"class_name\": \"Sequential\", \"config\": {\"name\": \"sequential\", \"layers\": [{\"class_name\": \"InputLayer\", \"config\": {\"batch_input_shape\": [null, 16384], \"dtype\": \"float32\", \"sparse\": false, \"ragged\": false, \"name\": \"dense_input\"}}, {\"class_name\": \"Dense\", \"config\": {\"name\": \"dense\", \"trainable\": true, \"dtype\": \"float32\", \"batch_input_shape\": [null, 16384], \"units\": 8193, \"activation\": \"relu\", \"use_bias\": true, \"kernel_initializer\": {\"class_name\": \"GlorotUniform\", \"config\": {\"seed\": null}}, \"bias_initializer\": {\"class_name\": \"Zeros\", \"config\": {}}, \"kernel_regularizer\": null, \"bias_regularizer\": null, \"activity_regularizer\": null, \"kernel_constraint\": null, \"bias_constraint\": null}}, {\"class_name\": \"Dense\", \"config\": {\"name\": \"dense_1\", \"trainable\": true, \"dtype\": \"float32\", \"units\": 8193, \"activation\": \"relu\", \"use_bias\": true, \"kernel_initializer\": {\"class_name\": \"GlorotUniform\", \"config\": {\"seed\": null}}, \"bias_initializer\": {\"class_name\": \"Zeros\", \"config\": {}}, \"kernel_regularizer\": null, \"bias_regularizer\": null, \"activity_regularizer\": null, \"kernel_constraint\": null, \"bias_constraint\": null}}, {\"class_name\": \"Dense\", \"config\": {\"name\": \"dense_2\", \"trainable\": true, \"dtype\": \"float32\", \"units\": 1, \"activation\": \"sigmoid\", \"use_bias\": true, \"kernel_initializer\": {\"class_name\": \"GlorotUniform\", \"config\": {\"seed\": null}}, \"bias_initializer\": {\"class_name\": \"Zeros\", \"config\": {}}, \"kernel_regularizer\": null, \"bias_regularizer\": null, \"activity_regularizer\": null, \"kernel_constraint\": null, \"bias_constraint\": null}}]}, \"keras_version\": \"2.12.0\", \"backend\": \"tensorflow\"}'"
      ]
     },
     "execution_count": 32,
     "metadata": {},
     "output_type": "execute_result"
    }
   ],
   "source": [
    "with open('model.json', 'r') as json_file:\n",
    "    json_savedModel= json_file.read()\n",
    "json_savedModel    "
   ]
  },
  {
   "cell_type": "code",
   "execution_count": 33,
   "metadata": {},
   "outputs": [],
   "source": [
    "network1_loaded = tf.keras.models.model_from_json(json_savedModel)\n",
    "network1_loaded.load_weights('weights1.hdf5')\n",
    "network1_loaded.compile(optimizer='adam', loss='binary_crossentropy', metrics=['accuracy'])"
   ]
  },
  {
   "cell_type": "code",
   "execution_count": 34,
   "metadata": {},
   "outputs": [
    {
     "name": "stdout",
     "output_type": "stream",
     "text": [
      "Model: \"sequential\"\n",
      "_________________________________________________________________\n",
      " Layer (type)                Output Shape              Param #   \n",
      "=================================================================\n",
      " dense (Dense)               (None, 8193)              134242305 \n",
      "                                                                 \n",
      " dense_1 (Dense)             (None, 8193)              67133442  \n",
      "                                                                 \n",
      " dense_2 (Dense)             (None, 1)                 8194      \n",
      "                                                                 \n",
      "=================================================================\n",
      "Total params: 201,383,941\n",
      "Trainable params: 201,383,941\n",
      "Non-trainable params: 0\n",
      "_________________________________________________________________\n"
     ]
    }
   ],
   "source": [
    "network1_loaded.summary()"
   ]
  }
 ],
 "metadata": {
  "kernelspec": {
   "display_name": "base",
   "language": "python",
   "name": "python3"
  },
  "language_info": {
   "codemirror_mode": {
    "name": "ipython",
    "version": 3
   },
   "file_extension": ".py",
   "mimetype": "text/x-python",
   "name": "python",
   "nbconvert_exporter": "python",
   "pygments_lexer": "ipython3",
   "version": "3.8.0"
  },
  "orig_nbformat": 4
 },
 "nbformat": 4,
 "nbformat_minor": 2
}
