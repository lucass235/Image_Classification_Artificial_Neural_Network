{
 "cells": [
  {
   "attachments": {},
   "cell_type": "markdown",
   "metadata": {},
   "source": [
    "# Classificação de imagem com rede neural artificial"
   ]
  },
  {
   "cell_type": "code",
   "execution_count": 1,
   "metadata": {},
   "outputs": [
    {
     "data": {
      "text/plain": [
       "'2.12.0'"
      ]
     },
     "execution_count": 1,
     "metadata": {},
     "output_type": "execute_result"
    }
   ],
   "source": [
    "import cv2\n",
    "import numpy as np\n",
    "import os \n",
    "import zipfile \n",
    "import tensorflow as tf # Deep Learning\n",
    "import pandas as pd # Manipulação de dados\n",
    "import seaborn as sns # Visualização de dados\n",
    "import matplotlib.pyplot as plt # Visualização de dados\n",
    "import PIL # Manipulação de imagens\n",
    "tf.__version__"
   ]
  },
  {
   "attachments": {},
   "cell_type": "markdown",
   "metadata": {},
   "source": [
    "- Definindo caminho das imagens na variável arquivos"
   ]
  },
  {
   "cell_type": "code",
   "execution_count": 17,
   "metadata": {},
   "outputs": [],
   "source": [
    "diretorio = \"./homer_bart_1\"\n",
    "arquivos = [os.path.join(diretorio, arquivo) for arquivo in sorted(os.listdir(diretorio))]"
   ]
  },
  {
   "cell_type": "code",
   "execution_count": 18,
   "metadata": {},
   "outputs": [
    {
     "data": {
      "text/plain": [
       "['./homer_bart_1\\\\.DS_Store',\n",
       " './homer_bart_1\\\\bart1.bmp',\n",
       " './homer_bart_1\\\\bart10.bmp',\n",
       " './homer_bart_1\\\\bart100.bmp',\n",
       " './homer_bart_1\\\\bart101.bmp',\n",
       " './homer_bart_1\\\\bart102.bmp',\n",
       " './homer_bart_1\\\\bart103.bmp',\n",
       " './homer_bart_1\\\\bart104.bmp',\n",
       " './homer_bart_1\\\\bart105.bmp',\n",
       " './homer_bart_1\\\\bart106.bmp',\n",
       " './homer_bart_1\\\\bart108.bmp',\n",
       " './homer_bart_1\\\\bart109.bmp',\n",
       " './homer_bart_1\\\\bart11.bmp',\n",
       " './homer_bart_1\\\\bart110.bmp',\n",
       " './homer_bart_1\\\\bart111.bmp',\n",
       " './homer_bart_1\\\\bart112.bmp',\n",
       " './homer_bart_1\\\\bart113.bmp',\n",
       " './homer_bart_1\\\\bart114.bmp',\n",
       " './homer_bart_1\\\\bart115.bmp',\n",
       " './homer_bart_1\\\\bart116.bmp',\n",
       " './homer_bart_1\\\\bart117.bmp',\n",
       " './homer_bart_1\\\\bart118.bmp',\n",
       " './homer_bart_1\\\\bart119.bmp',\n",
       " './homer_bart_1\\\\bart12.bmp',\n",
       " './homer_bart_1\\\\bart120.bmp',\n",
       " './homer_bart_1\\\\bart121.bmp',\n",
       " './homer_bart_1\\\\bart122.bmp',\n",
       " './homer_bart_1\\\\bart123.bmp',\n",
       " './homer_bart_1\\\\bart124.bmp',\n",
       " './homer_bart_1\\\\bart125.bmp',\n",
       " './homer_bart_1\\\\bart126.bmp',\n",
       " './homer_bart_1\\\\bart127.bmp',\n",
       " './homer_bart_1\\\\bart128.bmp',\n",
       " './homer_bart_1\\\\bart13.bmp',\n",
       " './homer_bart_1\\\\bart130.bmp',\n",
       " './homer_bart_1\\\\bart131.bmp',\n",
       " './homer_bart_1\\\\bart132.bmp',\n",
       " './homer_bart_1\\\\bart133.bmp',\n",
       " './homer_bart_1\\\\bart134.bmp',\n",
       " './homer_bart_1\\\\bart135.bmp',\n",
       " './homer_bart_1\\\\bart136.bmp',\n",
       " './homer_bart_1\\\\bart137.bmp',\n",
       " './homer_bart_1\\\\bart138.bmp',\n",
       " './homer_bart_1\\\\bart139.bmp',\n",
       " './homer_bart_1\\\\bart14.bmp',\n",
       " './homer_bart_1\\\\bart141.bmp',\n",
       " './homer_bart_1\\\\bart142.bmp',\n",
       " './homer_bart_1\\\\bart143.bmp',\n",
       " './homer_bart_1\\\\bart144.bmp',\n",
       " './homer_bart_1\\\\bart145.bmp',\n",
       " './homer_bart_1\\\\bart146.bmp',\n",
       " './homer_bart_1\\\\bart147.bmp',\n",
       " './homer_bart_1\\\\bart148.bmp',\n",
       " './homer_bart_1\\\\bart149.bmp',\n",
       " './homer_bart_1\\\\bart15.bmp',\n",
       " './homer_bart_1\\\\bart150.bmp',\n",
       " './homer_bart_1\\\\bart151.bmp',\n",
       " './homer_bart_1\\\\bart153.bmp',\n",
       " './homer_bart_1\\\\bart154.bmp',\n",
       " './homer_bart_1\\\\bart155.bmp',\n",
       " './homer_bart_1\\\\bart156.bmp',\n",
       " './homer_bart_1\\\\bart157.bmp',\n",
       " './homer_bart_1\\\\bart158.bmp',\n",
       " './homer_bart_1\\\\bart159.bmp',\n",
       " './homer_bart_1\\\\bart16.bmp',\n",
       " './homer_bart_1\\\\bart160.bmp',\n",
       " './homer_bart_1\\\\bart161.bmp',\n",
       " './homer_bart_1\\\\bart162.bmp',\n",
       " './homer_bart_1\\\\bart164.bmp',\n",
       " './homer_bart_1\\\\bart165.bmp',\n",
       " './homer_bart_1\\\\bart166.bmp',\n",
       " './homer_bart_1\\\\bart167.bmp',\n",
       " './homer_bart_1\\\\bart168.bmp',\n",
       " './homer_bart_1\\\\bart169.bmp',\n",
       " './homer_bart_1\\\\bart17.bmp',\n",
       " './homer_bart_1\\\\bart18.bmp',\n",
       " './homer_bart_1\\\\bart19.bmp',\n",
       " './homer_bart_1\\\\bart2.bmp',\n",
       " './homer_bart_1\\\\bart20.bmp',\n",
       " './homer_bart_1\\\\bart21.bmp',\n",
       " './homer_bart_1\\\\bart22.bmp',\n",
       " './homer_bart_1\\\\bart23.bmp',\n",
       " './homer_bart_1\\\\bart24.bmp',\n",
       " './homer_bart_1\\\\bart25.bmp',\n",
       " './homer_bart_1\\\\bart26.bmp',\n",
       " './homer_bart_1\\\\bart27.bmp',\n",
       " './homer_bart_1\\\\bart28.bmp',\n",
       " './homer_bart_1\\\\bart29.bmp',\n",
       " './homer_bart_1\\\\bart3.bmp',\n",
       " './homer_bart_1\\\\bart30.bmp',\n",
       " './homer_bart_1\\\\bart31.bmp',\n",
       " './homer_bart_1\\\\bart32.bmp',\n",
       " './homer_bart_1\\\\bart34.bmp',\n",
       " './homer_bart_1\\\\bart35.bmp',\n",
       " './homer_bart_1\\\\bart36.bmp',\n",
       " './homer_bart_1\\\\bart37.bmp',\n",
       " './homer_bart_1\\\\bart38.bmp',\n",
       " './homer_bart_1\\\\bart39.bmp',\n",
       " './homer_bart_1\\\\bart4.bmp',\n",
       " './homer_bart_1\\\\bart40.bmp',\n",
       " './homer_bart_1\\\\bart42.bmp',\n",
       " './homer_bart_1\\\\bart43.bmp',\n",
       " './homer_bart_1\\\\bart44.bmp',\n",
       " './homer_bart_1\\\\bart45.bmp',\n",
       " './homer_bart_1\\\\bart46.bmp',\n",
       " './homer_bart_1\\\\bart47.bmp',\n",
       " './homer_bart_1\\\\bart48.bmp',\n",
       " './homer_bart_1\\\\bart49.bmp',\n",
       " './homer_bart_1\\\\bart5.bmp',\n",
       " './homer_bart_1\\\\bart50.bmp',\n",
       " './homer_bart_1\\\\bart51.bmp',\n",
       " './homer_bart_1\\\\bart52.bmp',\n",
       " './homer_bart_1\\\\bart53.bmp',\n",
       " './homer_bart_1\\\\bart54.bmp',\n",
       " './homer_bart_1\\\\bart55.bmp',\n",
       " './homer_bart_1\\\\bart56.bmp',\n",
       " './homer_bart_1\\\\bart57.bmp',\n",
       " './homer_bart_1\\\\bart58.bmp',\n",
       " './homer_bart_1\\\\bart59.bmp',\n",
       " './homer_bart_1\\\\bart6.bmp',\n",
       " './homer_bart_1\\\\bart60.bmp',\n",
       " './homer_bart_1\\\\bart61.bmp',\n",
       " './homer_bart_1\\\\bart62.bmp',\n",
       " './homer_bart_1\\\\bart63.bmp',\n",
       " './homer_bart_1\\\\bart64.bmp',\n",
       " './homer_bart_1\\\\bart65.bmp',\n",
       " './homer_bart_1\\\\bart66.bmp',\n",
       " './homer_bart_1\\\\bart67.bmp',\n",
       " './homer_bart_1\\\\bart68.bmp',\n",
       " './homer_bart_1\\\\bart69.bmp',\n",
       " './homer_bart_1\\\\bart7.bmp',\n",
       " './homer_bart_1\\\\bart70.bmp',\n",
       " './homer_bart_1\\\\bart71.bmp',\n",
       " './homer_bart_1\\\\bart72.bmp',\n",
       " './homer_bart_1\\\\bart73.bmp',\n",
       " './homer_bart_1\\\\bart74.bmp',\n",
       " './homer_bart_1\\\\bart75.bmp',\n",
       " './homer_bart_1\\\\bart76.bmp',\n",
       " './homer_bart_1\\\\bart77.bmp',\n",
       " './homer_bart_1\\\\bart79.bmp',\n",
       " './homer_bart_1\\\\bart8.bmp',\n",
       " './homer_bart_1\\\\bart80.bmp',\n",
       " './homer_bart_1\\\\bart81.bmp',\n",
       " './homer_bart_1\\\\bart82.bmp',\n",
       " './homer_bart_1\\\\bart83.bmp',\n",
       " './homer_bart_1\\\\bart84.bmp',\n",
       " './homer_bart_1\\\\bart85.bmp',\n",
       " './homer_bart_1\\\\bart86.bmp',\n",
       " './homer_bart_1\\\\bart87.bmp',\n",
       " './homer_bart_1\\\\bart89.bmp',\n",
       " './homer_bart_1\\\\bart9.bmp',\n",
       " './homer_bart_1\\\\bart90.bmp',\n",
       " './homer_bart_1\\\\bart91.bmp',\n",
       " './homer_bart_1\\\\bart92.bmp',\n",
       " './homer_bart_1\\\\bart93.bmp',\n",
       " './homer_bart_1\\\\bart94.bmp',\n",
       " './homer_bart_1\\\\bart95.bmp',\n",
       " './homer_bart_1\\\\bart96.bmp',\n",
       " './homer_bart_1\\\\bart97.bmp',\n",
       " './homer_bart_1\\\\bart98.bmp',\n",
       " './homer_bart_1\\\\bart99.bmp',\n",
       " './homer_bart_1\\\\homer1.bmp',\n",
       " './homer_bart_1\\\\homer10.bmp',\n",
       " './homer_bart_1\\\\homer100.bmp',\n",
       " './homer_bart_1\\\\homer101.bmp',\n",
       " './homer_bart_1\\\\homer102.bmp',\n",
       " './homer_bart_1\\\\homer103.bmp',\n",
       " './homer_bart_1\\\\homer104.bmp',\n",
       " './homer_bart_1\\\\homer105.bmp',\n",
       " './homer_bart_1\\\\homer106.bmp',\n",
       " './homer_bart_1\\\\homer107.bmp',\n",
       " './homer_bart_1\\\\homer109.bmp',\n",
       " './homer_bart_1\\\\homer110.bmp',\n",
       " './homer_bart_1\\\\homer112.bmp',\n",
       " './homer_bart_1\\\\homer113.bmp',\n",
       " './homer_bart_1\\\\homer115.bmp',\n",
       " './homer_bart_1\\\\homer116.bmp',\n",
       " './homer_bart_1\\\\homer117.bmp',\n",
       " './homer_bart_1\\\\homer119.bmp',\n",
       " './homer_bart_1\\\\homer120.bmp',\n",
       " './homer_bart_1\\\\homer121.bmp',\n",
       " './homer_bart_1\\\\homer122.bmp',\n",
       " './homer_bart_1\\\\homer123.bmp',\n",
       " './homer_bart_1\\\\homer124.bmp',\n",
       " './homer_bart_1\\\\homer13.bmp',\n",
       " './homer_bart_1\\\\homer14.bmp',\n",
       " './homer_bart_1\\\\homer15.bmp',\n",
       " './homer_bart_1\\\\homer16.bmp',\n",
       " './homer_bart_1\\\\homer17.bmp',\n",
       " './homer_bart_1\\\\homer18.bmp',\n",
       " './homer_bart_1\\\\homer2.bmp',\n",
       " './homer_bart_1\\\\homer20.bmp',\n",
       " './homer_bart_1\\\\homer21.bmp',\n",
       " './homer_bart_1\\\\homer22.bmp',\n",
       " './homer_bart_1\\\\homer23.bmp',\n",
       " './homer_bart_1\\\\homer24.bmp',\n",
       " './homer_bart_1\\\\homer26.bmp',\n",
       " './homer_bart_1\\\\homer27.bmp',\n",
       " './homer_bart_1\\\\homer28.bmp',\n",
       " './homer_bart_1\\\\homer29.bmp',\n",
       " './homer_bart_1\\\\homer3.bmp',\n",
       " './homer_bart_1\\\\homer30.bmp',\n",
       " './homer_bart_1\\\\homer31.bmp',\n",
       " './homer_bart_1\\\\homer32.bmp',\n",
       " './homer_bart_1\\\\homer33.bmp',\n",
       " './homer_bart_1\\\\homer34.bmp',\n",
       " './homer_bart_1\\\\homer35.bmp',\n",
       " './homer_bart_1\\\\homer36.bmp',\n",
       " './homer_bart_1\\\\homer37.bmp',\n",
       " './homer_bart_1\\\\homer38.bmp',\n",
       " './homer_bart_1\\\\homer4.bmp',\n",
       " './homer_bart_1\\\\homer40.bmp',\n",
       " './homer_bart_1\\\\homer41.bmp',\n",
       " './homer_bart_1\\\\homer43.bmp',\n",
       " './homer_bart_1\\\\homer44.bmp',\n",
       " './homer_bart_1\\\\homer45.bmp',\n",
       " './homer_bart_1\\\\homer46.bmp',\n",
       " './homer_bart_1\\\\homer47.bmp',\n",
       " './homer_bart_1\\\\homer48.bmp',\n",
       " './homer_bart_1\\\\homer49.bmp',\n",
       " './homer_bart_1\\\\homer5.bmp',\n",
       " './homer_bart_1\\\\homer50.bmp',\n",
       " './homer_bart_1\\\\homer51.bmp',\n",
       " './homer_bart_1\\\\homer52.bmp',\n",
       " './homer_bart_1\\\\homer54.bmp',\n",
       " './homer_bart_1\\\\homer55.bmp',\n",
       " './homer_bart_1\\\\homer56.bmp',\n",
       " './homer_bart_1\\\\homer57.bmp',\n",
       " './homer_bart_1\\\\homer58.bmp',\n",
       " './homer_bart_1\\\\homer59.bmp',\n",
       " './homer_bart_1\\\\homer6.bmp',\n",
       " './homer_bart_1\\\\homer60.bmp',\n",
       " './homer_bart_1\\\\homer61.bmp',\n",
       " './homer_bart_1\\\\homer62.bmp',\n",
       " './homer_bart_1\\\\homer63.bmp',\n",
       " './homer_bart_1\\\\homer65.bmp',\n",
       " './homer_bart_1\\\\homer66.bmp',\n",
       " './homer_bart_1\\\\homer68.bmp',\n",
       " './homer_bart_1\\\\homer69.bmp',\n",
       " './homer_bart_1\\\\homer7.bmp',\n",
       " './homer_bart_1\\\\homer70.bmp',\n",
       " './homer_bart_1\\\\homer71.bmp',\n",
       " './homer_bart_1\\\\homer72.bmp',\n",
       " './homer_bart_1\\\\homer73.bmp',\n",
       " './homer_bart_1\\\\homer74.bmp',\n",
       " './homer_bart_1\\\\homer75.bmp',\n",
       " './homer_bart_1\\\\homer76.bmp',\n",
       " './homer_bart_1\\\\homer77.bmp',\n",
       " './homer_bart_1\\\\homer78.bmp',\n",
       " './homer_bart_1\\\\homer79.bmp',\n",
       " './homer_bart_1\\\\homer8.bmp',\n",
       " './homer_bart_1\\\\homer80.bmp',\n",
       " './homer_bart_1\\\\homer81.bmp',\n",
       " './homer_bart_1\\\\homer82.bmp',\n",
       " './homer_bart_1\\\\homer83.bmp',\n",
       " './homer_bart_1\\\\homer84.bmp',\n",
       " './homer_bart_1\\\\homer85.bmp',\n",
       " './homer_bart_1\\\\homer86.bmp',\n",
       " './homer_bart_1\\\\homer87.bmp',\n",
       " './homer_bart_1\\\\homer9.bmp',\n",
       " './homer_bart_1\\\\homer90.bmp',\n",
       " './homer_bart_1\\\\homer91.bmp',\n",
       " './homer_bart_1\\\\homer92.bmp',\n",
       " './homer_bart_1\\\\homer93.bmp',\n",
       " './homer_bart_1\\\\homer94.bmp',\n",
       " './homer_bart_1\\\\homer95.bmp',\n",
       " './homer_bart_1\\\\homer96.bmp',\n",
       " './homer_bart_1\\\\homer97.bmp',\n",
       " './homer_bart_1\\\\homer98.bmp',\n",
       " './homer_bart_1\\\\homer99.bmp']"
      ]
     },
     "execution_count": 18,
     "metadata": {},
     "output_type": "execute_result"
    }
   ],
   "source": [
    "arquivos"
   ]
  },
  {
   "attachments": {},
   "cell_type": "markdown",
   "metadata": {},
   "source": [
    "- Precisamos definir o tamanho das imagens único para todas 128x128"
   ]
  },
  {
   "cell_type": "code",
   "execution_count": 19,
   "metadata": {},
   "outputs": [],
   "source": [
    "largura, altura = 128, 128"
   ]
  },
  {
   "attachments": {},
   "cell_type": "markdown",
   "metadata": {},
   "source": [
    "- Variável imagens para armazenar as imagens em formato de array\n",
    "- Variável classes para armazenar as classes das imagens 0 -> Homer, 1 -> Bart"
   ]
  },
  {
   "cell_type": "code",
   "execution_count": 20,
   "metadata": {},
   "outputs": [],
   "source": [
    "imagens = []\n",
    "classes = []"
   ]
  },
  {
   "attachments": {},
   "cell_type": "markdown",
   "metadata": {},
   "source": [
    "- Extração dos pixels das imagens"
   ]
  },
  {
   "attachments": {},
   "cell_type": "markdown",
   "metadata": {},
   "source": [
    "- Nesse bloco de código, estamos lendo as imagens, ajustando o seu tamanho, convertendo para escala de cinza, convertendo para array e adicionando na variável imagens.\n",
    "- No finalzinho estamos pegando o nome referente a identificação da imagem e adicionando na variável classes para identificar a classe da imagem."
   ]
  },
  {
   "cell_type": "code",
   "execution_count": 21,
   "metadata": {},
   "outputs": [],
   "source": [
    "for arquivo in arquivos:\n",
    "    try:\n",
    "        imagem = cv2.imread(arquivo)\n",
    "        (H, W) = imagem.shape[:2] # Altura e largura da imagem\n",
    "    except:\n",
    "        continue\n",
    "    imagem = cv2.resize(imagem, (largura, altura)) # Redimensiona a imagem\n",
    "    imagem = cv2.cvtColor(imagem, cv2.COLOR_BGR2GRAY) # Converte a imagem para tons de cinza\n",
    "    imagem = imagem.ravel() # Converte a imagem para um vetor\n",
    "    imagens.append(imagem) # Adiciona a imagem na lista de imagens\n",
    "    nome_imagem = arquivo.split(os.path.sep)[-1] # Pega o nome da imagem\n",
    "    if \"homer\" in nome_imagem:\n",
    "        classes.append(0)\n",
    "    else:\n",
    "        classes.append(1)            "
   ]
  },
  {
   "attachments": {},
   "cell_type": "markdown",
   "metadata": {},
   "source": [
    "- Convertendo as imagens em array e suas respectivas classes em array numpy"
   ]
  },
  {
   "cell_type": "code",
   "execution_count": 22,
   "metadata": {},
   "outputs": [],
   "source": [
    "X = np.array(imagens)\n",
    "y = np.array(classes)"
   ]
  },
  {
   "cell_type": "code",
   "execution_count": 23,
   "metadata": {},
   "outputs": [
    {
     "data": {
      "text/plain": [
       "((269, 16384), (269,))"
      ]
     },
     "execution_count": 23,
     "metadata": {},
     "output_type": "execute_result"
    }
   ],
   "source": [
    "X.shape, y.shape"
   ]
  },
  {
   "attachments": {},
   "cell_type": "markdown",
   "metadata": {},
   "source": [
    "- Plot da quantidade de imagens por classe"
   ]
  },
  {
   "cell_type": "code",
   "execution_count": 24,
   "metadata": {},
   "outputs": [
    {
     "data": {
      "text/plain": [
       "<Axes: ylabel='count'>"
      ]
     },
     "execution_count": 24,
     "metadata": {},
     "output_type": "execute_result"
    },
    {
     "data": {
      "image/png": "[encoded data removed]",
      "text/plain": [
       "<Figure size 640x480 with 1 Axes>"
      ]
     },
     "metadata": {},
     "output_type": "display_data"
    }
   ],
   "source": [
    "sns.countplot(y)"
   ]
  },
  {
   "attachments": {},
   "cell_type": "markdown",
   "metadata": {},
   "source": [
    "- Normalização dos dados"
   ]
  },
  {
   "cell_type": "code",
   "execution_count": 25,
   "metadata": {},
   "outputs": [
    {
     "data": {
      "text/plain": [
       "(255, 0)"
      ]
     },
     "execution_count": 25,
     "metadata": {},
     "output_type": "execute_result"
    }
   ],
   "source": [
    "X[0].max(), X[0].min()"
   ]
  },
  {
   "attachments": {},
   "cell_type": "markdown",
   "metadata": {},
   "source": [
    "- Pegamos os 256 pixes e fizemos a normalização entre 0 e 1 onde 1 é a cor branca e 0 é a cor preta"
   ]
  },
  {
   "cell_type": "code",
   "execution_count": 26,
   "metadata": {},
   "outputs": [],
   "source": [
    "from sklearn.preprocessing import MinMaxScaler\n",
    "scaler = MinMaxScaler()\n",
    "X = scaler.fit_transform(X)"
   ]
  },
  {
   "cell_type": "code",
   "execution_count": 27,
   "metadata": {},
   "outputs": [
    {
     "data": {
      "text/plain": [
       "(1.0000000000000002, 0.0)"
      ]
     },
     "execution_count": 27,
     "metadata": {},
     "output_type": "execute_result"
    }
   ],
   "source": [
    "X[0].max(), X[0].min()"
   ]
  },
  {
   "attachments": {},
   "cell_type": "markdown",
   "metadata": {},
   "source": [
    "- Base de treinamento e teste\n",
    "- A biblioteca sklearn possui uma função chamada train_test_split que faz a divisão da base de dados em treinamento e teste\n",
    "- test_size = 0.25 -> 25% da base de dados será usada para teste e 75% para treinamento\n",
    "- random_state = 1 -> Para que a divisão seja sempre a mesma"
   ]
  },
  {
   "cell_type": "code",
   "execution_count": 28,
   "metadata": {},
   "outputs": [],
   "source": [
    "from sklearn.model_selection import train_test_split\n",
    "X_train, X_test, y_train, y_test = train_test_split(X, y, test_size=0.2, random_state=1)"
   ]
  },
  {
   "cell_type": "code",
   "execution_count": 29,
   "metadata": {},
   "outputs": [
    {
     "data": {
      "text/plain": [
       "((215, 16384), (54, 16384), (215,), (54,))"
      ]
     },
     "execution_count": 29,
     "metadata": {},
     "output_type": "execute_result"
    }
   ],
   "source": [
    "X_train.shape, X_test.shape, y_train.shape, y_test.shape"
   ]
  },
  {
   "attachments": {},
   "cell_type": "markdown",
   "metadata": {},
   "source": [
    "## Construção e treinamento da rede neural"
   ]
  },
  {
   "attachments": {},
   "cell_type": "markdown",
   "metadata": {},
   "source": [
    "- units parâmetro de entrada de neurônios da camada oculta\n",
    "- activation função de ativação da camada oculta\n",
    "- input_shape parâmetro de entrada de neurônios da camada de entrada"
   ]
  },
  {
   "cell_type": "code",
   "execution_count": 30,
   "metadata": {},
   "outputs": [],
   "source": [
    "network1 = tf.keras.models.Sequential() # Cria a rede neural sequencial \n",
    "network1.add(tf.keras.layers.Dense(units=8193, activation='relu', input_shape=(X_train.shape[1],))) # Adiciona a primeira camada oculta\n",
    "network1.add(tf.keras.layers.Dense(units=8193, activation='relu')) # Adiciona a segunda camada oculta\n",
    "network1.add(tf.keras.layers.Dense(units=1, activation='sigmoid')) # Adiciona a camada de saída"
   ]
  },
  {
   "cell_type": "code",
   "execution_count": 31,
   "metadata": {},
   "outputs": [
    {
     "name": "stdout",
     "output_type": "stream",
     "text": [
      "Model: \"sequential\"\n",
      "_________________________________________________________________\n",
      " Layer (type)                Output Shape              Param #   \n",
      "=================================================================\n",
      " dense (Dense)               (None, 8193)              134242305 \n",
      "                                                                 \n",
      " dense_1 (Dense)             (None, 8193)              67133442  \n",
      "                                                                 \n",
      " dense_2 (Dense)             (None, 1)                 8194      \n",
      "                                                                 \n",
      "=================================================================\n",
      "Total params: 201,383,941\n",
      "Trainable params: 201,383,941\n",
      "Non-trainable params: 0\n",
      "_________________________________________________________________\n"
     ]
    }
   ],
   "source": [
    "network1.summary()"
   ]
  },
  {
   "attachments": {},
   "cell_type": "markdown",
   "metadata": {},
   "source": [
    "- optimizer parametro de otimização dos pesos da rede neural (adam)\n",
    "- loss função para calcular o erro (binary_crossentropy)\n",
    "- metrics métrica para avaliar o modelo (accuracy)"
   ]
  },
  {
   "cell_type": "code",
   "execution_count": 32,
   "metadata": {},
   "outputs": [],
   "source": [
    "network1.compile(optimizer='adam', loss='binary_crossentropy', metrics=['accuracy']) # Compila a rede neural"
   ]
  },
  {
   "attachments": {},
   "cell_type": "markdown",
   "metadata": {},
   "source": [
    "- epochs quantidade de vezes que o modelo será treinado"
   ]
  },
  {
   "cell_type": "code",
   "execution_count": 33,
   "metadata": {},
   "outputs": [
    {
     "name": "stdout",
     "output_type": "stream",
     "text": [
      "Epoch 1/50\n",
      "7/7 [==============================] - 11s 1s/step - loss: 97.6956 - accuracy: 0.5209\n",
      "Epoch 2/50\n",
      "7/7 [==============================] - 10s 1s/step - loss: 15.1806 - accuracy: 0.5442\n",
      "Epoch 3/50\n",
      "7/7 [==============================] - 11s 2s/step - loss: 13.7550 - accuracy: 0.5256\n",
      "Epoch 4/50\n",
      "7/7 [==============================] - 11s 2s/step - loss: 2.0112 - accuracy: 0.4744\n",
      "Epoch 5/50\n",
      "7/7 [==============================] - 11s 2s/step - loss: 0.9568 - accuracy: 0.4512\n",
      "Epoch 6/50\n",
      "7/7 [==============================] - 11s 2s/step - loss: 0.7376 - accuracy: 0.6326\n",
      "Epoch 7/50\n",
      "7/7 [==============================] - 10s 1s/step - loss: 0.6621 - accuracy: 0.6279\n",
      "Epoch 8/50\n",
      "7/7 [==============================] - 10s 1s/step - loss: 0.6508 - accuracy: 0.6326\n",
      "Epoch 9/50\n",
      "7/7 [==============================] - 10s 1s/step - loss: 0.6228 - accuracy: 0.6465\n",
      "Epoch 10/50\n",
      "7/7 [==============================] - 10s 1s/step - loss: 0.5996 - accuracy: 0.6977\n",
      "Epoch 11/50\n",
      "7/7 [==============================] - 10s 1s/step - loss: 0.5913 - accuracy: 0.7209\n",
      "Epoch 12/50\n",
      "7/7 [==============================] - 10s 1s/step - loss: 0.5538 - accuracy: 0.7256\n",
      "Epoch 13/50\n",
      "7/7 [==============================] - 10s 1s/step - loss: 0.6070 - accuracy: 0.6698\n",
      "Epoch 14/50\n",
      "7/7 [==============================] - 10s 1s/step - loss: 0.6010 - accuracy: 0.6605\n",
      "Epoch 15/50\n",
      "7/7 [==============================] - 10s 1s/step - loss: 0.5597 - accuracy: 0.7302\n",
      "Epoch 16/50\n",
      "7/7 [==============================] - 10s 1s/step - loss: 0.4941 - accuracy: 0.7442\n",
      "Epoch 17/50\n",
      "7/7 [==============================] - 10s 1s/step - loss: 0.5531 - accuracy: 0.7209\n",
      "Epoch 18/50\n",
      "7/7 [==============================] - 10s 2s/step - loss: 0.6018 - accuracy: 0.6744\n",
      "Epoch 19/50\n",
      "7/7 [==============================] - 10s 1s/step - loss: 0.5041 - accuracy: 0.7814\n",
      "Epoch 20/50\n",
      "7/7 [==============================] - 10s 1s/step - loss: 0.4070 - accuracy: 0.8419\n",
      "Epoch 21/50\n",
      "7/7 [==============================] - 10s 1s/step - loss: 0.4852 - accuracy: 0.7907\n",
      "Epoch 22/50\n",
      "7/7 [==============================] - 10s 1s/step - loss: 0.7044 - accuracy: 0.6884\n",
      "Epoch 23/50\n",
      "7/7 [==============================] - 10s 1s/step - loss: 0.6277 - accuracy: 0.6465\n",
      "Epoch 24/50\n",
      "7/7 [==============================] - 10s 1s/step - loss: 0.5213 - accuracy: 0.7488\n",
      "Epoch 25/50\n",
      "7/7 [==============================] - 10s 1s/step - loss: 0.4620 - accuracy: 0.7907\n",
      "Epoch 26/50\n",
      "7/7 [==============================] - 10s 1s/step - loss: 0.3971 - accuracy: 0.8047\n",
      "Epoch 27/50\n",
      "7/7 [==============================] - 10s 1s/step - loss: 0.3444 - accuracy: 0.8512\n",
      "Epoch 28/50\n",
      "7/7 [==============================] - 10s 1s/step - loss: 0.3065 - accuracy: 0.8512\n",
      "Epoch 29/50\n",
      "7/7 [==============================] - 10s 1s/step - loss: 1.0211 - accuracy: 0.6047\n",
      "Epoch 30/50\n",
      "7/7 [==============================] - 10s 1s/step - loss: 0.5502 - accuracy: 0.7023\n",
      "Epoch 31/50\n",
      "7/7 [==============================] - 10s 1s/step - loss: 0.3641 - accuracy: 0.8186\n",
      "Epoch 32/50\n",
      "7/7 [==============================] - 10s 1s/step - loss: 0.2724 - accuracy: 0.8884\n",
      "Epoch 33/50\n",
      "7/7 [==============================] - 10s 1s/step - loss: 0.1867 - accuracy: 0.9535\n",
      "Epoch 34/50\n",
      "7/7 [==============================] - 10s 1s/step - loss: 0.2283 - accuracy: 0.9116\n",
      "Epoch 35/50\n",
      "7/7 [==============================] - 10s 1s/step - loss: 0.1363 - accuracy: 0.9628\n",
      "Epoch 36/50\n",
      "7/7 [==============================] - 10s 1s/step - loss: 0.0911 - accuracy: 0.9953\n",
      "Epoch 37/50\n",
      "7/7 [==============================] - 10s 1s/step - loss: 0.0973 - accuracy: 0.9814\n",
      "Epoch 38/50\n",
      "7/7 [==============================] - 10s 1s/step - loss: 0.4660 - accuracy: 0.7860\n",
      "Epoch 39/50\n",
      "7/7 [==============================] - 10s 2s/step - loss: 0.2365 - accuracy: 0.8884\n",
      "Epoch 40/50\n",
      "7/7 [==============================] - 11s 2s/step - loss: 0.5714 - accuracy: 0.7488\n",
      "Epoch 41/50\n",
      "7/7 [==============================] - 11s 2s/step - loss: 0.4279 - accuracy: 0.8000\n",
      "Epoch 42/50\n",
      "7/7 [==============================] - 11s 1s/step - loss: 0.2052 - accuracy: 0.9116\n",
      "Epoch 43/50\n",
      "7/7 [==============================] - 11s 2s/step - loss: 0.1072 - accuracy: 0.9721\n",
      "Epoch 44/50\n",
      "7/7 [==============================] - 11s 1s/step - loss: 0.1455 - accuracy: 0.9442\n",
      "Epoch 45/50\n",
      "7/7 [==============================] - 10s 2s/step - loss: 0.0776 - accuracy: 0.9860\n",
      "Epoch 46/50\n",
      "7/7 [==============================] - 10s 1s/step - loss: 0.0521 - accuracy: 0.9953\n",
      "Epoch 47/50\n",
      "7/7 [==============================] - 10s 1s/step - loss: 0.0642 - accuracy: 0.9907\n",
      "Epoch 48/50\n",
      "7/7 [==============================] - 11s 2s/step - loss: 0.0436 - accuracy: 0.9953\n",
      "Epoch 49/50\n",
      "7/7 [==============================] - 11s 2s/step - loss: 0.0296 - accuracy: 1.0000\n",
      "Epoch 50/50\n",
      "7/7 [==============================] - 11s 2s/step - loss: 0.0211 - accuracy: 1.0000\n"
     ]
    }
   ],
   "source": [
    "historico = network1.fit(X_train, y_train, epochs=50) # Treina a rede neural"
   ]
  },
  {
   "attachments": {},
   "cell_type": "markdown",
   "metadata": {},
   "source": [
    "- Avaliação da rede neural"
   ]
  },
  {
   "cell_type": "code",
   "execution_count": 34,
   "metadata": {},
   "outputs": [
    {
     "data": {
      "text/plain": [
       "dict_keys(['loss', 'accuracy'])"
      ]
     },
     "execution_count": 34,
     "metadata": {},
     "output_type": "execute_result"
    }
   ],
   "source": [
    "historico.history.keys()"
   ]
  },
  {
   "attachments": {},
   "cell_type": "markdown",
   "metadata": {},
   "source": [
    "- Plot dos valores de erro"
   ]
  },
  {
   "cell_type": "code",
   "execution_count": 35,
   "metadata": {},
   "outputs": [
    {
     "data": {
      "image/png": "[encoded data removed]",
      "text/plain": [
       "<Figure size 640x480 with 1 Axes>"
      ]
     },
     "metadata": {},
     "output_type": "display_data"
    }
   ],
   "source": [
    "plt.plot(historico.history['loss']);"
   ]
  },
  {
   "attachments": {},
   "cell_type": "markdown",
   "metadata": {},
   "source": [
    "- Plot da acurácia que é a porcentagem de acerto"
   ]
  },
  {
   "cell_type": "code",
   "execution_count": 36,
   "metadata": {},
   "outputs": [
    {
     "data": {
      "image/png": "[encoded data removed]",
      "text/plain": [
       "<Figure size 640x480 with 1 Axes>"
      ]
     },
     "metadata": {},
     "output_type": "display_data"
    }
   ],
   "source": [
    "plt.plot(historico.history['accuracy']);"
   ]
  },
  {
   "cell_type": "code",
   "execution_count": 37,
   "metadata": {},
   "outputs": [
    {
     "data": {
      "text/plain": [
       "(54, 16384)"
      ]
     },
     "execution_count": 37,
     "metadata": {},
     "output_type": "execute_result"
    }
   ],
   "source": [
    "X_test.shape"
   ]
  },
  {
   "attachments": {},
   "cell_type": "markdown",
   "metadata": {},
   "source": [
    "- o predict faz a previsão da imagem de teste"
   ]
  },
  {
   "cell_type": "code",
   "execution_count": 38,
   "metadata": {},
   "outputs": [
    {
     "name": "stdout",
     "output_type": "stream",
     "text": [
      "2/2 [==============================] - 0s 46ms/step\n"
     ]
    },
    {
     "data": {
      "text/plain": [
       "array([[9.9304020e-01],\n",
       "       [2.1581890e-03],\n",
       "       [9.6530461e-01],\n",
       "       [9.4860494e-01],\n",
       "       [2.1672665e-01],\n",
       "       [9.5776868e-01],\n",
       "       [6.5745311e-03],\n",
       "       [6.3923992e-02],\n",
       "       [4.1211835e-01],\n",
       "       [2.2012033e-01],\n",
       "       [8.9101601e-01],\n",
       "       [8.0248930e-05],\n",
       "       [2.1609750e-01],\n",
       "       [4.6783343e-01],\n",
       "       [8.4833211e-01],\n",
       "       [9.8112303e-01],\n",
       "       [8.7967700e-01],\n",
       "       [4.5689905e-01],\n",
       "       [9.5873570e-01],\n",
       "       [9.8647887e-01],\n",
       "       [9.8928940e-01],\n",
       "       [1.5772291e-01],\n",
       "       [9.7305310e-01],\n",
       "       [8.6482984e-01],\n",
       "       [9.3431032e-01],\n",
       "       [4.1001266e-01],\n",
       "       [9.8059559e-01],\n",
       "       [9.7594553e-01],\n",
       "       [8.3906114e-01],\n",
       "       [4.3047521e-02],\n",
       "       [7.6485020e-01],\n",
       "       [4.2693671e-03],\n",
       "       [2.3474094e-01],\n",
       "       [9.9474841e-01],\n",
       "       [8.0086844e-04],\n",
       "       [9.8538941e-01],\n",
       "       [4.3549174e-01],\n",
       "       [9.8901063e-01],\n",
       "       [7.9623014e-01],\n",
       "       [9.9407226e-01],\n",
       "       [7.8561783e-02],\n",
       "       [5.9492055e-02],\n",
       "       [8.5782379e-01],\n",
       "       [9.6420050e-01],\n",
       "       [9.5476091e-01],\n",
       "       [6.7374277e-01],\n",
       "       [5.4585423e-02],\n",
       "       [9.8697275e-01],\n",
       "       [7.9504383e-01],\n",
       "       [2.8759461e-02],\n",
       "       [9.9687910e-01],\n",
       "       [2.1664387e-01],\n",
       "       [2.9418570e-01],\n",
       "       [3.7571520e-01]], dtype=float32)"
      ]
     },
     "execution_count": 38,
     "metadata": {},
     "output_type": "execute_result"
    }
   ],
   "source": [
    "previsao = network1.predict(X_test)\n",
    "previsao"
   ]
  },
  {
   "attachments": {},
   "cell_type": "markdown",
   "metadata": {},
   "source": [
    "- 0 false Homer\n",
    "- 1 true Bart"
   ]
  },
  {
   "cell_type": "code",
   "execution_count": 39,
   "metadata": {},
   "outputs": [
    {
     "data": {
      "text/plain": [
       "array([[ True],\n",
       "       [False],\n",
       "       [ True],\n",
       "       [ True],\n",
       "       [False],\n",
       "       [ True],\n",
       "       [False],\n",
       "       [False],\n",
       "       [False],\n",
       "       [False],\n",
       "       [ True],\n",
       "       [False],\n",
       "       [False],\n",
       "       [False],\n",
       "       [ True],\n",
       "       [ True],\n",
       "       [ True],\n",
       "       [False],\n",
       "       [ True],\n",
       "       [ True],\n",
       "       [ True],\n",
       "       [False],\n",
       "       [ True],\n",
       "       [ True],\n",
       "       [ True],\n",
       "       [False],\n",
       "       [ True],\n",
       "       [ True],\n",
       "       [ True],\n",
       "       [False],\n",
       "       [ True],\n",
       "       [False],\n",
       "       [False],\n",
       "       [ True],\n",
       "       [False],\n",
       "       [ True],\n",
       "       [False],\n",
       "       [ True],\n",
       "       [ True],\n",
       "       [ True],\n",
       "       [False],\n",
       "       [False],\n",
       "       [ True],\n",
       "       [ True],\n",
       "       [ True],\n",
       "       [ True],\n",
       "       [False],\n",
       "       [ True],\n",
       "       [ True],\n",
       "       [False],\n",
       "       [ True],\n",
       "       [False],\n",
       "       [False],\n",
       "       [False]])"
      ]
     },
     "execution_count": 39,
     "metadata": {},
     "output_type": "execute_result"
    }
   ],
   "source": [
    "previsao = (previsao > 0.5)\n",
    "previsao"
   ]
  },
  {
   "cell_type": "code",
   "execution_count": 40,
   "metadata": {},
   "outputs": [
    {
     "data": {
      "text/plain": [
       "array([1, 0, 1, 1, 1, 0, 1, 1, 1, 1, 1, 0, 0, 1, 0, 0, 0, 0, 1, 1, 1, 0,\n",
       "       1, 1, 1, 0, 1, 1, 0, 0, 0, 0, 0, 0, 0, 0, 1, 1, 1, 1, 0, 0, 1, 1,\n",
       "       1, 0, 0, 1, 1, 0, 1, 0, 0, 0])"
      ]
     },
     "execution_count": 40,
     "metadata": {},
     "output_type": "execute_result"
    }
   ],
   "source": [
    "y_test"
   ]
  },
  {
   "attachments": {},
   "cell_type": "markdown",
   "metadata": {},
   "source": [
    "- acuracy mede a probabilidade de acerto da rede neural"
   ]
  },
  {
   "cell_type": "code",
   "execution_count": 41,
   "metadata": {},
   "outputs": [
    {
     "data": {
      "text/plain": [
       "0.7037037037037037"
      ]
     },
     "execution_count": 41,
     "metadata": {},
     "output_type": "execute_result"
    }
   ],
   "source": [
    "from sklearn.metrics import accuracy_score, confusion_matrix, classification_report\n",
    "accuracy_score(y_test, previsao)"
   ]
  },
  {
   "cell_type": "code",
   "execution_count": 42,
   "metadata": {},
   "outputs": [
    {
     "data": {
      "text/plain": [
       "array([[17,  9],\n",
       "       [ 7, 21]], dtype=int64)"
      ]
     },
     "execution_count": 42,
     "metadata": {},
     "output_type": "execute_result"
    }
   ],
   "source": [
    "cm = confusion_matrix(y_test, previsao)\n",
    "cm"
   ]
  },
  {
   "cell_type": "code",
   "execution_count": 43,
   "metadata": {},
   "outputs": [
    {
     "data": {
      "image/png": "[encoded data removed]",
      "text/plain": [
       "<Figure size 640x480 with 2 Axes>"
      ]
     },
     "metadata": {},
     "output_type": "display_data"
    }
   ],
   "source": [
    "sns.heatmap(cm, annot=True);"
   ]
  },
  {
   "cell_type": "code",
   "execution_count": 44,
   "metadata": {},
   "outputs": [
    {
     "name": "stdout",
     "output_type": "stream",
     "text": [
      "              precision    recall  f1-score   support\n",
      "\n",
      "           0       0.71      0.65      0.68        26\n",
      "           1       0.70      0.75      0.72        28\n",
      "\n",
      "    accuracy                           0.70        54\n",
      "   macro avg       0.70      0.70      0.70        54\n",
      "weighted avg       0.70      0.70      0.70        54\n",
      "\n"
     ]
    }
   ],
   "source": [
    "print(classification_report(y_test, previsao))"
   ]
  },
  {
   "attachments": {},
   "cell_type": "markdown",
   "metadata": {},
   "source": [
    "- Salvar e carregar o modelo treinado "
   ]
  },
  {
   "cell_type": "code",
   "execution_count": 45,
   "metadata": {},
   "outputs": [],
   "source": [
    "model_json = network1.to_json()\n",
    "with open(\"model.json\", \"w\") as json_file:\n",
    "    json_file.write(model_json)"
   ]
  },
  {
   "cell_type": "code",
   "execution_count": 46,
   "metadata": {},
   "outputs": [],
   "source": [
    "from keras.models import save_model\n",
    "network1_saved = save_model(network1, \"weights1.hdf5\")"
   ]
  },
  {
   "cell_type": "code",
   "execution_count": 47,
   "metadata": {},
   "outputs": [
    {
     "data": {
      "text/plain": [
       "'{\"class_name\": \"Sequential\", \"config\": {\"name\": \"sequential\", \"layers\": [{\"class_name\": \"InputLayer\", \"config\": {\"batch_input_shape\": [null, 16384], \"dtype\": \"float32\", \"sparse\": false, \"ragged\": false, \"name\": \"dense_input\"}}, {\"class_name\": \"Dense\", \"config\": {\"name\": \"dense\", \"trainable\": true, \"dtype\": \"float32\", \"batch_input_shape\": [null, 16384], \"units\": 8193, \"activation\": \"relu\", \"use_bias\": true, \"kernel_initializer\": {\"class_name\": \"GlorotUniform\", \"config\": {\"seed\": null}}, \"bias_initializer\": {\"class_name\": \"Zeros\", \"config\": {}}, \"kernel_regularizer\": null, \"bias_regularizer\": null, \"activity_regularizer\": null, \"kernel_constraint\": null, \"bias_constraint\": null}}, {\"class_name\": \"Dense\", \"config\": {\"name\": \"dense_1\", \"trainable\": true, \"dtype\": \"float32\", \"units\": 8193, \"activation\": \"relu\", \"use_bias\": true, \"kernel_initializer\": {\"class_name\": \"GlorotUniform\", \"config\": {\"seed\": null}}, \"bias_initializer\": {\"class_name\": \"Zeros\", \"config\": {}}, \"kernel_regularizer\": null, \"bias_regularizer\": null, \"activity_regularizer\": null, \"kernel_constraint\": null, \"bias_constraint\": null}}, {\"class_name\": \"Dense\", \"config\": {\"name\": \"dense_2\", \"trainable\": true, \"dtype\": \"float32\", \"units\": 1, \"activation\": \"sigmoid\", \"use_bias\": true, \"kernel_initializer\": {\"class_name\": \"GlorotUniform\", \"config\": {\"seed\": null}}, \"bias_initializer\": {\"class_name\": \"Zeros\", \"config\": {}}, \"kernel_regularizer\": null, \"bias_regularizer\": null, \"activity_regularizer\": null, \"kernel_constraint\": null, \"bias_constraint\": null}}]}, \"keras_version\": \"2.12.0\", \"backend\": \"tensorflow\"}'"
      ]
     },
     "execution_count": 47,
     "metadata": {},
     "output_type": "execute_result"
    }
   ],
   "source": [
    "with open('model.json', 'r') as json_file:\n",
    "    json_savedModel= json_file.read()\n",
    "json_savedModel    "
   ]
  },
  {
   "cell_type": "code",
   "execution_count": 48,
   "metadata": {},
   "outputs": [],
   "source": [
    "network1_loaded = tf.keras.models.model_from_json(json_savedModel)\n",
    "network1_loaded.load_weights('weights1.hdf5')\n",
    "network1_loaded.compile(optimizer='adam', loss='binary_crossentropy', metrics=['accuracy'])"
   ]
  },
  {
   "cell_type": "code",
   "execution_count": 49,
   "metadata": {},
   "outputs": [
    {
     "name": "stdout",
     "output_type": "stream",
     "text": [
      "Model: \"sequential\"\n",
      "_________________________________________________________________\n",
      " Layer (type)                Output Shape              Param #   \n",
      "=================================================================\n",
      " dense (Dense)               (None, 8193)              134242305 \n",
      "                                                                 \n",
      " dense_1 (Dense)             (None, 8193)              67133442  \n",
      "                                                                 \n",
      " dense_2 (Dense)             (None, 1)                 8194      \n",
      "                                                                 \n",
      "=================================================================\n",
      "Total params: 201,383,941\n",
      "Trainable params: 201,383,941\n",
      "Non-trainable params: 0\n",
      "_________________________________________________________________\n"
     ]
    }
   ],
   "source": [
    "network1_loaded.summary()"
   ]
  },
  {
   "attachments": {},
   "cell_type": "markdown",
   "metadata": {},
   "source": [
    "- Classificação de uma unica imagem"
   ]
  },
  {
   "cell_type": "code",
   "execution_count": 50,
   "metadata": {},
   "outputs": [
    {
     "data": {
      "text/plain": [
       "(array([1., 1., 1., ..., 1., 1., 1.]), 1)"
      ]
     },
     "execution_count": 50,
     "metadata": {},
     "output_type": "execute_result"
    }
   ],
   "source": [
    "X_test[0], y_test[0]"
   ]
  },
  {
   "attachments": {},
   "cell_type": "markdown",
   "metadata": {},
   "source": [
    "- Para verrificar a imagem precisamos converter o array em matriz e depois voltar a normalização"
   ]
  },
  {
   "cell_type": "code",
   "execution_count": 51,
   "metadata": {},
   "outputs": [],
   "source": [
    "imagem_teste = X_test[34]\n",
    "imagem_teste = scaler.inverse_transform(imagem_teste.reshape(1, -1))"
   ]
  },
  {
   "cell_type": "code",
   "execution_count": 52,
   "metadata": {},
   "outputs": [
    {
     "data": {
      "text/plain": [
       "array([[255., 255., 255., ..., 255., 255., 255.]])"
      ]
     },
     "execution_count": 52,
     "metadata": {},
     "output_type": "execute_result"
    }
   ],
   "source": [
    "imagem_teste"
   ]
  },
  {
   "cell_type": "code",
   "execution_count": 53,
   "metadata": {},
   "outputs": [],
   "source": [
    "PIL_image = PIL.Image.fromarray(imagem_teste.reshape(128, 128))\n",
    "PIL_image.show()"
   ]
  },
  {
   "cell_type": "code",
   "execution_count": 54,
   "metadata": {},
   "outputs": [
    {
     "name": "stdout",
     "output_type": "stream",
     "text": [
      "1/1 [==============================] - 0s 64ms/step\n"
     ]
    },
    {
     "data": {
      "text/plain": [
       "0.0"
      ]
     },
     "execution_count": 54,
     "metadata": {},
     "output_type": "execute_result"
    }
   ],
   "source": [
    "network1_loaded.predict(imagem_teste)[0][0]"
   ]
  },
  {
   "cell_type": "code",
   "execution_count": 55,
   "metadata": {},
   "outputs": [
    {
     "name": "stdout",
     "output_type": "stream",
     "text": [
      "1/1 [==============================] - 0s 42ms/step\n",
      "É o Homer\n"
     ]
    }
   ],
   "source": [
    "if network1_loaded.predict(imagem_teste)[0][0] > 0.5:\n",
    "    print(\"É o Bart\")\n",
    "else:\n",
    "    print(\"É o Homer\")    "
   ]
  }
 ],
 "metadata": {
  "kernelspec": {
   "display_name": "base",
   "language": "python",
   "name": "python3"
  },
  "language_info": {
   "codemirror_mode": {
    "name": "ipython",
    "version": 3
   },
   "file_extension": ".py",
   "mimetype": "text/x-python",
   "name": "python",
   "nbconvert_exporter": "python",
   "pygments_lexer": "ipython3",
   "version": "3.8.0"
  },
  "orig_nbformat": 4
 },
 "nbformat": 4,
 "nbformat_minor": 2
}
