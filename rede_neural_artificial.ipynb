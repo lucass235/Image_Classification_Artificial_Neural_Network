{
 "cells": [
  {
   "attachments": {},
   "cell_type": "markdown",
   "metadata": {},
   "source": [
    "# Classificação de imagem com rede neural artificial"
   ]
  },
  {
   "cell_type": "code",
   "execution_count": 1,
   "metadata": {},
   "outputs": [
    {
     "data": {
      "text/plain": [
       "'2.12.0'"
      ]
     },
     "execution_count": 1,
     "metadata": {},
     "output_type": "execute_result"
    }
   ],
   "source": [
    "import cv2\n",
    "import numpy as np\n",
    "import os \n",
    "import tensorflow as tf # Deep Learning\n",
    "import pandas as pd # Manipulação de dados\n",
    "import seaborn as sns # Visualização de dados\n",
    "import matplotlib.pyplot as plt # Visualização de dados\n",
    "import PIL # Manipulação de imagens\n",
    "from sklearn.preprocessing import MinMaxScaler\n",
    "from sklearn.metrics import accuracy_score, confusion_matrix, classification_report\n",
    "from keras.models import save_model\n",
    "tf.__version__"
   ]
  },
  {
   "attachments": {},
   "cell_type": "markdown",
   "metadata": {},
   "source": [
    "- Definindo caminho das imagens na variável arquivos"
   ]
  },
  {
   "cell_type": "code",
   "execution_count": 2,
   "metadata": {},
   "outputs": [],
   "source": [
    "diretorio = \"./data/homer_bart_1\"\n",
    "arquivos = [os.path.join(diretorio, arquivo) for arquivo in sorted(os.listdir(diretorio))]"
   ]
  },
  {
   "cell_type": "code",
   "execution_count": 3,
   "metadata": {},
   "outputs": [
    {
     "data": {
      "text/plain": [
       "['./data/homer_bart_1\\\\.DS_Store',\n",
       " './data/homer_bart_1\\\\bart1.bmp',\n",
       " './data/homer_bart_1\\\\bart10.bmp',\n",
       " './data/homer_bart_1\\\\bart100.bmp',\n",
       " './data/homer_bart_1\\\\bart101.bmp',\n",
       " './data/homer_bart_1\\\\bart102.bmp',\n",
       " './data/homer_bart_1\\\\bart103.bmp',\n",
       " './data/homer_bart_1\\\\bart104.bmp',\n",
       " './data/homer_bart_1\\\\bart105.bmp',\n",
       " './data/homer_bart_1\\\\bart106.bmp',\n",
       " './data/homer_bart_1\\\\bart108.bmp',\n",
       " './data/homer_bart_1\\\\bart109.bmp',\n",
       " './data/homer_bart_1\\\\bart11.bmp',\n",
       " './data/homer_bart_1\\\\bart110.bmp',\n",
       " './data/homer_bart_1\\\\bart111.bmp',\n",
       " './data/homer_bart_1\\\\bart112.bmp',\n",
       " './data/homer_bart_1\\\\bart113.bmp',\n",
       " './data/homer_bart_1\\\\bart114.bmp',\n",
       " './data/homer_bart_1\\\\bart115.bmp',\n",
       " './data/homer_bart_1\\\\bart116.bmp',\n",
       " './data/homer_bart_1\\\\bart117.bmp',\n",
       " './data/homer_bart_1\\\\bart118.bmp',\n",
       " './data/homer_bart_1\\\\bart119.bmp',\n",
       " './data/homer_bart_1\\\\bart12.bmp',\n",
       " './data/homer_bart_1\\\\bart120.bmp',\n",
       " './data/homer_bart_1\\\\bart121.bmp',\n",
       " './data/homer_bart_1\\\\bart122.bmp',\n",
       " './data/homer_bart_1\\\\bart123.bmp',\n",
       " './data/homer_bart_1\\\\bart124.bmp',\n",
       " './data/homer_bart_1\\\\bart125.bmp',\n",
       " './data/homer_bart_1\\\\bart126.bmp',\n",
       " './data/homer_bart_1\\\\bart127.bmp',\n",
       " './data/homer_bart_1\\\\bart128.bmp',\n",
       " './data/homer_bart_1\\\\bart13.bmp',\n",
       " './data/homer_bart_1\\\\bart130.bmp',\n",
       " './data/homer_bart_1\\\\bart131.bmp',\n",
       " './data/homer_bart_1\\\\bart132.bmp',\n",
       " './data/homer_bart_1\\\\bart133.bmp',\n",
       " './data/homer_bart_1\\\\bart134.bmp',\n",
       " './data/homer_bart_1\\\\bart135.bmp',\n",
       " './data/homer_bart_1\\\\bart136.bmp',\n",
       " './data/homer_bart_1\\\\bart137.bmp',\n",
       " './data/homer_bart_1\\\\bart138.bmp',\n",
       " './data/homer_bart_1\\\\bart139.bmp',\n",
       " './data/homer_bart_1\\\\bart14.bmp',\n",
       " './data/homer_bart_1\\\\bart141.bmp',\n",
       " './data/homer_bart_1\\\\bart142.bmp',\n",
       " './data/homer_bart_1\\\\bart143.bmp',\n",
       " './data/homer_bart_1\\\\bart144.bmp',\n",
       " './data/homer_bart_1\\\\bart145.bmp',\n",
       " './data/homer_bart_1\\\\bart146.bmp',\n",
       " './data/homer_bart_1\\\\bart147.bmp',\n",
       " './data/homer_bart_1\\\\bart148.bmp',\n",
       " './data/homer_bart_1\\\\bart149.bmp',\n",
       " './data/homer_bart_1\\\\bart15.bmp',\n",
       " './data/homer_bart_1\\\\bart150.bmp',\n",
       " './data/homer_bart_1\\\\bart151.bmp',\n",
       " './data/homer_bart_1\\\\bart153.bmp',\n",
       " './data/homer_bart_1\\\\bart154.bmp',\n",
       " './data/homer_bart_1\\\\bart155.bmp',\n",
       " './data/homer_bart_1\\\\bart156.bmp',\n",
       " './data/homer_bart_1\\\\bart157.bmp',\n",
       " './data/homer_bart_1\\\\bart158.bmp',\n",
       " './data/homer_bart_1\\\\bart159.bmp',\n",
       " './data/homer_bart_1\\\\bart16.bmp',\n",
       " './data/homer_bart_1\\\\bart160.bmp',\n",
       " './data/homer_bart_1\\\\bart161.bmp',\n",
       " './data/homer_bart_1\\\\bart162.bmp',\n",
       " './data/homer_bart_1\\\\bart164.bmp',\n",
       " './data/homer_bart_1\\\\bart165.bmp',\n",
       " './data/homer_bart_1\\\\bart166.bmp',\n",
       " './data/homer_bart_1\\\\bart167.bmp',\n",
       " './data/homer_bart_1\\\\bart168.bmp',\n",
       " './data/homer_bart_1\\\\bart169.bmp',\n",
       " './data/homer_bart_1\\\\bart17.bmp',\n",
       " './data/homer_bart_1\\\\bart18.bmp',\n",
       " './data/homer_bart_1\\\\bart19.bmp',\n",
       " './data/homer_bart_1\\\\bart2.bmp',\n",
       " './data/homer_bart_1\\\\bart20.bmp',\n",
       " './data/homer_bart_1\\\\bart21.bmp',\n",
       " './data/homer_bart_1\\\\bart22.bmp',\n",
       " './data/homer_bart_1\\\\bart23.bmp',\n",
       " './data/homer_bart_1\\\\bart24.bmp',\n",
       " './data/homer_bart_1\\\\bart25.bmp',\n",
       " './data/homer_bart_1\\\\bart26.bmp',\n",
       " './data/homer_bart_1\\\\bart27.bmp',\n",
       " './data/homer_bart_1\\\\bart28.bmp',\n",
       " './data/homer_bart_1\\\\bart29.bmp',\n",
       " './data/homer_bart_1\\\\bart3.bmp',\n",
       " './data/homer_bart_1\\\\bart30.bmp',\n",
       " './data/homer_bart_1\\\\bart31.bmp',\n",
       " './data/homer_bart_1\\\\bart32.bmp',\n",
       " './data/homer_bart_1\\\\bart34.bmp',\n",
       " './data/homer_bart_1\\\\bart35.bmp',\n",
       " './data/homer_bart_1\\\\bart36.bmp',\n",
       " './data/homer_bart_1\\\\bart37.bmp',\n",
       " './data/homer_bart_1\\\\bart38.bmp',\n",
       " './data/homer_bart_1\\\\bart39.bmp',\n",
       " './data/homer_bart_1\\\\bart4.bmp',\n",
       " './data/homer_bart_1\\\\bart40.bmp',\n",
       " './data/homer_bart_1\\\\bart42.bmp',\n",
       " './data/homer_bart_1\\\\bart43.bmp',\n",
       " './data/homer_bart_1\\\\bart44.bmp',\n",
       " './data/homer_bart_1\\\\bart45.bmp',\n",
       " './data/homer_bart_1\\\\bart46.bmp',\n",
       " './data/homer_bart_1\\\\bart47.bmp',\n",
       " './data/homer_bart_1\\\\bart48.bmp',\n",
       " './data/homer_bart_1\\\\bart49.bmp',\n",
       " './data/homer_bart_1\\\\bart5.bmp',\n",
       " './data/homer_bart_1\\\\bart50.bmp',\n",
       " './data/homer_bart_1\\\\bart51.bmp',\n",
       " './data/homer_bart_1\\\\bart52.bmp',\n",
       " './data/homer_bart_1\\\\bart53.bmp',\n",
       " './data/homer_bart_1\\\\bart54.bmp',\n",
       " './data/homer_bart_1\\\\bart55.bmp',\n",
       " './data/homer_bart_1\\\\bart56.bmp',\n",
       " './data/homer_bart_1\\\\bart57.bmp',\n",
       " './data/homer_bart_1\\\\bart58.bmp',\n",
       " './data/homer_bart_1\\\\bart59.bmp',\n",
       " './data/homer_bart_1\\\\bart6.bmp',\n",
       " './data/homer_bart_1\\\\bart60.bmp',\n",
       " './data/homer_bart_1\\\\bart61.bmp',\n",
       " './data/homer_bart_1\\\\bart62.bmp',\n",
       " './data/homer_bart_1\\\\bart63.bmp',\n",
       " './data/homer_bart_1\\\\bart64.bmp',\n",
       " './data/homer_bart_1\\\\bart65.bmp',\n",
       " './data/homer_bart_1\\\\bart66.bmp',\n",
       " './data/homer_bart_1\\\\bart67.bmp',\n",
       " './data/homer_bart_1\\\\bart68.bmp',\n",
       " './data/homer_bart_1\\\\bart69.bmp',\n",
       " './data/homer_bart_1\\\\bart7.bmp',\n",
       " './data/homer_bart_1\\\\bart70.bmp',\n",
       " './data/homer_bart_1\\\\bart71.bmp',\n",
       " './data/homer_bart_1\\\\bart72.bmp',\n",
       " './data/homer_bart_1\\\\bart73.bmp',\n",
       " './data/homer_bart_1\\\\bart74.bmp',\n",
       " './data/homer_bart_1\\\\bart75.bmp',\n",
       " './data/homer_bart_1\\\\bart76.bmp',\n",
       " './data/homer_bart_1\\\\bart77.bmp',\n",
       " './data/homer_bart_1\\\\bart79.bmp',\n",
       " './data/homer_bart_1\\\\bart8.bmp',\n",
       " './data/homer_bart_1\\\\bart80.bmp',\n",
       " './data/homer_bart_1\\\\bart81.bmp',\n",
       " './data/homer_bart_1\\\\bart82.bmp',\n",
       " './data/homer_bart_1\\\\bart83.bmp',\n",
       " './data/homer_bart_1\\\\bart84.bmp',\n",
       " './data/homer_bart_1\\\\bart85.bmp',\n",
       " './data/homer_bart_1\\\\bart86.bmp',\n",
       " './data/homer_bart_1\\\\bart87.bmp',\n",
       " './data/homer_bart_1\\\\bart89.bmp',\n",
       " './data/homer_bart_1\\\\bart9.bmp',\n",
       " './data/homer_bart_1\\\\bart90.bmp',\n",
       " './data/homer_bart_1\\\\bart91.bmp',\n",
       " './data/homer_bart_1\\\\bart92.bmp',\n",
       " './data/homer_bart_1\\\\bart93.bmp',\n",
       " './data/homer_bart_1\\\\bart94.bmp',\n",
       " './data/homer_bart_1\\\\bart95.bmp',\n",
       " './data/homer_bart_1\\\\bart96.bmp',\n",
       " './data/homer_bart_1\\\\bart97.bmp',\n",
       " './data/homer_bart_1\\\\bart98.bmp',\n",
       " './data/homer_bart_1\\\\bart99.bmp',\n",
       " './data/homer_bart_1\\\\homer1.bmp',\n",
       " './data/homer_bart_1\\\\homer10.bmp',\n",
       " './data/homer_bart_1\\\\homer100.bmp',\n",
       " './data/homer_bart_1\\\\homer101.bmp',\n",
       " './data/homer_bart_1\\\\homer102.bmp',\n",
       " './data/homer_bart_1\\\\homer103.bmp',\n",
       " './data/homer_bart_1\\\\homer104.bmp',\n",
       " './data/homer_bart_1\\\\homer105.bmp',\n",
       " './data/homer_bart_1\\\\homer106.bmp',\n",
       " './data/homer_bart_1\\\\homer107.bmp',\n",
       " './data/homer_bart_1\\\\homer109.bmp',\n",
       " './data/homer_bart_1\\\\homer110.bmp',\n",
       " './data/homer_bart_1\\\\homer112.bmp',\n",
       " './data/homer_bart_1\\\\homer113.bmp',\n",
       " './data/homer_bart_1\\\\homer115.bmp',\n",
       " './data/homer_bart_1\\\\homer116.bmp',\n",
       " './data/homer_bart_1\\\\homer117.bmp',\n",
       " './data/homer_bart_1\\\\homer119.bmp',\n",
       " './data/homer_bart_1\\\\homer120.bmp',\n",
       " './data/homer_bart_1\\\\homer121.bmp',\n",
       " './data/homer_bart_1\\\\homer122.bmp',\n",
       " './data/homer_bart_1\\\\homer123.bmp',\n",
       " './data/homer_bart_1\\\\homer124.bmp',\n",
       " './data/homer_bart_1\\\\homer13.bmp',\n",
       " './data/homer_bart_1\\\\homer14.bmp',\n",
       " './data/homer_bart_1\\\\homer15.bmp',\n",
       " './data/homer_bart_1\\\\homer16.bmp',\n",
       " './data/homer_bart_1\\\\homer17.bmp',\n",
       " './data/homer_bart_1\\\\homer18.bmp',\n",
       " './data/homer_bart_1\\\\homer2.bmp',\n",
       " './data/homer_bart_1\\\\homer20.bmp',\n",
       " './data/homer_bart_1\\\\homer21.bmp',\n",
       " './data/homer_bart_1\\\\homer22.bmp',\n",
       " './data/homer_bart_1\\\\homer23.bmp',\n",
       " './data/homer_bart_1\\\\homer24.bmp',\n",
       " './data/homer_bart_1\\\\homer26.bmp',\n",
       " './data/homer_bart_1\\\\homer27.bmp',\n",
       " './data/homer_bart_1\\\\homer28.bmp',\n",
       " './data/homer_bart_1\\\\homer29.bmp',\n",
       " './data/homer_bart_1\\\\homer3.bmp',\n",
       " './data/homer_bart_1\\\\homer30.bmp',\n",
       " './data/homer_bart_1\\\\homer31.bmp',\n",
       " './data/homer_bart_1\\\\homer32.bmp',\n",
       " './data/homer_bart_1\\\\homer33.bmp',\n",
       " './data/homer_bart_1\\\\homer34.bmp',\n",
       " './data/homer_bart_1\\\\homer35.bmp',\n",
       " './data/homer_bart_1\\\\homer36.bmp',\n",
       " './data/homer_bart_1\\\\homer37.bmp',\n",
       " './data/homer_bart_1\\\\homer38.bmp',\n",
       " './data/homer_bart_1\\\\homer4.bmp',\n",
       " './data/homer_bart_1\\\\homer40.bmp',\n",
       " './data/homer_bart_1\\\\homer41.bmp',\n",
       " './data/homer_bart_1\\\\homer43.bmp',\n",
       " './data/homer_bart_1\\\\homer44.bmp',\n",
       " './data/homer_bart_1\\\\homer45.bmp',\n",
       " './data/homer_bart_1\\\\homer46.bmp',\n",
       " './data/homer_bart_1\\\\homer47.bmp',\n",
       " './data/homer_bart_1\\\\homer48.bmp',\n",
       " './data/homer_bart_1\\\\homer49.bmp',\n",
       " './data/homer_bart_1\\\\homer5.bmp',\n",
       " './data/homer_bart_1\\\\homer50.bmp',\n",
       " './data/homer_bart_1\\\\homer51.bmp',\n",
       " './data/homer_bart_1\\\\homer52.bmp',\n",
       " './data/homer_bart_1\\\\homer54.bmp',\n",
       " './data/homer_bart_1\\\\homer55.bmp',\n",
       " './data/homer_bart_1\\\\homer56.bmp',\n",
       " './data/homer_bart_1\\\\homer57.bmp',\n",
       " './data/homer_bart_1\\\\homer58.bmp',\n",
       " './data/homer_bart_1\\\\homer59.bmp',\n",
       " './data/homer_bart_1\\\\homer6.bmp',\n",
       " './data/homer_bart_1\\\\homer60.bmp',\n",
       " './data/homer_bart_1\\\\homer61.bmp',\n",
       " './data/homer_bart_1\\\\homer62.bmp',\n",
       " './data/homer_bart_1\\\\homer63.bmp',\n",
       " './data/homer_bart_1\\\\homer65.bmp',\n",
       " './data/homer_bart_1\\\\homer66.bmp',\n",
       " './data/homer_bart_1\\\\homer68.bmp',\n",
       " './data/homer_bart_1\\\\homer69.bmp',\n",
       " './data/homer_bart_1\\\\homer7.bmp',\n",
       " './data/homer_bart_1\\\\homer70.bmp',\n",
       " './data/homer_bart_1\\\\homer71.bmp',\n",
       " './data/homer_bart_1\\\\homer72.bmp',\n",
       " './data/homer_bart_1\\\\homer73.bmp',\n",
       " './data/homer_bart_1\\\\homer74.bmp',\n",
       " './data/homer_bart_1\\\\homer75.bmp',\n",
       " './data/homer_bart_1\\\\homer76.bmp',\n",
       " './data/homer_bart_1\\\\homer77.bmp',\n",
       " './data/homer_bart_1\\\\homer78.bmp',\n",
       " './data/homer_bart_1\\\\homer79.bmp',\n",
       " './data/homer_bart_1\\\\homer8.bmp',\n",
       " './data/homer_bart_1\\\\homer80.bmp',\n",
       " './data/homer_bart_1\\\\homer81.bmp',\n",
       " './data/homer_bart_1\\\\homer82.bmp',\n",
       " './data/homer_bart_1\\\\homer83.bmp',\n",
       " './data/homer_bart_1\\\\homer84.bmp',\n",
       " './data/homer_bart_1\\\\homer85.bmp',\n",
       " './data/homer_bart_1\\\\homer86.bmp',\n",
       " './data/homer_bart_1\\\\homer87.bmp',\n",
       " './data/homer_bart_1\\\\homer9.bmp',\n",
       " './data/homer_bart_1\\\\homer90.bmp',\n",
       " './data/homer_bart_1\\\\homer91.bmp',\n",
       " './data/homer_bart_1\\\\homer92.bmp',\n",
       " './data/homer_bart_1\\\\homer93.bmp',\n",
       " './data/homer_bart_1\\\\homer94.bmp',\n",
       " './data/homer_bart_1\\\\homer95.bmp',\n",
       " './data/homer_bart_1\\\\homer96.bmp',\n",
       " './data/homer_bart_1\\\\homer97.bmp',\n",
       " './data/homer_bart_1\\\\homer98.bmp',\n",
       " './data/homer_bart_1\\\\homer99.bmp']"
      ]
     },
     "execution_count": 3,
     "metadata": {},
     "output_type": "execute_result"
    }
   ],
   "source": [
    "arquivos"
   ]
  },
  {
   "attachments": {},
   "cell_type": "markdown",
   "metadata": {},
   "source": [
    "- Precisamos definir o tamanho das imagens único para todas 128x128"
   ]
  },
  {
   "cell_type": "code",
   "execution_count": 4,
   "metadata": {},
   "outputs": [],
   "source": [
    "largura, altura = 128, 128"
   ]
  },
  {
   "attachments": {},
   "cell_type": "markdown",
   "metadata": {},
   "source": [
    "- Variável imagens para armazenar as imagens em formato de array\n",
    "- Variável classes para armazenar as classes das imagens 0 -> Homer, 1 -> Bart"
   ]
  },
  {
   "cell_type": "code",
   "execution_count": 5,
   "metadata": {},
   "outputs": [],
   "source": [
    "imagens = []\n",
    "classes = []"
   ]
  },
  {
   "attachments": {},
   "cell_type": "markdown",
   "metadata": {},
   "source": [
    "- Extração dos pixels das imagens"
   ]
  },
  {
   "attachments": {},
   "cell_type": "markdown",
   "metadata": {},
   "source": [
    "- Nesse bloco de código, estamos lendo as imagens, ajustando o seu tamanho, convertendo para escala de cinza, convertendo para array e adicionando na variável imagens.\n",
    "- No finalzinho estamos pegando o nome referente a identificação da imagem e adicionando na variável classes para identificar a classe da imagem."
   ]
  },
  {
   "cell_type": "code",
   "execution_count": 6,
   "metadata": {},
   "outputs": [],
   "source": [
    "for arquivo in arquivos:\n",
    "    try:\n",
    "        imagem = cv2.imread(arquivo)\n",
    "        (H, W) = imagem.shape[:2] # Altura e largura da imagem\n",
    "    except:\n",
    "        continue\n",
    "    imagem = cv2.resize(imagem, (largura, altura)) # Redimensiona a imagem\n",
    "    imagem = cv2.cvtColor(imagem, cv2.COLOR_BGR2GRAY) # Converte a imagem para tons de cinza\n",
    "    imagem = imagem.ravel() # Converte a imagem para um vetor\n",
    "    imagens.append(imagem) # Adiciona a imagem na lista de imagens\n",
    "    nome_imagem = arquivo.split(os.path.sep)[-1] # Pega o nome da imagem\n",
    "    if \"homer\" in nome_imagem:\n",
    "        classes.append(0)\n",
    "    else:\n",
    "        classes.append(1)            "
   ]
  },
  {
   "attachments": {},
   "cell_type": "markdown",
   "metadata": {},
   "source": [
    "- Convertendo as imagens em array e suas respectivas classes em array numpy"
   ]
  },
  {
   "cell_type": "code",
   "execution_count": 7,
   "metadata": {},
   "outputs": [],
   "source": [
    "X = np.array(imagens)\n",
    "y = np.array(classes)"
   ]
  },
  {
   "cell_type": "code",
   "execution_count": 8,
   "metadata": {},
   "outputs": [
    {
     "data": {
      "text/plain": [
       "((269, 16384), (269,))"
      ]
     },
     "execution_count": 8,
     "metadata": {},
     "output_type": "execute_result"
    }
   ],
   "source": [
    "X.shape, y.shape"
   ]
  },
  {
   "attachments": {},
   "cell_type": "markdown",
   "metadata": {},
   "source": [
    "- Plot da quantidade de imagens por classe"
   ]
  },
  {
   "cell_type": "code",
   "execution_count": 9,
   "metadata": {},
   "outputs": [
    {
     "data": {
      "text/plain": [
       "<Axes: ylabel='count'>"
      ]
     },
     "execution_count": 9,
     "metadata": {},
     "output_type": "execute_result"
    },
    {
     "data": {
      "image/png": "[encoded data removed]",
      "text/plain": [
       "<Figure size 640x480 with 1 Axes>"
      ]
     },
     "metadata": {},
     "output_type": "display_data"
    }
   ],
   "source": [
    "sns.countplot(y)"
   ]
  },
  {
   "attachments": {},
   "cell_type": "markdown",
   "metadata": {},
   "source": [
    "- Normalização dos dados"
   ]
  },
  {
   "cell_type": "code",
   "execution_count": 10,
   "metadata": {},
   "outputs": [
    {
     "data": {
      "text/plain": [
       "(255, 0)"
      ]
     },
     "execution_count": 10,
     "metadata": {},
     "output_type": "execute_result"
    }
   ],
   "source": [
    "X[0].max(), X[0].min()"
   ]
  },
  {
   "attachments": {},
   "cell_type": "markdown",
   "metadata": {},
   "source": [
    "- Pegamos os 256 pixes e fizemos a normalização entre 0 e 1 onde 1 é a cor branca e 0 é a cor preta"
   ]
  },
  {
   "cell_type": "code",
   "execution_count": 11,
   "metadata": {},
   "outputs": [],
   "source": [
    "scaler = MinMaxScaler()\n",
    "X = scaler.fit_transform(X)"
   ]
  },
  {
   "cell_type": "code",
   "execution_count": 12,
   "metadata": {},
   "outputs": [
    {
     "data": {
      "text/plain": [
       "(1.0000000000000002, 0.0)"
      ]
     },
     "execution_count": 12,
     "metadata": {},
     "output_type": "execute_result"
    }
   ],
   "source": [
    "X[0].max(), X[0].min()"
   ]
  },
  {
   "attachments": {},
   "cell_type": "markdown",
   "metadata": {},
   "source": [
    "- Base de treinamento e teste\n",
    "- A biblioteca sklearn possui uma função chamada train_test_split que faz a divisão da base de dados em treinamento e teste\n",
    "- test_size = 0.25 -> 25% da base de dados será usada para teste e 75% para treinamento\n",
    "- random_state = 1 -> Para que a divisão seja sempre a mesma"
   ]
  },
  {
   "cell_type": "code",
   "execution_count": 13,
   "metadata": {},
   "outputs": [],
   "source": [
    "from sklearn.model_selection import train_test_split\n",
    "X_train, X_test, y_train, y_test = train_test_split(X, y, test_size=0.2, random_state=1)"
   ]
  },
  {
   "cell_type": "code",
   "execution_count": 14,
   "metadata": {},
   "outputs": [
    {
     "data": {
      "text/plain": [
       "((215, 16384), (54, 16384), (215,), (54,))"
      ]
     },
     "execution_count": 14,
     "metadata": {},
     "output_type": "execute_result"
    }
   ],
   "source": [
    "X_train.shape, X_test.shape, y_train.shape, y_test.shape"
   ]
  },
  {
   "attachments": {},
   "cell_type": "markdown",
   "metadata": {},
   "source": [
    "## Construção e treinamento da rede neural"
   ]
  },
  {
   "attachments": {},
   "cell_type": "markdown",
   "metadata": {},
   "source": [
    "- units parâmetro de entrada de neurônios da camada oculta\n",
    "- activation função de ativação da camada oculta\n",
    "- input_shape parâmetro de entrada de neurônios da camada de entrada"
   ]
  },
  {
   "cell_type": "code",
   "execution_count": 15,
   "metadata": {},
   "outputs": [],
   "source": [
    "network1 = tf.keras.models.Sequential() # Cria a rede neural sequencial \n",
    "network1.add(tf.keras.layers.Dense(units=8193, activation='relu', input_shape=(X_train.shape[1],))) # Adiciona a primeira camada oculta\n",
    "network1.add(tf.keras.layers.Dense(units=8193, activation='relu')) # Adiciona a segunda camada oculta\n",
    "network1.add(tf.keras.layers.Dense(units=1, activation='sigmoid')) # Adiciona a camada de saída"
   ]
  },
  {
   "cell_type": "code",
   "execution_count": 16,
   "metadata": {},
   "outputs": [
    {
     "name": "stdout",
     "output_type": "stream",
     "text": [
      "Model: \"sequential\"\n",
      "_________________________________________________________________\n",
      " Layer (type)                Output Shape              Param #   \n",
      "=================================================================\n",
      " dense (Dense)               (None, 8193)              134242305 \n",
      "                                                                 \n",
      " dense_1 (Dense)             (None, 8193)              67133442  \n",
      "                                                                 \n",
      " dense_2 (Dense)             (None, 1)                 8194      \n",
      "                                                                 \n",
      "=================================================================\n",
      "Total params: 201,383,941\n",
      "Trainable params: 201,383,941\n",
      "Non-trainable params: 0\n",
      "_________________________________________________________________\n"
     ]
    }
   ],
   "source": [
    "network1.summary()"
   ]
  },
  {
   "attachments": {},
   "cell_type": "markdown",
   "metadata": {},
   "source": [
    "- optimizer parametro de otimização dos pesos da rede neural (adam)\n",
    "- loss função para calcular o erro (binary_crossentropy)\n",
    "- metrics métrica para avaliar o modelo (accuracy)"
   ]
  },
  {
   "cell_type": "code",
   "execution_count": 17,
   "metadata": {},
   "outputs": [],
   "source": [
    "network1.compile(optimizer='adam', loss='binary_crossentropy', metrics=['accuracy']) # Compila a rede neural"
   ]
  },
  {
   "attachments": {},
   "cell_type": "markdown",
   "metadata": {},
   "source": [
    "- epochs quantidade de vezes que o modelo será treinado"
   ]
  },
  {
   "cell_type": "code",
   "execution_count": 18,
   "metadata": {},
   "outputs": [
    {
     "name": "stdout",
     "output_type": "stream",
     "text": [
      "Epoch 1/100\n",
      "7/7 [==============================] - 11s 1s/step - loss: 97.0201 - accuracy: 0.5302\n",
      "Epoch 2/100\n",
      "7/7 [==============================] - 10s 1s/step - loss: 5.1274 - accuracy: 0.5488\n",
      "Epoch 3/100\n",
      "7/7 [==============================] - 11s 2s/step - loss: 9.3794 - accuracy: 0.5395\n",
      "Epoch 4/100\n",
      "7/7 [==============================] - 11s 2s/step - loss: 3.0184 - accuracy: 0.5070\n",
      "Epoch 5/100\n",
      "7/7 [==============================] - 10s 1s/step - loss: 2.0875 - accuracy: 0.5395\n",
      "Epoch 6/100\n",
      "7/7 [==============================] - 10s 1s/step - loss: 1.1269 - accuracy: 0.5581\n",
      "Epoch 7/100\n",
      "7/7 [==============================] - 10s 1s/step - loss: 0.8216 - accuracy: 0.6000\n",
      "Epoch 8/100\n",
      "7/7 [==============================] - 10s 1s/step - loss: 0.6577 - accuracy: 0.6140\n",
      "Epoch 9/100\n",
      "7/7 [==============================] - 10s 1s/step - loss: 0.6398 - accuracy: 0.6186\n",
      "Epoch 10/100\n",
      "7/7 [==============================] - 10s 1s/step - loss: 0.6150 - accuracy: 0.6558\n",
      "Epoch 11/100\n",
      "7/7 [==============================] - 11s 2s/step - loss: 0.5804 - accuracy: 0.6930\n",
      "Epoch 12/100\n",
      "7/7 [==============================] - 11s 2s/step - loss: 0.5612 - accuracy: 0.6837\n",
      "Epoch 13/100\n",
      "7/7 [==============================] - 10s 1s/step - loss: 0.5260 - accuracy: 0.7209\n",
      "Epoch 14/100\n",
      "7/7 [==============================] - 10s 1s/step - loss: 0.5826 - accuracy: 0.7302\n",
      "Epoch 15/100\n",
      "7/7 [==============================] - 10s 1s/step - loss: 0.5429 - accuracy: 0.7070\n",
      "Epoch 16/100\n",
      "7/7 [==============================] - 10s 1s/step - loss: 0.5723 - accuracy: 0.6791\n",
      "Epoch 17/100\n",
      "7/7 [==============================] - 10s 1s/step - loss: 0.4697 - accuracy: 0.8186\n",
      "Epoch 18/100\n",
      "7/7 [==============================] - 10s 1s/step - loss: 0.5184 - accuracy: 0.7163\n",
      "Epoch 19/100\n",
      "7/7 [==============================] - 10s 1s/step - loss: 0.6776 - accuracy: 0.6884\n",
      "Epoch 20/100\n",
      "7/7 [==============================] - 10s 1s/step - loss: 0.6133 - accuracy: 0.6465\n",
      "Epoch 21/100\n",
      "7/7 [==============================] - 10s 1s/step - loss: 0.4308 - accuracy: 0.8558\n",
      "Epoch 22/100\n",
      "7/7 [==============================] - 10s 1s/step - loss: 0.3879 - accuracy: 0.8093\n",
      "Epoch 23/100\n",
      "7/7 [==============================] - 10s 1s/step - loss: 0.7138 - accuracy: 0.6651\n",
      "Epoch 24/100\n",
      "7/7 [==============================] - 10s 1s/step - loss: 0.5348 - accuracy: 0.7070\n",
      "Epoch 25/100\n",
      "7/7 [==============================] - 10s 1s/step - loss: 0.5469 - accuracy: 0.6884\n",
      "Epoch 26/100\n",
      "7/7 [==============================] - 10s 1s/step - loss: 0.4210 - accuracy: 0.7953\n",
      "Epoch 27/100\n",
      "7/7 [==============================] - 10s 1s/step - loss: 0.3098 - accuracy: 0.8837\n",
      "Epoch 28/100\n",
      "7/7 [==============================] - 10s 1s/step - loss: 0.5367 - accuracy: 0.7581\n",
      "Epoch 29/100\n",
      "7/7 [==============================] - 11s 2s/step - loss: 0.4295 - accuracy: 0.7767\n",
      "Epoch 30/100\n",
      "7/7 [==============================] - 10s 1s/step - loss: 0.2461 - accuracy: 0.9116\n",
      "Epoch 31/100\n",
      "7/7 [==============================] - 10s 1s/step - loss: 0.2963 - accuracy: 0.8605\n",
      "Epoch 32/100\n",
      "7/7 [==============================] - 10s 1s/step - loss: 0.2806 - accuracy: 0.8419\n",
      "Epoch 33/100\n",
      "7/7 [==============================] - 10s 1s/step - loss: 0.3696 - accuracy: 0.8186\n",
      "Epoch 34/100\n",
      "7/7 [==============================] - 10s 1s/step - loss: 0.2034 - accuracy: 0.9163\n",
      "Epoch 35/100\n",
      "7/7 [==============================] - 10s 1s/step - loss: 0.2036 - accuracy: 0.9070\n",
      "Epoch 36/100\n",
      "7/7 [==============================] - 10s 1s/step - loss: 0.1972 - accuracy: 0.9163\n",
      "Epoch 37/100\n",
      "7/7 [==============================] - 11s 2s/step - loss: 0.8393 - accuracy: 0.6884\n",
      "Epoch 38/100\n",
      "7/7 [==============================] - 10s 1s/step - loss: 0.5269 - accuracy: 0.7023\n",
      "Epoch 39/100\n",
      "7/7 [==============================] - 10s 1s/step - loss: 0.3702 - accuracy: 0.8977\n",
      "Epoch 40/100\n",
      "7/7 [==============================] - 10s 1s/step - loss: 0.6215 - accuracy: 0.7023\n",
      "Epoch 41/100\n",
      "7/7 [==============================] - 10s 1s/step - loss: 0.4799 - accuracy: 0.7163\n",
      "Epoch 42/100\n",
      "7/7 [==============================] - 10s 1s/step - loss: 0.5258 - accuracy: 0.6930\n",
      "Epoch 43/100\n",
      "7/7 [==============================] - 10s 1s/step - loss: 0.3349 - accuracy: 0.9535\n",
      "Epoch 44/100\n",
      "7/7 [==============================] - 10s 1s/step - loss: 0.2158 - accuracy: 0.9674\n",
      "Epoch 45/100\n",
      "7/7 [==============================] - 10s 1s/step - loss: 0.2439 - accuracy: 0.8651\n",
      "Epoch 46/100\n",
      "7/7 [==============================] - 10s 1s/step - loss: 0.2194 - accuracy: 0.8884\n",
      "Epoch 47/100\n",
      "7/7 [==============================] - 10s 1s/step - loss: 0.1543 - accuracy: 0.9488\n",
      "Epoch 48/100\n",
      "7/7 [==============================] - 10s 1s/step - loss: 0.6485 - accuracy: 0.7209\n",
      "Epoch 49/100\n",
      "7/7 [==============================] - 10s 1s/step - loss: 0.4244 - accuracy: 0.8140\n",
      "Epoch 50/100\n",
      "7/7 [==============================] - 10s 1s/step - loss: 0.3186 - accuracy: 0.8791\n",
      "Epoch 51/100\n",
      "7/7 [==============================] - 10s 1s/step - loss: 0.1873 - accuracy: 0.9628\n",
      "Epoch 52/100\n",
      "7/7 [==============================] - 10s 1s/step - loss: 0.1675 - accuracy: 0.9488\n",
      "Epoch 53/100\n",
      "7/7 [==============================] - 10s 1s/step - loss: 0.1259 - accuracy: 0.9767\n",
      "Epoch 54/100\n",
      "7/7 [==============================] - 10s 1s/step - loss: 0.0822 - accuracy: 0.9907\n",
      "Epoch 55/100\n",
      "7/7 [==============================] - 10s 1s/step - loss: 0.0476 - accuracy: 0.9953\n",
      "Epoch 56/100\n",
      "7/7 [==============================] - 10s 1s/step - loss: 0.0296 - accuracy: 1.0000\n",
      "Epoch 57/100\n",
      "7/7 [==============================] - 10s 1s/step - loss: 0.0265 - accuracy: 1.0000\n",
      "Epoch 58/100\n",
      "7/7 [==============================] - 10s 1s/step - loss: 0.0613 - accuracy: 0.9814\n",
      "Epoch 59/100\n",
      "7/7 [==============================] - 10s 1s/step - loss: 0.0377 - accuracy: 1.0000\n",
      "Epoch 60/100\n",
      "7/7 [==============================] - 10s 1s/step - loss: 0.0210 - accuracy: 1.0000\n",
      "Epoch 61/100\n",
      "7/7 [==============================] - 10s 1s/step - loss: 0.0240 - accuracy: 0.9907\n",
      "Epoch 62/100\n",
      "7/7 [==============================] - 10s 1s/step - loss: 0.0465 - accuracy: 0.9907\n",
      "Epoch 63/100\n",
      "7/7 [==============================] - 10s 1s/step - loss: 0.0432 - accuracy: 0.9907\n",
      "Epoch 64/100\n",
      "7/7 [==============================] - 10s 1s/step - loss: 0.6040 - accuracy: 0.7674\n",
      "Epoch 65/100\n",
      "7/7 [==============================] - 10s 1s/step - loss: 0.6518 - accuracy: 0.7767\n",
      "Epoch 66/100\n",
      "7/7 [==============================] - 11s 2s/step - loss: 0.3598 - accuracy: 0.8233\n",
      "Epoch 67/100\n",
      "7/7 [==============================] - 10s 1s/step - loss: 0.1390 - accuracy: 0.9674\n",
      "Epoch 68/100\n",
      "7/7 [==============================] - 10s 1s/step - loss: 0.0471 - accuracy: 0.9860\n",
      "Epoch 69/100\n",
      "7/7 [==============================] - 10s 1s/step - loss: 0.0380 - accuracy: 0.9953\n",
      "Epoch 70/100\n",
      "7/7 [==============================] - 10s 1s/step - loss: 0.0167 - accuracy: 1.0000\n",
      "Epoch 71/100\n",
      "7/7 [==============================] - 10s 1s/step - loss: 0.0123 - accuracy: 1.0000\n",
      "Epoch 72/100\n",
      "7/7 [==============================] - 10s 1s/step - loss: 0.0083 - accuracy: 1.0000\n",
      "Epoch 73/100\n",
      "7/7 [==============================] - 10s 1s/step - loss: 0.0091 - accuracy: 1.0000\n",
      "Epoch 74/100\n",
      "7/7 [==============================] - 10s 1s/step - loss: 0.0066 - accuracy: 1.0000\n",
      "Epoch 75/100\n",
      "7/7 [==============================] - 10s 1s/step - loss: 0.0056 - accuracy: 1.0000\n",
      "Epoch 76/100\n",
      "7/7 [==============================] - 10s 1s/step - loss: 0.0052 - accuracy: 1.0000\n",
      "Epoch 77/100\n",
      "7/7 [==============================] - 10s 1s/step - loss: 0.0047 - accuracy: 1.0000\n",
      "Epoch 78/100\n",
      "7/7 [==============================] - 10s 1s/step - loss: 0.0043 - accuracy: 1.0000\n",
      "Epoch 79/100\n",
      "7/7 [==============================] - 10s 1s/step - loss: 0.0040 - accuracy: 1.0000\n",
      "Epoch 80/100\n",
      "7/7 [==============================] - 10s 1s/step - loss: 0.0037 - accuracy: 1.0000\n",
      "Epoch 81/100\n",
      "7/7 [==============================] - 10s 1s/step - loss: 0.0036 - accuracy: 1.0000\n",
      "Epoch 82/100\n",
      "7/7 [==============================] - 10s 1s/step - loss: 0.0031 - accuracy: 1.0000\n",
      "Epoch 83/100\n",
      "7/7 [==============================] - 10s 1s/step - loss: 0.0030 - accuracy: 1.0000\n",
      "Epoch 84/100\n",
      "7/7 [==============================] - 10s 1s/step - loss: 0.0027 - accuracy: 1.0000\n",
      "Epoch 85/100\n",
      "7/7 [==============================] - 10s 1s/step - loss: 0.0026 - accuracy: 1.0000\n",
      "Epoch 86/100\n",
      "7/7 [==============================] - 10s 1s/step - loss: 0.0023 - accuracy: 1.0000\n",
      "Epoch 87/100\n",
      "7/7 [==============================] - 10s 1s/step - loss: 0.0022 - accuracy: 1.0000\n",
      "Epoch 88/100\n",
      "7/7 [==============================] - 10s 1s/step - loss: 0.0023 - accuracy: 1.0000\n",
      "Epoch 89/100\n",
      "7/7 [==============================] - 10s 1s/step - loss: 0.0020 - accuracy: 1.0000\n",
      "Epoch 90/100\n",
      "7/7 [==============================] - 10s 1s/step - loss: 0.0018 - accuracy: 1.0000\n",
      "Epoch 91/100\n",
      "7/7 [==============================] - 10s 1s/step - loss: 0.0017 - accuracy: 1.0000\n",
      "Epoch 92/100\n",
      "7/7 [==============================] - 10s 1s/step - loss: 0.0016 - accuracy: 1.0000\n",
      "Epoch 93/100\n",
      "7/7 [==============================] - 10s 1s/step - loss: 0.0015 - accuracy: 1.0000\n",
      "Epoch 94/100\n",
      "7/7 [==============================] - 10s 1s/step - loss: 0.0015 - accuracy: 1.0000\n",
      "Epoch 95/100\n",
      "7/7 [==============================] - 10s 1s/step - loss: 0.0013 - accuracy: 1.0000\n",
      "Epoch 96/100\n",
      "7/7 [==============================] - 10s 1s/step - loss: 0.0013 - accuracy: 1.0000\n",
      "Epoch 97/100\n",
      "7/7 [==============================] - 10s 1s/step - loss: 0.0013 - accuracy: 1.0000\n",
      "Epoch 98/100\n",
      "7/7 [==============================] - 10s 1s/step - loss: 0.0012 - accuracy: 1.0000\n",
      "Epoch 99/100\n",
      "7/7 [==============================] - 10s 1s/step - loss: 0.0011 - accuracy: 1.0000\n",
      "Epoch 100/100\n",
      "7/7 [==============================] - 10s 1s/step - loss: 0.0011 - accuracy: 1.0000\n"
     ]
    }
   ],
   "source": [
    "historico = network1.fit(X_train, y_train, epochs=100) # Treina a rede neural"
   ]
  },
  {
   "attachments": {},
   "cell_type": "markdown",
   "metadata": {},
   "source": [
    "- Avaliação da rede neural"
   ]
  },
  {
   "cell_type": "code",
   "execution_count": 19,
   "metadata": {},
   "outputs": [
    {
     "data": {
      "text/plain": [
       "dict_keys(['loss', 'accuracy'])"
      ]
     },
     "execution_count": 19,
     "metadata": {},
     "output_type": "execute_result"
    }
   ],
   "source": [
    "historico.history.keys()"
   ]
  },
  {
   "attachments": {},
   "cell_type": "markdown",
   "metadata": {},
   "source": [
    "- Plot dos valores de erro"
   ]
  },
  {
   "cell_type": "code",
   "execution_count": 20,
   "metadata": {},
   "outputs": [
    {
     "data": {
      "image/png": "[encoded data removed]",
      "text/plain": [
       "<Figure size 640x480 with 1 Axes>"
      ]
     },
     "metadata": {},
     "output_type": "display_data"
    }
   ],
   "source": [
    "plt.plot(historico.history['loss']);"
   ]
  },
  {
   "attachments": {},
   "cell_type": "markdown",
   "metadata": {},
   "source": [
    "- Plot da acurácia que é a porcentagem de acerto"
   ]
  },
  {
   "cell_type": "code",
   "execution_count": 21,
   "metadata": {},
   "outputs": [
    {
     "data": {
      "image/png": "[encoded data removed]",
      "text/plain": [
       "<Figure size 640x480 with 1 Axes>"
      ]
     },
     "metadata": {},
     "output_type": "display_data"
    }
   ],
   "source": [
    "plt.plot(historico.history['accuracy']);"
   ]
  },
  {
   "cell_type": "code",
   "execution_count": 22,
   "metadata": {},
   "outputs": [
    {
     "data": {
      "text/plain": [
       "(54, 16384)"
      ]
     },
     "execution_count": 22,
     "metadata": {},
     "output_type": "execute_result"
    }
   ],
   "source": [
    "X_test.shape"
   ]
  },
  {
   "attachments": {},
   "cell_type": "markdown",
   "metadata": {},
   "source": [
    "- o predict faz a previsão da imagem de teste"
   ]
  },
  {
   "cell_type": "code",
   "execution_count": 23,
   "metadata": {},
   "outputs": [
    {
     "name": "stdout",
     "output_type": "stream",
     "text": [
      "2/2 [==============================] - 0s 45ms/step\n"
     ]
    },
    {
     "data": {
      "text/plain": [
       "array([[9.98595178e-01],\n",
       "       [8.03463336e-05],\n",
       "       [9.98193622e-01],\n",
       "       [9.83673990e-01],\n",
       "       [1.71550035e-01],\n",
       "       [9.94526923e-01],\n",
       "       [1.58689028e-04],\n",
       "       [3.03904954e-02],\n",
       "       [6.82031691e-01],\n",
       "       [3.16911824e-02],\n",
       "       [9.82365608e-01],\n",
       "       [7.18855972e-07],\n",
       "       [1.10600166e-01],\n",
       "       [1.33068904e-01],\n",
       "       [9.23313439e-01],\n",
       "       [9.95167255e-01],\n",
       "       [9.54202712e-01],\n",
       "       [2.98131496e-01],\n",
       "       [9.85009372e-01],\n",
       "       [9.98663068e-01],\n",
       "       [9.97743547e-01],\n",
       "       [3.98870930e-02],\n",
       "       [9.97218013e-01],\n",
       "       [9.82619643e-01],\n",
       "       [9.88958538e-01],\n",
       "       [2.45479181e-01],\n",
       "       [9.97972667e-01],\n",
       "       [9.97510910e-01],\n",
       "       [9.57515061e-01],\n",
       "       [1.57466403e-03],\n",
       "       [7.57380664e-01],\n",
       "       [1.07746964e-04],\n",
       "       [4.00573984e-02],\n",
       "       [9.99808729e-01],\n",
       "       [7.98375822e-06],\n",
       "       [9.97388780e-01],\n",
       "       [5.59688747e-01],\n",
       "       [9.99131382e-01],\n",
       "       [9.07417059e-01],\n",
       "       [9.99697983e-01],\n",
       "       [1.26704657e-02],\n",
       "       [9.24870744e-03],\n",
       "       [8.40367794e-01],\n",
       "       [9.96807814e-01],\n",
       "       [9.97941613e-01],\n",
       "       [6.83719456e-01],\n",
       "       [4.82871337e-03],\n",
       "       [9.98263359e-01],\n",
       "       [9.16122139e-01],\n",
       "       [1.70470146e-03],\n",
       "       [9.99887943e-01],\n",
       "       [9.19008926e-02],\n",
       "       [4.25480604e-02],\n",
       "       [4.20611888e-01]], dtype=float32)"
      ]
     },
     "execution_count": 23,
     "metadata": {},
     "output_type": "execute_result"
    }
   ],
   "source": [
    "previsao = network1.predict(X_test)\n",
    "previsao"
   ]
  },
  {
   "attachments": {},
   "cell_type": "markdown",
   "metadata": {},
   "source": [
    "- 0 false Homer\n",
    "- 1 true Bart"
   ]
  },
  {
   "cell_type": "code",
   "execution_count": 24,
   "metadata": {},
   "outputs": [
    {
     "data": {
      "text/plain": [
       "array([[ True],\n",
       "       [False],\n",
       "       [ True],\n",
       "       [ True],\n",
       "       [False],\n",
       "       [ True],\n",
       "       [False],\n",
       "       [False],\n",
       "       [ True],\n",
       "       [False],\n",
       "       [ True],\n",
       "       [False],\n",
       "       [False],\n",
       "       [False],\n",
       "       [ True],\n",
       "       [ True],\n",
       "       [ True],\n",
       "       [False],\n",
       "       [ True],\n",
       "       [ True],\n",
       "       [ True],\n",
       "       [False],\n",
       "       [ True],\n",
       "       [ True],\n",
       "       [ True],\n",
       "       [False],\n",
       "       [ True],\n",
       "       [ True],\n",
       "       [ True],\n",
       "       [False],\n",
       "       [ True],\n",
       "       [False],\n",
       "       [False],\n",
       "       [ True],\n",
       "       [False],\n",
       "       [ True],\n",
       "       [ True],\n",
       "       [ True],\n",
       "       [ True],\n",
       "       [ True],\n",
       "       [False],\n",
       "       [False],\n",
       "       [ True],\n",
       "       [ True],\n",
       "       [ True],\n",
       "       [ True],\n",
       "       [False],\n",
       "       [ True],\n",
       "       [ True],\n",
       "       [False],\n",
       "       [ True],\n",
       "       [False],\n",
       "       [False],\n",
       "       [False]])"
      ]
     },
     "execution_count": 24,
     "metadata": {},
     "output_type": "execute_result"
    }
   ],
   "source": [
    "previsao = (previsao > 0.5)\n",
    "previsao"
   ]
  },
  {
   "cell_type": "code",
   "execution_count": 25,
   "metadata": {},
   "outputs": [
    {
     "data": {
      "text/plain": [
       "array([1, 0, 1, 1, 1, 0, 1, 1, 1, 1, 1, 0, 0, 1, 0, 0, 0, 0, 1, 1, 1, 0,\n",
       "       1, 1, 1, 0, 1, 1, 0, 0, 0, 0, 0, 0, 0, 0, 1, 1, 1, 1, 0, 0, 1, 1,\n",
       "       1, 0, 0, 1, 1, 0, 1, 0, 0, 0])"
      ]
     },
     "execution_count": 25,
     "metadata": {},
     "output_type": "execute_result"
    }
   ],
   "source": [
    "y_test"
   ]
  },
  {
   "attachments": {},
   "cell_type": "markdown",
   "metadata": {},
   "source": [
    "- acuracy mede a probabilidade de acerto da rede neural"
   ]
  },
  {
   "cell_type": "code",
   "execution_count": 26,
   "metadata": {},
   "outputs": [
    {
     "data": {
      "text/plain": [
       "0.7407407407407407"
      ]
     },
     "execution_count": 26,
     "metadata": {},
     "output_type": "execute_result"
    }
   ],
   "source": [
    "accuracy_score(y_test, previsao)"
   ]
  },
  {
   "cell_type": "code",
   "execution_count": 27,
   "metadata": {},
   "outputs": [
    {
     "data": {
      "text/plain": [
       "array([[17,  9],\n",
       "       [ 5, 23]], dtype=int64)"
      ]
     },
     "execution_count": 27,
     "metadata": {},
     "output_type": "execute_result"
    }
   ],
   "source": [
    "cm = confusion_matrix(y_test, previsao)\n",
    "cm"
   ]
  },
  {
   "cell_type": "code",
   "execution_count": 28,
   "metadata": {},
   "outputs": [
    {
     "data": {
      "image/png": "[encoded data removed]",
      "text/plain": [
       "<Figure size 640x480 with 2 Axes>"
      ]
     },
     "metadata": {},
     "output_type": "display_data"
    }
   ],
   "source": [
    "sns.heatmap(cm, annot=True);"
   ]
  },
  {
   "cell_type": "code",
   "execution_count": 29,
   "metadata": {},
   "outputs": [
    {
     "name": "stdout",
     "output_type": "stream",
     "text": [
      "              precision    recall  f1-score   support\n",
      "\n",
      "           0       0.77      0.65      0.71        26\n",
      "           1       0.72      0.82      0.77        28\n",
      "\n",
      "    accuracy                           0.74        54\n",
      "   macro avg       0.75      0.74      0.74        54\n",
      "weighted avg       0.74      0.74      0.74        54\n",
      "\n"
     ]
    }
   ],
   "source": [
    "print(classification_report(y_test, previsao))"
   ]
  },
  {
   "attachments": {},
   "cell_type": "markdown",
   "metadata": {},
   "source": [
    "- Salvar e carregar o modelo treinado "
   ]
  },
  {
   "cell_type": "code",
   "execution_count": 30,
   "metadata": {},
   "outputs": [],
   "source": [
    "model_json = network1.to_json()\n",
    "with open(\"model.json\", \"w\") as json_file:\n",
    "    json_file.write(model_json)"
   ]
  },
  {
   "cell_type": "code",
   "execution_count": 31,
   "metadata": {},
   "outputs": [],
   "source": [
    "network1_saved = save_model(network1, \"weights1.hdf5\")"
   ]
  },
  {
   "cell_type": "code",
   "execution_count": 32,
   "metadata": {},
   "outputs": [
    {
     "data": {
      "text/plain": [
       "'{\"class_name\": \"Sequential\", \"config\": {\"name\": \"sequential\", \"layers\": [{\"class_name\": \"InputLayer\", \"config\": {\"batch_input_shape\": [null, 16384], \"dtype\": \"float32\", \"sparse\": false, \"ragged\": false, \"name\": \"dense_input\"}}, {\"class_name\": \"Dense\", \"config\": {\"name\": \"dense\", \"trainable\": true, \"dtype\": \"float32\", \"batch_input_shape\": [null, 16384], \"units\": 8193, \"activation\": \"relu\", \"use_bias\": true, \"kernel_initializer\": {\"class_name\": \"GlorotUniform\", \"config\": {\"seed\": null}}, \"bias_initializer\": {\"class_name\": \"Zeros\", \"config\": {}}, \"kernel_regularizer\": null, \"bias_regularizer\": null, \"activity_regularizer\": null, \"kernel_constraint\": null, \"bias_constraint\": null}}, {\"class_name\": \"Dense\", \"config\": {\"name\": \"dense_1\", \"trainable\": true, \"dtype\": \"float32\", \"units\": 8193, \"activation\": \"relu\", \"use_bias\": true, \"kernel_initializer\": {\"class_name\": \"GlorotUniform\", \"config\": {\"seed\": null}}, \"bias_initializer\": {\"class_name\": \"Zeros\", \"config\": {}}, \"kernel_regularizer\": null, \"bias_regularizer\": null, \"activity_regularizer\": null, \"kernel_constraint\": null, \"bias_constraint\": null}}, {\"class_name\": \"Dense\", \"config\": {\"name\": \"dense_2\", \"trainable\": true, \"dtype\": \"float32\", \"units\": 1, \"activation\": \"sigmoid\", \"use_bias\": true, \"kernel_initializer\": {\"class_name\": \"GlorotUniform\", \"config\": {\"seed\": null}}, \"bias_initializer\": {\"class_name\": \"Zeros\", \"config\": {}}, \"kernel_regularizer\": null, \"bias_regularizer\": null, \"activity_regularizer\": null, \"kernel_constraint\": null, \"bias_constraint\": null}}]}, \"keras_version\": \"2.12.0\", \"backend\": \"tensorflow\"}'"
      ]
     },
     "execution_count": 32,
     "metadata": {},
     "output_type": "execute_result"
    }
   ],
   "source": [
    "with open('model.json', 'r') as json_file:\n",
    "    json_savedModel= json_file.read()\n",
    "json_savedModel    "
   ]
  },
  {
   "cell_type": "code",
   "execution_count": 33,
   "metadata": {},
   "outputs": [],
   "source": [
    "network1_loaded = tf.keras.models.model_from_json(json_savedModel)\n",
    "network1_loaded.load_weights('weights1.hdf5')\n",
    "network1_loaded.compile(optimizer='adam', loss='binary_crossentropy', metrics=['accuracy'])"
   ]
  },
  {
   "cell_type": "code",
   "execution_count": 34,
   "metadata": {},
   "outputs": [
    {
     "name": "stdout",
     "output_type": "stream",
     "text": [
      "Model: \"sequential\"\n",
      "_________________________________________________________________\n",
      " Layer (type)                Output Shape              Param #   \n",
      "=================================================================\n",
      " dense (Dense)               (None, 8193)              134242305 \n",
      "                                                                 \n",
      " dense_1 (Dense)             (None, 8193)              67133442  \n",
      "                                                                 \n",
      " dense_2 (Dense)             (None, 1)                 8194      \n",
      "                                                                 \n",
      "=================================================================\n",
      "Total params: 201,383,941\n",
      "Trainable params: 201,383,941\n",
      "Non-trainable params: 0\n",
      "_________________________________________________________________\n"
     ]
    }
   ],
   "source": [
    "network1_loaded.summary()"
   ]
  },
  {
   "attachments": {},
   "cell_type": "markdown",
   "metadata": {},
   "source": [
    "- Classificação de uma unica imagem"
   ]
  },
  {
   "cell_type": "code",
   "execution_count": 35,
   "metadata": {},
   "outputs": [
    {
     "data": {
      "text/plain": [
       "(array([1., 1., 1., ..., 1., 1., 1.]), 1)"
      ]
     },
     "execution_count": 35,
     "metadata": {},
     "output_type": "execute_result"
    }
   ],
   "source": [
    "X_test[0], y_test[0]"
   ]
  },
  {
   "attachments": {},
   "cell_type": "markdown",
   "metadata": {},
   "source": [
    "- Para verrificar a imagem precisamos converter o array em matriz e depois voltar a normalização"
   ]
  },
  {
   "cell_type": "code",
   "execution_count": 36,
   "metadata": {},
   "outputs": [],
   "source": [
    "imagem_teste = X_test[31]\n",
    "imagem_teste = scaler.inverse_transform(imagem_teste.reshape(1, -1))"
   ]
  },
  {
   "cell_type": "code",
   "execution_count": 37,
   "metadata": {},
   "outputs": [
    {
     "data": {
      "text/plain": [
       "array([[255., 255., 255., ..., 255., 255., 255.]])"
      ]
     },
     "execution_count": 37,
     "metadata": {},
     "output_type": "execute_result"
    }
   ],
   "source": [
    "imagem_teste"
   ]
  },
  {
   "cell_type": "code",
   "execution_count": 38,
   "metadata": {},
   "outputs": [],
   "source": [
    "PIL_image = PIL.Image.fromarray(imagem_teste.reshape(128, 128))\n",
    "PIL_image.show()"
   ]
  },
  {
   "cell_type": "code",
   "execution_count": 39,
   "metadata": {},
   "outputs": [
    {
     "name": "stdout",
     "output_type": "stream",
     "text": [
      "1/1 [==============================] - 0s 74ms/step\n"
     ]
    },
    {
     "data": {
      "text/plain": [
       "0.0"
      ]
     },
     "execution_count": 39,
     "metadata": {},
     "output_type": "execute_result"
    }
   ],
   "source": [
    "network1_loaded.predict(imagem_teste)[0][0]"
   ]
  },
  {
   "cell_type": "code",
   "execution_count": 40,
   "metadata": {},
   "outputs": [
    {
     "name": "stdout",
     "output_type": "stream",
     "text": [
      "1/1 [==============================] - 0s 43ms/step\n",
      "É o Homer\n"
     ]
    }
   ],
   "source": [
    "if network1_loaded.predict(imagem_teste)[0][0] > 0.5:\n",
    "    print(\"É o Bart\")\n",
    "else:\n",
    "    print(\"É o Homer\")    "
   ]
  }
 ],
 "metadata": {
  "kernelspec": {
   "display_name": "base",
   "language": "python",
   "name": "python3"
  },
  "language_info": {
   "codemirror_mode": {
    "name": "ipython",
    "version": 3
   },
   "file_extension": ".py",
   "mimetype": "text/x-python",
   "name": "python",
   "nbconvert_exporter": "python",
   "pygments_lexer": "ipython3",
   "version": "3.8.0"
  },
  "orig_nbformat": 4
 },
 "nbformat": 4,
 "nbformat_minor": 2
}
