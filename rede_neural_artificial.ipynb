{
 "cells": [
  {
   "attachments": {},
   "cell_type": "markdown",
   "metadata": {},
   "source": [
    "# Classificação de imagem com rede neural artificial"
   ]
  },
  {
   "cell_type": "code",
   "execution_count": 94,
   "metadata": {},
   "outputs": [
    {
     "data": {
      "text/plain": [
       "'2.12.0'"
      ]
     },
     "execution_count": 94,
     "metadata": {},
     "output_type": "execute_result"
    }
   ],
   "source": [
    "import cv2\n",
    "import numpy as np\n",
    "import os \n",
    "import tensorflow as tf # Deep Learning\n",
    "import pandas as pd # Manipulação de dados\n",
    "import seaborn as sns # Visualização de dados\n",
    "import matplotlib.pyplot as plt # Visualização de dados\n",
    "import PIL # Manipulação de imagens\n",
    "from sklearn.preprocessing import MinMaxScaler\n",
    "from sklearn.metrics import accuracy_score, confusion_matrix, classification_report\n",
    "from keras.models import save_model\n",
    "tf.__version__"
   ]
  },
  {
   "attachments": {},
   "cell_type": "markdown",
   "metadata": {},
   "source": [
    "- Definindo caminho das imagens na variável arquivos"
   ]
  },
  {
   "cell_type": "code",
   "execution_count": 95,
   "metadata": {},
   "outputs": [],
   "source": [
    "diretorio = \"./data/homer_bart_1\"\n",
    "arquivos = [os.path.join(diretorio, arquivo) for arquivo in sorted(os.listdir(diretorio))]"
   ]
  },
  {
   "attachments": {},
   "cell_type": "markdown",
   "metadata": {},
   "source": [
    "- Precisamos definir o tamanho das imagens único para todas 128x128"
   ]
  },
  {
   "cell_type": "code",
   "execution_count": 96,
   "metadata": {},
   "outputs": [],
   "source": [
    "largura, altura = 128, 128"
   ]
  },
  {
   "attachments": {},
   "cell_type": "markdown",
   "metadata": {},
   "source": [
    "- Variável imagens para armazenar as imagens em formato de array\n",
    "- Variável classes para armazenar as classes das imagens 0 -> Homer, 1 -> Bart"
   ]
  },
  {
   "cell_type": "code",
   "execution_count": 97,
   "metadata": {},
   "outputs": [],
   "source": [
    "imagens = []\n",
    "classes = []"
   ]
  },
  {
   "attachments": {},
   "cell_type": "markdown",
   "metadata": {},
   "source": [
    "- Extração dos pixels das imagens"
   ]
  },
  {
   "attachments": {},
   "cell_type": "markdown",
   "metadata": {},
   "source": [
    "- Nesse bloco de código, estamos lendo as imagens, ajustando o seu tamanho, convertendo para escala de cinza, convertendo para array e adicionando na variável imagens.\n",
    "- No finalzinho estamos pegando o nome referente a identificação da imagem e adicionando na variável classes para identificar a classe da imagem."
   ]
  },
  {
   "cell_type": "code",
   "execution_count": 98,
   "metadata": {},
   "outputs": [],
   "source": [
    "for arquivo in arquivos:\n",
    "    try:\n",
    "        imagem = cv2.imread(arquivo)\n",
    "        (H, W) = imagem.shape[:2] # Altura e largura da imagem\n",
    "    except:\n",
    "        continue\n",
    "    imagem = cv2.resize(imagem, (largura, altura)) # Redimensiona a imagem\n",
    "    imagem = cv2.cvtColor(imagem, cv2.COLOR_BGR2GRAY) # Converte a imagem para tons de cinza\n",
    "    imagem = imagem.ravel() # Converte a imagem para um vetor\n",
    "    imagens.append(imagem) # Adiciona a imagem na lista de imagens\n",
    "    nome_imagem = arquivo.split(os.path.sep)[-1] # Pega o nome da imagem\n",
    "    if \"homer\" in nome_imagem:\n",
    "        classes.append(0)\n",
    "    else:\n",
    "        classes.append(1)            "
   ]
  },
  {
   "attachments": {},
   "cell_type": "markdown",
   "metadata": {},
   "source": [
    "- Convertendo as imagens em array e suas respectivas classes em array numpy"
   ]
  },
  {
   "cell_type": "code",
   "execution_count": 99,
   "metadata": {},
   "outputs": [],
   "source": [
    "X = np.array(imagens)\n",
    "y = np.array(classes)"
   ]
  },
  {
   "cell_type": "code",
   "execution_count": 100,
   "metadata": {},
   "outputs": [
    {
     "data": {
      "text/plain": [
       "((269, 16384), (269,))"
      ]
     },
     "execution_count": 100,
     "metadata": {},
     "output_type": "execute_result"
    }
   ],
   "source": [
    "X.shape, y.shape"
   ]
  },
  {
   "attachments": {},
   "cell_type": "markdown",
   "metadata": {},
   "source": [
    "- Plot da quantidade de imagens por classe"
   ]
  },
  {
   "cell_type": "code",
   "execution_count": 101,
   "metadata": {},
   "outputs": [
    {
     "data": {
      "text/plain": [
       "<Axes: ylabel='count'>"
      ]
     },
     "execution_count": 101,
     "metadata": {},
     "output_type": "execute_result"
    },
    {
     "data": {
      "image/png": "[encoded data removed]",
      "text/plain": [
       "<Figure size 640x480 with 1 Axes>"
      ]
     },
     "metadata": {},
     "output_type": "display_data"
    }
   ],
   "source": [
    "sns.countplot(y)"
   ]
  },
  {
   "attachments": {},
   "cell_type": "markdown",
   "metadata": {},
   "source": [
    "- Normalização dos dados"
   ]
  },
  {
   "cell_type": "code",
   "execution_count": 102,
   "metadata": {},
   "outputs": [
    {
     "data": {
      "text/plain": [
       "(255, 0)"
      ]
     },
     "execution_count": 102,
     "metadata": {},
     "output_type": "execute_result"
    }
   ],
   "source": [
    "X[0].max(), X[0].min()"
   ]
  },
  {
   "attachments": {},
   "cell_type": "markdown",
   "metadata": {},
   "source": [
    "- Pegamos os 256 pixes e fizemos a normalização entre 0 e 1 onde 1 é a cor branca e 0 é a cor preta"
   ]
  },
  {
   "cell_type": "code",
   "execution_count": 103,
   "metadata": {},
   "outputs": [],
   "source": [
    "scaler = MinMaxScaler()\n",
    "X = scaler.fit_transform(X)"
   ]
  },
  {
   "cell_type": "code",
   "execution_count": 104,
   "metadata": {},
   "outputs": [
    {
     "data": {
      "text/plain": [
       "(1.0000000000000002, 0.0)"
      ]
     },
     "execution_count": 104,
     "metadata": {},
     "output_type": "execute_result"
    }
   ],
   "source": [
    "X[0].max(), X[0].min()"
   ]
  },
  {
   "attachments": {},
   "cell_type": "markdown",
   "metadata": {},
   "source": [
    "- Base de treinamento e teste\n",
    "- A biblioteca sklearn possui uma função chamada train_test_split que faz a divisão da base de dados em treinamento e teste\n",
    "- test_size = 0.25 -> 25% da base de dados será usada para teste e 75% para treinamento\n",
    "- random_state = 1 -> Para que a divisão seja sempre a mesma"
   ]
  },
  {
   "cell_type": "code",
   "execution_count": 105,
   "metadata": {},
   "outputs": [],
   "source": [
    "from sklearn.model_selection import train_test_split\n",
    "X_train, X_test, y_train, y_test = train_test_split(X, y, test_size=0.2, random_state=1)"
   ]
  },
  {
   "cell_type": "code",
   "execution_count": 106,
   "metadata": {},
   "outputs": [
    {
     "data": {
      "text/plain": [
       "((215, 16384), (54, 16384), (215,), (54,))"
      ]
     },
     "execution_count": 106,
     "metadata": {},
     "output_type": "execute_result"
    }
   ],
   "source": [
    "X_train.shape, X_test.shape, y_train.shape, y_test.shape"
   ]
  },
  {
   "attachments": {},
   "cell_type": "markdown",
   "metadata": {},
   "source": [
    "## Construção e treinamento da rede neural"
   ]
  },
  {
   "attachments": {},
   "cell_type": "markdown",
   "metadata": {},
   "source": [
    "- units parâmetro de entrada de neurônios da camada oculta\n",
    "- activation função de ativação da camada oculta\n",
    "- input_shape parâmetro de entrada de neurônios da camada de entrada"
   ]
  },
  {
   "cell_type": "code",
   "execution_count": 107,
   "metadata": {},
   "outputs": [],
   "source": [
    "network1 = tf.keras.models.Sequential() # Cria a rede neural sequencial \n",
    "network1.add(tf.keras.layers.Dense(units=8193, activation='relu', input_shape=(X_train.shape[1],))) # Adiciona a primeira camada oculta\n",
    "network1.add(tf.keras.layers.Dense(units=8193, activation='relu')) # Adiciona a segunda camada oculta\n",
    "network1.add(tf.keras.layers.Dense(units=1, activation='sigmoid')) # Adiciona a camada de saída"
   ]
  },
  {
   "cell_type": "code",
   "execution_count": 108,
   "metadata": {},
   "outputs": [
    {
     "name": "stdout",
     "output_type": "stream",
     "text": [
      "Model: \"sequential_2\"\n",
      "_________________________________________________________________\n",
      " Layer (type)                Output Shape              Param #   \n",
      "=================================================================\n",
      " dense_6 (Dense)             (None, 8193)              134242305 \n",
      "                                                                 \n",
      " dense_7 (Dense)             (None, 8193)              67133442  \n",
      "                                                                 \n",
      " dense_8 (Dense)             (None, 1)                 8194      \n",
      "                                                                 \n",
      "=================================================================\n",
      "Total params: 201,383,941\n",
      "Trainable params: 201,383,941\n",
      "Non-trainable params: 0\n",
      "_________________________________________________________________\n"
     ]
    }
   ],
   "source": [
    "network1.summary()"
   ]
  },
  {
   "attachments": {},
   "cell_type": "markdown",
   "metadata": {},
   "source": [
    "- optimizer parametro de otimização dos pesos da rede neural (adam)\n",
    "- loss função para calcular o erro (binary_crossentropy)\n",
    "- metrics métrica para avaliar o modelo (accuracy)"
   ]
  },
  {
   "cell_type": "code",
   "execution_count": 109,
   "metadata": {},
   "outputs": [],
   "source": [
    "network1.compile(optimizer='adam', loss='binary_crossentropy', metrics=['accuracy']) # Compila a rede neural"
   ]
  },
  {
   "attachments": {},
   "cell_type": "markdown",
   "metadata": {},
   "source": [
    "- epochs quantidade de vezes que o modelo será treinado"
   ]
  },
  {
   "cell_type": "code",
   "execution_count": 110,
   "metadata": {},
   "outputs": [
    {
     "name": "stdout",
     "output_type": "stream",
     "text": [
      "Epoch 1/200\n",
      "7/7 [==============================] - 15s 2s/step - loss: 123.1848 - accuracy: 0.4884\n",
      "Epoch 2/200\n",
      "7/7 [==============================] - 11s 2s/step - loss: 8.5121 - accuracy: 0.5116\n",
      "Epoch 3/200\n",
      "7/7 [==============================] - 11s 2s/step - loss: 12.1332 - accuracy: 0.5116\n",
      "Epoch 4/200\n",
      "7/7 [==============================] - 11s 2s/step - loss: 4.0820 - accuracy: 0.5209\n",
      "Epoch 5/200\n",
      "7/7 [==============================] - 11s 2s/step - loss: 4.0478 - accuracy: 0.4605\n",
      "Epoch 6/200\n",
      "7/7 [==============================] - 11s 2s/step - loss: 2.5867 - accuracy: 0.5116\n",
      "Epoch 7/200\n",
      "7/7 [==============================] - 11s 2s/step - loss: 1.4761 - accuracy: 0.5442\n",
      "Epoch 8/200\n",
      "7/7 [==============================] - 10s 2s/step - loss: 0.7654 - accuracy: 0.5209\n",
      "Epoch 9/200\n",
      "7/7 [==============================] - 11s 2s/step - loss: 0.6888 - accuracy: 0.5488\n",
      "Epoch 10/200\n",
      "7/7 [==============================] - 11s 2s/step - loss: 0.6605 - accuracy: 0.5628\n",
      "Epoch 11/200\n",
      "7/7 [==============================] - 10s 1s/step - loss: 0.6380 - accuracy: 0.6884\n",
      "Epoch 12/200\n",
      "7/7 [==============================] - 10s 1s/step - loss: 0.5964 - accuracy: 0.6930\n",
      "Epoch 13/200\n",
      "7/7 [==============================] - 10s 1s/step - loss: 0.5887 - accuracy: 0.6651\n",
      "Epoch 14/200\n",
      "7/7 [==============================] - 10s 1s/step - loss: 0.5478 - accuracy: 0.7070\n",
      "Epoch 15/200\n",
      "7/7 [==============================] - 10s 1s/step - loss: 0.5207 - accuracy: 0.7442\n",
      "Epoch 16/200\n",
      "7/7 [==============================] - 10s 1s/step - loss: 0.4747 - accuracy: 0.7767\n",
      "Epoch 17/200\n",
      "7/7 [==============================] - 10s 1s/step - loss: 0.4426 - accuracy: 0.7907\n",
      "Epoch 18/200\n",
      "7/7 [==============================] - 10s 1s/step - loss: 0.4735 - accuracy: 0.7628\n",
      "Epoch 19/200\n",
      "7/7 [==============================] - 10s 1s/step - loss: 0.5250 - accuracy: 0.7395\n",
      "Epoch 20/200\n",
      "7/7 [==============================] - 10s 1s/step - loss: 0.5170 - accuracy: 0.7442\n",
      "Epoch 21/200\n",
      "7/7 [==============================] - 10s 1s/step - loss: 0.5988 - accuracy: 0.6651\n",
      "Epoch 22/200\n",
      "7/7 [==============================] - 10s 1s/step - loss: 0.5230 - accuracy: 0.6884\n",
      "Epoch 23/200\n",
      "7/7 [==============================] - 10s 1s/step - loss: 0.4812 - accuracy: 0.7674\n",
      "Epoch 24/200\n",
      "7/7 [==============================] - 10s 1s/step - loss: 0.3916 - accuracy: 0.8233\n",
      "Epoch 25/200\n",
      "7/7 [==============================] - 10s 1s/step - loss: 0.3647 - accuracy: 0.8372\n",
      "Epoch 26/200\n",
      "7/7 [==============================] - 10s 1s/step - loss: 0.4781 - accuracy: 0.7767\n",
      "Epoch 27/200\n",
      "7/7 [==============================] - 11s 2s/step - loss: 0.7343 - accuracy: 0.6419\n",
      "Epoch 28/200\n",
      "7/7 [==============================] - 10s 1s/step - loss: 0.5568 - accuracy: 0.7209\n",
      "Epoch 29/200\n",
      "7/7 [==============================] - 10s 1s/step - loss: 0.3923 - accuracy: 0.7953\n",
      "Epoch 30/200\n",
      "7/7 [==============================] - 10s 1s/step - loss: 0.4354 - accuracy: 0.8651\n",
      "Epoch 31/200\n",
      "7/7 [==============================] - 10s 1s/step - loss: 0.6321 - accuracy: 0.6372\n",
      "Epoch 32/200\n",
      "7/7 [==============================] - 10s 1s/step - loss: 0.6530 - accuracy: 0.6698\n",
      "Epoch 33/200\n",
      "7/7 [==============================] - 10s 1s/step - loss: 0.3884 - accuracy: 0.8233\n",
      "Epoch 34/200\n",
      "7/7 [==============================] - 10s 1s/step - loss: 0.5694 - accuracy: 0.7953\n",
      "Epoch 35/200\n",
      "7/7 [==============================] - 10s 1s/step - loss: 0.5771 - accuracy: 0.7163\n",
      "Epoch 36/200\n",
      "7/7 [==============================] - 10s 1s/step - loss: 0.4144 - accuracy: 0.8093\n",
      "Epoch 37/200\n",
      "7/7 [==============================] - 10s 1s/step - loss: 0.2661 - accuracy: 0.9302\n",
      "Epoch 38/200\n",
      "7/7 [==============================] - 11s 2s/step - loss: 0.2690 - accuracy: 0.8791\n",
      "Epoch 39/200\n",
      "7/7 [==============================] - 11s 2s/step - loss: 0.1501 - accuracy: 0.9442\n",
      "Epoch 40/200\n",
      "7/7 [==============================] - 10s 1s/step - loss: 0.1987 - accuracy: 0.9256\n",
      "Epoch 41/200\n",
      "7/7 [==============================] - 10s 1s/step - loss: 0.8649 - accuracy: 0.7395\n",
      "Epoch 42/200\n",
      "7/7 [==============================] - 10s 1s/step - loss: 0.5198 - accuracy: 0.7302\n",
      "Epoch 43/200\n",
      "7/7 [==============================] - 10s 1s/step - loss: 0.3562 - accuracy: 0.8000\n",
      "Epoch 44/200\n",
      "7/7 [==============================] - 10s 1s/step - loss: 0.2807 - accuracy: 0.8605\n",
      "Epoch 45/200\n",
      "7/7 [==============================] - 10s 1s/step - loss: 0.4982 - accuracy: 0.7907\n",
      "Epoch 46/200\n",
      "7/7 [==============================] - 10s 1s/step - loss: 0.4891 - accuracy: 0.7442\n",
      "Epoch 47/200\n",
      "7/7 [==============================] - 10s 1s/step - loss: 0.3538 - accuracy: 0.8140\n",
      "Epoch 48/200\n",
      "7/7 [==============================] - 10s 1s/step - loss: 0.2170 - accuracy: 0.9023\n",
      "Epoch 49/200\n",
      "7/7 [==============================] - 10s 1s/step - loss: 0.1904 - accuracy: 0.9209\n",
      "Epoch 50/200\n",
      "7/7 [==============================] - 10s 1s/step - loss: 0.4129 - accuracy: 0.8000\n",
      "Epoch 51/200\n",
      "7/7 [==============================] - 10s 1s/step - loss: 0.1518 - accuracy: 0.9535\n",
      "Epoch 52/200\n",
      "7/7 [==============================] - 10s 1s/step - loss: 0.0634 - accuracy: 0.9907\n",
      "Epoch 53/200\n",
      "7/7 [==============================] - 10s 1s/step - loss: 0.0341 - accuracy: 0.9953\n",
      "Epoch 54/200\n",
      "7/7 [==============================] - 10s 1s/step - loss: 0.0293 - accuracy: 0.9953\n",
      "Epoch 55/200\n",
      "7/7 [==============================] - 10s 1s/step - loss: 0.0229 - accuracy: 1.0000\n",
      "Epoch 56/200\n",
      "7/7 [==============================] - 10s 1s/step - loss: 0.0124 - accuracy: 1.0000\n",
      "Epoch 57/200\n",
      "7/7 [==============================] - 10s 1s/step - loss: 0.0054 - accuracy: 1.0000\n",
      "Epoch 58/200\n",
      "7/7 [==============================] - 10s 1s/step - loss: 0.0063 - accuracy: 1.0000\n",
      "Epoch 59/200\n",
      "7/7 [==============================] - 10s 1s/step - loss: 0.0133 - accuracy: 1.0000\n",
      "Epoch 60/200\n",
      "7/7 [==============================] - 10s 1s/step - loss: 0.0073 - accuracy: 1.0000\n",
      "Epoch 61/200\n",
      "7/7 [==============================] - 10s 1s/step - loss: 0.3912 - accuracy: 0.9023\n",
      "Epoch 62/200\n",
      "7/7 [==============================] - 10s 1s/step - loss: 0.6505 - accuracy: 0.8279\n",
      "Epoch 63/200\n",
      "7/7 [==============================] - 10s 1s/step - loss: 0.5524 - accuracy: 0.7488\n",
      "Epoch 64/200\n",
      "7/7 [==============================] - 10s 1s/step - loss: 0.2451 - accuracy: 0.9070\n",
      "Epoch 65/200\n",
      "7/7 [==============================] - 10s 1s/step - loss: 0.0870 - accuracy: 0.9860\n",
      "Epoch 66/200\n",
      "7/7 [==============================] - 10s 1s/step - loss: 0.0392 - accuracy: 0.9953\n",
      "Epoch 67/200\n",
      "7/7 [==============================] - 10s 1s/step - loss: 0.0187 - accuracy: 1.0000\n",
      "Epoch 68/200\n",
      "7/7 [==============================] - 10s 1s/step - loss: 0.0143 - accuracy: 1.0000\n",
      "Epoch 69/200\n",
      "7/7 [==============================] - 10s 1s/step - loss: 0.0131 - accuracy: 1.0000\n",
      "Epoch 70/200\n",
      "7/7 [==============================] - 10s 1s/step - loss: 0.0111 - accuracy: 1.0000\n",
      "Epoch 71/200\n",
      "7/7 [==============================] - 10s 1s/step - loss: 0.0049 - accuracy: 1.0000\n",
      "Epoch 72/200\n",
      "7/7 [==============================] - 10s 1s/step - loss: 0.0043 - accuracy: 1.0000\n",
      "Epoch 73/200\n",
      "7/7 [==============================] - 10s 1s/step - loss: 0.0037 - accuracy: 1.0000\n",
      "Epoch 74/200\n",
      "7/7 [==============================] - 10s 1s/step - loss: 0.0031 - accuracy: 1.0000\n",
      "Epoch 75/200\n",
      "7/7 [==============================] - 10s 1s/step - loss: 0.0033 - accuracy: 1.0000\n",
      "Epoch 76/200\n",
      "7/7 [==============================] - 10s 1s/step - loss: 0.0030 - accuracy: 1.0000\n",
      "Epoch 77/200\n",
      "7/7 [==============================] - 11s 2s/step - loss: 0.0021 - accuracy: 1.0000\n",
      "Epoch 78/200\n",
      "7/7 [==============================] - 11s 2s/step - loss: 0.0020 - accuracy: 1.0000\n",
      "Epoch 79/200\n",
      "7/7 [==============================] - 11s 2s/step - loss: 0.0020 - accuracy: 1.0000\n",
      "Epoch 80/200\n",
      "7/7 [==============================] - 11s 2s/step - loss: 0.0018 - accuracy: 1.0000\n",
      "Epoch 81/200\n",
      "7/7 [==============================] - 11s 2s/step - loss: 0.0015 - accuracy: 1.0000\n",
      "Epoch 82/200\n",
      "7/7 [==============================] - 11s 2s/step - loss: 0.0013 - accuracy: 1.0000\n",
      "Epoch 83/200\n",
      "7/7 [==============================] - 11s 2s/step - loss: 0.0012 - accuracy: 1.0000\n",
      "Epoch 84/200\n",
      "7/7 [==============================] - 10s 1s/step - loss: 0.0011 - accuracy: 1.0000\n",
      "Epoch 85/200\n",
      "7/7 [==============================] - 11s 2s/step - loss: 0.0010 - accuracy: 1.0000\n",
      "Epoch 86/200\n",
      "7/7 [==============================] - 10s 1s/step - loss: 9.6748e-04 - accuracy: 1.0000\n",
      "Epoch 87/200\n",
      "7/7 [==============================] - 10s 1s/step - loss: 9.6849e-04 - accuracy: 1.0000\n",
      "Epoch 88/200\n",
      "7/7 [==============================] - 10s 1s/step - loss: 9.7905e-04 - accuracy: 1.0000\n",
      "Epoch 89/200\n",
      "7/7 [==============================] - 10s 1s/step - loss: 9.3659e-04 - accuracy: 1.0000\n",
      "Epoch 90/200\n",
      "7/7 [==============================] - 11s 1s/step - loss: 7.4224e-04 - accuracy: 1.0000\n",
      "Epoch 91/200\n",
      "7/7 [==============================] - 11s 2s/step - loss: 7.0741e-04 - accuracy: 1.0000\n",
      "Epoch 92/200\n",
      "7/7 [==============================] - 10s 1s/step - loss: 6.6982e-04 - accuracy: 1.0000\n",
      "Epoch 93/200\n",
      "7/7 [==============================] - 10s 1s/step - loss: 6.4562e-04 - accuracy: 1.0000\n",
      "Epoch 94/200\n",
      "7/7 [==============================] - 10s 1s/step - loss: 5.4792e-04 - accuracy: 1.0000\n",
      "Epoch 95/200\n",
      "7/7 [==============================] - 10s 1s/step - loss: 5.5415e-04 - accuracy: 1.0000\n",
      "Epoch 96/200\n",
      "7/7 [==============================] - 10s 1s/step - loss: 5.0474e-04 - accuracy: 1.0000\n",
      "Epoch 97/200\n",
      "7/7 [==============================] - 11s 2s/step - loss: 4.7908e-04 - accuracy: 1.0000\n",
      "Epoch 98/200\n",
      "7/7 [==============================] - 11s 2s/step - loss: 4.5734e-04 - accuracy: 1.0000\n",
      "Epoch 99/200\n",
      "7/7 [==============================] - 11s 2s/step - loss: 4.3362e-04 - accuracy: 1.0000\n",
      "Epoch 100/200\n",
      "7/7 [==============================] - 11s 1s/step - loss: 4.1123e-04 - accuracy: 1.0000\n",
      "Epoch 101/200\n",
      "7/7 [==============================] - 10s 1s/step - loss: 3.9561e-04 - accuracy: 1.0000\n",
      "Epoch 102/200\n",
      "7/7 [==============================] - 11s 1s/step - loss: 4.0555e-04 - accuracy: 1.0000\n",
      "Epoch 103/200\n",
      "7/7 [==============================] - 10s 1s/step - loss: 3.7704e-04 - accuracy: 1.0000\n",
      "Epoch 104/200\n",
      "7/7 [==============================] - 10s 1s/step - loss: 3.4507e-04 - accuracy: 1.0000\n",
      "Epoch 105/200\n",
      "7/7 [==============================] - 10s 1s/step - loss: 3.2878e-04 - accuracy: 1.0000\n",
      "Epoch 106/200\n",
      "7/7 [==============================] - 11s 2s/step - loss: 3.2036e-04 - accuracy: 1.0000\n",
      "Epoch 107/200\n",
      "7/7 [==============================] - 11s 2s/step - loss: 3.0434e-04 - accuracy: 1.0000\n",
      "Epoch 108/200\n",
      "7/7 [==============================] - 10s 1s/step - loss: 2.9170e-04 - accuracy: 1.0000\n",
      "Epoch 109/200\n",
      "7/7 [==============================] - 10s 1s/step - loss: 2.7913e-04 - accuracy: 1.0000\n",
      "Epoch 110/200\n",
      "7/7 [==============================] - 10s 1s/step - loss: 2.6912e-04 - accuracy: 1.0000\n",
      "Epoch 111/200\n",
      "7/7 [==============================] - 10s 1s/step - loss: 2.6391e-04 - accuracy: 1.0000\n",
      "Epoch 112/200\n",
      "7/7 [==============================] - 10s 1s/step - loss: 2.5153e-04 - accuracy: 1.0000\n",
      "Epoch 113/200\n",
      "7/7 [==============================] - 10s 1s/step - loss: 2.4072e-04 - accuracy: 1.0000\n",
      "Epoch 114/200\n",
      "7/7 [==============================] - 11s 2s/step - loss: 2.3265e-04 - accuracy: 1.0000\n",
      "Epoch 115/200\n",
      "7/7 [==============================] - 11s 2s/step - loss: 2.2444e-04 - accuracy: 1.0000\n",
      "Epoch 116/200\n",
      "7/7 [==============================] - 10s 1s/step - loss: 2.1937e-04 - accuracy: 1.0000\n",
      "Epoch 117/200\n",
      "7/7 [==============================] - 11s 1s/step - loss: 2.1129e-04 - accuracy: 1.0000\n",
      "Epoch 118/200\n",
      "7/7 [==============================] - 10s 1s/step - loss: 2.0654e-04 - accuracy: 1.0000\n",
      "Epoch 119/200\n",
      "7/7 [==============================] - 10s 1s/step - loss: 1.9644e-04 - accuracy: 1.0000\n",
      "Epoch 120/200\n",
      "7/7 [==============================] - 10s 1s/step - loss: 1.8990e-04 - accuracy: 1.0000\n",
      "Epoch 121/200\n",
      "7/7 [==============================] - 10s 1s/step - loss: 1.8477e-04 - accuracy: 1.0000\n",
      "Epoch 122/200\n",
      "7/7 [==============================] - 10s 1s/step - loss: 1.7897e-04 - accuracy: 1.0000\n",
      "Epoch 123/200\n",
      "7/7 [==============================] - 10s 1s/step - loss: 1.7344e-04 - accuracy: 1.0000\n",
      "Epoch 124/200\n",
      "7/7 [==============================] - 10s 1s/step - loss: 1.6899e-04 - accuracy: 1.0000\n",
      "Epoch 125/200\n",
      "7/7 [==============================] - 10s 1s/step - loss: 1.6482e-04 - accuracy: 1.0000\n",
      "Epoch 126/200\n",
      "7/7 [==============================] - 10s 1s/step - loss: 1.6002e-04 - accuracy: 1.0000\n",
      "Epoch 127/200\n",
      "7/7 [==============================] - 10s 1s/step - loss: 1.5757e-04 - accuracy: 1.0000\n",
      "Epoch 128/200\n",
      "7/7 [==============================] - 10s 1s/step - loss: 1.5039e-04 - accuracy: 1.0000\n",
      "Epoch 129/200\n",
      "7/7 [==============================] - 10s 1s/step - loss: 1.4745e-04 - accuracy: 1.0000\n",
      "Epoch 130/200\n",
      "7/7 [==============================] - 10s 1s/step - loss: 1.4210e-04 - accuracy: 1.0000\n",
      "Epoch 131/200\n",
      "7/7 [==============================] - 10s 1s/step - loss: 1.3850e-04 - accuracy: 1.0000\n",
      "Epoch 132/200\n",
      "7/7 [==============================] - 11s 1s/step - loss: 1.3569e-04 - accuracy: 1.0000\n",
      "Epoch 133/200\n",
      "7/7 [==============================] - 11s 2s/step - loss: 1.3139e-04 - accuracy: 1.0000\n",
      "Epoch 134/200\n",
      "7/7 [==============================] - 10s 1s/step - loss: 1.2858e-04 - accuracy: 1.0000\n",
      "Epoch 135/200\n",
      "7/7 [==============================] - 10s 1s/step - loss: 1.2550e-04 - accuracy: 1.0000\n",
      "Epoch 136/200\n",
      "7/7 [==============================] - 11s 2s/step - loss: 1.2262e-04 - accuracy: 1.0000\n",
      "Epoch 137/200\n",
      "7/7 [==============================] - 10s 1s/step - loss: 1.2333e-04 - accuracy: 1.0000\n",
      "Epoch 138/200\n",
      "7/7 [==============================] - 10s 1s/step - loss: 1.1580e-04 - accuracy: 1.0000\n",
      "Epoch 139/200\n",
      "7/7 [==============================] - 11s 2s/step - loss: 1.1383e-04 - accuracy: 1.0000\n",
      "Epoch 140/200\n",
      "7/7 [==============================] - 10s 1s/step - loss: 1.1038e-04 - accuracy: 1.0000\n",
      "Epoch 141/200\n",
      "7/7 [==============================] - 11s 2s/step - loss: 1.0774e-04 - accuracy: 1.0000\n",
      "Epoch 142/200\n",
      "7/7 [==============================] - 11s 2s/step - loss: 1.0480e-04 - accuracy: 1.0000\n",
      "Epoch 143/200\n",
      "7/7 [==============================] - 10s 1s/step - loss: 1.0358e-04 - accuracy: 1.0000\n",
      "Epoch 144/200\n",
      "7/7 [==============================] - 11s 2s/step - loss: 1.0066e-04 - accuracy: 1.0000\n",
      "Epoch 145/200\n",
      "7/7 [==============================] - 10s 2s/step - loss: 9.9135e-05 - accuracy: 1.0000\n",
      "Epoch 146/200\n",
      "7/7 [==============================] - 10s 1s/step - loss: 9.7360e-05 - accuracy: 1.0000\n",
      "Epoch 147/200\n",
      "7/7 [==============================] - 10s 1s/step - loss: 9.4225e-05 - accuracy: 1.0000\n",
      "Epoch 148/200\n",
      "7/7 [==============================] - 10s 1s/step - loss: 9.2357e-05 - accuracy: 1.0000\n",
      "Epoch 149/200\n",
      "7/7 [==============================] - 10s 1s/step - loss: 9.0179e-05 - accuracy: 1.0000\n",
      "Epoch 150/200\n",
      "7/7 [==============================] - 10s 1s/step - loss: 8.8466e-05 - accuracy: 1.0000\n",
      "Epoch 151/200\n",
      "7/7 [==============================] - 11s 2s/step - loss: 8.6502e-05 - accuracy: 1.0000\n",
      "Epoch 152/200\n",
      "7/7 [==============================] - 11s 1s/step - loss: 8.4637e-05 - accuracy: 1.0000\n",
      "Epoch 153/200\n",
      "7/7 [==============================] - 11s 1s/step - loss: 8.3089e-05 - accuracy: 1.0000\n",
      "Epoch 154/200\n",
      "7/7 [==============================] - 11s 2s/step - loss: 8.1718e-05 - accuracy: 1.0000\n",
      "Epoch 155/200\n",
      "7/7 [==============================] - 10s 1s/step - loss: 7.9988e-05 - accuracy: 1.0000\n",
      "Epoch 156/200\n",
      "7/7 [==============================] - 10s 1s/step - loss: 7.8280e-05 - accuracy: 1.0000\n",
      "Epoch 157/200\n",
      "7/7 [==============================] - 10s 1s/step - loss: 7.6878e-05 - accuracy: 1.0000\n",
      "Epoch 158/200\n",
      "7/7 [==============================] - 11s 2s/step - loss: 7.5180e-05 - accuracy: 1.0000\n",
      "Epoch 159/200\n",
      "7/7 [==============================] - 11s 2s/step - loss: 7.4054e-05 - accuracy: 1.0000\n",
      "Epoch 160/200\n",
      "7/7 [==============================] - 10s 1s/step - loss: 7.3457e-05 - accuracy: 1.0000\n",
      "Epoch 161/200\n",
      "7/7 [==============================] - 10s 1s/step - loss: 7.0980e-05 - accuracy: 1.0000\n",
      "Epoch 162/200\n",
      "7/7 [==============================] - 11s 2s/step - loss: 6.9806e-05 - accuracy: 1.0000\n",
      "Epoch 163/200\n",
      "7/7 [==============================] - 10s 1s/step - loss: 6.8228e-05 - accuracy: 1.0000\n",
      "Epoch 164/200\n",
      "7/7 [==============================] - 11s 1s/step - loss: 6.6974e-05 - accuracy: 1.0000\n",
      "Epoch 165/200\n",
      "7/7 [==============================] - 11s 2s/step - loss: 6.5980e-05 - accuracy: 1.0000\n",
      "Epoch 166/200\n",
      "7/7 [==============================] - 10s 1s/step - loss: 6.4795e-05 - accuracy: 1.0000\n",
      "Epoch 167/200\n",
      "7/7 [==============================] - 11s 2s/step - loss: 6.3619e-05 - accuracy: 1.0000\n",
      "Epoch 168/200\n",
      "7/7 [==============================] - 11s 2s/step - loss: 6.2583e-05 - accuracy: 1.0000\n",
      "Epoch 169/200\n",
      "7/7 [==============================] - 10s 1s/step - loss: 6.2355e-05 - accuracy: 1.0000\n",
      "Epoch 170/200\n",
      "7/7 [==============================] - 11s 2s/step - loss: 6.0217e-05 - accuracy: 1.0000\n",
      "Epoch 171/200\n",
      "7/7 [==============================] - 10s 1s/step - loss: 5.9148e-05 - accuracy: 1.0000\n",
      "Epoch 172/200\n",
      "7/7 [==============================] - 10s 1s/step - loss: 5.8102e-05 - accuracy: 1.0000\n",
      "Epoch 173/200\n",
      "7/7 [==============================] - 10s 1s/step - loss: 5.7136e-05 - accuracy: 1.0000\n",
      "Epoch 174/200\n",
      "7/7 [==============================] - 10s 1s/step - loss: 5.6153e-05 - accuracy: 1.0000\n",
      "Epoch 175/200\n",
      "7/7 [==============================] - 10s 1s/step - loss: 5.5378e-05 - accuracy: 1.0000\n",
      "Epoch 176/200\n",
      "7/7 [==============================] - 10s 1s/step - loss: 5.4332e-05 - accuracy: 1.0000\n",
      "Epoch 177/200\n",
      "7/7 [==============================] - 10s 1s/step - loss: 5.3687e-05 - accuracy: 1.0000\n",
      "Epoch 178/200\n",
      "7/7 [==============================] - 11s 2s/step - loss: 5.2545e-05 - accuracy: 1.0000\n",
      "Epoch 179/200\n",
      "7/7 [==============================] - 10s 1s/step - loss: 5.1583e-05 - accuracy: 1.0000\n",
      "Epoch 180/200\n",
      "7/7 [==============================] - 11s 2s/step - loss: 5.0741e-05 - accuracy: 1.0000\n",
      "Epoch 181/200\n",
      "7/7 [==============================] - 11s 1s/step - loss: 5.0069e-05 - accuracy: 1.0000\n",
      "Epoch 182/200\n",
      "7/7 [==============================] - 10s 1s/step - loss: 4.9309e-05 - accuracy: 1.0000\n",
      "Epoch 183/200\n",
      "7/7 [==============================] - 11s 2s/step - loss: 4.8607e-05 - accuracy: 1.0000\n",
      "Epoch 184/200\n",
      "7/7 [==============================] - 11s 2s/step - loss: 4.7681e-05 - accuracy: 1.0000\n",
      "Epoch 185/200\n",
      "7/7 [==============================] - 10s 1s/step - loss: 4.7092e-05 - accuracy: 1.0000\n",
      "Epoch 186/200\n",
      "7/7 [==============================] - 11s 2s/step - loss: 4.6447e-05 - accuracy: 1.0000\n",
      "Epoch 187/200\n",
      "7/7 [==============================] - 11s 2s/step - loss: 4.6012e-05 - accuracy: 1.0000\n",
      "Epoch 188/200\n",
      "7/7 [==============================] - 11s 2s/step - loss: 4.4552e-05 - accuracy: 1.0000\n",
      "Epoch 189/200\n",
      "7/7 [==============================] - 11s 2s/step - loss: 4.4378e-05 - accuracy: 1.0000\n",
      "Epoch 190/200\n",
      "7/7 [==============================] - 11s 2s/step - loss: 4.3903e-05 - accuracy: 1.0000\n",
      "Epoch 191/200\n",
      "7/7 [==============================] - 11s 2s/step - loss: 4.2802e-05 - accuracy: 1.0000\n",
      "Epoch 192/200\n",
      "7/7 [==============================] - 11s 1s/step - loss: 4.1995e-05 - accuracy: 1.0000\n",
      "Epoch 193/200\n",
      "7/7 [==============================] - 10s 1s/step - loss: 4.1469e-05 - accuracy: 1.0000\n",
      "Epoch 194/200\n",
      "7/7 [==============================] - 11s 2s/step - loss: 4.0831e-05 - accuracy: 1.0000\n",
      "Epoch 195/200\n",
      "7/7 [==============================] - 11s 2s/step - loss: 4.0211e-05 - accuracy: 1.0000\n",
      "Epoch 196/200\n",
      "7/7 [==============================] - 10s 1s/step - loss: 3.9740e-05 - accuracy: 1.0000\n",
      "Epoch 197/200\n",
      "7/7 [==============================] - 10s 2s/step - loss: 3.9745e-05 - accuracy: 1.0000\n",
      "Epoch 198/200\n",
      "7/7 [==============================] - 11s 2s/step - loss: 3.8481e-05 - accuracy: 1.0000\n",
      "Epoch 199/200\n",
      "7/7 [==============================] - 11s 2s/step - loss: 3.8062e-05 - accuracy: 1.0000\n",
      "Epoch 200/200\n",
      "7/7 [==============================] - 11s 2s/step - loss: 3.7424e-05 - accuracy: 1.0000\n"
     ]
    }
   ],
   "source": [
    "historico = network1.fit(X_train, y_train, epochs=200) # Treina a rede neural"
   ]
  },
  {
   "attachments": {},
   "cell_type": "markdown",
   "metadata": {},
   "source": [
    "- Avaliação da rede neural"
   ]
  },
  {
   "cell_type": "code",
   "execution_count": 111,
   "metadata": {},
   "outputs": [
    {
     "data": {
      "text/plain": [
       "dict_keys(['loss', 'accuracy'])"
      ]
     },
     "execution_count": 111,
     "metadata": {},
     "output_type": "execute_result"
    }
   ],
   "source": [
    "historico.history.keys()"
   ]
  },
  {
   "attachments": {},
   "cell_type": "markdown",
   "metadata": {},
   "source": [
    "- Plot dos valores de erro"
   ]
  },
  {
   "cell_type": "code",
   "execution_count": 112,
   "metadata": {},
   "outputs": [
    {
     "data": {
      "image/png": "[encoded data removed]",
      "text/plain": [
       "<Figure size 640x480 with 1 Axes>"
      ]
     },
     "metadata": {},
     "output_type": "display_data"
    }
   ],
   "source": [
    "plt.plot(historico.history['loss']);"
   ]
  },
  {
   "attachments": {},
   "cell_type": "markdown",
   "metadata": {},
   "source": [
    "- Plot da acurácia que é a porcentagem de acerto"
   ]
  },
  {
   "cell_type": "code",
   "execution_count": 113,
   "metadata": {},
   "outputs": [
    {
     "data": {
      "image/png": "[encoded data removed]",
      "text/plain": [
       "<Figure size 640x480 with 1 Axes>"
      ]
     },
     "metadata": {},
     "output_type": "display_data"
    }
   ],
   "source": [
    "plt.plot(historico.history['accuracy']);"
   ]
  },
  {
   "cell_type": "code",
   "execution_count": 114,
   "metadata": {},
   "outputs": [
    {
     "data": {
      "text/plain": [
       "(54, 16384)"
      ]
     },
     "execution_count": 114,
     "metadata": {},
     "output_type": "execute_result"
    }
   ],
   "source": [
    "X_test.shape"
   ]
  },
  {
   "attachments": {},
   "cell_type": "markdown",
   "metadata": {},
   "source": [
    "- o predict faz a previsão da imagem de teste"
   ]
  },
  {
   "cell_type": "code",
   "execution_count": 115,
   "metadata": {},
   "outputs": [
    {
     "name": "stdout",
     "output_type": "stream",
     "text": [
      "WARNING:tensorflow:5 out of the last 8 calls to <function Model.make_predict_function.<locals>.predict_function at 0x000001CFA9111160> triggered tf.function retracing. Tracing is expensive and the excessive number of tracings could be due to (1) creating @tf.function repeatedly in a loop, (2) passing tensors with different shapes, (3) passing Python objects instead of tensors. For (1), please define your @tf.function outside of the loop. For (2), @tf.function has reduce_retracing=True option that can avoid unnecessary retracing. For (3), please refer to https://www.tensorflow.org/guide/function#controlling_retracing and https://www.tensorflow.org/api_docs/python/tf/function for  more details.\n",
      "2/2 [==============================] - 0s 51ms/step\n"
     ]
    },
    {
     "data": {
      "text/plain": [
       "array([[9.9994636e-01],\n",
       "       [1.4283404e-07],\n",
       "       [9.9985313e-01],\n",
       "       [9.9322248e-01],\n",
       "       [1.7727043e-01],\n",
       "       [9.9963039e-01],\n",
       "       [9.8506541e-07],\n",
       "       [9.9684661e-03],\n",
       "       [7.0178986e-01],\n",
       "       [5.2459855e-03],\n",
       "       [9.9926746e-01],\n",
       "       [1.3782654e-11],\n",
       "       [7.0862412e-02],\n",
       "       [2.8529722e-02],\n",
       "       [9.8491353e-01],\n",
       "       [9.9943668e-01],\n",
       "       [9.6873903e-01],\n",
       "       [7.9304695e-02],\n",
       "       [9.9701184e-01],\n",
       "       [9.9997473e-01],\n",
       "       [9.9993306e-01],\n",
       "       [3.0568728e-02],\n",
       "       [9.9994218e-01],\n",
       "       [9.8567080e-01],\n",
       "       [9.9895060e-01],\n",
       "       [2.2069812e-02],\n",
       "       [9.9988812e-01],\n",
       "       [9.9992615e-01],\n",
       "       [9.9840534e-01],\n",
       "       [6.5255864e-04],\n",
       "       [9.1965562e-01],\n",
       "       [7.0857493e-07],\n",
       "       [2.1772396e-02],\n",
       "       [9.9998993e-01],\n",
       "       [2.6731217e-09],\n",
       "       [9.9994880e-01],\n",
       "       [5.8065200e-01],\n",
       "       [9.9981606e-01],\n",
       "       [9.6232420e-01],\n",
       "       [9.9999177e-01],\n",
       "       [8.9631521e-04],\n",
       "       [1.1501409e-02],\n",
       "       [9.8195094e-01],\n",
       "       [9.9991220e-01],\n",
       "       [9.9925858e-01],\n",
       "       [9.4950777e-01],\n",
       "       [2.8116608e-04],\n",
       "       [9.9986374e-01],\n",
       "       [7.6885611e-01],\n",
       "       [9.8715180e-05],\n",
       "       [9.9999708e-01],\n",
       "       [5.8171812e-02],\n",
       "       [3.4435876e-02],\n",
       "       [4.6644562e-01]], dtype=float32)"
      ]
     },
     "execution_count": 115,
     "metadata": {},
     "output_type": "execute_result"
    }
   ],
   "source": [
    "previsao = network1.predict(X_test)\n",
    "previsao"
   ]
  },
  {
   "attachments": {},
   "cell_type": "markdown",
   "metadata": {},
   "source": [
    "- 0 false Homer\n",
    "- 1 true Bart"
   ]
  },
  {
   "cell_type": "code",
   "execution_count": 116,
   "metadata": {},
   "outputs": [
    {
     "data": {
      "text/plain": [
       "array([[ True],\n",
       "       [False],\n",
       "       [ True],\n",
       "       [ True],\n",
       "       [False],\n",
       "       [ True],\n",
       "       [False],\n",
       "       [False],\n",
       "       [ True],\n",
       "       [False],\n",
       "       [ True],\n",
       "       [False],\n",
       "       [False],\n",
       "       [False],\n",
       "       [ True],\n",
       "       [ True],\n",
       "       [ True],\n",
       "       [False],\n",
       "       [ True],\n",
       "       [ True],\n",
       "       [ True],\n",
       "       [False],\n",
       "       [ True],\n",
       "       [ True],\n",
       "       [ True],\n",
       "       [False],\n",
       "       [ True],\n",
       "       [ True],\n",
       "       [ True],\n",
       "       [False],\n",
       "       [ True],\n",
       "       [False],\n",
       "       [False],\n",
       "       [ True],\n",
       "       [False],\n",
       "       [ True],\n",
       "       [ True],\n",
       "       [ True],\n",
       "       [ True],\n",
       "       [ True],\n",
       "       [False],\n",
       "       [False],\n",
       "       [ True],\n",
       "       [ True],\n",
       "       [ True],\n",
       "       [ True],\n",
       "       [False],\n",
       "       [ True],\n",
       "       [ True],\n",
       "       [False],\n",
       "       [ True],\n",
       "       [False],\n",
       "       [False],\n",
       "       [False]])"
      ]
     },
     "execution_count": 116,
     "metadata": {},
     "output_type": "execute_result"
    }
   ],
   "source": [
    "previsao = (previsao > 0.5)\n",
    "previsao"
   ]
  },
  {
   "cell_type": "code",
   "execution_count": 117,
   "metadata": {},
   "outputs": [
    {
     "data": {
      "text/plain": [
       "array([1, 0, 1, 1, 1, 0, 1, 1, 1, 1, 1, 0, 0, 1, 0, 0, 0, 0, 1, 1, 1, 0,\n",
       "       1, 1, 1, 0, 1, 1, 0, 0, 0, 0, 0, 0, 0, 0, 1, 1, 1, 1, 0, 0, 1, 1,\n",
       "       1, 0, 0, 1, 1, 0, 1, 0, 0, 0])"
      ]
     },
     "execution_count": 117,
     "metadata": {},
     "output_type": "execute_result"
    }
   ],
   "source": [
    "y_test"
   ]
  },
  {
   "attachments": {},
   "cell_type": "markdown",
   "metadata": {},
   "source": [
    "- acuracy mede a probabilidade de acerto da rede neural"
   ]
  },
  {
   "cell_type": "code",
   "execution_count": 118,
   "metadata": {},
   "outputs": [
    {
     "data": {
      "text/plain": [
       "0.7407407407407407"
      ]
     },
     "execution_count": 118,
     "metadata": {},
     "output_type": "execute_result"
    }
   ],
   "source": [
    "accuracy_score(y_test, previsao)"
   ]
  },
  {
   "cell_type": "code",
   "execution_count": 119,
   "metadata": {},
   "outputs": [
    {
     "data": {
      "text/plain": [
       "array([[17,  9],\n",
       "       [ 5, 23]], dtype=int64)"
      ]
     },
     "execution_count": 119,
     "metadata": {},
     "output_type": "execute_result"
    }
   ],
   "source": [
    "cm = confusion_matrix(y_test, previsao)\n",
    "cm"
   ]
  },
  {
   "cell_type": "code",
   "execution_count": 120,
   "metadata": {},
   "outputs": [
    {
     "data": {
      "image/png": "[encoded data removed]",
      "text/plain": [
       "<Figure size 640x480 with 2 Axes>"
      ]
     },
     "metadata": {},
     "output_type": "display_data"
    }
   ],
   "source": [
    "sns.heatmap(cm, annot=True);"
   ]
  },
  {
   "cell_type": "code",
   "execution_count": 121,
   "metadata": {},
   "outputs": [
    {
     "name": "stdout",
     "output_type": "stream",
     "text": [
      "              precision    recall  f1-score   support\n",
      "\n",
      "           0       0.77      0.65      0.71        26\n",
      "           1       0.72      0.82      0.77        28\n",
      "\n",
      "    accuracy                           0.74        54\n",
      "   macro avg       0.75      0.74      0.74        54\n",
      "weighted avg       0.74      0.74      0.74        54\n",
      "\n"
     ]
    }
   ],
   "source": [
    "print(classification_report(y_test, previsao))"
   ]
  },
  {
   "attachments": {},
   "cell_type": "markdown",
   "metadata": {},
   "source": [
    "- Salvar e carregar o modelo treinado "
   ]
  },
  {
   "cell_type": "code",
   "execution_count": 122,
   "metadata": {},
   "outputs": [],
   "source": [
    "model_json = network1.to_json()\n",
    "with open(\"model.json\", \"w\") as json_file:\n",
    "    json_file.write(model_json)"
   ]
  },
  {
   "cell_type": "code",
   "execution_count": 123,
   "metadata": {},
   "outputs": [],
   "source": [
    "network1_saved = save_model(network1, \"weights1.hdf5\")"
   ]
  },
  {
   "cell_type": "code",
   "execution_count": 124,
   "metadata": {},
   "outputs": [
    {
     "data": {
      "text/plain": [
       "'{\"class_name\": \"Sequential\", \"config\": {\"name\": \"sequential_2\", \"layers\": [{\"class_name\": \"InputLayer\", \"config\": {\"batch_input_shape\": [null, 16384], \"dtype\": \"float32\", \"sparse\": false, \"ragged\": false, \"name\": \"dense_6_input\"}}, {\"class_name\": \"Dense\", \"config\": {\"name\": \"dense_6\", \"trainable\": true, \"dtype\": \"float32\", \"batch_input_shape\": [null, 16384], \"units\": 8193, \"activation\": \"relu\", \"use_bias\": true, \"kernel_initializer\": {\"class_name\": \"GlorotUniform\", \"config\": {\"seed\": null}}, \"bias_initializer\": {\"class_name\": \"Zeros\", \"config\": {}}, \"kernel_regularizer\": null, \"bias_regularizer\": null, \"activity_regularizer\": null, \"kernel_constraint\": null, \"bias_constraint\": null}}, {\"class_name\": \"Dense\", \"config\": {\"name\": \"dense_7\", \"trainable\": true, \"dtype\": \"float32\", \"units\": 8193, \"activation\": \"relu\", \"use_bias\": true, \"kernel_initializer\": {\"class_name\": \"GlorotUniform\", \"config\": {\"seed\": null}}, \"bias_initializer\": {\"class_name\": \"Zeros\", \"config\": {}}, \"kernel_regularizer\": null, \"bias_regularizer\": null, \"activity_regularizer\": null, \"kernel_constraint\": null, \"bias_constraint\": null}}, {\"class_name\": \"Dense\", \"config\": {\"name\": \"dense_8\", \"trainable\": true, \"dtype\": \"float32\", \"units\": 1, \"activation\": \"sigmoid\", \"use_bias\": true, \"kernel_initializer\": {\"class_name\": \"GlorotUniform\", \"config\": {\"seed\": null}}, \"bias_initializer\": {\"class_name\": \"Zeros\", \"config\": {}}, \"kernel_regularizer\": null, \"bias_regularizer\": null, \"activity_regularizer\": null, \"kernel_constraint\": null, \"bias_constraint\": null}}]}, \"keras_version\": \"2.12.0\", \"backend\": \"tensorflow\"}'"
      ]
     },
     "execution_count": 124,
     "metadata": {},
     "output_type": "execute_result"
    }
   ],
   "source": [
    "with open('model.json', 'r') as json_file:\n",
    "    json_savedModel= json_file.read()\n",
    "json_savedModel    "
   ]
  },
  {
   "cell_type": "code",
   "execution_count": 125,
   "metadata": {},
   "outputs": [],
   "source": [
    "network1_loaded = tf.keras.models.model_from_json(json_savedModel)\n",
    "network1_loaded.load_weights('weights1.hdf5')\n",
    "network1_loaded.compile(optimizer='adam', loss='binary_crossentropy', metrics=['accuracy'])"
   ]
  },
  {
   "cell_type": "code",
   "execution_count": 126,
   "metadata": {},
   "outputs": [
    {
     "name": "stdout",
     "output_type": "stream",
     "text": [
      "Model: \"sequential_2\"\n",
      "_________________________________________________________________\n",
      " Layer (type)                Output Shape              Param #   \n",
      "=================================================================\n",
      " dense_6 (Dense)             (None, 8193)              134242305 \n",
      "                                                                 \n",
      " dense_7 (Dense)             (None, 8193)              67133442  \n",
      "                                                                 \n",
      " dense_8 (Dense)             (None, 1)                 8194      \n",
      "                                                                 \n",
      "=================================================================\n",
      "Total params: 201,383,941\n",
      "Trainable params: 201,383,941\n",
      "Non-trainable params: 0\n",
      "_________________________________________________________________\n"
     ]
    }
   ],
   "source": [
    "network1_loaded.summary()"
   ]
  }
 ],
 "metadata": {
  "kernelspec": {
   "display_name": "base",
   "language": "python",
   "name": "python3"
  },
  "language_info": {
   "codemirror_mode": {
    "name": "ipython",
    "version": 3
   },
   "file_extension": ".py",
   "mimetype": "text/x-python",
   "name": "python",
   "nbconvert_exporter": "python",
   "pygments_lexer": "ipython3",
   "version": "3.8.0"
  },
  "orig_nbformat": 4
 },
 "nbformat": 4,
 "nbformat_minor": 2
}
